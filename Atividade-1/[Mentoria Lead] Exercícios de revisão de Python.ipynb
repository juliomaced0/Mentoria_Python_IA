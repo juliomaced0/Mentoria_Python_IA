{
 "cells": [
  {
   "cell_type": "markdown",
   "metadata": {},
   "source": [
    "# Revisão de Python\n",
    "As soluções devem ser desenvolvidas e demonstradas sua funcionalidade usando o Jupyter Notebook. As questões que fazem perguntas sobre dados devem ser respondidas algoritimicamente e não por inspeção."
   ]
  },
  {
   "cell_type": "markdown",
   "metadata": {},
   "source": [
    "## 1.\n",
    "Crie uma função que recebe como entrada uma string e retorna essa string com a primeira letra de cada palavra maiúscula. E.g.: \n",
    "\n",
    "**Entrada:** 'Eu gosto de estudar Python' <br>\n",
    "**Saída:** 'Eu Gosto De Estudar Python'"
   ]
  },
  {
   "cell_type": "code",
   "execution_count": 11,
   "metadata": {},
   "outputs": [
    {
     "name": "stdout",
     "output_type": "stream",
     "text": [
      "Teste Para O Primeiro Exercicio\n",
      "Segundo Teste Do Primeiro Exercicio\n",
      "Terceiro Teste Do Primeiro Exercicio\n"
     ]
    }
   ],
   "source": [
    "def maiusculo(string):\n",
    "    return string.title()\n",
    "\n",
    "\n",
    "A = 'teste para o primeiro exercicio'\n",
    "print(maiusculo(A))\n",
    "B = 'segundo teste do primeiro exercicio'\n",
    "print(maiusculo(B))\n",
    "C = 'terceiro teste do primeiro exercicio'\n",
    "print(maiusculo(C))"
   ]
  },
  {
   "cell_type": "markdown",
   "metadata": {},
   "source": [
    "## 2.\n",
    "Crie uma função que recebe como entrada uma string e uma lista de palavras e retorna a string filtrando as palavras presentes na lista, desconsiderando se as letras são maiúsculas ou minúsculas. E.g.: \n",
    "\n",
    "**Entrada:** 'Eu gosto de estudar Python', ['python', 'java', 'c++', 'de'] <br>\n",
    "**Saída:** 'Eu gosto estudar'"
   ]
  },
  {
   "cell_type": "code",
   "execution_count": 33,
   "metadata": {},
   "outputs": [
    {
     "name": "stdout",
     "output_type": "stream",
     "text": [
      "a filtragem da\n",
      "Segundo String\n",
      "do dois\n"
     ]
    }
   ],
   "source": [
    "import re\n",
    "def filtra(string, lista):\n",
    "    for i in string.split():\n",
    "        for j in lista:\n",
    "            if i.lower() == j.lower():\n",
    "                string = string.replace(i, '')\n",
    "    string = re.sub('\\s+', ' ', string)\n",
    "    return string.strip()\n",
    "\n",
    "\n",
    "A = 'Testando a filtragem da String'\n",
    "lista = ['testando', 'string']\n",
    "print(filtra(A, lista))\n",
    "B = 'Segundo tesTe da filTrAgeM da String'\n",
    "lista2 = ['teste', 'filtragem', 'da']\n",
    "print(filtra(B,lista2))\n",
    "C = 'terceiro teste do exercicio dois'\n",
    "lista3 = ['Terceiro', 'tesTe', 'Exercicio']\n",
    "print(filtra(C,lista3))\n",
    "                "
   ]
  },
  {
   "cell_type": "markdown",
   "metadata": {},
   "source": [
    "## 3.\n",
    "Crie uma função que recebe como entrada uma lista de números e retorna a média aritimética desses números. Faça um tratamento de erro para o caso de um valor da lista não seja um número. E.g.:\n",
    "\n",
    "**Entrada:** [10, 1, 4] <br>\n",
    "**Saída:** 5"
   ]
  },
  {
   "cell_type": "code",
   "execution_count": 37,
   "metadata": {},
   "outputs": [
    {
     "name": "stdout",
     "output_type": "stream",
     "text": [
      "teste 1: 7.25\n",
      "teste 2: 18.5\n",
      "teste 3: 48.0\n",
      "teste 4: 0\n"
     ]
    }
   ],
   "source": [
    "def media(lista):\n",
    "    S = 0\n",
    "    count = 0\n",
    "    for i in lista:\n",
    "        if not isinstance(i, int):\n",
    "            count += 1\n",
    "        else:\n",
    "            S = S + i\n",
    "    if len(lista) - count != 0:\n",
    "        return S/(len(lista) - count)\n",
    "    else:\n",
    "        return 0\n",
    "            \n",
    "\n",
    "lista = [5, 7, 9, 8, 'eae']\n",
    "lista2 = [3, 15, 'opa', 25, 'dnv', 31]\n",
    "lista3 = ['e', 100, 15, 'o', 124, 34, 'a', 12, 3, 'b']\n",
    "lista4 = ['e', 'a', 'e']\n",
    "print(f'teste 1: {media(lista)}')\n",
    "print(f'teste 2: {media(lista2)}')\n",
    "print(f'teste 3: {media(lista3)}')\n",
    "print(f'teste 4: {media(lista4)}')\n",
    "        "
   ]
  },
  {
   "cell_type": "markdown",
   "metadata": {},
   "source": [
    "## 4.\n",
    "Crie uma função que recebe como entrada uma lista de números e retorna o somatório números. Faça um tratamento de erro para o caso de um valor da lista não seja um número. E.g.:\n",
    "\n",
    "**Entrada:** [10, 1, 4] <br>\n",
    "**Saída:** 15"
   ]
  },
  {
   "cell_type": "code",
   "execution_count": 1,
   "metadata": {},
   "outputs": [
    {
     "name": "stdout",
     "output_type": "stream",
     "text": [
      "59\n",
      "167\n",
      "118\n",
      "0\n"
     ]
    }
   ],
   "source": [
    "def somatorio(lista):\n",
    "    S = 0\n",
    "    for i in lista:\n",
    "        if isinstance(i, int):\n",
    "            S = S + i\n",
    "    return S\n",
    "\n",
    "\n",
    "lista = ['a', 15, 30, 14]\n",
    "print(somatorio(lista))\n",
    "lista2 = [10, 'a', 38, 54, 65, 'b']\n",
    "print(somatorio(lista2))\n",
    "lista3 = [12, 70,'e', 17, 19, 'g']\n",
    "print(somatorio(lista3))\n",
    "lista4 = ['e', 'a', 'e']\n",
    "print(somatorio(lista4))"
   ]
  },
  {
   "cell_type": "markdown",
   "metadata": {},
   "source": [
    "## 5.\n",
    "Crie uma função que recebe como entrada uma lista de números e uma string que indica se será retornado a média ou o somatório desses números. Faça um tratamento de erro para o caso de um valor da lista não seja um número ou a string seja um valor inesperado. E.g.:\n",
    "\n",
    "**Entrada:** [10, 1, 4], 'média' <br>\n",
    "**Saída:** 5 <br>\n",
    "\n",
    "ou <br>\n",
    "\n",
    "**Entrada:** [10, 1, 4], 'soma' <br>\n",
    "**Saída:** 15"
   ]
  },
  {
   "cell_type": "code",
   "execution_count": 2,
   "metadata": {},
   "outputs": [
    {
     "name": "stdout",
     "output_type": "stream",
     "text": [
      "19.666666666666668\n",
      "167\n",
      "29.5\n",
      "288\n"
     ]
    }
   ],
   "source": [
    "def func(lista, string):\n",
    "    if string != 'soma' and string != 'média':\n",
    "        print('Valor inesperado na string.')\n",
    "    else:\n",
    "        if string == 'média':\n",
    "            S = 0\n",
    "            count = 0\n",
    "            for i in lista:\n",
    "                if not isinstance(i, int):\n",
    "                    count += 1\n",
    "                else:\n",
    "                    S = S + i\n",
    "            if len(lista) - count != 0:\n",
    "                return S/(len(lista) - count)\n",
    "            else:\n",
    "                return 0\n",
    "        elif string == 'soma':\n",
    "            S = 0\n",
    "            for i in lista:\n",
    "                if isinstance(i, int):\n",
    "                    S = S + i\n",
    "            return S\n",
    "            \n",
    "\n",
    "lista = ['e', 15, 30, 14]\n",
    "string = 'média'\n",
    "print(func(lista, string))\n",
    "lista2 = [10, 'a', 38, 54, 65, 'b']\n",
    "string2 = 'soma'\n",
    "print(func(lista2, string2))\n",
    "lista3 = [12, 70,'e', 17, 19, 'g']\n",
    "string3 = 'média'\n",
    "print(func(lista3, string3))\n",
    "lista4 = ['e', 100, 15, 'o', 124, 34, 'a', 12, 3, 'b']\n",
    "string4 = 'soma'\n",
    "print(func(lista4, string4))"
   ]
  },
  {
   "cell_type": "markdown",
   "metadata": {},
   "source": [
    "## 6.\n",
    "Crie uma função que recebe como entrada uma lista de valores e uma string que indica se será retornado a quantidade de valores únicos ou os valores únicos em si. Faça tratamento de erro para o caso de uma string inesperada. E.g.:\n",
    "\n",
    "**Entrada:** ['cachorro', 'tamanduá', 'cassaco', 'tamanduá', 'preá', 'cassaco'], 'n_unicos' <br>\n",
    "**Saída:** 4 <br>\n",
    "\n",
    "ou <br>\n",
    "\n",
    "**Entrada:** ['cachorro', 'tamanduá', 'cassaco', 'tamanduá', 'preá', 'cassaco'], 'unicos' <br>\n",
    "**Saída:** ['cachorro', 'tamanduá', 'cassaco', 'preá'] <br>"
   ]
  },
  {
   "cell_type": "code",
   "execution_count": 104,
   "metadata": {},
   "outputs": [
    {
     "name": "stdout",
     "output_type": "stream",
     "text": [
      "{'banana', 'pêra', 'maçã'}\n",
      "3\n",
      "{'superman', 'aquaman', 'mulher-maravilha', 'batman', 'flash'}\n",
      "5\n"
     ]
    }
   ],
   "source": [
    "def func(lista, string):\n",
    "    if string != 'n_unicos' and string != 'unicos':\n",
    "        print('valor inesperado na string')\n",
    "    else:\n",
    "        if string == 'n_unicos':\n",
    "            return len(set(lista))\n",
    "        if string == 'unicos':\n",
    "            conj = set(lista)\n",
    "            return conj\n",
    "            \n",
    "\n",
    "lista = ['maçã', 'banana', 'maçã', 'pêra']\n",
    "lista2 = ['superman', 'batman', 'batman', 'mulher-maravilha', 'aquaman', 'superman', 'flash']\n",
    "string = 'unicos'\n",
    "string2 = 'n_unicos'\n",
    "print(func(lista, string))\n",
    "print(func(lista, string2))\n",
    "print(func(lista2, string))\n",
    "print(func(lista2, string2))"
   ]
  },
  {
   "cell_type": "markdown",
   "metadata": {},
   "source": [
    "## 7.\n",
    "Considere o dicionário abaixo, que tem como chaves tuplas contendo o nome do curso e número da aula e como valores os IDs dessas aulas. Implemente um algoritimo que inverta as chaves-valores. Ou seja, as chaves passam a ser os IDs das aulas e os valores são as tuplas contendo os cursos e número da aula."
   ]
  },
  {
   "cell_type": "code",
   "execution_count": 117,
   "metadata": {},
   "outputs": [
    {
     "name": "stdout",
     "output_type": "stream",
     "text": [
      "{1111: ('Introdução a Python', 1), 1112: ('Introdução a Python', 2), 1113: ('Introdução a Python', 3), 1114: ('Introdução a Python', 4), 1115: ('Introdução a Python', 5), 2111: ('Introdução a Java', 1), 2112: ('Introdução a Java', 2), 2113: ('Introdução a Java', 3), 3111: ('Visualização de Dados', 1), 3112: ('Visualização de Dados', 2), 3113: ('Visualização de Dados', 3), 3114: ('Visualização de Dados', 4), 3115: ('Visualização de Dados', 5)}\n"
     ]
    }
   ],
   "source": [
    "course_lesson_2_id = {('Introdução a Python', 1): 1111,\n",
    "                      ('Introdução a Python', 2): 1112,\n",
    "                      ('Introdução a Python', 3): 1113,\n",
    "                      ('Introdução a Python', 4): 1114,\n",
    "                      ('Introdução a Python', 5): 1115,\n",
    "                      ('Introdução a Java', 1): 2111,\n",
    "                      ('Introdução a Java', 2): 2112,\n",
    "                      ('Introdução a Java', 3): 2113,\n",
    "                      ('Visualização de Dados', 1): 3111,\n",
    "                      ('Visualização de Dados', 2): 3112,\n",
    "                      ('Visualização de Dados', 3): 3113,\n",
    "                      ('Visualização de Dados', 4): 3114,\n",
    "                      ('Visualização de Dados', 5): 3115\n",
    "                     }\n",
    "ND = {}\n",
    "for i, j in course_lesson_2_id.items():\n",
    "    ND[j] = i\n",
    "print(ND)"
   ]
  },
  {
   "cell_type": "markdown",
   "metadata": {},
   "source": [
    "## 8.\n",
    "Considere o dicionário abaixo que representa relações de amizade em uma rede social. Cada chave é um usuário e os valores são os usuários conectados a ele. Implemente uma função que recebe o nome de dois usuários e retorna se eles são amigos entre si e os amigos em comum entre eles, excluindo os próprios. E.g.:\n",
    "\n",
    "**Entrada:** 'Sônia', 'Marcos' <br>\n",
    "**Saída:** 'São amigos. Amigos em comum: Flávio, Taís.'  <br>"
   ]
  },
  {
   "cell_type": "code",
   "execution_count": 8,
   "metadata": {},
   "outputs": [
    {
     "name": "stdout",
     "output_type": "stream",
     "text": [
      "São amigos. Amigos em comum: Taís, Flávio \n",
      "São amigos. Amigos em comum: nenhum \n",
      "Não são amigos. Amigos em comum: Marcela \n",
      "Não são amigos. Amigos em comum: nenhum \n",
      "Não são amigos. Amigos em comum: Marcos \n",
      "Não são amigos. Amigos em comum: Marcela, Flávio \n"
     ]
    }
   ],
   "source": [
    "friendship = {'Marcos': {'Sônia', 'Marcela', 'Taís', 'Flávio', 'Alberto'},\n",
    "              'Sônia': {'Marcos', 'Flávio', 'Taís'},\n",
    "              'Marcela': {'Marcos', 'Horácio', 'Pedro'},\n",
    "              'Taís': {'Marcos','Sônia','Pedro'},\n",
    "              'Flávio': {'Marcos','Sônia', 'Horácio'},\n",
    "              'Alberto': {'Marcos'},\n",
    "              'Horácio': {'Marcela', 'Flávio'},\n",
    "              'Pedro': {'Marcela', 'Taís'},\n",
    "              'João': {}    \n",
    "}\n",
    "\n",
    "def comum(user1, user2):\n",
    "    comuns = []\n",
    "    for i in friendship[user1]:\n",
    "        for j in friendship[user2]:\n",
    "            if i == j:\n",
    "                comuns.append(i)\n",
    "    if user1 in friendship[user2]:\n",
    "        string = ', '\n",
    "        if len(comuns) > 0:\n",
    "            string = string.join(comuns)\n",
    "        else:\n",
    "            string = 'nenhum'\n",
    "        return print(f'São amigos. Amigos em comum: {string} ')\n",
    "    else:\n",
    "        string = ', '\n",
    "        if len(comuns) > 0:\n",
    "            string = string.join(comuns)\n",
    "        else:\n",
    "            string = 'nenhum'\n",
    "        return print(f'Não são amigos. Amigos em comum: {string} ')\n",
    "         \n",
    "\n",
    "comum('Marcos', 'Sônia')\n",
    "comum('Marcela', 'Marcos')\n",
    "comum('Horácio', 'Pedro')\n",
    "comum('Marcos', 'João')\n",
    "comum('Alberto', 'Taís')\n",
    "comum('Marcos', 'Horácio')\n",
    "                "
   ]
  },
  {
   "cell_type": "markdown",
   "metadata": {},
   "source": [
    "## 9.\n",
    "Considere o arquivo _yeats.txt_. Faça a leitura do conteúdo do arquivo e armazene-o em uma string. Qual a quantidade total de palavras e a quantidade de palavras únicas?"
   ]
  },
  {
   "cell_type": "code",
   "execution_count": 3,
   "metadata": {},
   "outputs": [
    {
     "name": "stdout",
     "output_type": "stream",
     "text": [
      "A quantidade total de palavras é: 109\n",
      "A quantidade de palavras unicas é: 85\n"
     ]
    }
   ],
   "source": [
    "f = open(\"yeats.txt\", encoding=\"UTF-8\")\n",
    "string = f.read()\n",
    "f.close()\n",
    "print(f'A quantidade total de palavras é: {len(string.split())}')\n",
    "conj = set(string.split())\n",
    "print(f'A quantidade de palavras unicas é: {len(conj)}')"
   ]
  },
  {
   "cell_type": "markdown",
   "metadata": {},
   "source": [
    "## 10.\n",
    "Considere o arquivo _us_temperature.json_ que registra temperaturas médias e anomalias ao longo dos anos nos EUA. Faça a leitura dos dados desse arquivo e armazene em um dicionário. A partir disso, responda:\n",
    "- a) qual a média das temperaturas geral?\n",
    "- b) qual a média das temperaturas nos primeiros 10 anos?\n",
    "- c) qual a média das temperaturas nos últimos 10 anos?\n",
    "- d) em que anos ocorreram a maior e a menor média respectivamente?\n",
    "- e) qual a mediana das temperaturas?"
   ]
  },
  {
   "cell_type": "code",
   "execution_count": 38,
   "metadata": {},
   "outputs": [
    {
     "name": "stdout",
     "output_type": "stream",
     "text": [
      "A média geral é: 52.182704918032805\n",
      "A média nos primeiros 10 anos é: 51.434000000000005\n",
      "A média nos últimos 10 anos é: 53.406000000000006\n",
      "A maior temperatura foi em: 201212\n",
      "A menor temperatura foi em: 191712\n",
      "A mediana é: 52.19\n"
     ]
    }
   ],
   "source": [
    "import json\n",
    "f = open('us_temperature.json')\n",
    "dicionario = json.load(f)\n",
    "f.close()\n",
    "S = 0\n",
    "S1 = 0\n",
    "S2 = 0\n",
    "count = 0\n",
    "Maior = 0\n",
    "Menor = 99999\n",
    "j = -1\n",
    "for i in dicionario['data'].keys():\n",
    "    S = S + float(dicionario['data'][i]['value'])\n",
    "    if float(dicionario['data'][i]['value']) > Maior:\n",
    "        Maior = float(dicionario['data'][i]['value'])\n",
    "        AnoMa = i\n",
    "    if float(dicionario['data'][i]['value']) < Menor:\n",
    "        Menor = float(dicionario['data'][i]['value'])\n",
    "        AnoMe = i\n",
    "    if count < 10:\n",
    "        S1 = S1 + float(dicionario['data'][i]['value'])\n",
    "    count += 1\n",
    "while j > -11:\n",
    "    S2 = S2 + float(dicionario['data'][list(dicionario['data'].keys())[j]]['value'])\n",
    "    j-=1\n",
    "T = len(dicionario['data'])/2\n",
    "mediana = (float(dicionario['data'][list(dicionario['data'].keys())[int(T)]]['value']) + float(dicionario['data'][list(dicionario['data'].keys())[int(T) + 1]]['value']))/2\n",
    "MG = S/len(dicionario['data'])\n",
    "M10 = S1/10\n",
    "MN10 = S2/10\n",
    "print(f'A média geral é: {MG}')\n",
    "print(f'A média nos primeiros 10 anos é: {M10}')\n",
    "print(f'A média nos últimos 10 anos é: {MN10}')\n",
    "print(f'A maior temperatura foi em: {AnoMa}')\n",
    "print(f'A menor temperatura foi em: {AnoMe}')\n",
    "print(f'A mediana é: {mediana}')\n",
    "    "
   ]
  },
  {
   "cell_type": "markdown",
   "metadata": {},
   "source": [
    "## 11.\n",
    "Considere a pasta _data_. Dentro dela há algumas pastas que possuem arquivos txt contendo valores numéricos separados por quebra de linha. Implemente um algoritimo itere por entre as pastas, abra cada um dos arquivos e armazene os valores em memória usando uma lista. A partir disso:\n",
    "- a) calcule a média e desvio padrão de todos os valores.\n",
    "- b) salve os dados em um único arquivo txt."
   ]
  },
  {
   "cell_type": "code",
   "execution_count": 1,
   "metadata": {},
   "outputs": [
    {
     "name": "stdout",
     "output_type": "stream",
     "text": [
      "A média é: -0.002302460138164487\n",
      "O desvio padrão é: 1.000637394761739\n"
     ]
    }
   ],
   "source": [
    "import os\n",
    "import math\n",
    "diretorio = 'data'\n",
    "lista = []\n",
    "S = 0\n",
    "S1 = 0\n",
    "for i, j, k in os.walk(diretorio):\n",
    "    for l in k:\n",
    "        f = open(os.path.join(i, l))\n",
    "        string = f.read()\n",
    "        lista.extend(string.split())\n",
    "        f.close()\n",
    "for i in lista:\n",
    "    S = S + float(i)\n",
    "media = S/len(lista)\n",
    "for i in lista:\n",
    "    S1 = S1 + (float(i) - media) ** 2\n",
    "DE = math.sqrt(S1/len(lista))\n",
    "print(f'A média é: {media}')\n",
    "print(f'O desvio padrão é: {DE}')\n",
    "c = open('arquivo.txt', 'w')\n",
    "for i in range(len(lista)): \n",
    "    c.write(lista[i])\n",
    "c.close()"
   ]
  }
 ],
 "metadata": {
  "kernelspec": {
   "display_name": "Python 3",
   "language": "python",
   "name": "python3"
  },
  "language_info": {
   "codemirror_mode": {
    "name": "ipython",
    "version": 3
   },
   "file_extension": ".py",
   "mimetype": "text/x-python",
   "name": "python",
   "nbconvert_exporter": "python",
   "pygments_lexer": "ipython3",
   "version": "3.8.8"
  }
 },
 "nbformat": 4,
 "nbformat_minor": 4
}
