{
 "cells": [
  {
   "cell_type": "markdown",
   "id": "6a651183",
   "metadata": {},
   "source": [
    "# Trabalho Final"
   ]
  },
  {
   "cell_type": "markdown",
   "id": "30eb6442",
   "metadata": {},
   "source": [
    "Neste trabalho final você irá pôr em prática todas as etapas exercitadas ao longo da mentoria sobre projetos de aprendizado de máquina em uma tarefa de classificação de NLP: detecção de sarcasmo. Segundo Yaghoobian et al:\n",
    "\n",
    "    “Sarcasm detection is the task of identifying irony containing utterances in sentiment-bearing text. However, the figurative and creative nature of sarcasm poses a great challenge for affective computing systems performing sentiment analysis.”\n",
    "\n",
    " \n",
    "\n",
    "Detecção de sarcasmo é uma tarefa com muitas aplicações práticas interessantes,  mas também é extremamente desafiadora. Padrões linguísticos e sociais que categorizam o sarcasmo podem não estar contido unicamente no texto ou no uso de palavras específicas, dificultando que algoritmos de aprendizado de máquina aprendam a generalizar. Nesse contexto, foi proposto por Khodak et al o dataset SARC, coletado da plataforma Reddit:\n",
    "\n",
    "\n",
    "    “We introduce the Self-Annotated Reddit Corpus (SARC), a large corpus for sarcasm research and for training and evaluating systems for sarcasm detection. The corpus has 1.3 million sarcastic statements -- 10 times more than any previous dataset -- and many times more instances of non-sarcastic statements, allowing for learning in both balanced and unbalanced label regimes. Each statement is furthermore self-annotated -- sarcasm is labeled by the author, not an independent annotator -- and provided with user, topic, and conversation context.”\n",
    "\n",
    "\n",
    "Em anexo, encontra-se uma amostra do SARC. Dado esse contexto, você deverá criar e validar um modelo de detecção de sarcasmo utilizando esse dataset. O trabalho deverá conter:\n",
    "\n",
    "\n",
    "    Análise exploratória\n",
    "\n",
    "        Mostre exemplos de cada classe.\n",
    "\n",
    "        Crie pelo menos 5 gráficos, contendo um que mostre o balanceamento entre as classes. Sugestões de outros gráficos: termos mais frequentes em cada classe, distribuição da quantidade de palavras em cada classe.\n",
    "\n",
    "        Discuta seus achados.\n",
    "\n",
    "\n",
    "    Aprendizado não-supervisionado\n",
    "\n",
    "        Qualquer técnica pode ser utilizada, clusterização ou redução de dimensionalidade. Pode-se usar parte da análise exploratória ou como auxiliar na classificação.\n",
    "\n",
    "\n",
    "    Limpeza e pré-processamento dos dados\n",
    "\n",
    "        Pelo menos 3 técnicas de pré-processamento de texto (que já não sejam utilizadas por padrão na vetorização)\n",
    "\n",
    "        Utilize alguma técnica de balanceamento de dados\n",
    "\n",
    "\n",
    "    Engenharia de atributos\n",
    "\n",
    "        Selecione dentre os dados disponíveis quais devem ser utilizados como atributos de entrada e o método para representação vetorial.\n",
    "\n",
    "        Utilize pelo menos dois conjuntos de atributos de entrada, comparando as performances. Justifique suas escolhas.\n",
    "\n",
    "\n",
    "    Estabelecimento de um baseline\n",
    "\n",
    "        Utilize um modelo simples, não faça otimização de hiperparâmetros. Justifique sua escolha.\n",
    "\n",
    "\n",
    "    Seleção e avaliação de modelos\n",
    "\n",
    "        Escolha uma ou mais métricas de desempenho apropriadas para esta tarefa.\n",
    "\n",
    "        Utilize pelo menos 4 algoritmos, realizando a otimização de hiperparâmetros. Destes modelos, ao menos um deve ser um algoritmos deve ser um que não foi visto durante a mentoria. Estude o funcionamento dele. Sugestão: modelo de Deep Learning.\n",
    "\n",
    "        Avalie os algoritmos com hiperparâmetros otimizados no conjunto de teste.\n",
    "\n",
    "\n",
    "    Análise de resultados\n",
    "\n",
    "        Mostre exemplos dos erros (falso positivos e falso negativos) para o melhor dos algoritmos experimentados.\n",
    "\n",
    "        Discuta os resultados e aponte quais seriam possíveis melhorias\n",
    "\n",
    "\n",
    "    (OPCIONAL) Interpretabilidade\n",
    "\n",
    "        Utilize algum método que permita uma interpretação das predições de algum dos seus modelos.\n",
    "\n",
    "\n",
    "    (OPCIONAL) Deploy\n",
    "\n",
    "        Implemente uma API para que o seu melhor modelo possa ser utilizado via requisições HTTP."
   ]
  },
  {
   "cell_type": "code",
   "execution_count": 97,
   "id": "628e9689",
   "metadata": {},
   "outputs": [],
   "source": [
    "import numpy as np\n",
    "import pandas as pd\n",
    "import matplotlib.pyplot as plt\n",
    "import seaborn as sns\n",
    "from warnings import filterwarnings\n",
    "filterwarnings('ignore')\n",
    "%matplotlib inline"
   ]
  },
  {
   "cell_type": "markdown",
   "id": "530668f2",
   "metadata": {},
   "source": [
    "Primeiramente, alterando as configurações do dataframe para que ele exiba os textos completos, e logo em seguida imprimindo o dataframe para realizar sua análise."
   ]
  },
  {
   "cell_type": "code",
   "execution_count": 98,
   "id": "7b07ba7c",
   "metadata": {
    "scrolled": false
   },
   "outputs": [
    {
     "data": {
      "text/html": [
       "<div>\n",
       "<style scoped>\n",
       "    .dataframe tbody tr th:only-of-type {\n",
       "        vertical-align: middle;\n",
       "    }\n",
       "\n",
       "    .dataframe tbody tr th {\n",
       "        vertical-align: top;\n",
       "    }\n",
       "\n",
       "    .dataframe thead th {\n",
       "        text-align: right;\n",
       "    }\n",
       "</style>\n",
       "<table border=\"1\" class=\"dataframe\">\n",
       "  <thead>\n",
       "    <tr style=\"text-align: right;\">\n",
       "      <th></th>\n",
       "      <th>label</th>\n",
       "      <th>comment</th>\n",
       "      <th>author</th>\n",
       "      <th>subreddit</th>\n",
       "      <th>score</th>\n",
       "      <th>ups</th>\n",
       "      <th>downs</th>\n",
       "      <th>date</th>\n",
       "      <th>created_utc</th>\n",
       "      <th>parent_comment</th>\n",
       "    </tr>\n",
       "  </thead>\n",
       "  <tbody>\n",
       "    <tr>\n",
       "      <th>0</th>\n",
       "      <td>1</td>\n",
       "      <td>Of course, just like 3.2 was the true Messiah.</td>\n",
       "      <td>ReticentHedgehog</td>\n",
       "      <td>ffxiv</td>\n",
       "      <td>1</td>\n",
       "      <td>1</td>\n",
       "      <td>0</td>\n",
       "      <td>2016-05</td>\n",
       "      <td>2016-05-02 20:20:37</td>\n",
       "      <td>Is patch 3.3 going to be our savior? Without trying to sound like a broken record and repeating the many point of views of the growing apocalyptic threads on this forum. I was hoping to get the opinions of everyone if they believe patch 3.3 is going to bring back some of the players who have quit in the last patch or two, or does this feel like another cookie cutter patch that wont stop exit of quality population specifically on the North American servers. I ask this in concern that I have made a assertive effort as of late to refill our FC, and one of the strong points of the patch info so far is that they are installing a cross realm raid tool, which seems like it would diminish the need to recruit for a FC. I personally enjoy the aspect of a 10-15 member FC which can grow close and share things in common to the game and outside the game. But with the game seemingly losing subs it has become harder to find people to come together like I had just described and I don't want to put false hope in those who I have recruited so far. Give me some hope!</td>\n",
       "    </tr>\n",
       "    <tr>\n",
       "      <th>1</th>\n",
       "      <td>1</td>\n",
       "      <td>Yeah because Iran was 100% muslim prior to 1979, and still is now.</td>\n",
       "      <td>methmobile</td>\n",
       "      <td>worldnews</td>\n",
       "      <td>-3</td>\n",
       "      <td>-1</td>\n",
       "      <td>-1</td>\n",
       "      <td>2016-12</td>\n",
       "      <td>2016-12-30 10:21:31</td>\n",
       "      <td>I suggest you research Iran pre-1979 as well as al-Qatb and the rise of Wahhabism. You are fully entitled to have an opinion and express it (and you do bring up a good point re: rural cobservatism) but you are misinformed.</td>\n",
       "    </tr>\n",
       "    <tr>\n",
       "      <th>2</th>\n",
       "      <td>1</td>\n",
       "      <td>WELL YOU'RE JUST A BITCH...YOU HAVE TO GO AND POST AND TAKE YOUR DOWNVOTES</td>\n",
       "      <td>dillydelly</td>\n",
       "      <td>nba</td>\n",
       "      <td>1</td>\n",
       "      <td>1</td>\n",
       "      <td>0</td>\n",
       "      <td>2014-05</td>\n",
       "      <td>2014-05-04 08:02:30</td>\n",
       "      <td>Warriors / Clips game threads literally add zero value to the game experience. Why would I want to see the words flop, flopped and flopper repeated constantly? Thunder / Clips game threads were pretty good during the season. We'll see how the playoff ones are.</td>\n",
       "    </tr>\n",
       "    <tr>\n",
       "      <th>3</th>\n",
       "      <td>1</td>\n",
       "      <td>Yeah, it's dumb to run background checks on potential teachers.</td>\n",
       "      <td>Krenolds</td>\n",
       "      <td>AskReddit</td>\n",
       "      <td>1</td>\n",
       "      <td>1</td>\n",
       "      <td>0</td>\n",
       "      <td>2014-09</td>\n",
       "      <td>2014-09-02 08:09:10</td>\n",
       "      <td>Oh i forgot.., you get to be finger printed when you are hired! Awesome!</td>\n",
       "    </tr>\n",
       "    <tr>\n",
       "      <th>4</th>\n",
       "      <td>1</td>\n",
       "      <td>Oh, it's not that bad once you get a handle on the crippling depression and constant tooth grinding.</td>\n",
       "      <td>ericanderton</td>\n",
       "      <td>AskReddit</td>\n",
       "      <td>4</td>\n",
       "      <td>4</td>\n",
       "      <td>0</td>\n",
       "      <td>2011-08</td>\n",
       "      <td>2011-08-24 13:17:20</td>\n",
       "      <td>Haha oh. Definitely not an option than.</td>\n",
       "    </tr>\n",
       "    <tr>\n",
       "      <th>...</th>\n",
       "      <td>...</td>\n",
       "      <td>...</td>\n",
       "      <td>...</td>\n",
       "      <td>...</td>\n",
       "      <td>...</td>\n",
       "      <td>...</td>\n",
       "      <td>...</td>\n",
       "      <td>...</td>\n",
       "      <td>...</td>\n",
       "      <td>...</td>\n",
       "    </tr>\n",
       "    <tr>\n",
       "      <th>59995</th>\n",
       "      <td>0</td>\n",
       "      <td>room you mean like, dimension?</td>\n",
       "      <td>Tikikala</td>\n",
       "      <td>digimon</td>\n",
       "      <td>1</td>\n",
       "      <td>1</td>\n",
       "      <td>0</td>\n",
       "      <td>2016-03</td>\n",
       "      <td>2016-03-26 03:42:22</td>\n",
       "      <td>So as another guy pointed out. Huckmon might be projecting Ken as a way to steal Meicoomon, remember he was lurking all the time. Also he was in the 'room' after Ken disappeared</td>\n",
       "    </tr>\n",
       "    <tr>\n",
       "      <th>59996</th>\n",
       "      <td>0</td>\n",
       "      <td>I wasn't too fond of grabner in 14 so I put Bergeron up the middle to win draws and set up plays and what not.</td>\n",
       "      <td>mrhairybolo</td>\n",
       "      <td>hockey</td>\n",
       "      <td>1</td>\n",
       "      <td>1</td>\n",
       "      <td>0</td>\n",
       "      <td>2014-08</td>\n",
       "      <td>2014-08-10 05:57:31</td>\n",
       "      <td>Hall - Duchene - Grabner?</td>\n",
       "    </tr>\n",
       "    <tr>\n",
       "      <th>59997</th>\n",
       "      <td>0</td>\n",
       "      <td>he wasn't even at worlds in season 4!</td>\n",
       "      <td>Highstalker</td>\n",
       "      <td>leagueoflegends</td>\n",
       "      <td>-1</td>\n",
       "      <td>-1</td>\n",
       "      <td>0</td>\n",
       "      <td>2016-09</td>\n",
       "      <td>2016-09-19 14:41:23</td>\n",
       "      <td>Yeah he was.</td>\n",
       "    </tr>\n",
       "    <tr>\n",
       "      <th>59998</th>\n",
       "      <td>0</td>\n",
       "      <td>Right, but the Trump sign...</td>\n",
       "      <td>gcbeehler5</td>\n",
       "      <td>pics</td>\n",
       "      <td>2</td>\n",
       "      <td>2</td>\n",
       "      <td>0</td>\n",
       "      <td>2016-09</td>\n",
       "      <td>2016-09-01 02:14:54</td>\n",
       "      <td>I wouldn't say you have to be liberal to appreciate sustainability. You just have to not be an ignorant twat.</td>\n",
       "    </tr>\n",
       "    <tr>\n",
       "      <th>59999</th>\n",
       "      <td>0</td>\n",
       "      <td>Would be awesome, but it's one of those things that has to be done flawlessly and can't be half-assed.</td>\n",
       "      <td>ImKoncerned</td>\n",
       "      <td>2007scape</td>\n",
       "      <td>3</td>\n",
       "      <td>3</td>\n",
       "      <td>0</td>\n",
       "      <td>2015-03</td>\n",
       "      <td>2015-03-13 21:30:57</td>\n",
       "      <td>Unfortunately I think so too :'(</td>\n",
       "    </tr>\n",
       "  </tbody>\n",
       "</table>\n",
       "<p>60000 rows × 10 columns</p>\n",
       "</div>"
      ],
      "text/plain": [
       "       label  \\\n",
       "0          1   \n",
       "1          1   \n",
       "2          1   \n",
       "3          1   \n",
       "4          1   \n",
       "...      ...   \n",
       "59995      0   \n",
       "59996      0   \n",
       "59997      0   \n",
       "59998      0   \n",
       "59999      0   \n",
       "\n",
       "                                                                                                              comment  \\\n",
       "0                                                                      Of course, just like 3.2 was the true Messiah.   \n",
       "1                                                  Yeah because Iran was 100% muslim prior to 1979, and still is now.   \n",
       "2                                          WELL YOU'RE JUST A BITCH...YOU HAVE TO GO AND POST AND TAKE YOUR DOWNVOTES   \n",
       "3                                                     Yeah, it's dumb to run background checks on potential teachers.   \n",
       "4                Oh, it's not that bad once you get a handle on the crippling depression and constant tooth grinding.   \n",
       "...                                                                                                               ...   \n",
       "59995                                                                                  room you mean like, dimension?   \n",
       "59996  I wasn't too fond of grabner in 14 so I put Bergeron up the middle to win draws and set up plays and what not.   \n",
       "59997                                                                           he wasn't even at worlds in season 4!   \n",
       "59998                                                                                    Right, but the Trump sign...   \n",
       "59999          Would be awesome, but it's one of those things that has to be done flawlessly and can't be half-assed.   \n",
       "\n",
       "                 author        subreddit  score  ups  downs     date  \\\n",
       "0      ReticentHedgehog            ffxiv      1    1      0  2016-05   \n",
       "1            methmobile        worldnews     -3   -1     -1  2016-12   \n",
       "2            dillydelly              nba      1    1      0  2014-05   \n",
       "3              Krenolds        AskReddit      1    1      0  2014-09   \n",
       "4          ericanderton        AskReddit      4    4      0  2011-08   \n",
       "...                 ...              ...    ...  ...    ...      ...   \n",
       "59995          Tikikala          digimon      1    1      0  2016-03   \n",
       "59996       mrhairybolo           hockey      1    1      0  2014-08   \n",
       "59997       Highstalker  leagueoflegends     -1   -1      0  2016-09   \n",
       "59998        gcbeehler5             pics      2    2      0  2016-09   \n",
       "59999       ImKoncerned        2007scape      3    3      0  2015-03   \n",
       "\n",
       "               created_utc  \\\n",
       "0      2016-05-02 20:20:37   \n",
       "1      2016-12-30 10:21:31   \n",
       "2      2014-05-04 08:02:30   \n",
       "3      2014-09-02 08:09:10   \n",
       "4      2011-08-24 13:17:20   \n",
       "...                    ...   \n",
       "59995  2016-03-26 03:42:22   \n",
       "59996  2014-08-10 05:57:31   \n",
       "59997  2016-09-19 14:41:23   \n",
       "59998  2016-09-01 02:14:54   \n",
       "59999  2015-03-13 21:30:57   \n",
       "\n",
       "                                                                                                                                                                                                                                                                                                                                                                                                                                                                                                                                                                                                                                                                                                                                                                                                                                                                                                                                                                                                                                                                                                parent_comment  \n",
       "0      Is patch 3.3 going to be our savior? Without trying to sound like a broken record and repeating the many point of views of the growing apocalyptic threads on this forum. I was hoping to get the opinions of everyone if they believe patch 3.3 is going to bring back some of the players who have quit in the last patch or two, or does this feel like another cookie cutter patch that wont stop exit of quality population specifically on the North American servers. I ask this in concern that I have made a assertive effort as of late to refill our FC, and one of the strong points of the patch info so far is that they are installing a cross realm raid tool, which seems like it would diminish the need to recruit for a FC. I personally enjoy the aspect of a 10-15 member FC which can grow close and share things in common to the game and outside the game. But with the game seemingly losing subs it has become harder to find people to come together like I had just described and I don't want to put false hope in those who I have recruited so far. Give me some hope!  \n",
       "1                                                                                                                                                                                                                                                                                                                                                                                                                                                                                                                                                                                                                                                                                                                                                                                                                                                                               I suggest you research Iran pre-1979 as well as al-Qatb and the rise of Wahhabism. You are fully entitled to have an opinion and express it (and you do bring up a good point re: rural cobservatism) but you are misinformed.  \n",
       "2                                                                                                                                                                                                                                                                                                                                                                                                                                                                                                                                                                                                                                                                                                                                                                                                                                         Warriors / Clips game threads literally add zero value to the game experience. Why would I want to see the words flop, flopped and flopper repeated constantly? Thunder / Clips game threads were pretty good during the season. We'll see how the playoff ones are.  \n",
       "3                                                                                                                                                                                                                                                                                                                                                                                                                                                                                                                                                                                                                                                                                                                                                                                                                                                                                                                                                                                                                                     Oh i forgot.., you get to be finger printed when you are hired! Awesome!  \n",
       "4                                                                                                                                                                                                                                                                                                                                                                                                                                                                                                                                                                                                                                                                                                                                                                                                                                                                                                                                                                                                                                                                      Haha oh. Definitely not an option than.  \n",
       "...                                                                                                                                                                                                                                                                                                                                                                                                                                                                                                                                                                                                                                                                                                                                                                                                                                                                                                                                                                                                                                                                                                        ...  \n",
       "59995                                                                                                                                                                                                                                                                                                                                                                                                                                                                                                                                                                                                                                                                                                                                                                                                                                                                                                                        So as another guy pointed out. Huckmon might be projecting Ken as a way to steal Meicoomon, remember he was lurking all the time. Also he was in the 'room' after Ken disappeared  \n",
       "59996                                                                                                                                                                                                                                                                                                                                                                                                                                                                                                                                                                                                                                                                                                                                                                                                                                                                                                                                                                                                                                                                                Hall - Duchene - Grabner?  \n",
       "59997                                                                                                                                                                                                                                                                                                                                                                                                                                                                                                                                                                                                                                                                                                                                                                                                                                                                                                                                                                                                                                                                                             Yeah he was.  \n",
       "59998                                                                                                                                                                                                                                                                                                                                                                                                                                                                                                                                                                                                                                                                                                                                                                                                                                                                                                                                                                                            I wouldn't say you have to be liberal to appreciate sustainability. You just have to not be an ignorant twat.  \n",
       "59999                                                                                                                                                                                                                                                                                                                                                                                                                                                                                                                                                                                                                                                                                                                                                                                                                                                                                                                                                                                                                                                                         Unfortunately I think so too :'(  \n",
       "\n",
       "[60000 rows x 10 columns]"
      ]
     },
     "execution_count": 98,
     "metadata": {},
     "output_type": "execute_result"
    }
   ],
   "source": [
    "pd.set_option(\"display.max_colwidth\", None)\n",
    "df = pd.read_csv('sarc_sample.csv')\n",
    "df"
   ]
  },
  {
   "cell_type": "markdown",
   "id": "25a7939b",
   "metadata": {},
   "source": [
    "# Análise exploratória"
   ]
  },
  {
   "cell_type": "markdown",
   "id": "55ec6554",
   "metadata": {},
   "source": [
    "Esta etapa visa analisar o conjunto de dados para entender melhor seu desempenho e os seus futuros resultados. Para isso, iremos analisar alguns gráficos que trazem informações importantes para a classificação dos dados. Primeiramente, trouxe a baixo 4 exemplos de cada classe, conforme orientado na descrição da atividade."
   ]
  },
  {
   "cell_type": "code",
   "execution_count": 99,
   "id": "0e0741f1",
   "metadata": {},
   "outputs": [
    {
     "data": {
      "text/html": [
       "<div>\n",
       "<style scoped>\n",
       "    .dataframe tbody tr th:only-of-type {\n",
       "        vertical-align: middle;\n",
       "    }\n",
       "\n",
       "    .dataframe tbody tr th {\n",
       "        vertical-align: top;\n",
       "    }\n",
       "\n",
       "    .dataframe thead th {\n",
       "        text-align: right;\n",
       "    }\n",
       "</style>\n",
       "<table border=\"1\" class=\"dataframe\">\n",
       "  <thead>\n",
       "    <tr style=\"text-align: right;\">\n",
       "      <th></th>\n",
       "      <th>label</th>\n",
       "      <th>comment</th>\n",
       "      <th>author</th>\n",
       "      <th>subreddit</th>\n",
       "      <th>score</th>\n",
       "      <th>ups</th>\n",
       "      <th>downs</th>\n",
       "      <th>date</th>\n",
       "      <th>created_utc</th>\n",
       "      <th>parent_comment</th>\n",
       "    </tr>\n",
       "  </thead>\n",
       "  <tbody>\n",
       "    <tr>\n",
       "      <th>23187</th>\n",
       "      <td>1</td>\n",
       "      <td>Sora confirmed!</td>\n",
       "      <td>Slade712</td>\n",
       "      <td>smashbros</td>\n",
       "      <td>1</td>\n",
       "      <td>1</td>\n",
       "      <td>0</td>\n",
       "      <td>2014-09</td>\n",
       "      <td>2014-09-09 20:58:37</td>\n",
       "      <td>Looks like a Keyblade.</td>\n",
       "    </tr>\n",
       "    <tr>\n",
       "      <th>23344</th>\n",
       "      <td>1</td>\n",
       "      <td>Pffft that's easy fallout 4</td>\n",
       "      <td>tabascotazer</td>\n",
       "      <td>AskReddit</td>\n",
       "      <td>1</td>\n",
       "      <td>1</td>\n",
       "      <td>0</td>\n",
       "      <td>2015-06</td>\n",
       "      <td>2015-06-24 20:49:01</td>\n",
       "      <td>What is your favorite video game of all time?</td>\n",
       "    </tr>\n",
       "    <tr>\n",
       "      <th>5711</th>\n",
       "      <td>1</td>\n",
       "      <td>Yes, it has nothing to do with the sex part.</td>\n",
       "      <td>nomdplume</td>\n",
       "      <td>PurplePillDebate</td>\n",
       "      <td>1</td>\n",
       "      <td>1</td>\n",
       "      <td>0</td>\n",
       "      <td>2016-03</td>\n",
       "      <td>2016-03-06 08:32:45</td>\n",
       "      <td>Pornography is successful because it is readily available.</td>\n",
       "    </tr>\n",
       "    <tr>\n",
       "      <th>9836</th>\n",
       "      <td>1</td>\n",
       "      <td>ummm you forgot the led's</td>\n",
       "      <td>citiesandcolours</td>\n",
       "      <td>DIY</td>\n",
       "      <td>2</td>\n",
       "      <td>-1</td>\n",
       "      <td>-1</td>\n",
       "      <td>2016-10</td>\n",
       "      <td>2016-10-05 19:08:42</td>\n",
       "      <td>DIY Floating bed frame for a birthday present to my girlfriend</td>\n",
       "    </tr>\n",
       "  </tbody>\n",
       "</table>\n",
       "</div>"
      ],
      "text/plain": [
       "       label                                       comment            author  \\\n",
       "23187      1                               Sora confirmed!          Slade712   \n",
       "23344      1                   Pffft that's easy fallout 4      tabascotazer   \n",
       "5711       1  Yes, it has nothing to do with the sex part.         nomdplume   \n",
       "9836       1                     ummm you forgot the led's  citiesandcolours   \n",
       "\n",
       "              subreddit  score  ups  downs     date          created_utc  \\\n",
       "23187         smashbros      1    1      0  2014-09  2014-09-09 20:58:37   \n",
       "23344         AskReddit      1    1      0  2015-06  2015-06-24 20:49:01   \n",
       "5711   PurplePillDebate      1    1      0  2016-03  2016-03-06 08:32:45   \n",
       "9836                DIY      2   -1     -1  2016-10  2016-10-05 19:08:42   \n",
       "\n",
       "                                                       parent_comment  \n",
       "23187                                          Looks like a Keyblade.  \n",
       "23344                   What is your favorite video game of all time?  \n",
       "5711       Pornography is successful because it is readily available.  \n",
       "9836   DIY Floating bed frame for a birthday present to my girlfriend  "
      ]
     },
     "execution_count": 99,
     "metadata": {},
     "output_type": "execute_result"
    }
   ],
   "source": [
    "um = df['label'] == 1\n",
    "df[um].sample(n = 4)"
   ]
  },
  {
   "cell_type": "code",
   "execution_count": 100,
   "id": "1a784d91",
   "metadata": {
    "scrolled": false
   },
   "outputs": [
    {
     "data": {
      "text/html": [
       "<div>\n",
       "<style scoped>\n",
       "    .dataframe tbody tr th:only-of-type {\n",
       "        vertical-align: middle;\n",
       "    }\n",
       "\n",
       "    .dataframe tbody tr th {\n",
       "        vertical-align: top;\n",
       "    }\n",
       "\n",
       "    .dataframe thead th {\n",
       "        text-align: right;\n",
       "    }\n",
       "</style>\n",
       "<table border=\"1\" class=\"dataframe\">\n",
       "  <thead>\n",
       "    <tr style=\"text-align: right;\">\n",
       "      <th></th>\n",
       "      <th>label</th>\n",
       "      <th>comment</th>\n",
       "      <th>author</th>\n",
       "      <th>subreddit</th>\n",
       "      <th>score</th>\n",
       "      <th>ups</th>\n",
       "      <th>downs</th>\n",
       "      <th>date</th>\n",
       "      <th>created_utc</th>\n",
       "      <th>parent_comment</th>\n",
       "    </tr>\n",
       "  </thead>\n",
       "  <tbody>\n",
       "    <tr>\n",
       "      <th>56666</th>\n",
       "      <td>0</td>\n",
       "      <td>Good luck!</td>\n",
       "      <td>greengardens</td>\n",
       "      <td>Accutane</td>\n",
       "      <td>1</td>\n",
       "      <td>1</td>\n",
       "      <td>0</td>\n",
       "      <td>2016-03</td>\n",
       "      <td>2016-03-30 02:33:44</td>\n",
       "      <td>well the birth control wasn't causing my acne, i developed acne once i got off birth control which is fairly common. my course was 5 months at 80 mg/day. my derm did call me back and she is okay with extending my course. i'm hoping since i've only been off accutane for a week that i won't have another IB</td>\n",
       "    </tr>\n",
       "    <tr>\n",
       "      <th>58168</th>\n",
       "      <td>0</td>\n",
       "      <td>They come with an iPhone 6 and a pair of Beats.</td>\n",
       "      <td>Neckwrecker</td>\n",
       "      <td>nyc</td>\n",
       "      <td>5</td>\n",
       "      <td>5</td>\n",
       "      <td>0</td>\n",
       "      <td>2015-03</td>\n",
       "      <td>2015-03-10 14:23:06</td>\n",
       "      <td>what perplexes me is the ubiquity to cost ratio. How the hell is everyone and their mom able to afford these boring clone jackets?</td>\n",
       "    </tr>\n",
       "    <tr>\n",
       "      <th>56293</th>\n",
       "      <td>0</td>\n",
       "      <td>with open arms</td>\n",
       "      <td>Shark_Lad</td>\n",
       "      <td>The_Donald</td>\n",
       "      <td>1</td>\n",
       "      <td>1</td>\n",
       "      <td>0</td>\n",
       "      <td>2016-06</td>\n",
       "      <td>2016-06-13 19:10:49</td>\n",
       "      <td>What's gonna happen to all the Bernie Supporters? Once he drops out where are they going to go? I heard a few are going to support Trump, are you willing to accept them?</td>\n",
       "    </tr>\n",
       "    <tr>\n",
       "      <th>41972</th>\n",
       "      <td>0</td>\n",
       "      <td>Wrong.</td>\n",
       "      <td>Jordeezus</td>\n",
       "      <td>leagueoflegends</td>\n",
       "      <td>1</td>\n",
       "      <td>1</td>\n",
       "      <td>0</td>\n",
       "      <td>2015-11</td>\n",
       "      <td>2015-11-14 17:01:31</td>\n",
       "      <td>Zac passive bug.</td>\n",
       "    </tr>\n",
       "  </tbody>\n",
       "</table>\n",
       "</div>"
      ],
      "text/plain": [
       "       label                                          comment        author  \\\n",
       "56666      0                                       Good luck!  greengardens   \n",
       "58168      0  They come with an iPhone 6 and a pair of Beats.   Neckwrecker   \n",
       "56293      0                                   with open arms     Shark_Lad   \n",
       "41972      0                                           Wrong.     Jordeezus   \n",
       "\n",
       "             subreddit  score  ups  downs     date          created_utc  \\\n",
       "56666         Accutane      1    1      0  2016-03  2016-03-30 02:33:44   \n",
       "58168              nyc      5    5      0  2015-03  2015-03-10 14:23:06   \n",
       "56293       The_Donald      1    1      0  2016-06  2016-06-13 19:10:49   \n",
       "41972  leagueoflegends      1    1      0  2015-11  2015-11-14 17:01:31   \n",
       "\n",
       "                                                                                                                                                                                                                                                                                                          parent_comment  \n",
       "56666  well the birth control wasn't causing my acne, i developed acne once i got off birth control which is fairly common. my course was 5 months at 80 mg/day. my derm did call me back and she is okay with extending my course. i'm hoping since i've only been off accutane for a week that i won't have another IB  \n",
       "58168                                                                                                                                                                                 what perplexes me is the ubiquity to cost ratio. How the hell is everyone and their mom able to afford these boring clone jackets?  \n",
       "56293                                                                                                                                          What's gonna happen to all the Bernie Supporters? Once he drops out where are they going to go? I heard a few are going to support Trump, are you willing to accept them?  \n",
       "41972                                                                                                                                                                                                                                                                                                   Zac passive bug.  "
      ]
     },
     "execution_count": 100,
     "metadata": {},
     "output_type": "execute_result"
    }
   ],
   "source": [
    "zero = df['label'] == 0\n",
    "df[zero].sample(n = 4)"
   ]
  },
  {
   "cell_type": "markdown",
   "id": "89862e5e",
   "metadata": {},
   "source": [
    "### Etapas de pré-processamento"
   ]
  },
  {
   "cell_type": "markdown",
   "id": "21cd7252",
   "metadata": {},
   "source": [
    "Para realizar a coleta de informações que seriam utilizadas nos gráficos, foi necessário antecipar a etapa de pré-processamento dos dados, as funções a baixo tem o objetivo de remover alguns tipos de caracteres que não são utéis durante a análise dos dados."
   ]
  },
  {
   "cell_type": "markdown",
   "id": "cb04bca8",
   "metadata": {},
   "source": [
    "1. Primeiramente a função \"remover_pontuação\" faz uso de list comprehension para iterar entre os caracteres do texto e remover os caracteres que estão incluidos em \"string.punctuation\"."
   ]
  },
  {
   "cell_type": "code",
   "execution_count": 101,
   "id": "d1778f26",
   "metadata": {},
   "outputs": [],
   "source": [
    "import string\n",
    "def remover_pontuacao(text):\n",
    "    sem_pontuacao=\"\".join([i for i in text if i not in string.punctuation])\n",
    "    return sem_pontuacao"
   ]
  },
  {
   "cell_type": "markdown",
   "id": "b3f3443d",
   "metadata": {},
   "source": [
    "2. A função \"lower\" tem o objetivo de deixar todas as palavras do texto em minúsculo, criando um padrão mais fácil de detectar nos caracteres. Esse passo é muito importante para realizar a remoção de stopwords, pois todas as palavras na lista de stopwords estão em letra minúscula."
   ]
  },
  {
   "cell_type": "code",
   "execution_count": 102,
   "id": "127e2fbc",
   "metadata": {},
   "outputs": [],
   "source": [
    "def lower(text):\n",
    "    return text.lower()"
   ]
  },
  {
   "cell_type": "markdown",
   "id": "6d23898a",
   "metadata": {},
   "source": [
    "3. A função \"remove_nums\" utiliza regex para detectar e remover todos os números do conjunto de dados, isso é importante pois em geral caracteres numéricos não trazem muita informação, e ao retirá-los é possível diminuir bastante a quantidade de dimensões do conjunto."
   ]
  },
  {
   "cell_type": "code",
   "execution_count": 103,
   "id": "25bbbbe7",
   "metadata": {},
   "outputs": [],
   "source": [
    "import re\n",
    "def remove_nums(text):\n",
    "    num_regex = '\\d+'\n",
    "    t = re.sub(num_regex, '', text)\n",
    "    return t"
   ]
  },
  {
   "cell_type": "markdown",
   "id": "910f0787",
   "metadata": {},
   "source": [
    "4. A função \"remove_stop_words\" serve para remover as stopwords do conjunto de dados. Igualmente aos caracteres númericos as stopwords não agregam muitas informações durante a análise, por isso, geralmente é benéfico fazer sua retirada, principalmente pois elas costumam se repetir muitas vezes durante os textos, assim, aumentando a quantidade de dimensões."
   ]
  },
  {
   "cell_type": "code",
   "execution_count": 104,
   "id": "658d5707",
   "metadata": {},
   "outputs": [],
   "source": [
    "import nltk\n",
    "def remove_stop_words(text):\n",
    "    stopwords = nltk.corpus.stopwords.words('english')\n",
    "    texto = [w for w in text.split() if w not in stopwords]\n",
    "    frase = \" \".join(texto)\n",
    "    return frase"
   ]
  },
  {
   "cell_type": "markdown",
   "id": "76477732",
   "metadata": {},
   "source": [
    "5. A função \"lemmatizer\" tem o proposito de transformar as palavras do conjunto de dados em suas formas base, com o cuidado para que elas não percam o sentido. Esse passo é importante para simplificar o texto, ajudando a extrair o máximo de informação."
   ]
  },
  {
   "cell_type": "code",
   "execution_count": 105,
   "id": "f9e5b2a0",
   "metadata": {},
   "outputs": [],
   "source": [
    "from nltk.stem import WordNetLemmatizer\n",
    "wordnet_lemmatizer = WordNetLemmatizer()\n",
    "def lemmatizer(text):\n",
    "    texto = [wordnet_lemmatizer.lemmatize(word) for word in text.split()]\n",
    "    frase = \" \".join(texto)\n",
    "    return frase"
   ]
  },
  {
   "cell_type": "markdown",
   "id": "acf0ef09",
   "metadata": {},
   "source": [
    "6. A função \"remove_little_words\" remove do conjunto de dados as palavras que possuem apenas 2 ou menos caracteres, pois essas palavras curtas aumentam consideravelmente a quantidade de dimensões do conjunto e, em geral, não trazem muitas informações, além de que na maioria das vezes se tratam de erros de digitação."
   ]
  },
  {
   "cell_type": "code",
   "execution_count": 106,
   "id": "9ff8dbb9",
   "metadata": {},
   "outputs": [],
   "source": [
    "def remove_little_words(text):\n",
    "    frase =\" \".join([w for w in text.split() if len(w) > 2])\n",
    "    return frase"
   ]
  },
  {
   "cell_type": "markdown",
   "id": "d920baac",
   "metadata": {},
   "source": [
    "7. A função \"preprocess\" é responsável por executar algumas das funções acima, facilitando o uso destas em conjunto. Na função preprocess, a ordem em que as funções são chamadas é muito importante, pois a lista de stopwords utilizada possui apenas palavras em minúsculo e com o uso correto das pontuações, logo, se retirarmos as  pontuações antes das stopwords, algumas palavras podem acabar escapando."
   ]
  },
  {
   "cell_type": "code",
   "execution_count": 107,
   "id": "aba4846e",
   "metadata": {},
   "outputs": [],
   "source": [
    "def preprocess(text):\n",
    "        text = remove_nums(text)\n",
    "        text = lower(text)\n",
    "        text = remove_stop_words(text)\n",
    "        text = remover_pontuacao(text)\n",
    "        text = remove_little_words(text)\n",
    "        text = lemmatizer(text)\n",
    "        return text"
   ]
  },
  {
   "cell_type": "markdown",
   "id": "e3c28df9",
   "metadata": {},
   "source": [
    "## Gráficos"
   ]
  },
  {
   "cell_type": "markdown",
   "id": "7913a9d4",
   "metadata": {},
   "source": [
    "### 1° Gráfico"
   ]
  },
  {
   "cell_type": "markdown",
   "id": "d135d326",
   "metadata": {},
   "source": [
    "Primeiramente temos o gráfico da quantidade de itens de cada classe. É possível reparar que existem muito mais itens na classe \"1\" do que na classe \"0\", isso significa que esse é um conjunto de dados desbalanceado, e futuramente precisaremos utilizar algumas tecnicas para realizar o seu balanceamento"
   ]
  },
  {
   "cell_type": "code",
   "execution_count": 108,
   "id": "e602f5ce",
   "metadata": {},
   "outputs": [
    {
     "data": {
      "image/png": "[encoded data removed]",
      "text/plain": [
       "<Figure size 936x432 with 1 Axes>"
      ]
     },
     "metadata": {
      "needs_background": "light"
     },
     "output_type": "display_data"
    }
   ],
   "source": [
    "# Gráfico do balanceamento entre as classes\n",
    "sns.catplot(y=\"label\", kind=\"count\",\n",
    "            palette=\"pastel\", edgecolor=\".6\",\n",
    "            data=df)\n",
    "plt.gcf().set_size_inches(13, 6)"
   ]
  },
  {
   "cell_type": "markdown",
   "id": "fe773c97",
   "metadata": {},
   "source": [
    "### 2° Gráfico"
   ]
  },
  {
   "cell_type": "markdown",
   "id": "996c2d4f",
   "metadata": {},
   "source": [
    "O segundo gráfico mostra as 10 palavras que mais se repetiram nos comentários classificados na classe \"1\", que seriam os comentários sarcásticos."
   ]
  },
  {
   "cell_type": "code",
   "execution_count": 109,
   "id": "8a721f72",
   "metadata": {
    "scrolled": false
   },
   "outputs": [
    {
     "data": {
      "image/png": "[encoded data removed]",
      "text/plain": [
       "<Figure size 936x432 with 1 Axes>"
      ]
     },
     "metadata": {
      "needs_background": "light"
     },
     "output_type": "display_data"
    }
   ],
   "source": [
    "# Gráfico das palavras que aparecem com mais frequência na classe 1\n",
    "from nltk import word_tokenize\n",
    "from nltk import FreqDist\n",
    "from matplotlib.pyplot import figure\n",
    "q = df[um]\n",
    "q = q.comment.explode().to_frame().reset_index(drop=True)\n",
    "P=' '.join([str(w) for w in q['comment']])\n",
    "P = preprocess(P)\n",
    "P = FreqDist(word_tokenize(P))\n",
    "\n",
    "figure(figsize=(13, 6))\n",
    "x, y = zip(*P.most_common(n=10))\n",
    "plt.bar(range(len(x)), y, color='orange')\n",
    "plt.xticks(range(len(x)), x)\n",
    "plt.show()"
   ]
  },
  {
   "cell_type": "markdown",
   "id": "c820655e",
   "metadata": {},
   "source": [
    "### 3° Gráfico"
   ]
  },
  {
   "cell_type": "markdown",
   "id": "005fdcbe",
   "metadata": {},
   "source": [
    "No terceiro gráfico, temos as 10 palavras mais frequentes nos comentários classificados na classe \"0\". Comparando com as palavras obtidas no gráfico anterior podemos observar muitas similaridades, porém, é interessante perceber que a palavra \"yeah\", que foi a que mais apareceu na classe \"1\", não chegou a aparecer nem no top 10 da classe \"0\", ou seja, essa palavra é muito mais utilizada em frases sarcásticas."
   ]
  },
  {
   "cell_type": "code",
   "execution_count": 110,
   "id": "60564b8a",
   "metadata": {},
   "outputs": [
    {
     "data": {
      "image/png": "[encoded data removed]",
      "text/plain": [
       "<Figure size 936x432 with 1 Axes>"
      ]
     },
     "metadata": {
      "needs_background": "light"
     },
     "output_type": "display_data"
    }
   ],
   "source": [
    "# Gráfico das palavras que aparecem com mais frequência na classe 0\n",
    "q2 = df[zero]\n",
    "q2 = q2.comment.explode().to_frame()\n",
    "P2=' '.join([str(w) for w in q2['comment']])\n",
    "P2 = preprocess(P2)\n",
    "P2 = FreqDist(word_tokenize(P2))\n",
    "\n",
    "figure(figsize=(13, 6))\n",
    "x, y = zip(*P2.most_common(n=10))\n",
    "plt.bar(range(len(x)), y, color='green')\n",
    "plt.xticks(range(len(x)), x)\n",
    "plt.show()"
   ]
  },
  {
   "cell_type": "markdown",
   "id": "0ded7df8",
   "metadata": {},
   "source": [
    "### 4° Gráfico"
   ]
  },
  {
   "cell_type": "markdown",
   "id": "5cff9462",
   "metadata": {},
   "source": [
    "Na figura a seguir, podemos ver um gráfico da quantidade de comentários que foram coletados para esse conjunto de dados em cada data(mês/ano). É possível perceber que em todas as datas, a quantidade de comentários sarcásticos coletados sempre foi maior, e em dezembro de 2016 foi coletada a maior quantidade de amostras. Nesse caso é importante observar a data das amostras, pois o contexto da época acaba influênciando nos comentários, e isso ajuda a identificar o que pode ser sarcástico ou não."
   ]
  },
  {
   "cell_type": "code",
   "execution_count": 111,
   "id": "fd7d4b18",
   "metadata": {},
   "outputs": [
    {
     "data": {
      "image/png": "[encoded data removed]",
      "text/plain": [
       "<Figure size 936x432 with 1 Axes>"
      ]
     },
     "metadata": {
      "needs_background": "light"
     },
     "output_type": "display_data"
    }
   ],
   "source": [
    "q = df[um]\n",
    "q = q.date.explode().to_frame().reset_index(drop=True)\n",
    "P3=' '.join([str(w) for w in q['date']])\n",
    "P3 = FreqDist(word_tokenize(P3))\n",
    "c1 = P3.most_common(n=10)\n",
    "dd = pd.DataFrame(c1, columns = ['date', 'count'])\n",
    "\n",
    "q2 = df[zero]\n",
    "q2 = q2.date.explode().to_frame()\n",
    "P4=' '.join([str(w) for w in q2['date']])\n",
    "P4 = FreqDist(word_tokenize(P4))\n",
    "c2 = P4.most_common(n=10)\n",
    "dd2 = pd.DataFrame(c2, columns = ['date', 'count'])\n",
    "\n",
    "dd['label'] = 1\n",
    "dd2['label'] = 0\n",
    "\n",
    "dd3 = pd.concat([dd, dd2], axis=0)\n",
    "ax = sns.barplot(x=\"date\", y=\"count\", hue=\"label\", palette=\"Set2\", data=dd3)\n",
    "plt.gcf().set_size_inches(13, 6)"
   ]
  },
  {
   "cell_type": "markdown",
   "id": "5a5aaeff",
   "metadata": {},
   "source": [
    "### 5° Gráfico"
   ]
  },
  {
   "cell_type": "markdown",
   "id": "279b851d",
   "metadata": {},
   "source": [
    "No último gráfico, podemos observar uma comparação entre a distribuição da quantidade de caracteres dos comentários das duas classes."
   ]
  },
  {
   "cell_type": "code",
   "execution_count": 112,
   "id": "6f9d8c01",
   "metadata": {},
   "outputs": [
    {
     "data": {
      "image/png": "[encoded data removed]",
      "text/plain": [
       "<Figure size 936x432 with 1 Axes>"
      ]
     },
     "metadata": {
      "needs_background": "light"
     },
     "output_type": "display_data"
    }
   ],
   "source": [
    "df['comment'] = df['comment'].astype('str')\n",
    "lista = []\n",
    "for i in df['comment']:\n",
    "    f = preprocess(i)\n",
    "    lista.append(f)\n",
    "    \n",
    "dc = pd.DataFrame (lista, columns = ['comment'])\n",
    "label = df['label']\n",
    "df_dc = pd.concat([dc, label], axis=1)\n",
    "df_dc['tamanho']= dc['comment'].apply(len)\n",
    "sns.displot(df_dc, x=\"tamanho\", hue=\"label\", kind=\"kde\", fill=True)\n",
    "plt.gcf().set_size_inches(13, 6)"
   ]
  },
  {
   "cell_type": "markdown",
   "id": "bd3783bd",
   "metadata": {},
   "source": [
    "### Gráficos extras"
   ]
  },
  {
   "cell_type": "markdown",
   "id": "ee057072",
   "metadata": {},
   "source": [
    "Os dois gráficos a seguir mostram os 10 bigramas mais frequentes em cada classe. É possível perceber uma grande variação entre os dois gráficos, mostrando que certas junções de palavras são muito mais utilizados em frases sarcásticas, como por exemplo \"sound like\", que embora apareça tanto em palavras sarcasticas quanto não sarcasticas, é predominantemente usado em contexto sarcástico."
   ]
  },
  {
   "cell_type": "code",
   "execution_count": 113,
   "id": "9073c4aa",
   "metadata": {},
   "outputs": [
    {
     "data": {
      "image/png": "[encoded data removed]",
      "text/plain": [
       "<Figure size 1080x576 with 1 Axes>"
      ]
     },
     "metadata": {
      "needs_background": "light"
     },
     "output_type": "display_data"
    }
   ],
   "source": [
    "# Gráfico dos bigramas que aparecem com mais frequência na classe 1\n",
    "from nltk import bigrams\n",
    "q = df[um]\n",
    "q = q.comment.explode().to_frame().reset_index(drop=True)\n",
    "P=' '.join([str(w) for w in q['comment']])\n",
    "P = preprocess(P)\n",
    "P = word_tokenize(P)\n",
    "P = list(bigrams(P))\n",
    "P = FreqDist(P)\n",
    "\n",
    "figure(figsize=(15, 8))\n",
    "x, y = zip(*P.most_common(n=10))\n",
    "plt.bar(range(len(x)), y, color='orange')\n",
    "plt.xticks(range(len(x)), x)\n",
    "plt.show()"
   ]
  },
  {
   "cell_type": "code",
   "execution_count": 114,
   "id": "59673346",
   "metadata": {},
   "outputs": [
    {
     "data": {
      "image/png": "[encoded data removed]",
      "text/plain": [
       "<Figure size 1080x576 with 1 Axes>"
      ]
     },
     "metadata": {
      "needs_background": "light"
     },
     "output_type": "display_data"
    }
   ],
   "source": [
    "# Gráfico dos bigramas que aparecem com mais frequência na classe 0\n",
    "q2 = df[zero]\n",
    "q2 = q2.comment.explode().to_frame()\n",
    "P2=' '.join([str(w) for w in q2['comment']])\n",
    "P2 = preprocess(P2)\n",
    "P2 = word_tokenize(P2)\n",
    "P2 = list(bigrams(P2))\n",
    "P2 = FreqDist(P2)\n",
    "\n",
    "figure(figsize=(15, 8))\n",
    "x, y = zip(*P2.most_common(n=10))\n",
    "plt.bar(range(len(x)), y, color='green')\n",
    "plt.xticks(range(len(x)), x)\n",
    "plt.show()"
   ]
  },
  {
   "cell_type": "markdown",
   "id": "e5c7f315",
   "metadata": {},
   "source": [
    "## Modelo Baseline"
   ]
  },
  {
   "cell_type": "markdown",
   "id": "ac09c888",
   "metadata": {},
   "source": [
    "Visando a simplicidade, que é o intuito do modelo Baseline, optei por utilizar apenas o atributo \"comment\"."
   ]
  },
  {
   "cell_type": "code",
   "execution_count": 115,
   "id": "13551d0c",
   "metadata": {},
   "outputs": [],
   "source": [
    "X = df['comment']\n",
    "y = df['label']"
   ]
  },
  {
   "cell_type": "markdown",
   "id": "956973d0",
   "metadata": {},
   "source": [
    "Nesta etapa foi realizada a chamada da função \"preprocess\" para realizar o pré-processamento dos dados. Isso foi feito por meio uma estrutura de repetição que iterou entre todas as palavras do atributo escolhido."
   ]
  },
  {
   "cell_type": "code",
   "execution_count": 116,
   "id": "497749df",
   "metadata": {},
   "outputs": [],
   "source": [
    "lista = []\n",
    "for i in X:\n",
    "    f = preprocess(i)\n",
    "    lista.append(f)\n",
    "X_PP = pd.DataFrame (lista, columns = ['comment'])"
   ]
  },
  {
   "cell_type": "markdown",
   "id": "03dacf67",
   "metadata": {},
   "source": [
    "Realizei a separação do conjunto de dados em dois diferentes conjuntos, o conjunto de treino e o conjunto de teste. Por se tratar de um baseline, o uso de um conjunto de validação não foi necessário."
   ]
  },
  {
   "cell_type": "code",
   "execution_count": 117,
   "id": "e612a8de",
   "metadata": {},
   "outputs": [],
   "source": [
    "from sklearn.model_selection import train_test_split\n",
    "X_train_valid, X_test, y_train_valid, y_test = train_test_split(X_PP,y, test_size=0.2, random_state=42, stratify=y)"
   ]
  },
  {
   "cell_type": "markdown",
   "id": "caec6a45",
   "metadata": {},
   "source": [
    "Por se tratar de comentários feitos em uma rede social, é de se imaginar que no meio desse conjunto de dados existam muitas \"gírias\" e palavras próprias do vocabulário utilizado na internet, palavras estas que embora possam se repetir muitas vezes no conjunto de dados não agregam muitas informações. Visando o que foi falado, optei por utilizar o método de vetorização \"TF-IDF\" que coloca a frequência das palavras em uma mesma escala, \"penalizando\" as que se repetem muitas vezes no conjunto."
   ]
  },
  {
   "cell_type": "code",
   "execution_count": 118,
   "id": "c7b4b990",
   "metadata": {},
   "outputs": [],
   "source": [
    "from sklearn.feature_extraction.text import TfidfVectorizer\n",
    "tf = TfidfVectorizer(strip_accents='unicode', stop_words='english', ngram_range=(1,2))\n",
    "X_tf = tf.fit_transform(X_train_valid['comment'])\n",
    "X_test_tf = tf.transform(X_test['comment'])"
   ]
  },
  {
   "cell_type": "markdown",
   "id": "8fc69c1e",
   "metadata": {},
   "source": [
    "Logo a baixo pode-se observar uma amostra de 100 palavras que estão contidas no conjunto de dados após todos os procedimentos anteriores. Importante falar que o \"TfidfVectorizer\" por padrão já realiza algumas etapas de pré-processamento, porém, ele possui algumas falhas nesse aspecto, por exemplo, a remoçao de potuação não eliminou os \" _ \". Com isso em mente, antes de realizar a vetorização já realizei meu próprio pré-processamento para evitar dados desnecessários."
   ]
  },
  {
   "cell_type": "code",
   "execution_count": 119,
   "id": "aa1432fc",
   "metadata": {},
   "outputs": [
    {
     "name": "stdout",
     "output_type": "stream",
     "text": [
      "aaa\n",
      "aaa game\n",
      "aaa ideology\n",
      "aaa platformers\n",
      "aaa surprised\n",
      "aaa tpp\n",
      "aaaaa\n",
      "aaaaa battery\n",
      "aaaaaaaaand\n",
      "aaaaaaaaand shit\n",
      "aaaaaaaagaaaaaaaaaaaaaaaaaaiiiiiiiiiiiiin\n",
      "aaaaaaaagaaaaaaaaaaaaaaaaaaiiiiiiiiiiiiin mah\n",
      "aaaaaaaany\n",
      "aaaaaaaany social\n",
      "aaaaaaamnnnnnnnddddd\n",
      "aaaaaaamnnnnnnnddddd gone\n",
      "aaaaaaand\n",
      "aaaaaaand fined\n",
      "aaaaaand\n",
      "aaaaaand thats\n",
      "aaaaaannnddd\n",
      "aaaaaannnddd want\n",
      "aaaaall\n",
      "aaaaand\n",
      "aaaaand ksp\n",
      "aaaand\n",
      "aaaand looking\n",
      "aaand\n",
      "aaand retagged\n",
      "aaargh\n",
      "aaargh preconceived\n",
      "aahahahaha\n",
      "aahahahaha idea\n",
      "aajkal\n",
      "aampm\n",
      "aampm going\n",
      "aampm like\n",
      "aampm overtime\n",
      "aampm prairie\n",
      "aampm sure\n",
      "aampm year\n",
      "aan\n",
      "aan die\n",
      "aan hand\n",
      "aan het\n",
      "aan vraag\n",
      "aang\n",
      "aang katara\n",
      "aangereden\n",
      "aangereden het\n",
      "aap\n",
      "aap follow\n",
      "aap nay\n",
      "aap place\n",
      "aap wonder\n",
      "aar\n",
      "aar cuda\n",
      "aaron\n",
      "aaron curry\n",
      "aaron diaz\n",
      "aaron hernandez\n",
      "aaron lmao\n",
      "aaron rodgers\n",
      "aav\n",
      "aav mil\n",
      "ab\n",
      "ab allowed\n",
      "ab ill\n",
      "ab popular\n",
      "abaddon\n",
      "abaddon fall\n",
      "abandon\n",
      "abandon account\n",
      "abandon campaign\n",
      "abandon lane\n",
      "abandon ship\n",
      "abandoned\n",
      "abandoned father\n",
      "abandoned hunt\n",
      "abandoned long\n",
      "abandoned rise\n",
      "abandoned wife\n",
      "abathur\n",
      "abathur eggless\n",
      "abbas\n",
      "abbas moderate\n",
      "abbas say\n",
      "abbass\n",
      "abbass fatah\n",
      "abbot\n",
      "abbot leader\n",
      "abbot saved\n",
      "abbott\n",
      "abbott going\n",
      "abbott really\n",
      "abbreviation\n",
      "abc\n",
      "abc complaining\n",
      "abc fall\n",
      "abc voter\n"
     ]
    }
   ],
   "source": [
    "c=0\n",
    "for i in tf.get_feature_names():\n",
    "    print(i)\n",
    "    c+=1\n",
    "    if c == 100:\n",
    "        break"
   ]
  },
  {
   "cell_type": "markdown",
   "id": "1da8987f",
   "metadata": {},
   "source": [
    "Como modelo de classificação, optei pela Regressão logistica, é um modelo de classificação bem simples e que já havia sido visto durante a mentoria. Esse modelo foi escolhido principalmente pela sua simplicidade e por ser um modelo que, em geral, já é muito utilizado para NLP."
   ]
  },
  {
   "cell_type": "code",
   "execution_count": 120,
   "id": "6ef3ceba",
   "metadata": {
    "scrolled": false
   },
   "outputs": [
    {
     "data": {
      "text/plain": [
       "LogisticRegression()"
      ]
     },
     "execution_count": 120,
     "metadata": {},
     "output_type": "execute_result"
    }
   ],
   "source": [
    "from sklearn.linear_model import LogisticRegression\n",
    "LRB = LogisticRegression()\n",
    "LRB.fit(X_tf, y_train_valid)"
   ]
  },
  {
   "cell_type": "code",
   "execution_count": 121,
   "id": "8e090b93",
   "metadata": {},
   "outputs": [],
   "source": [
    "y_predictB = LRB.predict(X_test_tf)"
   ]
  },
  {
   "cell_type": "code",
   "execution_count": 122,
   "id": "a9cdc50a",
   "metadata": {},
   "outputs": [
    {
     "name": "stdout",
     "output_type": "stream",
     "text": [
      "O F1_Score foi de: 79.6%\n"
     ]
    }
   ],
   "source": [
    "from sklearn.metrics import f1_score\n",
    "AB = f1_score(y_test, y_predictB)\n",
    "print(f'O F1_Score foi de: {round(AB*100, 2)}%')"
   ]
  },
  {
   "cell_type": "markdown",
   "id": "d65f7c15",
   "metadata": {},
   "source": [
    "## 1° Conjunto de atributos de entrada"
   ]
  },
  {
   "cell_type": "markdown",
   "id": "1a02a0f1",
   "metadata": {},
   "source": [
    "No 1° conjunto de atributos, escolhi utilizar o atributo \"parent_comment\" junto do \"comment\", pois imaginei que o contexto do comentário poderia ajudar em sua classificação."
   ]
  },
  {
   "cell_type": "code",
   "execution_count": 123,
   "id": "47da6206",
   "metadata": {},
   "outputs": [],
   "source": [
    "X1 = df[['comment', 'parent_comment']]\n",
    "y = df['label']"
   ]
  },
  {
   "cell_type": "markdown",
   "id": "12d35a97",
   "metadata": {},
   "source": [
    "Primeiramente, concatenei as duas colunas escolhidas na coluna \"conc\" para q fosse possível utilizar as duas na vetorização."
   ]
  },
  {
   "cell_type": "code",
   "execution_count": 124,
   "id": "faec3609",
   "metadata": {},
   "outputs": [
    {
     "data": {
      "text/html": [
       "<div>\n",
       "<style scoped>\n",
       "    .dataframe tbody tr th:only-of-type {\n",
       "        vertical-align: middle;\n",
       "    }\n",
       "\n",
       "    .dataframe tbody tr th {\n",
       "        vertical-align: top;\n",
       "    }\n",
       "\n",
       "    .dataframe thead th {\n",
       "        text-align: right;\n",
       "    }\n",
       "</style>\n",
       "<table border=\"1\" class=\"dataframe\">\n",
       "  <thead>\n",
       "    <tr style=\"text-align: right;\">\n",
       "      <th></th>\n",
       "      <th>comment</th>\n",
       "      <th>parent_comment</th>\n",
       "      <th>conc</th>\n",
       "    </tr>\n",
       "  </thead>\n",
       "  <tbody>\n",
       "    <tr>\n",
       "      <th>0</th>\n",
       "      <td>Of course, just like 3.2 was the true Messiah.</td>\n",
       "      <td>Is patch 3.3 going to be our savior? Without trying to sound like a broken record and repeating the many point of views of the growing apocalyptic threads on this forum. I was hoping to get the opinions of everyone if they believe patch 3.3 is going to bring back some of the players who have quit in the last patch or two, or does this feel like another cookie cutter patch that wont stop exit of quality population specifically on the North American servers. I ask this in concern that I have made a assertive effort as of late to refill our FC, and one of the strong points of the patch info so far is that they are installing a cross realm raid tool, which seems like it would diminish the need to recruit for a FC. I personally enjoy the aspect of a 10-15 member FC which can grow close and share things in common to the game and outside the game. But with the game seemingly losing subs it has become harder to find people to come together like I had just described and I don't want to put false hope in those who I have recruited so far. Give me some hope!</td>\n",
       "      <td>Of course, just like 3.2 was the true Messiah. Is patch 3.3 going to be our savior? Without trying to sound like a broken record and repeating the many point of views of the growing apocalyptic threads on this forum. I was hoping to get the opinions of everyone if they believe patch 3.3 is going to bring back some of the players who have quit in the last patch or two, or does this feel like another cookie cutter patch that wont stop exit of quality population specifically on the North American servers. I ask this in concern that I have made a assertive effort as of late to refill our FC, and one of the strong points of the patch info so far is that they are installing a cross realm raid tool, which seems like it would diminish the need to recruit for a FC. I personally enjoy the aspect of a 10-15 member FC which can grow close and share things in common to the game and outside the game. But with the game seemingly losing subs it has become harder to find people to come together like I had just described and I don't want to put false hope in those who I have recruited so far. Give me some hope!</td>\n",
       "    </tr>\n",
       "    <tr>\n",
       "      <th>1</th>\n",
       "      <td>Yeah because Iran was 100% muslim prior to 1979, and still is now.</td>\n",
       "      <td>I suggest you research Iran pre-1979 as well as al-Qatb and the rise of Wahhabism. You are fully entitled to have an opinion and express it (and you do bring up a good point re: rural cobservatism) but you are misinformed.</td>\n",
       "      <td>Yeah because Iran was 100% muslim prior to 1979, and still is now. I suggest you research Iran pre-1979 as well as al-Qatb and the rise of Wahhabism. You are fully entitled to have an opinion and express it (and you do bring up a good point re: rural cobservatism) but you are misinformed.</td>\n",
       "    </tr>\n",
       "    <tr>\n",
       "      <th>2</th>\n",
       "      <td>WELL YOU'RE JUST A BITCH...YOU HAVE TO GO AND POST AND TAKE YOUR DOWNVOTES</td>\n",
       "      <td>Warriors / Clips game threads literally add zero value to the game experience. Why would I want to see the words flop, flopped and flopper repeated constantly? Thunder / Clips game threads were pretty good during the season. We'll see how the playoff ones are.</td>\n",
       "      <td>WELL YOU'RE JUST A BITCH...YOU HAVE TO GO AND POST AND TAKE YOUR DOWNVOTES Warriors / Clips game threads literally add zero value to the game experience. Why would I want to see the words flop, flopped and flopper repeated constantly? Thunder / Clips game threads were pretty good during the season. We'll see how the playoff ones are.</td>\n",
       "    </tr>\n",
       "    <tr>\n",
       "      <th>3</th>\n",
       "      <td>Yeah, it's dumb to run background checks on potential teachers.</td>\n",
       "      <td>Oh i forgot.., you get to be finger printed when you are hired! Awesome!</td>\n",
       "      <td>Yeah, it's dumb to run background checks on potential teachers. Oh i forgot.., you get to be finger printed when you are hired! Awesome!</td>\n",
       "    </tr>\n",
       "    <tr>\n",
       "      <th>4</th>\n",
       "      <td>Oh, it's not that bad once you get a handle on the crippling depression and constant tooth grinding.</td>\n",
       "      <td>Haha oh. Definitely not an option than.</td>\n",
       "      <td>Oh, it's not that bad once you get a handle on the crippling depression and constant tooth grinding. Haha oh. Definitely not an option than.</td>\n",
       "    </tr>\n",
       "    <tr>\n",
       "      <th>...</th>\n",
       "      <td>...</td>\n",
       "      <td>...</td>\n",
       "      <td>...</td>\n",
       "    </tr>\n",
       "    <tr>\n",
       "      <th>59995</th>\n",
       "      <td>room you mean like, dimension?</td>\n",
       "      <td>So as another guy pointed out. Huckmon might be projecting Ken as a way to steal Meicoomon, remember he was lurking all the time. Also he was in the 'room' after Ken disappeared</td>\n",
       "      <td>room you mean like, dimension? So as another guy pointed out. Huckmon might be projecting Ken as a way to steal Meicoomon, remember he was lurking all the time. Also he was in the 'room' after Ken disappeared</td>\n",
       "    </tr>\n",
       "    <tr>\n",
       "      <th>59996</th>\n",
       "      <td>I wasn't too fond of grabner in 14 so I put Bergeron up the middle to win draws and set up plays and what not.</td>\n",
       "      <td>Hall - Duchene - Grabner?</td>\n",
       "      <td>I wasn't too fond of grabner in 14 so I put Bergeron up the middle to win draws and set up plays and what not. Hall - Duchene - Grabner?</td>\n",
       "    </tr>\n",
       "    <tr>\n",
       "      <th>59997</th>\n",
       "      <td>he wasn't even at worlds in season 4!</td>\n",
       "      <td>Yeah he was.</td>\n",
       "      <td>he wasn't even at worlds in season 4! Yeah he was.</td>\n",
       "    </tr>\n",
       "    <tr>\n",
       "      <th>59998</th>\n",
       "      <td>Right, but the Trump sign...</td>\n",
       "      <td>I wouldn't say you have to be liberal to appreciate sustainability. You just have to not be an ignorant twat.</td>\n",
       "      <td>Right, but the Trump sign... I wouldn't say you have to be liberal to appreciate sustainability. You just have to not be an ignorant twat.</td>\n",
       "    </tr>\n",
       "    <tr>\n",
       "      <th>59999</th>\n",
       "      <td>Would be awesome, but it's one of those things that has to be done flawlessly and can't be half-assed.</td>\n",
       "      <td>Unfortunately I think so too :'(</td>\n",
       "      <td>Would be awesome, but it's one of those things that has to be done flawlessly and can't be half-assed. Unfortunately I think so too :'(</td>\n",
       "    </tr>\n",
       "  </tbody>\n",
       "</table>\n",
       "<p>60000 rows × 3 columns</p>\n",
       "</div>"
      ],
      "text/plain": [
       "                                                                                                              comment  \\\n",
       "0                                                                      Of course, just like 3.2 was the true Messiah.   \n",
       "1                                                  Yeah because Iran was 100% muslim prior to 1979, and still is now.   \n",
       "2                                          WELL YOU'RE JUST A BITCH...YOU HAVE TO GO AND POST AND TAKE YOUR DOWNVOTES   \n",
       "3                                                     Yeah, it's dumb to run background checks on potential teachers.   \n",
       "4                Oh, it's not that bad once you get a handle on the crippling depression and constant tooth grinding.   \n",
       "...                                                                                                               ...   \n",
       "59995                                                                                  room you mean like, dimension?   \n",
       "59996  I wasn't too fond of grabner in 14 so I put Bergeron up the middle to win draws and set up plays and what not.   \n",
       "59997                                                                           he wasn't even at worlds in season 4!   \n",
       "59998                                                                                    Right, but the Trump sign...   \n",
       "59999          Would be awesome, but it's one of those things that has to be done flawlessly and can't be half-assed.   \n",
       "\n",
       "                                                                                                                                                                                                                                                                                                                                                                                                                                                                                                                                                                                                                                                                                                                                                                                                                                                                                                                                                                                                                                                                                                parent_comment  \\\n",
       "0      Is patch 3.3 going to be our savior? Without trying to sound like a broken record and repeating the many point of views of the growing apocalyptic threads on this forum. I was hoping to get the opinions of everyone if they believe patch 3.3 is going to bring back some of the players who have quit in the last patch or two, or does this feel like another cookie cutter patch that wont stop exit of quality population specifically on the North American servers. I ask this in concern that I have made a assertive effort as of late to refill our FC, and one of the strong points of the patch info so far is that they are installing a cross realm raid tool, which seems like it would diminish the need to recruit for a FC. I personally enjoy the aspect of a 10-15 member FC which can grow close and share things in common to the game and outside the game. But with the game seemingly losing subs it has become harder to find people to come together like I had just described and I don't want to put false hope in those who I have recruited so far. Give me some hope!   \n",
       "1                                                                                                                                                                                                                                                                                                                                                                                                                                                                                                                                                                                                                                                                                                                                                                                                                                                                               I suggest you research Iran pre-1979 as well as al-Qatb and the rise of Wahhabism. You are fully entitled to have an opinion and express it (and you do bring up a good point re: rural cobservatism) but you are misinformed.   \n",
       "2                                                                                                                                                                                                                                                                                                                                                                                                                                                                                                                                                                                                                                                                                                                                                                                                                                         Warriors / Clips game threads literally add zero value to the game experience. Why would I want to see the words flop, flopped and flopper repeated constantly? Thunder / Clips game threads were pretty good during the season. We'll see how the playoff ones are.   \n",
       "3                                                                                                                                                                                                                                                                                                                                                                                                                                                                                                                                                                                                                                                                                                                                                                                                                                                                                                                                                                                                                                     Oh i forgot.., you get to be finger printed when you are hired! Awesome!   \n",
       "4                                                                                                                                                                                                                                                                                                                                                                                                                                                                                                                                                                                                                                                                                                                                                                                                                                                                                                                                                                                                                                                                      Haha oh. Definitely not an option than.   \n",
       "...                                                                                                                                                                                                                                                                                                                                                                                                                                                                                                                                                                                                                                                                                                                                                                                                                                                                                                                                                                                                                                                                                                        ...   \n",
       "59995                                                                                                                                                                                                                                                                                                                                                                                                                                                                                                                                                                                                                                                                                                                                                                                                                                                                                                                        So as another guy pointed out. Huckmon might be projecting Ken as a way to steal Meicoomon, remember he was lurking all the time. Also he was in the 'room' after Ken disappeared   \n",
       "59996                                                                                                                                                                                                                                                                                                                                                                                                                                                                                                                                                                                                                                                                                                                                                                                                                                                                                                                                                                                                                                                                                Hall - Duchene - Grabner?   \n",
       "59997                                                                                                                                                                                                                                                                                                                                                                                                                                                                                                                                                                                                                                                                                                                                                                                                                                                                                                                                                                                                                                                                                             Yeah he was.   \n",
       "59998                                                                                                                                                                                                                                                                                                                                                                                                                                                                                                                                                                                                                                                                                                                                                                                                                                                                                                                                                                                            I wouldn't say you have to be liberal to appreciate sustainability. You just have to not be an ignorant twat.   \n",
       "59999                                                                                                                                                                                                                                                                                                                                                                                                                                                                                                                                                                                                                                                                                                                                                                                                                                                                                                                                                                                                                                                                         Unfortunately I think so too :'(   \n",
       "\n",
       "                                                                                                                                                                                                                                                                                                                                                                                                                                                                                                                                                                                                                                                                                                                                                                                                                                                                                                                                                                                                                                                                                                                                                         conc  \n",
       "0      Of course, just like 3.2 was the true Messiah. Is patch 3.3 going to be our savior? Without trying to sound like a broken record and repeating the many point of views of the growing apocalyptic threads on this forum. I was hoping to get the opinions of everyone if they believe patch 3.3 is going to bring back some of the players who have quit in the last patch or two, or does this feel like another cookie cutter patch that wont stop exit of quality population specifically on the North American servers. I ask this in concern that I have made a assertive effort as of late to refill our FC, and one of the strong points of the patch info so far is that they are installing a cross realm raid tool, which seems like it would diminish the need to recruit for a FC. I personally enjoy the aspect of a 10-15 member FC which can grow close and share things in common to the game and outside the game. But with the game seemingly losing subs it has become harder to find people to come together like I had just described and I don't want to put false hope in those who I have recruited so far. Give me some hope!  \n",
       "1                                                                                                                                                                                                                                                                                                                                                                                                                                                                                                                                                                                                                                                                                                                                                                                                                                                           Yeah because Iran was 100% muslim prior to 1979, and still is now. I suggest you research Iran pre-1979 as well as al-Qatb and the rise of Wahhabism. You are fully entitled to have an opinion and express it (and you do bring up a good point re: rural cobservatism) but you are misinformed.  \n",
       "2                                                                                                                                                                                                                                                                                                                                                                                                                                                                                                                                                                                                                                                                                                                                                                                                             WELL YOU'RE JUST A BITCH...YOU HAVE TO GO AND POST AND TAKE YOUR DOWNVOTES Warriors / Clips game threads literally add zero value to the game experience. Why would I want to see the words flop, flopped and flopper repeated constantly? Thunder / Clips game threads were pretty good during the season. We'll see how the playoff ones are.  \n",
       "3                                                                                                                                                                                                                                                                                                                                                                                                                                                                                                                                                                                                                                                                                                                                                                                                                                                                                                                                                                                                                    Yeah, it's dumb to run background checks on potential teachers. Oh i forgot.., you get to be finger printed when you are hired! Awesome!  \n",
       "4                                                                                                                                                                                                                                                                                                                                                                                                                                                                                                                                                                                                                                                                                                                                                                                                                                                                                                                                                                                                                Oh, it's not that bad once you get a handle on the crippling depression and constant tooth grinding. Haha oh. Definitely not an option than.  \n",
       "...                                                                                                                                                                                                                                                                                                                                                                                                                                                                                                                                                                                                                                                                                                                                                                                                                                                                                                                                                                                                                                                                                                                                                       ...  \n",
       "59995                                                                                                                                                                                                                                                                                                                                                                                                                                                                                                                                                                                                                                                                                                                                                                                                                                                                                                                                        room you mean like, dimension? So as another guy pointed out. Huckmon might be projecting Ken as a way to steal Meicoomon, remember he was lurking all the time. Also he was in the 'room' after Ken disappeared  \n",
       "59996                                                                                                                                                                                                                                                                                                                                                                                                                                                                                                                                                                                                                                                                                                                                                                                                                                                                                                                                                                                                                I wasn't too fond of grabner in 14 so I put Bergeron up the middle to win draws and set up plays and what not. Hall - Duchene - Grabner?  \n",
       "59997                                                                                                                                                                                                                                                                                                                                                                                                                                                                                                                                                                                                                                                                                                                                                                                                                                                                                                                                                                                                                                                                                                      he wasn't even at worlds in season 4! Yeah he was.  \n",
       "59998                                                                                                                                                                                                                                                                                                                                                                                                                                                                                                                                                                                                                                                                                                                                                                                                                                                                                                                                                                                                              Right, but the Trump sign... I wouldn't say you have to be liberal to appreciate sustainability. You just have to not be an ignorant twat.  \n",
       "59999                                                                                                                                                                                                                                                                                                                                                                                                                                                                                                                                                                                                                                                                                                                                                                                                                                                                                                                                                                                                                 Would be awesome, but it's one of those things that has to be done flawlessly and can't be half-assed. Unfortunately I think so too :'(  \n",
       "\n",
       "[60000 rows x 3 columns]"
      ]
     },
     "execution_count": 124,
     "metadata": {},
     "output_type": "execute_result"
    }
   ],
   "source": [
    "X1['conc'] = X1[['comment', 'parent_comment']].agg(' '.join, axis=1)\n",
    "X1"
   ]
  },
  {
   "cell_type": "markdown",
   "id": "72118968",
   "metadata": {},
   "source": [
    "Realizei os mesmos processos de pré-processamento, separação em conjunto de treino e teste, balanceamento das classes e vetorização já comentados durante o baseline."
   ]
  },
  {
   "cell_type": "code",
   "execution_count": 125,
   "id": "46d0f4e5",
   "metadata": {},
   "outputs": [],
   "source": [
    "lista = []\n",
    "for i in X1['conc']:\n",
    "    f = preprocess(i)\n",
    "    lista.append(f)\n",
    "X1_PP = pd.DataFrame (lista, columns = ['conc'])"
   ]
  },
  {
   "cell_type": "markdown",
   "id": "47606798",
   "metadata": {},
   "source": [
    "Em todos os modelos foram utilizados GridSearch ou RandomSearch, que já realizam a separação em conjunto de treino e validação, sendo assim, nessa etapa novamente fiz apenas a separação entre treino e teste."
   ]
  },
  {
   "cell_type": "code",
   "execution_count": 126,
   "id": "f15edf9d",
   "metadata": {},
   "outputs": [],
   "source": [
    "X_train_valid, X_test, y_train_valid, y_test = train_test_split(X1_PP,y, test_size=0.2, random_state=42, stratify=y)"
   ]
  },
  {
   "cell_type": "markdown",
   "id": "3169f822",
   "metadata": {},
   "source": [
    "Utilizei o método \"Random Over-Sampling\" para realizar o balanceamento das classes, esse método duplica aleatoriamente amostras na classe que possui menos elementos, até que ambas as classes tenham o mesmo tamanho. Optei por utilizar o Over-Sampling pois a tecnica de Under-Sampling pode acabar fazendo com que o conjunto perca algumas informações importantes, e ao fazer testes com este método pude perceber que ele reduziu bastante a acurácia do modelo em questão."
   ]
  },
  {
   "cell_type": "code",
   "execution_count": 127,
   "id": "270ab9cf",
   "metadata": {},
   "outputs": [],
   "source": [
    "from imblearn.over_sampling import RandomOverSampler\n",
    "ros = RandomOverSampler(random_state=42)\n",
    "X_r, y_r = ros.fit_resample(X_train_valid, y_train_valid)"
   ]
  },
  {
   "cell_type": "markdown",
   "id": "8543299a",
   "metadata": {},
   "source": [
    "Durante a vetorização, defini para esse conjunto de atributos que gostaria de trabalhar com unigramas e bigramas, para isso alterei o parâmetro \"ngram_range\" para (1,2). Também defini o parâmetro \"min_df\" como 2, para ignorar palavras que aparecem em menos de dois documentos."
   ]
  },
  {
   "cell_type": "code",
   "execution_count": 128,
   "id": "34d2f4dc",
   "metadata": {},
   "outputs": [],
   "source": [
    "tf = TfidfVectorizer(strip_accents='unicode', stop_words='english', ngram_range=(1,2), min_df=2)\n",
    "X_tf = tf.fit_transform(X_r['conc'])\n",
    "X_test_tf = tf.transform(X_test['conc'])"
   ]
  },
  {
   "cell_type": "markdown",
   "id": "1cfa8001",
   "metadata": {},
   "source": [
    "### 1° Modelo: Regressão logística"
   ]
  },
  {
   "cell_type": "markdown",
   "id": "09ae7927",
   "metadata": {},
   "source": [
    "A regressão logística é um modelo probabilístico e foi escolhido pois costuma gerar bons resultados em problemas de classificação binária.\n",
    "\n",
    "Foi utilizada a técnica GridSearch para otimizar os hiperparâmetros. Os hiperparâmetros otimizados foram:\n",
    "1. C: Inverso da força de regularização, quanto menor o seu valor, maior a força de regularização.\n",
    "2. Penalty: Tecnica de regularização que será utilizada.\n",
    "3. Solver: Algoritmo que será utilizado para o problema da otimização."
   ]
  },
  {
   "cell_type": "code",
   "execution_count": 129,
   "id": "fc1cff41",
   "metadata": {},
   "outputs": [],
   "source": [
    "from sklearn.model_selection import GridSearchCV\n",
    "\n",
    "parametersRL = {'C':[1.0, 0.5, 1.5, 2.0],\n",
    "              'penalty': ['l2', 'none'],\n",
    "              'solver':['lbfgs', 'saga', 'newton-cg']}"
   ]
  },
  {
   "cell_type": "code",
   "execution_count": 130,
   "id": "8c9718f9",
   "metadata": {},
   "outputs": [
    {
     "data": {
      "text/plain": [
       "LogisticRegression(penalty='none')"
      ]
     },
     "execution_count": 130,
     "metadata": {},
     "output_type": "execute_result"
    }
   ],
   "source": [
    "LRB = LogisticRegression()\n",
    "GLRB = GridSearchCV(LRB, param_grid=parametersRL, refit='f1', return_train_score=False, scoring= 'f1')\n",
    "GLRB.fit(X_tf, y_r)\n",
    "GLRB.best_estimator_"
   ]
  },
  {
   "cell_type": "code",
   "execution_count": 131,
   "id": "a21a0f9c",
   "metadata": {},
   "outputs": [
    {
     "name": "stdout",
     "output_type": "stream",
     "text": [
      "O F1_Score foi de: 75.33%\n"
     ]
    }
   ],
   "source": [
    "y_predict11 = GLRB.predict(X_test_tf)\n",
    "A11 = f1_score(y_test, y_predict11)\n",
    "print(f'O F1_Score foi de: {round(A11*100, 2)}%')"
   ]
  },
  {
   "cell_type": "markdown",
   "id": "8af688b3",
   "metadata": {},
   "source": [
    "### 2° Modelo: Naive bayes"
   ]
  },
  {
   "cell_type": "markdown",
   "id": "26f1e1b6",
   "metadata": {},
   "source": [
    "O segundo modelo escolhido foi o Naive Bayes, ele também é um classificador probabilístico e foi baseado no \"Teorema de Bayes\".\n",
    "Esse algoritmo é muito popular em NLP graças a sua simplicidade e rapizes, além disso,  ele costuma apresentar um desempenho melhor do que muitos outros classificadores. \n",
    "\n",
    "Esse modelo também foi otimizado utilizando GridSearch, os hiperparâmetros otimizados foram:\n",
    "1. Alpha: É o \"Smoothing parameter\" utilizado na equação \"Laplace Smoothing\" para resolver o problema da probabilidade zero no algoritmo Naive Bayes\n",
    "2. Fit_prior: Define se o algoritmo deve aprender a \"Prior probability\"(probabilidade de um evento ocorrer antes de novos dados serem coletados) dos dados."
   ]
  },
  {
   "cell_type": "code",
   "execution_count": 132,
   "id": "a937145f",
   "metadata": {},
   "outputs": [],
   "source": [
    "parametersNB = {'alpha':[1.0, 0.5, 1.5],\n",
    "              'fit_prior': [True, False]}"
   ]
  },
  {
   "cell_type": "code",
   "execution_count": 133,
   "id": "e9cc8ea9",
   "metadata": {},
   "outputs": [
    {
     "data": {
      "text/plain": [
       "MultinomialNB(alpha=0.5)"
      ]
     },
     "execution_count": 133,
     "metadata": {},
     "output_type": "execute_result"
    }
   ],
   "source": [
    "from sklearn.naive_bayes import MultinomialNB\n",
    "NB = MultinomialNB()\n",
    "GNB = GridSearchCV(NB, param_grid=parametersNB, refit='f1', scoring= 'f1')\n",
    "GNB.fit(X_tf, y_r)\n",
    "GNB.best_estimator_"
   ]
  },
  {
   "cell_type": "code",
   "execution_count": 134,
   "id": "6ae6be6a",
   "metadata": {},
   "outputs": [
    {
     "name": "stdout",
     "output_type": "stream",
     "text": [
      "O F1_Score foi de: 79.73%\n"
     ]
    }
   ],
   "source": [
    "y_predict12 = GNB.predict(X_test_tf)\n",
    "A12 = f1_score(y_test, y_predict12)\n",
    "print(f'O F1_Score foi de: {round(A12*100, 2)}%')"
   ]
  },
  {
   "cell_type": "markdown",
   "id": "04558f25",
   "metadata": {},
   "source": [
    "### 3° Modelo: SVM"
   ]
  },
  {
   "cell_type": "markdown",
   "id": "47b24ca9",
   "metadata": {},
   "source": [
    "O terceiro modelo escolhido foi o SVM, ele é um algoritmo de classificação supervisionado e que classifica os dados por meio de hiperplanos.\n",
    "\n",
    "Neste modelo, a maioria dos hiperparâmetros que seriam otimizados se tratavam de números, sendo assim, imaginei que a otimização por meio do método RandomSearch seria mais efetiva para esse problema. Os hiperparâmetros otimizados foram:\n",
    "1. C: Inverso da força de regularização, quanto menor o seu valor, maior a força de regularização.\n",
    "2. Kernel: Define qual kernel vai ser utilizado, nesse caso, entre o \"rbf\" e o \"poly\"\n",
    "3. degree: Escolhe o grau da função polinomial, é ignorado a não ser que o kernel \"poly\" seja escolhido."
   ]
  },
  {
   "cell_type": "code",
   "execution_count": 135,
   "id": "618b3cb6",
   "metadata": {},
   "outputs": [],
   "source": [
    "from sklearn.model_selection import RandomizedSearchCV\n",
    "from scipy.stats import randint as sp_randint\n",
    "import random\n",
    "parametersS = dict(\n",
    "    C= [random.uniform(1, 2)],\n",
    "    kernel= ['rbf', 'poly'],\n",
    "    degree= [sp_randint.rvs(2,5)],\n",
    ")"
   ]
  },
  {
   "cell_type": "code",
   "execution_count": 136,
   "id": "8cf72ee1",
   "metadata": {},
   "outputs": [
    {
     "data": {
      "text/plain": [
       "SVC(C=1.0444573445190017, degree=2, kernel='poly', max_iter=3500)"
      ]
     },
     "execution_count": 136,
     "metadata": {},
     "output_type": "execute_result"
    }
   ],
   "source": [
    "from sklearn.svm import SVC\n",
    "S = SVC(max_iter=3500)\n",
    "RS = RandomizedSearchCV(S, parametersS, random_state=42, return_train_score=False, scoring= 'f1')\n",
    "RS.fit(X_tf, y_r)\n",
    "RS.best_estimator_"
   ]
  },
  {
   "cell_type": "code",
   "execution_count": 137,
   "id": "dd8cce7f",
   "metadata": {},
   "outputs": [
    {
     "name": "stdout",
     "output_type": "stream",
     "text": [
      "O F1_Score foi de: 71.33%\n"
     ]
    }
   ],
   "source": [
    "y_predict13 = RS.predict(X_test_tf)\n",
    "A13 = f1_score(y_test, y_predict13)\n",
    "print(f'O F1_Score foi de: {round(A13*100, 2)}%')"
   ]
  },
  {
   "cell_type": "markdown",
   "id": "7fbb31fa",
   "metadata": {},
   "source": [
    "### 4° Modelo: Passive-Agressive"
   ]
  },
  {
   "cell_type": "markdown",
   "id": "38e860f5",
   "metadata": {},
   "source": [
    "O 4° modelo escolhido foi o \"Passive-Agressive\", é um classificador que não foi visto durante a mentoria, e é um dos poucos \"Online-learning algorithms\". Em algoritmos de aprendizado online, o conjunto de dados é separado em diversas amostras, que são sequencialmente atualizadas no classificador, de forma resumida pode-se dizer que o modelo pega um exemplo de treino, atualiza o classificador, e logo após descarta o exemplo. O algoritmo \"Passive-Agressive\" possui esse nome pois ele possui duas possibilidades:\n",
    "\n",
    "1. Passive: A predição da amostra está correta, então não é feita nenhuma alteração no modelo.\n",
    "2. Agressive: A predição da amostra está incorreta, são feitas alterações no modelo para corrigir o erro.\n",
    "\n",
    "Esse modelo foi escolhido pois ele é muito utilizado para situações em que existem uma grande quantidade de dados, como é o caso do dataset SARC, que está sendo trabalhado nesse notebook.\n",
    "\n",
    "A otimização desse modelo também foi realizada pelo método RandomSearch, e os dados otimizados foram:\n",
    "1. C: Inverso da força de regularização, quanto menor o seu valor, maior a força de regularização.\n",
    "2. tol: Critério de parada, define que o modelo irá parar quando chegar a um determinado resultado.\n",
    "3. max_iter: Quantidade de iterações que o modelo realizará nos dados de treino."
   ]
  },
  {
   "cell_type": "code",
   "execution_count": 138,
   "id": "2f29145b",
   "metadata": {},
   "outputs": [],
   "source": [
    "from scipy.stats import uniform\n",
    "parametersPA = dict(\n",
    "    C= [random.uniform(1, 2)],\n",
    "    tol= [10**uniform.rvs(loc = -5, scale = 4)],\n",
    "    max_iter= [sp_randint.rvs(1000, 2000,5)],\n",
    ")"
   ]
  },
  {
   "cell_type": "code",
   "execution_count": 139,
   "id": "8bf07000",
   "metadata": {},
   "outputs": [
    {
     "data": {
      "text/plain": [
       "PassiveAggressiveClassifier(C=1.0539962438844133, max_iter=1744,\n",
       "                            tol=0.0013586962526097887)"
      ]
     },
     "execution_count": 139,
     "metadata": {},
     "output_type": "execute_result"
    }
   ],
   "source": [
    "from sklearn.linear_model import PassiveAggressiveClassifier\n",
    "PA = PassiveAggressiveClassifier()\n",
    "RPA = RandomizedSearchCV(PA, parametersPA, random_state=42, return_train_score=False, scoring= 'f1')\n",
    "RPA.fit(X_tf, y_r)\n",
    "RPA.best_estimator_"
   ]
  },
  {
   "cell_type": "code",
   "execution_count": 140,
   "id": "3dc908c8",
   "metadata": {},
   "outputs": [
    {
     "name": "stdout",
     "output_type": "stream",
     "text": [
      "O F1_Score foi de: 75.22%\n"
     ]
    }
   ],
   "source": [
    "y_predict14 = RPA.predict(X_test_tf)\n",
    "A14 = f1_score(y_test, y_predict14)\n",
    "print(f'O F1_Score foi de: {round(A14*100, 2)}%')"
   ]
  },
  {
   "cell_type": "markdown",
   "id": "3bc2ec4f",
   "metadata": {},
   "source": [
    "### 5° Modelo: Naive Bayes (Sem balanceamento)"
   ]
  },
  {
   "cell_type": "markdown",
   "id": "4c120c28",
   "metadata": {},
   "source": [
    "Para fins de teste escolhi o meu melhor modelo do 1° conjunto para testar seu resultado sem a etapa do balanceamento das classes, então, logo a baixo refiz a vetorização dos dados."
   ]
  },
  {
   "cell_type": "code",
   "execution_count": 141,
   "id": "0f1fce61",
   "metadata": {},
   "outputs": [],
   "source": [
    "tf = TfidfVectorizer(strip_accents='unicode', stop_words='english', ngram_range=(1,2), min_df=2)\n",
    "X_tf2 = tf.fit_transform(X_train_valid['conc'])\n",
    "X_test_tf2 = tf.transform(X_test['conc'])"
   ]
  },
  {
   "cell_type": "code",
   "execution_count": 142,
   "id": "9c6eaaf9",
   "metadata": {},
   "outputs": [],
   "source": [
    "parametersNB = {'alpha':[1.0, 0.5, 1.5],\n",
    "              'fit_prior': [True, False]}"
   ]
  },
  {
   "cell_type": "code",
   "execution_count": 143,
   "id": "71b86b0c",
   "metadata": {},
   "outputs": [
    {
     "data": {
      "text/plain": [
       "MultinomialNB(alpha=1.5)"
      ]
     },
     "execution_count": 143,
     "metadata": {},
     "output_type": "execute_result"
    }
   ],
   "source": [
    "from sklearn.naive_bayes import MultinomialNB\n",
    "NB = MultinomialNB()\n",
    "GNBS = GridSearchCV(NB, param_grid=parametersNB, refit='f1', scoring= 'f1')\n",
    "GNBS.fit(X_tf2, y_train_valid)\n",
    "GNBS.best_estimator_"
   ]
  },
  {
   "cell_type": "markdown",
   "id": "010ec2f6",
   "metadata": {},
   "source": [
    "Nesse modelo é possível perceber que ao realizar o balanceamento das classes houve uma grande perda no resultado do F1 Score."
   ]
  },
  {
   "cell_type": "code",
   "execution_count": 144,
   "id": "1adba342",
   "metadata": {},
   "outputs": [
    {
     "name": "stdout",
     "output_type": "stream",
     "text": [
      "O F1_Score foi de: 80.04%\n"
     ]
    }
   ],
   "source": [
    "y_predict15 = GNBS.predict(X_test_tf2)\n",
    "A15 = f1_score(y_test, y_predict15)\n",
    "print(f'O F1_Score foi de: {round(A15*100, 2)}%')"
   ]
  },
  {
   "cell_type": "markdown",
   "id": "a010ec76",
   "metadata": {},
   "source": [
    "## 2° Conjunto de atributos de entrada"
   ]
  },
  {
   "cell_type": "markdown",
   "id": "58954c85",
   "metadata": {},
   "source": [
    "Para o 2° conjunto, decidi utilizar os mesmos atributos do 1° conjunto, porém, dessa vez utilizando o método de vetorização \"Bag of Words\". A escolha de manter os mesmos atributos se deu pois possibilitaria uma melhor comparação entre os dois métodos."
   ]
  },
  {
   "cell_type": "code",
   "execution_count": 145,
   "id": "bacb2fd3",
   "metadata": {},
   "outputs": [],
   "source": [
    "from sklearn.feature_extraction.text import CountVectorizer\n",
    "bw = CountVectorizer(strip_accents='unicode', stop_words='english', ngram_range=(1,2), min_df=2)\n",
    "X_bw = bw.fit_transform(X_r['conc'])\n",
    "X_test_bw = bw.transform(X_test['conc'])"
   ]
  },
  {
   "cell_type": "markdown",
   "id": "4bc407d9",
   "metadata": {},
   "source": [
    "Nos modelos a seguir também optei por manter os mesmos hiperparâmetros que foram utilizados na otimização dos modelos do 1° conjunto, com o intuito de possibilitar uma comparação mais justa entre ambos."
   ]
  },
  {
   "cell_type": "markdown",
   "id": "d886f920",
   "metadata": {},
   "source": [
    "### 1° Modelo: Regressão logística"
   ]
  },
  {
   "cell_type": "code",
   "execution_count": 146,
   "id": "59edbbf9",
   "metadata": {},
   "outputs": [],
   "source": [
    "parametersRL = {'C':[1.0, 0.5, 1.5, 2.0],\n",
    "              'penalty': ['l2', 'none'],\n",
    "              'solver':['lbfgs', 'saga', 'newton-cg']}"
   ]
  },
  {
   "cell_type": "code",
   "execution_count": 147,
   "id": "cb18edea",
   "metadata": {},
   "outputs": [
    {
     "data": {
      "text/plain": [
       "LogisticRegression(C=2.0)"
      ]
     },
     "execution_count": 147,
     "metadata": {},
     "output_type": "execute_result"
    }
   ],
   "source": [
    "LRB = LogisticRegression()\n",
    "GLRB2 = GridSearchCV(LRB, param_grid=parametersRL, refit='f1', return_train_score=False, scoring= 'f1')\n",
    "GLRB2.fit(X_bw, y_r)\n",
    "GLRB2.best_estimator_"
   ]
  },
  {
   "cell_type": "markdown",
   "id": "984adde6",
   "metadata": {},
   "source": [
    "O primeiro modelo apresentou um bom resultado, pode-se concluir que o modelo de regressão logística se saiu melhor classificando dados vetorizados pelo \"Bag of Words\", pois apresentou um F1 Score consideravelmente maior."
   ]
  },
  {
   "cell_type": "code",
   "execution_count": 148,
   "id": "0053951c",
   "metadata": {},
   "outputs": [
    {
     "name": "stdout",
     "output_type": "stream",
     "text": [
      "O F1_Score foi de: 76.52%\n"
     ]
    }
   ],
   "source": [
    "y_predict21 = GLRB2.predict(X_test_bw)\n",
    "A21 = f1_score(y_test, y_predict21)\n",
    "print(f'O F1_Score foi de: {round(A21*100, 2)}%')"
   ]
  },
  {
   "cell_type": "markdown",
   "id": "d8c022dd",
   "metadata": {},
   "source": [
    "### 2° Modelo: Naive bayes"
   ]
  },
  {
   "cell_type": "code",
   "execution_count": 149,
   "id": "41d115eb",
   "metadata": {},
   "outputs": [],
   "source": [
    "parametersNB = {'alpha':[1.0, 0.5, 1.5],\n",
    "              'fit_prior': [True, False]}"
   ]
  },
  {
   "cell_type": "code",
   "execution_count": 150,
   "id": "235ef1e3",
   "metadata": {},
   "outputs": [
    {
     "data": {
      "text/plain": [
       "MultinomialNB(alpha=0.5)"
      ]
     },
     "execution_count": 150,
     "metadata": {},
     "output_type": "execute_result"
    }
   ],
   "source": [
    "from sklearn.naive_bayes import MultinomialNB\n",
    "NB = MultinomialNB()\n",
    "GNB2 = GridSearchCV(NB, param_grid=parametersNB, refit='f1', scoring= 'f1')\n",
    "GNB2.fit(X_bw, y_r)\n",
    "GNB2.best_estimator_"
   ]
  },
  {
   "cell_type": "markdown",
   "id": "124b75d7",
   "metadata": {},
   "source": [
    "O modelo utilizando Naive bayes, por outro lado, apresentou uma pequena queda em seu F1 Score indicando que este modelo se saiu melhor nos dados vetorizado com o método TF-IDF"
   ]
  },
  {
   "cell_type": "code",
   "execution_count": 151,
   "id": "3a5f479f",
   "metadata": {},
   "outputs": [
    {
     "name": "stdout",
     "output_type": "stream",
     "text": [
      "O F1_Score foi de: 79.4%\n"
     ]
    }
   ],
   "source": [
    "y_predict22 = GNB2.predict(X_test_bw)\n",
    "A22 = f1_score(y_test, y_predict22)\n",
    "print(f'O F1_Score foi de: {round(A22*100, 2)}%')"
   ]
  },
  {
   "cell_type": "markdown",
   "id": "0230017a",
   "metadata": {},
   "source": [
    "### 3° Modelo: SVM"
   ]
  },
  {
   "cell_type": "code",
   "execution_count": 152,
   "id": "733c19ff",
   "metadata": {},
   "outputs": [],
   "source": [
    "parametersS = dict(\n",
    "    C= [random.uniform(1, 2)],\n",
    "    kernel= ['rbf', 'poly'],\n",
    "    degree= [sp_randint.rvs(2,5)],\n",
    ")"
   ]
  },
  {
   "cell_type": "code",
   "execution_count": 153,
   "id": "827587eb",
   "metadata": {},
   "outputs": [
    {
     "data": {
      "text/plain": [
       "SVC(C=1.880181991732179, degree=4, max_iter=3500)"
      ]
     },
     "execution_count": 153,
     "metadata": {},
     "output_type": "execute_result"
    }
   ],
   "source": [
    "S = SVC(max_iter=3500)\n",
    "RS2 = RandomizedSearchCV(S, parametersS, random_state=42, return_train_score=False, scoring= 'f1')\n",
    "RS2.fit(X_bw, y_r)\n",
    "RS2.best_estimator_"
   ]
  },
  {
   "cell_type": "markdown",
   "id": "77e4c8c1",
   "metadata": {},
   "source": [
    "O modelo utilizando SVM foi o mais impactado pela mudança no método de vetorização, no 1° conjunto ele foi um dos piores modelos em termos de F1 Score, porém, no segundo conjunto este modelo foi o que apresentou o maior F1 Score."
   ]
  },
  {
   "cell_type": "code",
   "execution_count": 154,
   "id": "3a3a11e4",
   "metadata": {},
   "outputs": [
    {
     "name": "stdout",
     "output_type": "stream",
     "text": [
      "O F1_Score foi de: 79.59%\n"
     ]
    }
   ],
   "source": [
    "y_predict23 = RS2.predict(X_test_bw)\n",
    "A23 = f1_score(y_test, y_predict23)\n",
    "print(f'O F1_Score foi de: {round(A23*100, 2)}%')"
   ]
  },
  {
   "cell_type": "markdown",
   "id": "9dfea929",
   "metadata": {},
   "source": [
    "### 4° Modelo: Passive-Agressive"
   ]
  },
  {
   "cell_type": "code",
   "execution_count": 155,
   "id": "3c0d923e",
   "metadata": {},
   "outputs": [],
   "source": [
    "parametersPA = dict(\n",
    "    C= [random.uniform(1, 2)],\n",
    "    tol= [10**uniform.rvs(loc = -5, scale = 4)],\n",
    "    max_iter= [sp_randint.rvs(1000, 2000,5)],\n",
    ")"
   ]
  },
  {
   "cell_type": "code",
   "execution_count": 156,
   "id": "9f5d75c4",
   "metadata": {},
   "outputs": [
    {
     "data": {
      "text/plain": [
       "PassiveAggressiveClassifier(C=1.8676108062263965, max_iter=1130,\n",
       "                            tol=4.612123909000647e-05)"
      ]
     },
     "execution_count": 156,
     "metadata": {},
     "output_type": "execute_result"
    }
   ],
   "source": [
    "PA = PassiveAggressiveClassifier()\n",
    "RPA2 = RandomizedSearchCV(PA, parametersPA, random_state=42, return_train_score=False, scoring= 'f1')\n",
    "RPA2.fit(X_bw, y_r)\n",
    "RPA2.best_estimator_"
   ]
  },
  {
   "cell_type": "markdown",
   "id": "cfc7a441",
   "metadata": {},
   "source": [
    "O modelo utilizando o método Passive-Agressive não foi muito impactado pela troca do método de vetorização, não apresentando mudança relevante em seu F1 Score"
   ]
  },
  {
   "cell_type": "code",
   "execution_count": 157,
   "id": "1fa711c5",
   "metadata": {},
   "outputs": [
    {
     "name": "stdout",
     "output_type": "stream",
     "text": [
      "O F1_Score foi de: 73.96%\n"
     ]
    }
   ],
   "source": [
    "y_predict24 = RPA2.predict(X_test_bw)\n",
    "A24 = f1_score(y_test, y_predict24)\n",
    "print(f'O F1_Score foi de: {round(A24*100, 2)}%')"
   ]
  },
  {
   "cell_type": "markdown",
   "id": "d1944860",
   "metadata": {},
   "source": [
    "### 5° Modelo: SVM (Sem balanceamento)"
   ]
  },
  {
   "cell_type": "markdown",
   "id": "87c186aa",
   "metadata": {},
   "source": [
    "No 2° conjunto o melhor modelo foi o SVM, então, fiz o mesmo teste realizado no 1° conjunto para ver como este modelo era afetado pelo balanceamento das classes."
   ]
  },
  {
   "cell_type": "code",
   "execution_count": 158,
   "id": "49eb94a1",
   "metadata": {},
   "outputs": [],
   "source": [
    "from sklearn.feature_extraction.text import CountVectorizer\n",
    "bw = CountVectorizer(strip_accents='unicode', stop_words='english', ngram_range=(1,2), min_df=2)\n",
    "X_bw2 = bw.fit_transform(X_train_valid['conc'])\n",
    "X_test_bw2 = bw.transform(X_test['conc'])"
   ]
  },
  {
   "cell_type": "code",
   "execution_count": 159,
   "id": "0647da9e",
   "metadata": {},
   "outputs": [],
   "source": [
    "parametersS = dict(\n",
    "    C= [random.uniform(1, 2)],\n",
    "    kernel= ['rbf', 'poly'],\n",
    "    degree= [sp_randint.rvs(2,5)],\n",
    ")"
   ]
  },
  {
   "cell_type": "code",
   "execution_count": 160,
   "id": "df6b0788",
   "metadata": {},
   "outputs": [
    {
     "data": {
      "text/plain": [
       "SVC(C=1.5678855260387885, kernel='poly', max_iter=3500)"
      ]
     },
     "execution_count": 160,
     "metadata": {},
     "output_type": "execute_result"
    }
   ],
   "source": [
    "S = SVC(max_iter=3500)\n",
    "RSS2 = RandomizedSearchCV(S, parametersS, random_state=42, return_train_score=False, scoring= 'f1')\n",
    "RSS2.fit(X_bw2, y_train_valid)\n",
    "RSS2.best_estimator_"
   ]
  },
  {
   "cell_type": "markdown",
   "id": "b7d9d9a4",
   "metadata": {},
   "source": [
    "Novamente, o modelo desbalanceado apresentou uma grande melhora em relação ao modelo com balanceamento."
   ]
  },
  {
   "cell_type": "code",
   "execution_count": 161,
   "id": "81205a55",
   "metadata": {},
   "outputs": [
    {
     "name": "stdout",
     "output_type": "stream",
     "text": [
      "O F1_Score foi de: 79.59%\n"
     ]
    }
   ],
   "source": [
    "y_predict25 = RSS2.predict(X_test_bw2)\n",
    "A25 = f1_score(y_test, y_predict25)\n",
    "print(f'O F1_Score foi de: {round(A23*100, 2)}%')"
   ]
  },
  {
   "cell_type": "markdown",
   "id": "5ac798d6",
   "metadata": {},
   "source": [
    "## Análise de resultados"
   ]
  },
  {
   "cell_type": "markdown",
   "id": "7a565f45",
   "metadata": {},
   "source": [
    "Segue a baixo um gráfico com todos os resultados obtidos, pode-se perceber que alguns modelos se saíram melhor dependendo do método de vetorização que estava sendo utilizado, também é possível notar que os modelos desbalanceados apresentaram um melhor resultado em relação aos modelos balanceados."
   ]
  },
  {
   "cell_type": "code",
   "execution_count": 188,
   "id": "b2a93baa",
   "metadata": {},
   "outputs": [
    {
     "data": {
      "text/html": [
       "<div>\n",
       "<style scoped>\n",
       "    .dataframe tbody tr th:only-of-type {\n",
       "        vertical-align: middle;\n",
       "    }\n",
       "\n",
       "    .dataframe tbody tr th {\n",
       "        vertical-align: top;\n",
       "    }\n",
       "\n",
       "    .dataframe thead th {\n",
       "        text-align: right;\n",
       "    }\n",
       "</style>\n",
       "<table border=\"1\" class=\"dataframe\">\n",
       "  <thead>\n",
       "    <tr style=\"text-align: right;\">\n",
       "      <th></th>\n",
       "      <th>Conjunto</th>\n",
       "      <th>Modelo</th>\n",
       "      <th>F1_Score(%)</th>\n",
       "    </tr>\n",
       "  </thead>\n",
       "  <tbody>\n",
       "    <tr>\n",
       "      <th>0</th>\n",
       "      <td>Baseline</td>\n",
       "      <td>Regressão Logística</td>\n",
       "      <td>79.60</td>\n",
       "    </tr>\n",
       "    <tr>\n",
       "      <th>1</th>\n",
       "      <td>1° Conjunto</td>\n",
       "      <td>Regressão Logística</td>\n",
       "      <td>75.33</td>\n",
       "    </tr>\n",
       "    <tr>\n",
       "      <th>2</th>\n",
       "      <td>1° Conjunto</td>\n",
       "      <td>Naive Bayes</td>\n",
       "      <td>79.73</td>\n",
       "    </tr>\n",
       "    <tr>\n",
       "      <th>3</th>\n",
       "      <td>1° Conjunto</td>\n",
       "      <td>SVM</td>\n",
       "      <td>71.33</td>\n",
       "    </tr>\n",
       "    <tr>\n",
       "      <th>4</th>\n",
       "      <td>1° Conjunto</td>\n",
       "      <td>Passive-Agressive</td>\n",
       "      <td>75.22</td>\n",
       "    </tr>\n",
       "    <tr>\n",
       "      <th>5</th>\n",
       "      <td>1° Conjunto</td>\n",
       "      <td>Naive Bayes(Desbalanceado)</td>\n",
       "      <td>80.04</td>\n",
       "    </tr>\n",
       "    <tr>\n",
       "      <th>6</th>\n",
       "      <td>2° Conjunto</td>\n",
       "      <td>Regressão Logística</td>\n",
       "      <td>76.52</td>\n",
       "    </tr>\n",
       "    <tr>\n",
       "      <th>7</th>\n",
       "      <td>2° Conjunto</td>\n",
       "      <td>Naive Bayes</td>\n",
       "      <td>79.40</td>\n",
       "    </tr>\n",
       "    <tr>\n",
       "      <th>8</th>\n",
       "      <td>2° Conjunto</td>\n",
       "      <td>SVM</td>\n",
       "      <td>79.59</td>\n",
       "    </tr>\n",
       "    <tr>\n",
       "      <th>9</th>\n",
       "      <td>2° Conjunto</td>\n",
       "      <td>Passive-Agressive</td>\n",
       "      <td>73.96</td>\n",
       "    </tr>\n",
       "    <tr>\n",
       "      <th>10</th>\n",
       "      <td>2° Conjunto</td>\n",
       "      <td>SVM(Desbalanceado)</td>\n",
       "      <td>79.93</td>\n",
       "    </tr>\n",
       "  </tbody>\n",
       "</table>\n",
       "</div>"
      ],
      "text/plain": [
       "       Conjunto                      Modelo  F1_Score(%)\n",
       "0      Baseline         Regressão Logística        79.60\n",
       "1   1° Conjunto         Regressão Logística        75.33\n",
       "2   1° Conjunto                 Naive Bayes        79.73\n",
       "3   1° Conjunto                         SVM        71.33\n",
       "4   1° Conjunto           Passive-Agressive        75.22\n",
       "5   1° Conjunto  Naive Bayes(Desbalanceado)        80.04\n",
       "6   2° Conjunto         Regressão Logística        76.52\n",
       "7   2° Conjunto                 Naive Bayes        79.40\n",
       "8   2° Conjunto                         SVM        79.59\n",
       "9   2° Conjunto           Passive-Agressive        73.96\n",
       "10  2° Conjunto          SVM(Desbalanceado)        79.93"
      ]
     },
     "execution_count": 188,
     "metadata": {},
     "output_type": "execute_result"
    }
   ],
   "source": [
    "data = {'Conjunto': ['Baseline', '1° Conjunto', '1° Conjunto', '1° Conjunto', '1° Conjunto', '1° Conjunto', '2° Conjunto', '2° Conjunto', '2° Conjunto', '2° Conjunto', '2° Conjunto', ],\n",
    "        'Modelo': ['Regressão Logística', 'Regressão Logística', 'Naive Bayes', 'SVM', 'Passive-Agressive', 'Naive Bayes(Desbalanceado)', 'Regressão Logística', 'Naive Bayes', 'SVM', 'Passive-Agressive', 'SVM(Desbalanceado)'],\n",
    "        'F1_Score(%)': [round(AB*100, 2), round(A11*100, 2), round(A12*100, 2), round(A13*100, 2), round(A14*100, 2), round(A15*100, 2), round(A21*100, 2), round(A22*100, 2), round(A23*100, 2), round(A24*100, 2), round(A25*100, 2)],\n",
    "        }\n",
    "tabela = pd.DataFrame(data)\n",
    "tabela"
   ]
  },
  {
   "cell_type": "markdown",
   "id": "ad89d57f",
   "metadata": {},
   "source": [
    "No geral, o modelo que apresentou o melhor resultado foi o Naive bayes desbalanceado, então, utilizei a predição desse modelo para montar uma matriz de confusão e avaliar melhor os erros que aconteceram durante a classificação. Além disso, também montei uma matriz de confusão utilizando a predição do modelo Naive bayes balanceado do primeiro conjunto, para comparar como o balanceamento impactava no resultado."
   ]
  },
  {
   "cell_type": "markdown",
   "id": "90079748",
   "metadata": {},
   "source": [
    "### Desbalanceado"
   ]
  },
  {
   "cell_type": "code",
   "execution_count": 176,
   "id": "2bfb699b",
   "metadata": {},
   "outputs": [],
   "source": [
    "from sklearn.metrics import confusion_matrix\n",
    "from sklearn.metrics import ConfusionMatrixDisplay\n",
    "CM = confusion_matrix(y_test,y_predict15, labels= GNBS.classes_)\n",
    "CM1 = confusion_matrix(y_test,y_predict12, labels= GNB.classes_)"
   ]
  },
  {
   "cell_type": "code",
   "execution_count": 177,
   "id": "051de75a",
   "metadata": {},
   "outputs": [
    {
     "data": {
      "image/png": "[encoded data removed]",
      "text/plain": [
       "<Figure size 720x720 with 2 Axes>"
      ]
     },
     "metadata": {
      "needs_background": "light"
     },
     "output_type": "display_data"
    }
   ],
   "source": [
    "disp = ConfusionMatrixDisplay(confusion_matrix= CM, display_labels=GNBS.classes_)\n",
    "fig, ax = plt.subplots(figsize=(10,10))\n",
    "disp.plot(cmap=plt.cm.Blues, ax= ax)\n",
    "plt.show()"
   ]
  },
  {
   "cell_type": "markdown",
   "id": "58c85f6d",
   "metadata": {},
   "source": [
    "### Balanceado"
   ]
  },
  {
   "cell_type": "code",
   "execution_count": 178,
   "id": "1ac1bea9",
   "metadata": {},
   "outputs": [
    {
     "data": {
      "image/png": "[encoded data removed]",
      "text/plain": [
       "<Figure size 720x720 with 2 Axes>"
      ]
     },
     "metadata": {
      "needs_background": "light"
     },
     "output_type": "display_data"
    }
   ],
   "source": [
    "disp = ConfusionMatrixDisplay(confusion_matrix= CM1, display_labels=GNBS.classes_)\n",
    "fig, ax = plt.subplots(figsize=(10,10))\n",
    "disp.plot(cmap=plt.cm.Blues, ax= ax)\n",
    "plt.show()"
   ]
  },
  {
   "cell_type": "markdown",
   "id": "634bf489",
   "metadata": {},
   "source": [
    "Considerando a classe 1 como \"positiva\" e a classe 0 como \"negativa\", pode-se perceber que o modelo desbalanceado, embora tenha conseguido acertar mais verdadeiros positivos, apenas detectou 14 verdadeiros negativos, ou seja, esse modelo detectou praticamente todos os dados como sarcásticos até mesmo os não sarcásticos. Por outro lado, o modelo balanceado que apresentou um F1 Score levemente menor, conseguiu detectar um número muito maior de verdadeiros negativos quando comparado com o modelo desbalanceado, mas em troca ele também apresentou um número maior de falsos negativos e menor de verdadeiros positivos."
   ]
  },
  {
   "cell_type": "code",
   "execution_count": null,
   "id": "9e6d4c30",
   "metadata": {},
   "outputs": [],
   "source": []
  }
 ],
 "metadata": {
  "kernelspec": {
   "display_name": "Python 3",
   "language": "python",
   "name": "python3"
  },
  "language_info": {
   "codemirror_mode": {
    "name": "ipython",
    "version": 3
   },
   "file_extension": ".py",
   "mimetype": "text/x-python",
   "name": "python",
   "nbconvert_exporter": "python",
   "pygments_lexer": "ipython3",
   "version": "3.8.8"
  }
 },
 "nbformat": 4,
 "nbformat_minor": 5
}
