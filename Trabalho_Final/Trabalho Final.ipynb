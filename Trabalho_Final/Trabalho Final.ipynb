{
 "cells": [
  {
   "cell_type": "markdown",
   "id": "6a651183",
   "metadata": {},
   "source": [
    "# Trabalho Final"
   ]
  },
  {
   "cell_type": "markdown",
   "id": "30eb6442",
   "metadata": {},
   "source": [
    "Neste trabalho final você irá pôr em prática todas as etapas exercitadas ao longo da mentoria sobre projetos de aprendizado de máquina em uma tarefa de classificação de NLP: detecção de sarcasmo. Segundo Yaghoobian et al:\n",
    "\n",
    "    “Sarcasm detection is the task of identifying irony containing utterances in sentiment-bearing text. However, the figurative and creative nature of sarcasm poses a great challenge for affective computing systems performing sentiment analysis.”\n",
    "\n",
    " \n",
    "\n",
    "Detecção de sarcasmo é uma tarefa com muitas aplicações práticas interessantes,  mas também é extremamente desafiadora. Padrões linguísticos e sociais que categorizam o sarcasmo podem não estar contido unicamente no texto ou no uso de palavras específicas, dificultando que algoritmos de aprendizado de máquina aprendam a generalizar. Nesse contexto, foi proposto por Khodak et al o dataset SARC, coletado da plataforma Reddit:\n",
    "\n",
    "\n",
    "    “We introduce the Self-Annotated Reddit Corpus (SARC), a large corpus for sarcasm research and for training and evaluating systems for sarcasm detection. The corpus has 1.3 million sarcastic statements -- 10 times more than any previous dataset -- and many times more instances of non-sarcastic statements, allowing for learning in both balanced and unbalanced label regimes. Each statement is furthermore self-annotated -- sarcasm is labeled by the author, not an independent annotator -- and provided with user, topic, and conversation context.”\n",
    "\n",
    "\n",
    "Em anexo, encontra-se uma amostra do SARC. Dado esse contexto, você deverá criar e validar um modelo de detecção de sarcasmo utilizando esse dataset. O trabalho deverá conter:\n",
    "\n",
    "\n",
    "    Análise exploratória\n",
    "\n",
    "        Mostre exemplos de cada classe.\n",
    "\n",
    "        Crie pelo menos 5 gráficos, contendo um que mostre o balanceamento entre as classes. Sugestões de outros gráficos: termos mais frequentes em cada classe, distribuição da quantidade de palavras em cada classe.\n",
    "\n",
    "        Discuta seus achados.\n",
    "\n",
    "\n",
    "    Aprendizado não-supervisionado\n",
    "\n",
    "        Qualquer técnica pode ser utilizada, clusterização ou redução de dimensionalidade. Pode-se usar parte da análise exploratória ou como auxiliar na classificação.\n",
    "\n",
    "\n",
    "    Limpeza e pré-processamento dos dados\n",
    "\n",
    "        Pelo menos 3 técnicas de pré-processamento de texto (que já não sejam utilizadas por padrão na vetorização)\n",
    "\n",
    "        Utilize alguma técnica de balanceamento de dados\n",
    "\n",
    "\n",
    "    Engenharia de atributos\n",
    "\n",
    "        Selecione dentre os dados disponíveis quais devem ser utilizados como atributos de entrada e o método para representação vetorial.\n",
    "\n",
    "        Utilize pelo menos dois conjuntos de atributos de entrada, comparando as performances. Justifique suas escolhas.\n",
    "\n",
    "\n",
    "    Estabelecimento de um baseline\n",
    "\n",
    "        Utilize um modelo simples, não faça otimização de hiperparâmetros. Justifique sua escolha.\n",
    "\n",
    "\n",
    "    Seleção e avaliação de modelos\n",
    "\n",
    "        Escolha uma ou mais métricas de desempenho apropriadas para esta tarefa.\n",
    "\n",
    "        Utilize pelo menos 4 algoritmos, realizando a otimização de hiperparâmetros. Destes modelos, ao menos um deve ser um algoritmos deve ser um que não foi visto durante a mentoria. Estude o funcionamento dele. Sugestão: modelo de Deep Learning.\n",
    "\n",
    "        Avalie os algoritmos com hiperparâmetros otimizados no conjunto de teste.\n",
    "\n",
    "\n",
    "    Análise de resultados\n",
    "\n",
    "        Mostre exemplos dos erros (falso positivos e falso negativos) para o melhor dos algoritmos experimentados.\n",
    "\n",
    "        Discuta os resultados e aponte quais seriam possíveis melhorias\n",
    "\n",
    "\n",
    "    (OPCIONAL) Interpretabilidade\n",
    "\n",
    "        Utilize algum método que permita uma interpretação das predições de algum dos seus modelos.\n",
    "\n",
    "\n",
    "    (OPCIONAL) Deploy\n",
    "\n",
    "        Implemente uma API para que o seu melhor modelo possa ser utilizado via requisições HTTP."
   ]
  },
  {
   "cell_type": "code",
   "execution_count": 63,
   "id": "628e9689",
   "metadata": {},
   "outputs": [],
   "source": [
    "import numpy as np\n",
    "import pandas as pd\n",
    "import matplotlib.pyplot as plt\n",
    "import seaborn as sns\n",
    "from warnings import filterwarnings\n",
    "filterwarnings('ignore')\n",
    "%matplotlib inline"
   ]
  },
  {
   "cell_type": "markdown",
   "id": "530668f2",
   "metadata": {},
   "source": [
    "Primeiramente, alterando as configurações do dataframe para que ele exiba os textos completos, e logo em seguida imprimindo o dataframe para realizar sua análise."
   ]
  },
  {
   "cell_type": "code",
   "execution_count": 64,
   "id": "7b07ba7c",
   "metadata": {
    "scrolled": false
   },
   "outputs": [
    {
     "data": {
      "text/html": [
       "<div>\n",
       "<style scoped>\n",
       "    .dataframe tbody tr th:only-of-type {\n",
       "        vertical-align: middle;\n",
       "    }\n",
       "\n",
       "    .dataframe tbody tr th {\n",
       "        vertical-align: top;\n",
       "    }\n",
       "\n",
       "    .dataframe thead th {\n",
       "        text-align: right;\n",
       "    }\n",
       "</style>\n",
       "<table border=\"1\" class=\"dataframe\">\n",
       "  <thead>\n",
       "    <tr style=\"text-align: right;\">\n",
       "      <th></th>\n",
       "      <th>label</th>\n",
       "      <th>comment</th>\n",
       "      <th>author</th>\n",
       "      <th>subreddit</th>\n",
       "      <th>score</th>\n",
       "      <th>ups</th>\n",
       "      <th>downs</th>\n",
       "      <th>date</th>\n",
       "      <th>created_utc</th>\n",
       "      <th>parent_comment</th>\n",
       "    </tr>\n",
       "  </thead>\n",
       "  <tbody>\n",
       "    <tr>\n",
       "      <th>0</th>\n",
       "      <td>1</td>\n",
       "      <td>Of course, just like 3.2 was the true Messiah.</td>\n",
       "      <td>ReticentHedgehog</td>\n",
       "      <td>ffxiv</td>\n",
       "      <td>1</td>\n",
       "      <td>1</td>\n",
       "      <td>0</td>\n",
       "      <td>2016-05</td>\n",
       "      <td>2016-05-02 20:20:37</td>\n",
       "      <td>Is patch 3.3 going to be our savior? Without trying to sound like a broken record and repeating the many point of views of the growing apocalyptic threads on this forum. I was hoping to get the opinions of everyone if they believe patch 3.3 is going to bring back some of the players who have quit in the last patch or two, or does this feel like another cookie cutter patch that wont stop exit of quality population specifically on the North American servers. I ask this in concern that I have made a assertive effort as of late to refill our FC, and one of the strong points of the patch info so far is that they are installing a cross realm raid tool, which seems like it would diminish the need to recruit for a FC. I personally enjoy the aspect of a 10-15 member FC which can grow close and share things in common to the game and outside the game. But with the game seemingly losing subs it has become harder to find people to come together like I had just described and I don't want to put false hope in those who I have recruited so far. Give me some hope!</td>\n",
       "    </tr>\n",
       "    <tr>\n",
       "      <th>1</th>\n",
       "      <td>1</td>\n",
       "      <td>Yeah because Iran was 100% muslim prior to 1979, and still is now.</td>\n",
       "      <td>methmobile</td>\n",
       "      <td>worldnews</td>\n",
       "      <td>-3</td>\n",
       "      <td>-1</td>\n",
       "      <td>-1</td>\n",
       "      <td>2016-12</td>\n",
       "      <td>2016-12-30 10:21:31</td>\n",
       "      <td>I suggest you research Iran pre-1979 as well as al-Qatb and the rise of Wahhabism. You are fully entitled to have an opinion and express it (and you do bring up a good point re: rural cobservatism) but you are misinformed.</td>\n",
       "    </tr>\n",
       "    <tr>\n",
       "      <th>2</th>\n",
       "      <td>1</td>\n",
       "      <td>WELL YOU'RE JUST A BITCH...YOU HAVE TO GO AND POST AND TAKE YOUR DOWNVOTES</td>\n",
       "      <td>dillydelly</td>\n",
       "      <td>nba</td>\n",
       "      <td>1</td>\n",
       "      <td>1</td>\n",
       "      <td>0</td>\n",
       "      <td>2014-05</td>\n",
       "      <td>2014-05-04 08:02:30</td>\n",
       "      <td>Warriors / Clips game threads literally add zero value to the game experience. Why would I want to see the words flop, flopped and flopper repeated constantly? Thunder / Clips game threads were pretty good during the season. We'll see how the playoff ones are.</td>\n",
       "    </tr>\n",
       "    <tr>\n",
       "      <th>3</th>\n",
       "      <td>1</td>\n",
       "      <td>Yeah, it's dumb to run background checks on potential teachers.</td>\n",
       "      <td>Krenolds</td>\n",
       "      <td>AskReddit</td>\n",
       "      <td>1</td>\n",
       "      <td>1</td>\n",
       "      <td>0</td>\n",
       "      <td>2014-09</td>\n",
       "      <td>2014-09-02 08:09:10</td>\n",
       "      <td>Oh i forgot.., you get to be finger printed when you are hired! Awesome!</td>\n",
       "    </tr>\n",
       "    <tr>\n",
       "      <th>4</th>\n",
       "      <td>1</td>\n",
       "      <td>Oh, it's not that bad once you get a handle on the crippling depression and constant tooth grinding.</td>\n",
       "      <td>ericanderton</td>\n",
       "      <td>AskReddit</td>\n",
       "      <td>4</td>\n",
       "      <td>4</td>\n",
       "      <td>0</td>\n",
       "      <td>2011-08</td>\n",
       "      <td>2011-08-24 13:17:20</td>\n",
       "      <td>Haha oh. Definitely not an option than.</td>\n",
       "    </tr>\n",
       "    <tr>\n",
       "      <th>...</th>\n",
       "      <td>...</td>\n",
       "      <td>...</td>\n",
       "      <td>...</td>\n",
       "      <td>...</td>\n",
       "      <td>...</td>\n",
       "      <td>...</td>\n",
       "      <td>...</td>\n",
       "      <td>...</td>\n",
       "      <td>...</td>\n",
       "      <td>...</td>\n",
       "    </tr>\n",
       "    <tr>\n",
       "      <th>59995</th>\n",
       "      <td>0</td>\n",
       "      <td>room you mean like, dimension?</td>\n",
       "      <td>Tikikala</td>\n",
       "      <td>digimon</td>\n",
       "      <td>1</td>\n",
       "      <td>1</td>\n",
       "      <td>0</td>\n",
       "      <td>2016-03</td>\n",
       "      <td>2016-03-26 03:42:22</td>\n",
       "      <td>So as another guy pointed out. Huckmon might be projecting Ken as a way to steal Meicoomon, remember he was lurking all the time. Also he was in the 'room' after Ken disappeared</td>\n",
       "    </tr>\n",
       "    <tr>\n",
       "      <th>59996</th>\n",
       "      <td>0</td>\n",
       "      <td>I wasn't too fond of grabner in 14 so I put Bergeron up the middle to win draws and set up plays and what not.</td>\n",
       "      <td>mrhairybolo</td>\n",
       "      <td>hockey</td>\n",
       "      <td>1</td>\n",
       "      <td>1</td>\n",
       "      <td>0</td>\n",
       "      <td>2014-08</td>\n",
       "      <td>2014-08-10 05:57:31</td>\n",
       "      <td>Hall - Duchene - Grabner?</td>\n",
       "    </tr>\n",
       "    <tr>\n",
       "      <th>59997</th>\n",
       "      <td>0</td>\n",
       "      <td>he wasn't even at worlds in season 4!</td>\n",
       "      <td>Highstalker</td>\n",
       "      <td>leagueoflegends</td>\n",
       "      <td>-1</td>\n",
       "      <td>-1</td>\n",
       "      <td>0</td>\n",
       "      <td>2016-09</td>\n",
       "      <td>2016-09-19 14:41:23</td>\n",
       "      <td>Yeah he was.</td>\n",
       "    </tr>\n",
       "    <tr>\n",
       "      <th>59998</th>\n",
       "      <td>0</td>\n",
       "      <td>Right, but the Trump sign...</td>\n",
       "      <td>gcbeehler5</td>\n",
       "      <td>pics</td>\n",
       "      <td>2</td>\n",
       "      <td>2</td>\n",
       "      <td>0</td>\n",
       "      <td>2016-09</td>\n",
       "      <td>2016-09-01 02:14:54</td>\n",
       "      <td>I wouldn't say you have to be liberal to appreciate sustainability. You just have to not be an ignorant twat.</td>\n",
       "    </tr>\n",
       "    <tr>\n",
       "      <th>59999</th>\n",
       "      <td>0</td>\n",
       "      <td>Would be awesome, but it's one of those things that has to be done flawlessly and can't be half-assed.</td>\n",
       "      <td>ImKoncerned</td>\n",
       "      <td>2007scape</td>\n",
       "      <td>3</td>\n",
       "      <td>3</td>\n",
       "      <td>0</td>\n",
       "      <td>2015-03</td>\n",
       "      <td>2015-03-13 21:30:57</td>\n",
       "      <td>Unfortunately I think so too :'(</td>\n",
       "    </tr>\n",
       "  </tbody>\n",
       "</table>\n",
       "<p>60000 rows × 10 columns</p>\n",
       "</div>"
      ],
      "text/plain": [
       "       label  \\\n",
       "0          1   \n",
       "1          1   \n",
       "2          1   \n",
       "3          1   \n",
       "4          1   \n",
       "...      ...   \n",
       "59995      0   \n",
       "59996      0   \n",
       "59997      0   \n",
       "59998      0   \n",
       "59999      0   \n",
       "\n",
       "                                                                                                              comment  \\\n",
       "0                                                                      Of course, just like 3.2 was the true Messiah.   \n",
       "1                                                  Yeah because Iran was 100% muslim prior to 1979, and still is now.   \n",
       "2                                          WELL YOU'RE JUST A BITCH...YOU HAVE TO GO AND POST AND TAKE YOUR DOWNVOTES   \n",
       "3                                                     Yeah, it's dumb to run background checks on potential teachers.   \n",
       "4                Oh, it's not that bad once you get a handle on the crippling depression and constant tooth grinding.   \n",
       "...                                                                                                               ...   \n",
       "59995                                                                                  room you mean like, dimension?   \n",
       "59996  I wasn't too fond of grabner in 14 so I put Bergeron up the middle to win draws and set up plays and what not.   \n",
       "59997                                                                           he wasn't even at worlds in season 4!   \n",
       "59998                                                                                    Right, but the Trump sign...   \n",
       "59999          Would be awesome, but it's one of those things that has to be done flawlessly and can't be half-assed.   \n",
       "\n",
       "                 author        subreddit  score  ups  downs     date  \\\n",
       "0      ReticentHedgehog            ffxiv      1    1      0  2016-05   \n",
       "1            methmobile        worldnews     -3   -1     -1  2016-12   \n",
       "2            dillydelly              nba      1    1      0  2014-05   \n",
       "3              Krenolds        AskReddit      1    1      0  2014-09   \n",
       "4          ericanderton        AskReddit      4    4      0  2011-08   \n",
       "...                 ...              ...    ...  ...    ...      ...   \n",
       "59995          Tikikala          digimon      1    1      0  2016-03   \n",
       "59996       mrhairybolo           hockey      1    1      0  2014-08   \n",
       "59997       Highstalker  leagueoflegends     -1   -1      0  2016-09   \n",
       "59998        gcbeehler5             pics      2    2      0  2016-09   \n",
       "59999       ImKoncerned        2007scape      3    3      0  2015-03   \n",
       "\n",
       "               created_utc  \\\n",
       "0      2016-05-02 20:20:37   \n",
       "1      2016-12-30 10:21:31   \n",
       "2      2014-05-04 08:02:30   \n",
       "3      2014-09-02 08:09:10   \n",
       "4      2011-08-24 13:17:20   \n",
       "...                    ...   \n",
       "59995  2016-03-26 03:42:22   \n",
       "59996  2014-08-10 05:57:31   \n",
       "59997  2016-09-19 14:41:23   \n",
       "59998  2016-09-01 02:14:54   \n",
       "59999  2015-03-13 21:30:57   \n",
       "\n",
       "                                                                                                                                                                                                                                                                                                                                                                                                                                                                                                                                                                                                                                                                                                                                                                                                                                                                                                                                                                                                                                                                                                parent_comment  \n",
       "0      Is patch 3.3 going to be our savior? Without trying to sound like a broken record and repeating the many point of views of the growing apocalyptic threads on this forum. I was hoping to get the opinions of everyone if they believe patch 3.3 is going to bring back some of the players who have quit in the last patch or two, or does this feel like another cookie cutter patch that wont stop exit of quality population specifically on the North American servers. I ask this in concern that I have made a assertive effort as of late to refill our FC, and one of the strong points of the patch info so far is that they are installing a cross realm raid tool, which seems like it would diminish the need to recruit for a FC. I personally enjoy the aspect of a 10-15 member FC which can grow close and share things in common to the game and outside the game. But with the game seemingly losing subs it has become harder to find people to come together like I had just described and I don't want to put false hope in those who I have recruited so far. Give me some hope!  \n",
       "1                                                                                                                                                                                                                                                                                                                                                                                                                                                                                                                                                                                                                                                                                                                                                                                                                                                                               I suggest you research Iran pre-1979 as well as al-Qatb and the rise of Wahhabism. You are fully entitled to have an opinion and express it (and you do bring up a good point re: rural cobservatism) but you are misinformed.  \n",
       "2                                                                                                                                                                                                                                                                                                                                                                                                                                                                                                                                                                                                                                                                                                                                                                                                                                         Warriors / Clips game threads literally add zero value to the game experience. Why would I want to see the words flop, flopped and flopper repeated constantly? Thunder / Clips game threads were pretty good during the season. We'll see how the playoff ones are.  \n",
       "3                                                                                                                                                                                                                                                                                                                                                                                                                                                                                                                                                                                                                                                                                                                                                                                                                                                                                                                                                                                                                                     Oh i forgot.., you get to be finger printed when you are hired! Awesome!  \n",
       "4                                                                                                                                                                                                                                                                                                                                                                                                                                                                                                                                                                                                                                                                                                                                                                                                                                                                                                                                                                                                                                                                      Haha oh. Definitely not an option than.  \n",
       "...                                                                                                                                                                                                                                                                                                                                                                                                                                                                                                                                                                                                                                                                                                                                                                                                                                                                                                                                                                                                                                                                                                        ...  \n",
       "59995                                                                                                                                                                                                                                                                                                                                                                                                                                                                                                                                                                                                                                                                                                                                                                                                                                                                                                                        So as another guy pointed out. Huckmon might be projecting Ken as a way to steal Meicoomon, remember he was lurking all the time. Also he was in the 'room' after Ken disappeared  \n",
       "59996                                                                                                                                                                                                                                                                                                                                                                                                                                                                                                                                                                                                                                                                                                                                                                                                                                                                                                                                                                                                                                                                                Hall - Duchene - Grabner?  \n",
       "59997                                                                                                                                                                                                                                                                                                                                                                                                                                                                                                                                                                                                                                                                                                                                                                                                                                                                                                                                                                                                                                                                                             Yeah he was.  \n",
       "59998                                                                                                                                                                                                                                                                                                                                                                                                                                                                                                                                                                                                                                                                                                                                                                                                                                                                                                                                                                                            I wouldn't say you have to be liberal to appreciate sustainability. You just have to not be an ignorant twat.  \n",
       "59999                                                                                                                                                                                                                                                                                                                                                                                                                                                                                                                                                                                                                                                                                                                                                                                                                                                                                                                                                                                                                                                                         Unfortunately I think so too :'(  \n",
       "\n",
       "[60000 rows x 10 columns]"
      ]
     },
     "execution_count": 64,
     "metadata": {},
     "output_type": "execute_result"
    }
   ],
   "source": [
    "pd.set_option(\"display.max_colwidth\", None)\n",
    "df = pd.read_csv('sarc_sample.csv')\n",
    "df"
   ]
  },
  {
   "cell_type": "markdown",
   "id": "25a7939b",
   "metadata": {},
   "source": [
    "### Análise exploratória"
   ]
  },
  {
   "cell_type": "markdown",
   "id": "55ec6554",
   "metadata": {},
   "source": [
    "Nesta etapa, coletei 4 amostras de cada classe para melhor comparação, conforme foi orientado na descrição da atividade."
   ]
  },
  {
   "cell_type": "code",
   "execution_count": 65,
   "id": "0e0741f1",
   "metadata": {},
   "outputs": [
    {
     "data": {
      "text/html": [
       "<div>\n",
       "<style scoped>\n",
       "    .dataframe tbody tr th:only-of-type {\n",
       "        vertical-align: middle;\n",
       "    }\n",
       "\n",
       "    .dataframe tbody tr th {\n",
       "        vertical-align: top;\n",
       "    }\n",
       "\n",
       "    .dataframe thead th {\n",
       "        text-align: right;\n",
       "    }\n",
       "</style>\n",
       "<table border=\"1\" class=\"dataframe\">\n",
       "  <thead>\n",
       "    <tr style=\"text-align: right;\">\n",
       "      <th></th>\n",
       "      <th>label</th>\n",
       "      <th>comment</th>\n",
       "      <th>author</th>\n",
       "      <th>subreddit</th>\n",
       "      <th>score</th>\n",
       "      <th>ups</th>\n",
       "      <th>downs</th>\n",
       "      <th>date</th>\n",
       "      <th>created_utc</th>\n",
       "      <th>parent_comment</th>\n",
       "    </tr>\n",
       "  </thead>\n",
       "  <tbody>\n",
       "    <tr>\n",
       "      <th>11316</th>\n",
       "      <td>1</td>\n",
       "      <td>But it's not a bubble!</td>\n",
       "      <td>CuilRunnings</td>\n",
       "      <td>Economics</td>\n",
       "      <td>18</td>\n",
       "      <td>18</td>\n",
       "      <td>0</td>\n",
       "      <td>2013-07</td>\n",
       "      <td>2013-07-01 16:24:46</td>\n",
       "      <td>And 60+ percent is owed by those 35 and younger. $43 billion is peanuts compared to the other $1,000 billion that is out there. If we go back to the year 2000, I believe there was something like $200 billion in total student loans. Today it is over $1 trillion.</td>\n",
       "    </tr>\n",
       "    <tr>\n",
       "      <th>34854</th>\n",
       "      <td>1</td>\n",
       "      <td>Yes, attempting to touch a country's flag should be met with sufficient force to kill.</td>\n",
       "      <td>ribald86</td>\n",
       "      <td>MorbidReality</td>\n",
       "      <td>1</td>\n",
       "      <td>1</td>\n",
       "      <td>0</td>\n",
       "      <td>2012-08</td>\n",
       "      <td>2012-08-14 18:44:55</td>\n",
       "      <td>Here I was thinking he was just an innocent man climbing a pole for fun.</td>\n",
       "    </tr>\n",
       "    <tr>\n",
       "      <th>20980</th>\n",
       "      <td>1</td>\n",
       "      <td>My IQ must be in the thousands.</td>\n",
       "      <td>PikaFuck</td>\n",
       "      <td>cringepics</td>\n",
       "      <td>1</td>\n",
       "      <td>1</td>\n",
       "      <td>0</td>\n",
       "      <td>2014-10</td>\n",
       "      <td>2014-10-25 17:42:56</td>\n",
       "      <td>whenever someone mentions their IQ in an argument... I just can't take them seriously.</td>\n",
       "    </tr>\n",
       "    <tr>\n",
       "      <th>21408</th>\n",
       "      <td>1</td>\n",
       "      <td>[This is a random event - you're supposed to help that guy]</td>\n",
       "      <td>deskplace</td>\n",
       "      <td>GrandTheftAutoV</td>\n",
       "      <td>17</td>\n",
       "      <td>17</td>\n",
       "      <td>0</td>\n",
       "      <td>2013-09</td>\n",
       "      <td>2013-09-19 05:32:09</td>\n",
       "      <td>I was driving through the Vinewood hills, passed a guy getting kicked out by his girlfriend/wife. She was throwing his shit off the balcony and everything. She goes \"you think I'm stupid? Who goes golfing at midnight?!\" ...classic</td>\n",
       "    </tr>\n",
       "  </tbody>\n",
       "</table>\n",
       "</div>"
      ],
      "text/plain": [
       "       label  \\\n",
       "11316      1   \n",
       "34854      1   \n",
       "20980      1   \n",
       "21408      1   \n",
       "\n",
       "                                                                                      comment  \\\n",
       "11316                                                                  But it's not a bubble!   \n",
       "34854  Yes, attempting to touch a country's flag should be met with sufficient force to kill.   \n",
       "20980                                                         My IQ must be in the thousands.   \n",
       "21408                             [This is a random event - you're supposed to help that guy]   \n",
       "\n",
       "             author        subreddit  score  ups  downs     date  \\\n",
       "11316  CuilRunnings        Economics     18   18      0  2013-07   \n",
       "34854      ribald86    MorbidReality      1    1      0  2012-08   \n",
       "20980      PikaFuck       cringepics      1    1      0  2014-10   \n",
       "21408     deskplace  GrandTheftAutoV     17   17      0  2013-09   \n",
       "\n",
       "               created_utc  \\\n",
       "11316  2013-07-01 16:24:46   \n",
       "34854  2012-08-14 18:44:55   \n",
       "20980  2014-10-25 17:42:56   \n",
       "21408  2013-09-19 05:32:09   \n",
       "\n",
       "                                                                                                                                                                                                                                                              parent_comment  \n",
       "11316  And 60+ percent is owed by those 35 and younger. $43 billion is peanuts compared to the other $1,000 billion that is out there. If we go back to the year 2000, I believe there was something like $200 billion in total student loans. Today it is over $1 trillion.  \n",
       "34854                                                                                                                                                                                               Here I was thinking he was just an innocent man climbing a pole for fun.  \n",
       "20980                                                                                                                                                                                 whenever someone mentions their IQ in an argument... I just can't take them seriously.  \n",
       "21408                                 I was driving through the Vinewood hills, passed a guy getting kicked out by his girlfriend/wife. She was throwing his shit off the balcony and everything. She goes \"you think I'm stupid? Who goes golfing at midnight?!\" ...classic  "
      ]
     },
     "execution_count": 65,
     "metadata": {},
     "output_type": "execute_result"
    }
   ],
   "source": [
    "um = df['label'] == 1\n",
    "df[um].sample(n = 4)"
   ]
  },
  {
   "cell_type": "code",
   "execution_count": 66,
   "id": "1a784d91",
   "metadata": {
    "scrolled": true
   },
   "outputs": [
    {
     "data": {
      "text/html": [
       "<div>\n",
       "<style scoped>\n",
       "    .dataframe tbody tr th:only-of-type {\n",
       "        vertical-align: middle;\n",
       "    }\n",
       "\n",
       "    .dataframe tbody tr th {\n",
       "        vertical-align: top;\n",
       "    }\n",
       "\n",
       "    .dataframe thead th {\n",
       "        text-align: right;\n",
       "    }\n",
       "</style>\n",
       "<table border=\"1\" class=\"dataframe\">\n",
       "  <thead>\n",
       "    <tr style=\"text-align: right;\">\n",
       "      <th></th>\n",
       "      <th>label</th>\n",
       "      <th>comment</th>\n",
       "      <th>author</th>\n",
       "      <th>subreddit</th>\n",
       "      <th>score</th>\n",
       "      <th>ups</th>\n",
       "      <th>downs</th>\n",
       "      <th>date</th>\n",
       "      <th>created_utc</th>\n",
       "      <th>parent_comment</th>\n",
       "    </tr>\n",
       "  </thead>\n",
       "  <tbody>\n",
       "    <tr>\n",
       "      <th>41366</th>\n",
       "      <td>0</td>\n",
       "      <td>Del Rio got destroyed by CroCop though and is 39.</td>\n",
       "      <td>Minijimbo</td>\n",
       "      <td>SquaredCircle</td>\n",
       "      <td>0</td>\n",
       "      <td>0</td>\n",
       "      <td>0</td>\n",
       "      <td>2016-07</td>\n",
       "      <td>2016-07-11 09:57:45</td>\n",
       "      <td>Del Rio for sure</td>\n",
       "    </tr>\n",
       "    <tr>\n",
       "      <th>54865</th>\n",
       "      <td>0</td>\n",
       "      <td>Can't be, not possible, the only places with better fried chicken than cocos is MEAT and that's only because theirs is smoked AND fried.</td>\n",
       "      <td>gingeredbiscuit</td>\n",
       "      <td>Edmonton</td>\n",
       "      <td>0</td>\n",
       "      <td>0</td>\n",
       "      <td>0</td>\n",
       "      <td>2016-07</td>\n",
       "      <td>2016-07-06 22:50:33</td>\n",
       "      <td>Better than coco's?</td>\n",
       "    </tr>\n",
       "    <tr>\n",
       "      <th>48036</th>\n",
       "      <td>0</td>\n",
       "      <td>I too have the pants, and would be willing to trade for the hat.</td>\n",
       "      <td>Faithhandler</td>\n",
       "      <td>ACTrade</td>\n",
       "      <td>1</td>\n",
       "      <td>1</td>\n",
       "      <td>0</td>\n",
       "      <td>2013-06</td>\n",
       "      <td>2013-06-19 16:11:16</td>\n",
       "      <td>Heros Hat Varia Suit Pants</td>\n",
       "    </tr>\n",
       "    <tr>\n",
       "      <th>54142</th>\n",
       "      <td>0</td>\n",
       "      <td>csvs csvs csvs</td>\n",
       "      <td>TheGoldenNewtRobber</td>\n",
       "      <td>RLTP</td>\n",
       "      <td>1</td>\n",
       "      <td>1</td>\n",
       "      <td>0</td>\n",
       "      <td>2014-10</td>\n",
       "      <td>2014-10-07 20:57:51</td>\n",
       "      <td>Yea, If not We can just have someone take a screenshot of all the final scores of the games and send them to an email? I am willing to help with the stat keeping??</td>\n",
       "    </tr>\n",
       "  </tbody>\n",
       "</table>\n",
       "</div>"
      ],
      "text/plain": [
       "       label  \\\n",
       "41366      0   \n",
       "54865      0   \n",
       "48036      0   \n",
       "54142      0   \n",
       "\n",
       "                                                                                                                                        comment  \\\n",
       "41366                                                                                         Del Rio got destroyed by CroCop though and is 39.   \n",
       "54865  Can't be, not possible, the only places with better fried chicken than cocos is MEAT and that's only because theirs is smoked AND fried.   \n",
       "48036                                                                          I too have the pants, and would be willing to trade for the hat.   \n",
       "54142                                                                                                                            csvs csvs csvs   \n",
       "\n",
       "                    author      subreddit  score  ups  downs     date  \\\n",
       "41366            Minijimbo  SquaredCircle      0    0      0  2016-07   \n",
       "54865      gingeredbiscuit       Edmonton      0    0      0  2016-07   \n",
       "48036         Faithhandler        ACTrade      1    1      0  2013-06   \n",
       "54142  TheGoldenNewtRobber           RLTP      1    1      0  2014-10   \n",
       "\n",
       "               created_utc  \\\n",
       "41366  2016-07-11 09:57:45   \n",
       "54865  2016-07-06 22:50:33   \n",
       "48036  2013-06-19 16:11:16   \n",
       "54142  2014-10-07 20:57:51   \n",
       "\n",
       "                                                                                                                                                            parent_comment  \n",
       "41366                                                                                                                                                     Del Rio for sure  \n",
       "54865                                                                                                                                                  Better than coco's?  \n",
       "48036                                                                                                                                           Heros Hat Varia Suit Pants  \n",
       "54142  Yea, If not We can just have someone take a screenshot of all the final scores of the games and send them to an email? I am willing to help with the stat keeping??  "
      ]
     },
     "execution_count": 66,
     "metadata": {},
     "output_type": "execute_result"
    }
   ],
   "source": [
    "zero = df['label'] == 0\n",
    "df[zero].sample(n = 4)"
   ]
  },
  {
   "cell_type": "markdown",
   "id": "89862e5e",
   "metadata": {},
   "source": [
    "## Etapas de pré-processamento"
   ]
  },
  {
   "cell_type": "markdown",
   "id": "21cd7252",
   "metadata": {},
   "source": [
    "Para realizar a coleta de informações que seriam utilizadas nos gráficos, foi necessário antecipar a etapa de pré-processamento dos dados, as funções a baixo tem o objetivo de remover alguns tipos de caracteres que não são utéis durante a análise dos dados."
   ]
  },
  {
   "cell_type": "markdown",
   "id": "cb04bca8",
   "metadata": {},
   "source": [
    "1. Primeiramente a função \"remover_pontuação\" faz uso de list comprehension para iterar entre os caracteres do texto e remover os caracteres que estão incluidos em \"string.punctuation\"."
   ]
  },
  {
   "cell_type": "code",
   "execution_count": 67,
   "id": "d1778f26",
   "metadata": {},
   "outputs": [],
   "source": [
    "import string\n",
    "def remover_pontuacao(text):\n",
    "    sem_pontuacao=\"\".join([i for i in text if i not in string.punctuation])\n",
    "    return sem_pontuacao"
   ]
  },
  {
   "cell_type": "markdown",
   "id": "b3f3443d",
   "metadata": {},
   "source": [
    "2. A função \"lower\" tem o objetivo de deixar todas as palavras do texto em minúsculo, criando um padrão mais fácil de detectar nos caracteres. Esse passo é muito importante para realizar a remoção de stopwords, pois todas as palavras na lista de stopwords estão em letra minúscula."
   ]
  },
  {
   "cell_type": "code",
   "execution_count": 68,
   "id": "127e2fbc",
   "metadata": {},
   "outputs": [],
   "source": [
    "def lower(text):\n",
    "    return text.lower()"
   ]
  },
  {
   "cell_type": "markdown",
   "id": "6d23898a",
   "metadata": {},
   "source": [
    "3. A função \"remove_nums\" utiliza regex para detectar e remover todos os números do conjunto de dados, isso é importante pois em geral caracteres numéricos não trazem muita informação, e ao retirá-los é possível diminuir bastante a quantidade de dimensões do conjunto."
   ]
  },
  {
   "cell_type": "code",
   "execution_count": 69,
   "id": "25bbbbe7",
   "metadata": {},
   "outputs": [],
   "source": [
    "import re\n",
    "def remove_nums(text):\n",
    "    num_regex = '\\d+'\n",
    "    t = re.sub(num_regex, '', text)\n",
    "    return t"
   ]
  },
  {
   "cell_type": "markdown",
   "id": "910f0787",
   "metadata": {},
   "source": [
    "4. A função \"remove_stop_words\" serve para remover as stopwords do conjunto de dados. Igualmente aos caracteres númericos as stopwords não agregam muitas informações durante a análise, por isso, geralmente é benéfico fazer sua retirada, principalmente pois elas costumam se repetir muitas vezes durante os textos, assim, aumentando a quantidade de dimensões."
   ]
  },
  {
   "cell_type": "code",
   "execution_count": 70,
   "id": "658d5707",
   "metadata": {},
   "outputs": [],
   "source": [
    "import nltk\n",
    "def remove_stop_words(text):\n",
    "    stopwords = nltk.corpus.stopwords.words('english')\n",
    "    texto = [w for w in text.split() if w not in stopwords]\n",
    "    frase = \" \".join(texto)\n",
    "    return frase"
   ]
  },
  {
   "cell_type": "markdown",
   "id": "76477732",
   "metadata": {},
   "source": [
    "5. A função \"lemmatizer\" tem o proposito de transformar as palavras do conjunto de dados em suas formas base, com o cuidado para que elas não percam o sentido. Esse passo é importante para simplificar o texto, ajudando a extrair o máximo de informação."
   ]
  },
  {
   "cell_type": "code",
   "execution_count": 71,
   "id": "f9e5b2a0",
   "metadata": {},
   "outputs": [],
   "source": [
    "from nltk.stem import WordNetLemmatizer\n",
    "wordnet_lemmatizer = WordNetLemmatizer()\n",
    "def lemmatizer(text):\n",
    "    texto = [wordnet_lemmatizer.lemmatize(word) for word in text.split()]\n",
    "    frase = \" \".join(texto)\n",
    "    return frase"
   ]
  },
  {
   "cell_type": "markdown",
   "id": "acf0ef09",
   "metadata": {},
   "source": [
    "6. A função \"remove_little_words\" remove do conjunto de dados as palavras que possuem apenas 2 ou menos caracteres, pois essas palavras curtas, em geral, não trazem muitas informações e na maioria das vezes se tratam de erros de digitação."
   ]
  },
  {
   "cell_type": "code",
   "execution_count": 72,
   "id": "9ff8dbb9",
   "metadata": {},
   "outputs": [],
   "source": [
    "def remove_little_words(text):\n",
    "    frase =\" \".join([w for w in text.split() if len(w) > 3])\n",
    "    return frase"
   ]
  },
  {
   "cell_type": "markdown",
   "id": "d920baac",
   "metadata": {},
   "source": [
    "7. A função \"preprocess\" é responsável por executar algumas das funções acima, facilitando o uso destas em conjunto. Criei duas funções para chamar as funções de pré-processamento, a primeira é utilizada apenas para pré-processar as informações que serão coletadas para uso nos gráficos. Na função preprocess, a ordem em que as funções são chamadas é muito importante, pois a lista de stopwords utilizada possui apenas palavras em minúsculo e com o uso correto das pontuações, logo, se retirarmos as  pontuações antes das stopwords, algumas palavras podem acabar escapando."
   ]
  },
  {
   "cell_type": "code",
   "execution_count": 73,
   "id": "aba4846e",
   "metadata": {},
   "outputs": [],
   "source": [
    "def preprocess(text):\n",
    "        text = remove_nums(text)\n",
    "        text = lower(text)\n",
    "        text = remove_stop_words(text)\n",
    "        text = remover_pontuacao(text)\n",
    "        text = lemmatizer(text)\n",
    "        return text"
   ]
  },
  {
   "cell_type": "markdown",
   "id": "73fa8192",
   "metadata": {},
   "source": [
    "8. A função \"preprocess2\" é a segunda função para chamar as funções de pré-processamento, ela foi criada pois a vetorização já realiza algumas etapas de pré-processamento, então, seria redundante utilizar certas funções nos dados que seriam vetorizados."
   ]
  },
  {
   "cell_type": "code",
   "execution_count": 74,
   "id": "4788eb69",
   "metadata": {},
   "outputs": [],
   "source": [
    "def preprocess2(text):\n",
    "        text = remove_nums(text)\n",
    "        text = remove_little_words(text)\n",
    "        text = lemmatizer(text)\n",
    "        return text"
   ]
  },
  {
   "cell_type": "markdown",
   "id": "e3c28df9",
   "metadata": {},
   "source": [
    "## Gráficos"
   ]
  },
  {
   "cell_type": "markdown",
   "id": "d135d326",
   "metadata": {},
   "source": [
    "Primeiramente temos o gráfico da quantidade de itens de cada classe. É possível reparar que existem muito mais itens na classe \"1\" do que na classe \"0\", isso significa que esse é um conjunto de dados desbalanceado, e futuramente precisaremos utilizar algumas tecnicas para realizar o seu balanceamento"
   ]
  },
  {
   "cell_type": "code",
   "execution_count": 75,
   "id": "e602f5ce",
   "metadata": {},
   "outputs": [
    {
     "data": {
      "image/png": "[encoded data removed]",
      "text/plain": [
       "<Figure size 936x432 with 1 Axes>"
      ]
     },
     "metadata": {
      "needs_background": "light"
     },
     "output_type": "display_data"
    }
   ],
   "source": [
    "# Gráfico do balanceamento entre as classes\n",
    "sns.catplot(y=\"label\", kind=\"count\",\n",
    "            palette=\"pastel\", edgecolor=\".6\",\n",
    "            data=df)\n",
    "plt.gcf().set_size_inches(13, 6)"
   ]
  },
  {
   "cell_type": "markdown",
   "id": "996c2d4f",
   "metadata": {},
   "source": [
    "O segundo gráfico mostra as 10 palavras que mais se repetiram nos comentários classificados na classe \"1\", que seriam os comentários sarcásticos."
   ]
  },
  {
   "cell_type": "code",
   "execution_count": 76,
   "id": "8a721f72",
   "metadata": {
    "scrolled": false
   },
   "outputs": [
    {
     "data": {
      "image/png": "[encoded data removed]",
      "text/plain": [
       "<Figure size 936x432 with 1 Axes>"
      ]
     },
     "metadata": {
      "needs_background": "light"
     },
     "output_type": "display_data"
    }
   ],
   "source": [
    "# Gráfico das palavras que aparecem com mais frequência na classe 1\n",
    "q = df[um]\n",
    "q = q.comment.explode().to_frame().reset_index(drop=True)\n",
    "P=' '.join([str(w) for w in q['comment']])\n",
    "P = preprocess(P)\n",
    "palavras = P.split()\n",
    "dfp = pd.DataFrame (palavras, columns = ['palavras'])\n",
    "dfc = dfp.groupby('palavras').palavras.count() \\\n",
    "                               .reset_index(name='count') \\\n",
    "                               .sort_values(['count'], ascending=False) \\\n",
    "                               .head(10).reset_index(drop=True)\n",
    "\n",
    "dfc.plot.bar(x='palavras', color='orange')\n",
    "plt.gcf().set_size_inches(13, 6)"
   ]
  },
  {
   "cell_type": "markdown",
   "id": "005fdcbe",
   "metadata": {},
   "source": [
    "No terceiro gráfico, temos as 10 palavras mais frequentes nos comentários classificados na classe \"0\". Comparando com as palavras obtidas no gráfico anterior podemos observar muitas similaridades, porém, é interessante perceber que a palavra \"yeah\", que foi a que mais apareceu na classe \"1\", não chegou a aparecer nem no top 10 da classe \"0\", ou seja, essa palavra é muito mais utilizada em frases sarcásticas."
   ]
  },
  {
   "cell_type": "code",
   "execution_count": 77,
   "id": "60564b8a",
   "metadata": {},
   "outputs": [
    {
     "data": {
      "image/png": "[encoded data removed]",
      "text/plain": [
       "<Figure size 936x432 with 1 Axes>"
      ]
     },
     "metadata": {
      "needs_background": "light"
     },
     "output_type": "display_data"
    }
   ],
   "source": [
    "# Gráfico das palavras que aparecem com mais frequência na classe 0\n",
    "q2 = df[zero]\n",
    "q2 = q2.comment.explode().to_frame()\n",
    "P2=' '.join([str(w) for w in q2['comment']])\n",
    "P2 = preprocess(P2)\n",
    "palavras2 = P2.split()\n",
    "dfp2 = pd.DataFrame (palavras2, columns = ['palavras'])\n",
    "dfc2 = dfp2.groupby('palavras').palavras.count() \\\n",
    "                               .reset_index(name='count') \\\n",
    "                               .sort_values(['count'], ascending=False) \\\n",
    "                               .head(10).reset_index(drop=True)\n",
    "\n",
    "dfc2.plot.bar(x='palavras', color='green')\n",
    "plt.gcf().set_size_inches(13, 6)"
   ]
  },
  {
   "cell_type": "markdown",
   "id": "5cff9462",
   "metadata": {},
   "source": [
    "Na quarta figura, podemos ver um gráfico da quantidade de comentários que foram coletados para esse conjunto de dados em cada data(mês/ano). É possível perceber que em todas as datas, a quantidade de comentários sarcásticos coletados sempre foi maior, e em dezembro de 2016 foi coletada a maior quantidade de amostras. Nesse caso é importante observar a data das amostras, pois o contexto da época acaba influênciando nos comentários, e isso ajuda a identificar o que pode ser sarcástico ou não."
   ]
  },
  {
   "cell_type": "code",
   "execution_count": 78,
   "id": "3956a0ad",
   "metadata": {},
   "outputs": [
    {
     "data": {
      "image/png": "[encoded data removed]",
      "text/plain": [
       "<Figure size 936x432 with 1 Axes>"
      ]
     },
     "metadata": {
      "needs_background": "light"
     },
     "output_type": "display_data"
    }
   ],
   "source": [
    "q = df[um]\n",
    "day = q.date.explode().to_frame().reset_index(drop=True)\n",
    "dfd = pd.DataFrame (day, columns = ['date'])\n",
    "dfcd = dfd.groupby('date').date.count() \\\n",
    "                               .reset_index(name='count') \\\n",
    "                               .sort_values(['count'], ascending=False) \\\n",
    "                               .head(10).reset_index(drop=True)\n",
    "q2 = df[zero]\n",
    "day2 = q2.date.explode().to_frame().reset_index(drop=True)\n",
    "dfd2 = pd.DataFrame (day2, columns = ['date'])\n",
    "dfcd2 = dfd2.groupby('date').date.count() \\\n",
    "                               .reset_index(name='count') \\\n",
    "                               .sort_values(['count'], ascending=False) \\\n",
    "                               .head(10).reset_index(drop=True)\n",
    "dfcd['label'] = 1\n",
    "dfcd2['label'] = 0\n",
    "dfcd3 = pd.concat([dfcd, dfcd2], axis=0)\n",
    "ax = sns.barplot(x=\"date\", y=\"count\", hue=\"label\", palette=\"Set2\", data=dfcd3)\n",
    "plt.gcf().set_size_inches(13, 6)"
   ]
  },
  {
   "cell_type": "markdown",
   "id": "279b851d",
   "metadata": {},
   "source": [
    "No quinto gráfico, podemos observar uma comparação entre a distribuição da quantidade de caracteres dos comentários das duas classes."
   ]
  },
  {
   "cell_type": "code",
   "execution_count": 79,
   "id": "6f9d8c01",
   "metadata": {},
   "outputs": [
    {
     "data": {
      "image/png": "[encoded data removed]",
      "text/plain": [
       "<Figure size 936x432 with 1 Axes>"
      ]
     },
     "metadata": {
      "needs_background": "light"
     },
     "output_type": "display_data"
    }
   ],
   "source": [
    "df['comment'] = df['comment'].astype('str')\n",
    "lista = []\n",
    "for i in df['comment']:\n",
    "    f = preprocess(i)\n",
    "    lista.append(f)\n",
    "    \n",
    "dc = pd.DataFrame (lista, columns = ['comment'])\n",
    "label = df['label']\n",
    "df_dc = pd.concat([dc, label], axis=1)\n",
    "df_dc['tamanho']= dc['comment'].apply(len)\n",
    "sns.displot(df_dc, x=\"tamanho\", hue=\"label\", kind=\"kde\", fill=True)\n",
    "plt.gcf().set_size_inches(13, 6)"
   ]
  },
  {
   "cell_type": "markdown",
   "id": "e5c7f315",
   "metadata": {},
   "source": [
    "## Modelo Baseline"
   ]
  },
  {
   "cell_type": "markdown",
   "id": "f9d9cc3d",
   "metadata": {},
   "source": [
    "### Área em construção, markdowns ainda serão acrescentados."
   ]
  },
  {
   "cell_type": "code",
   "execution_count": 80,
   "id": "13551d0c",
   "metadata": {},
   "outputs": [],
   "source": [
    "X = df['comment']\n",
    "y = df['label']"
   ]
  },
  {
   "cell_type": "code",
   "execution_count": 81,
   "id": "497749df",
   "metadata": {},
   "outputs": [],
   "source": [
    "lista = []\n",
    "for i in X:\n",
    "    f = preprocess(i)\n",
    "    lista.append(f)\n",
    "X_PP = pd.DataFrame (lista, columns = ['comment'])"
   ]
  },
  {
   "cell_type": "code",
   "execution_count": 82,
   "id": "e612a8de",
   "metadata": {},
   "outputs": [],
   "source": [
    "from sklearn.model_selection import train_test_split\n",
    "X_train_valid, X_test, y_train_valid, y_test = train_test_split(X_PP,y, test_size=0.2, random_state=42)"
   ]
  },
  {
   "cell_type": "code",
   "execution_count": 83,
   "id": "f51e31bb",
   "metadata": {},
   "outputs": [],
   "source": [
    "from imblearn.over_sampling import RandomOverSampler\n",
    "ros = RandomOverSampler(random_state=42)\n",
    "X_r, y_r = ros.fit_resample(X_train_valid, y_train_valid)"
   ]
  },
  {
   "cell_type": "code",
   "execution_count": 84,
   "id": "c7b4b990",
   "metadata": {},
   "outputs": [],
   "source": [
    "from sklearn.feature_extraction.text import TfidfVectorizer\n",
    "tf = TfidfVectorizer(strip_accents='unicode', stop_words='english', ngram_range=(1,2))\n",
    "X_tf = tf.fit_transform(X_r['comment'])\n",
    "X_test_tf = tf.transform(X_test['comment'])"
   ]
  },
  {
   "cell_type": "markdown",
   "id": "8fc69c1e",
   "metadata": {},
   "source": [
    "A remoção da pontuação realizada durante a vetorização acabou deixando alguns caracteres indesejados, como o \" _ \""
   ]
  },
  {
   "cell_type": "code",
   "execution_count": 85,
   "id": "aa1432fc",
   "metadata": {},
   "outputs": [
    {
     "name": "stdout",
     "output_type": "stream",
     "text": [
      "aa\n",
      "aa awp\n",
      "aa capability\n",
      "aa hunter\n",
      "aa like\n",
      "aa modifier\n",
      "aa reset\n",
      "aa touched\n",
      "aa ual\n",
      "aa want\n",
      "aaa\n",
      "aaa fps\n",
      "aaa game\n",
      "aaa ideology\n",
      "aaa tpp\n",
      "aaa vr\n",
      "aaaaa\n",
      "aaaaa battery\n",
      "aaaaaaaaand\n",
      "aaaaaaaaand shit\n",
      "aaaaaaaagaaaaaaaaaaaaaaaaaaiiiiiiiiiiiiin\n",
      "aaaaaaaagaaaaaaaaaaaaaaaaaaiiiiiiiiiiiiin mah\n",
      "aaaaaaaany\n",
      "aaaaaaaany social\n",
      "aaaaaaamnnnnnnnddddd\n",
      "aaaaaaamnnnnnnnddddd gone\n",
      "aaaaaaand\n",
      "aaaaaaand fined\n",
      "aaaaaand\n",
      "aaaaaand thats\n",
      "aaaaaannnddd\n",
      "aaaaaannnddd want\n",
      "aaaaaannnnnnnndddd\n",
      "aaaaaannnnnnnndddd im\n",
      "aaaaall\n",
      "aaaaand\n",
      "aaaaand ksp\n",
      "aaaand\n",
      "aaaand im\n",
      "aaand\n",
      "aaand retagged\n",
      "aahahahaha\n",
      "aahahahaha idea\n",
      "aajkal\n",
      "aampm\n",
      "aampm going\n",
      "aampm like\n",
      "aampm overtime\n",
      "aampm prairie\n",
      "aan\n",
      "aan die\n",
      "aan hand\n",
      "aan het\n",
      "aan vraag\n",
      "aand\n",
      "aand guy\n",
      "aand healthy\n",
      "aang\n",
      "aang katara\n",
      "aangereden\n",
      "aangereden het\n",
      "aap\n",
      "aap follow\n",
      "aap nay\n",
      "aap place\n",
      "aap wonder\n",
      "aar\n",
      "aar cuda\n",
      "aare\n",
      "aare make\n",
      "aaron\n",
      "aaron diaz\n",
      "aaron hernandez\n",
      "aaron lmao\n",
      "aaron peskin\n",
      "aaron rodgers\n",
      "aav\n",
      "aav mil\n",
      "aave\n",
      "ab\n",
      "ab allowed\n",
      "ab better\n",
      "ab got\n",
      "ab ill\n",
      "ab popular\n",
      "ab testing\n",
      "ababa\n",
      "abaddon\n",
      "abaddon fall\n",
      "abandon\n",
      "abandon account\n",
      "abandon campaign\n",
      "abandon lane\n",
      "abandoned\n",
      "abandoned father\n",
      "abandoned mac\n",
      "abandoned rise\n",
      "abathur\n",
      "abathur eggless\n",
      "abbas\n"
     ]
    }
   ],
   "source": [
    "c=0\n",
    "for i in tf.get_feature_names():\n",
    "    print(i)\n",
    "    c+=1\n",
    "    if c == 100:\n",
    "        break"
   ]
  },
  {
   "cell_type": "code",
   "execution_count": 86,
   "id": "6ef3ceba",
   "metadata": {
    "scrolled": false
   },
   "outputs": [
    {
     "data": {
      "text/plain": [
       "LogisticRegression()"
      ]
     },
     "execution_count": 86,
     "metadata": {},
     "output_type": "execute_result"
    }
   ],
   "source": [
    "from sklearn.linear_model import LogisticRegression\n",
    "LRB = LogisticRegression()\n",
    "LRB.fit(X_tf, y_r)"
   ]
  },
  {
   "cell_type": "code",
   "execution_count": 87,
   "id": "8e090b93",
   "metadata": {},
   "outputs": [],
   "source": [
    "y_predictB = LRB.predict(X_test_tf)"
   ]
  },
  {
   "cell_type": "code",
   "execution_count": 88,
   "id": "a9cdc50a",
   "metadata": {},
   "outputs": [
    {
     "name": "stdout",
     "output_type": "stream",
     "text": [
      "A acurácia foi de: 66.26%\n"
     ]
    }
   ],
   "source": [
    "from sklearn.metrics import accuracy_score\n",
    "A1 = accuracy_score(y_test, y_predictB)\n",
    "print(f'A acurácia foi de: {round(A1*100, 2)}%')"
   ]
  },
  {
   "cell_type": "markdown",
   "id": "d65f7c15",
   "metadata": {},
   "source": [
    "## 1° Conjunto de atributos de entrada"
   ]
  },
  {
   "cell_type": "code",
   "execution_count": 89,
   "id": "47da6206",
   "metadata": {},
   "outputs": [],
   "source": [
    "X1 = df[['comment', 'parent_comment']]\n",
    "y = df['label']"
   ]
  },
  {
   "cell_type": "code",
   "execution_count": 90,
   "id": "faec3609",
   "metadata": {},
   "outputs": [],
   "source": [
    "X1['conc'] = X1[['comment', 'parent_comment']].agg(' '.join, axis=1)"
   ]
  },
  {
   "cell_type": "code",
   "execution_count": 91,
   "id": "46d0f4e5",
   "metadata": {},
   "outputs": [],
   "source": [
    "lista = []\n",
    "for i in X1['conc']:\n",
    "    f = preprocess(i)\n",
    "    lista.append(f)\n",
    "X1_PP = pd.DataFrame (lista, columns = ['conc'])"
   ]
  },
  {
   "cell_type": "code",
   "execution_count": 92,
   "id": "f15edf9d",
   "metadata": {},
   "outputs": [],
   "source": [
    "from sklearn.model_selection import train_test_split\n",
    "X_train_valid, X_test, y_train_valid, y_test = train_test_split(X1_PP,y, test_size=0.2, random_state=42)"
   ]
  },
  {
   "cell_type": "code",
   "execution_count": 93,
   "id": "270ab9cf",
   "metadata": {},
   "outputs": [],
   "source": [
    "from imblearn.over_sampling import RandomOverSampler\n",
    "ros = RandomOverSampler(random_state=42)\n",
    "X_r, y_r = ros.fit_resample(X_train_valid, y_train_valid)"
   ]
  },
  {
   "cell_type": "code",
   "execution_count": 94,
   "id": "34d2f4dc",
   "metadata": {},
   "outputs": [],
   "source": [
    "from sklearn.feature_extraction.text import TfidfVectorizer\n",
    "tf = TfidfVectorizer(strip_accents='unicode', stop_words='english', ngram_range=(1,2), min_df=2)\n",
    "X_tf = tf.fit_transform(X_r['conc'])\n",
    "X_test_tf = tf.transform(X_test['conc'])"
   ]
  },
  {
   "cell_type": "code",
   "execution_count": 95,
   "id": "01880f86",
   "metadata": {},
   "outputs": [],
   "source": [
    "X_train, X_valid, y_train, y_valid = train_test_split(X_tf,y_r, test_size=0.2, random_state=42)"
   ]
  },
  {
   "cell_type": "markdown",
   "id": "1cfa8001",
   "metadata": {},
   "source": [
    "### 1° Modelo: Regressão logística"
   ]
  },
  {
   "cell_type": "code",
   "execution_count": 97,
   "id": "fc1cff41",
   "metadata": {},
   "outputs": [],
   "source": [
    "from sklearn.model_selection import GridSearchCV\n",
    "metricas = ['accuracy', 'precision', 'recall', 'f1', 'roc_auc']\n",
    "parametersRL = {'C':[1.0, 0.5, 1.5, 2.0],\n",
    "              'penalty': ['l2', 'none'],\n",
    "              'solver':['lbfgs', 'saga', 'newton-cg']}"
   ]
  },
  {
   "cell_type": "code",
   "execution_count": 98,
   "id": "8c9718f9",
   "metadata": {},
   "outputs": [
    {
     "data": {
      "text/plain": [
       "LogisticRegression(C=1.5, penalty='none', solver='saga')"
      ]
     },
     "execution_count": 98,
     "metadata": {},
     "output_type": "execute_result"
    }
   ],
   "source": [
    "LRB = LogisticRegression()\n",
    "clf = GridSearchCV(LRB, param_grid=parametersRL, scoring=metricas, refit='accuracy', return_train_score=False)\n",
    "clf.fit(X_train, y_train)\n",
    "clf.best_estimator_"
   ]
  },
  {
   "cell_type": "code",
   "execution_count": 99,
   "id": "a21a0f9c",
   "metadata": {},
   "outputs": [
    {
     "name": "stdout",
     "output_type": "stream",
     "text": [
      "A acurácia foi de: 81.51%\n"
     ]
    }
   ],
   "source": [
    "y_predict = clf.predict(X_valid)\n",
    "A1 = accuracy_score(y_valid, y_predict)\n",
    "print(f'A acurácia foi de: {round(A1*100, 2)}%')"
   ]
  },
  {
   "cell_type": "code",
   "execution_count": 100,
   "id": "d4c2e08b",
   "metadata": {},
   "outputs": [
    {
     "data": {
      "text/plain": [
       "LogisticRegression(C=1.5, penalty='none', solver='saga')"
      ]
     },
     "execution_count": 100,
     "metadata": {},
     "output_type": "execute_result"
    }
   ],
   "source": [
    "LRB = LogisticRegression(C=1.5, penalty='none', solver='saga')\n",
    "LRB.fit(X_tf, y_r)"
   ]
  },
  {
   "cell_type": "code",
   "execution_count": 101,
   "id": "c0c142fc",
   "metadata": {},
   "outputs": [],
   "source": [
    "y_predict = LRB.predict(X_test_tf)"
   ]
  },
  {
   "cell_type": "code",
   "execution_count": 102,
   "id": "a4dab4c7",
   "metadata": {},
   "outputs": [
    {
     "name": "stdout",
     "output_type": "stream",
     "text": [
      "A acurácia foi de: 64.94%\n"
     ]
    }
   ],
   "source": [
    "from sklearn.metrics import accuracy_score\n",
    "A1 = accuracy_score(y_test, y_predict)\n",
    "print(f'A acurácia foi de: {round(A1*100, 2)}%')"
   ]
  },
  {
   "cell_type": "markdown",
   "id": "8af688b3",
   "metadata": {},
   "source": [
    "### 2° Modelo: Naive bayes"
   ]
  },
  {
   "cell_type": "code",
   "execution_count": 103,
   "id": "a937145f",
   "metadata": {},
   "outputs": [],
   "source": [
    "parametersNB = {'alpha':[1.0, 0.5, 1.5, 2.0],\n",
    "              'fit_prior': [True, False]}"
   ]
  },
  {
   "cell_type": "code",
   "execution_count": 104,
   "id": "e9cc8ea9",
   "metadata": {},
   "outputs": [
    {
     "data": {
      "text/plain": [
       "MultinomialNB(alpha=0.5, fit_prior=False)"
      ]
     },
     "execution_count": 104,
     "metadata": {},
     "output_type": "execute_result"
    }
   ],
   "source": [
    "from sklearn.naive_bayes import MultinomialNB\n",
    "NB = MultinomialNB()\n",
    "clf = GridSearchCV(NB, param_grid=parametersNB, scoring=metricas, refit='accuracy')\n",
    "clf.fit(X_train, y_train)\n",
    "clf.best_estimator_"
   ]
  },
  {
   "cell_type": "code",
   "execution_count": 105,
   "id": "6ae6be6a",
   "metadata": {},
   "outputs": [
    {
     "name": "stdout",
     "output_type": "stream",
     "text": [
      "A acurácia foi de: 78.67%\n"
     ]
    }
   ],
   "source": [
    "y_predict = clf.predict(X_valid)\n",
    "A1 = accuracy_score(y_valid, y_predict)\n",
    "print(f'A acurácia foi de: {round(A1*100, 2)}%')"
   ]
  },
  {
   "cell_type": "code",
   "execution_count": 106,
   "id": "3569820f",
   "metadata": {},
   "outputs": [
    {
     "data": {
      "text/plain": [
       "MultinomialNB(alpha=0.5, fit_prior=False)"
      ]
     },
     "execution_count": 106,
     "metadata": {},
     "output_type": "execute_result"
    }
   ],
   "source": [
    "NB = MultinomialNB(alpha=0.5, fit_prior=False)\n",
    "NB.fit(X_tf, y_r)"
   ]
  },
  {
   "cell_type": "code",
   "execution_count": 107,
   "id": "3294b819",
   "metadata": {},
   "outputs": [],
   "source": [
    "y_predict = NB.predict(X_test_tf)"
   ]
  },
  {
   "cell_type": "code",
   "execution_count": 108,
   "id": "17729401",
   "metadata": {},
   "outputs": [
    {
     "name": "stdout",
     "output_type": "stream",
     "text": [
      "A acurácia foi de: 66.9%\n"
     ]
    }
   ],
   "source": [
    "from sklearn.metrics import accuracy_score\n",
    "A1 = accuracy_score(y_test, y_predict)\n",
    "print(f'A acurácia foi de: {round(A1*100, 2)}%')"
   ]
  },
  {
   "cell_type": "code",
   "execution_count": 109,
   "id": "19588480",
   "metadata": {},
   "outputs": [],
   "source": [
    "# lista = []\n",
    "# for i in X_r['comment']:\n",
    "#     f = preprocess2(i)\n",
    "#     lista.append(f)\n",
    "# d1 = pd.DataFrame (lista, columns = ['comment'])"
   ]
  },
  {
   "cell_type": "code",
   "execution_count": 110,
   "id": "209fc44c",
   "metadata": {},
   "outputs": [],
   "source": [
    "#lista2 = []\n",
    "#for i in X_r['parent_comment']:\n",
    "#    f = preprocess2(i)\n",
    "#    lista2.append(f)\n",
    "#d2 = pd.DataFrame (lista2, columns = ['parent_comment'])"
   ]
  },
  {
   "cell_type": "code",
   "execution_count": 111,
   "id": "d0e0f2c0",
   "metadata": {},
   "outputs": [],
   "source": [
    "#X_PP = pd.concat([d1, d2], axis=1)\n",
    "#X_PP"
   ]
  },
  {
   "cell_type": "code",
   "execution_count": null,
   "id": "5b653707",
   "metadata": {},
   "outputs": [],
   "source": []
  }
 ],
 "metadata": {
  "kernelspec": {
   "display_name": "Python 3",
   "language": "python",
   "name": "python3"
  },
  "language_info": {
   "codemirror_mode": {
    "name": "ipython",
    "version": 3
   },
   "file_extension": ".py",
   "mimetype": "text/x-python",
   "name": "python",
   "nbconvert_exporter": "python",
   "pygments_lexer": "ipython3",
   "version": "3.8.8"
  }
 },
 "nbformat": 4,
 "nbformat_minor": 5
}
