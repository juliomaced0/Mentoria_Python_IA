{
 "cells": [
  {
   "cell_type": "markdown",
   "id": "6a651183",
   "metadata": {},
   "source": [
    "# Trabalho Final"
   ]
  },
  {
   "cell_type": "markdown",
   "id": "30eb6442",
   "metadata": {},
   "source": [
    "Neste trabalho final você irá pôr em prática todas as etapas exercitadas ao longo da mentoria sobre projetos de aprendizado de máquina em uma tarefa de classificação de NLP: detecção de sarcasmo. Segundo Yaghoobian et al:\n",
    "\n",
    "    “Sarcasm detection is the task of identifying irony containing utterances in sentiment-bearing text. However, the figurative and creative nature of sarcasm poses a great challenge for affective computing systems performing sentiment analysis.”\n",
    "\n",
    " \n",
    "\n",
    "Detecção de sarcasmo é uma tarefa com muitas aplicações práticas interessantes,  mas também é extremamente desafiadora. Padrões linguísticos e sociais que categorizam o sarcasmo podem não estar contido unicamente no texto ou no uso de palavras específicas, dificultando que algoritmos de aprendizado de máquina aprendam a generalizar. Nesse contexto, foi proposto por Khodak et al o dataset SARC, coletado da plataforma Reddit:\n",
    "\n",
    "\n",
    "    “We introduce the Self-Annotated Reddit Corpus (SARC), a large corpus for sarcasm research and for training and evaluating systems for sarcasm detection. The corpus has 1.3 million sarcastic statements -- 10 times more than any previous dataset -- and many times more instances of non-sarcastic statements, allowing for learning in both balanced and unbalanced label regimes. Each statement is furthermore self-annotated -- sarcasm is labeled by the author, not an independent annotator -- and provided with user, topic, and conversation context.”\n",
    "\n",
    "\n",
    "Em anexo, encontra-se uma amostra do SARC. Dado esse contexto, você deverá criar e validar um modelo de detecção de sarcasmo utilizando esse dataset. O trabalho deverá conter:\n",
    "\n",
    "\n",
    "    Análise exploratória\n",
    "\n",
    "        Mostre exemplos de cada classe.\n",
    "\n",
    "        Crie pelo menos 5 gráficos, contendo um que mostre o balanceamento entre as classes. Sugestões de outros gráficos: termos mais frequentes em cada classe, distribuição da quantidade de palavras em cada classe.\n",
    "\n",
    "        Discuta seus achados.\n",
    "\n",
    "\n",
    "    Aprendizado não-supervisionado\n",
    "\n",
    "        Qualquer técnica pode ser utilizada, clusterização ou redução de dimensionalidade. Pode-se usar parte da análise exploratória ou como auxiliar na classificação.\n",
    "\n",
    "\n",
    "    Limpeza e pré-processamento dos dados\n",
    "\n",
    "        Pelo menos 3 técnicas de pré-processamento de texto (que já não sejam utilizadas por padrão na vetorização)\n",
    "\n",
    "        Utilize alguma técnica de balanceamento de dados\n",
    "\n",
    "\n",
    "    Engenharia de atributos\n",
    "\n",
    "        Selecione dentre os dados disponíveis quais devem ser utilizados como atributos de entrada e o método para representação vetorial.\n",
    "\n",
    "        Utilize pelo menos dois conjuntos de atributos de entrada, comparando as performances. Justifique suas escolhas.\n",
    "\n",
    "\n",
    "    Estabelecimento de um baseline\n",
    "\n",
    "        Utilize um modelo simples, não faça otimização de hiperparâmetros. Justifique sua escolha.\n",
    "\n",
    "\n",
    "    Seleção e avaliação de modelos\n",
    "\n",
    "        Escolha uma ou mais métricas de desempenho apropriadas para esta tarefa.\n",
    "\n",
    "        Utilize pelo menos 4 algoritmos, realizando a otimização de hiperparâmetros. Destes modelos, ao menos um deve ser um algoritmos deve ser um que não foi visto durante a mentoria. Estude o funcionamento dele. Sugestão: modelo de Deep Learning.\n",
    "\n",
    "        Avalie os algoritmos com hiperparâmetros otimizados no conjunto de teste.\n",
    "\n",
    "\n",
    "    Análise de resultados\n",
    "\n",
    "        Mostre exemplos dos erros (falso positivos e falso negativos) para o melhor dos algoritmos experimentados.\n",
    "\n",
    "        Discuta os resultados e aponte quais seriam possíveis melhorias\n",
    "\n",
    "\n",
    "    (OPCIONAL) Interpretabilidade\n",
    "\n",
    "        Utilize algum método que permita uma interpretação das predições de algum dos seus modelos.\n",
    "\n",
    "\n",
    "    (OPCIONAL) Deploy\n",
    "\n",
    "        Implemente uma API para que o seu melhor modelo possa ser utilizado via requisições HTTP."
   ]
  },
  {
   "cell_type": "code",
   "execution_count": 1,
   "id": "628e9689",
   "metadata": {},
   "outputs": [],
   "source": [
    "import numpy as np\n",
    "import pandas as pd\n",
    "import matplotlib.pyplot as plt\n",
    "import seaborn as sns\n",
    "from warnings import filterwarnings\n",
    "filterwarnings('ignore')\n",
    "%matplotlib inline"
   ]
  },
  {
   "cell_type": "markdown",
   "id": "530668f2",
   "metadata": {},
   "source": [
    "Primeiramente, alterando as configurações do dataframe para que ele exiba os textos completos, e logo em seguida imprimindo o dataframe para realizar sua análise."
   ]
  },
  {
   "cell_type": "code",
   "execution_count": 2,
   "id": "7b07ba7c",
   "metadata": {
    "scrolled": false
   },
   "outputs": [
    {
     "data": {
      "text/html": [
       "<div>\n",
       "<style scoped>\n",
       "    .dataframe tbody tr th:only-of-type {\n",
       "        vertical-align: middle;\n",
       "    }\n",
       "\n",
       "    .dataframe tbody tr th {\n",
       "        vertical-align: top;\n",
       "    }\n",
       "\n",
       "    .dataframe thead th {\n",
       "        text-align: right;\n",
       "    }\n",
       "</style>\n",
       "<table border=\"1\" class=\"dataframe\">\n",
       "  <thead>\n",
       "    <tr style=\"text-align: right;\">\n",
       "      <th></th>\n",
       "      <th>label</th>\n",
       "      <th>comment</th>\n",
       "      <th>author</th>\n",
       "      <th>subreddit</th>\n",
       "      <th>score</th>\n",
       "      <th>ups</th>\n",
       "      <th>downs</th>\n",
       "      <th>date</th>\n",
       "      <th>created_utc</th>\n",
       "      <th>parent_comment</th>\n",
       "    </tr>\n",
       "  </thead>\n",
       "  <tbody>\n",
       "    <tr>\n",
       "      <th>0</th>\n",
       "      <td>1</td>\n",
       "      <td>Of course, just like 3.2 was the true Messiah.</td>\n",
       "      <td>ReticentHedgehog</td>\n",
       "      <td>ffxiv</td>\n",
       "      <td>1</td>\n",
       "      <td>1</td>\n",
       "      <td>0</td>\n",
       "      <td>2016-05</td>\n",
       "      <td>2016-05-02 20:20:37</td>\n",
       "      <td>Is patch 3.3 going to be our savior? Without trying to sound like a broken record and repeating the many point of views of the growing apocalyptic threads on this forum. I was hoping to get the opinions of everyone if they believe patch 3.3 is going to bring back some of the players who have quit in the last patch or two, or does this feel like another cookie cutter patch that wont stop exit of quality population specifically on the North American servers. I ask this in concern that I have made a assertive effort as of late to refill our FC, and one of the strong points of the patch info so far is that they are installing a cross realm raid tool, which seems like it would diminish the need to recruit for a FC. I personally enjoy the aspect of a 10-15 member FC which can grow close and share things in common to the game and outside the game. But with the game seemingly losing subs it has become harder to find people to come together like I had just described and I don't want to put false hope in those who I have recruited so far. Give me some hope!</td>\n",
       "    </tr>\n",
       "    <tr>\n",
       "      <th>1</th>\n",
       "      <td>1</td>\n",
       "      <td>Yeah because Iran was 100% muslim prior to 1979, and still is now.</td>\n",
       "      <td>methmobile</td>\n",
       "      <td>worldnews</td>\n",
       "      <td>-3</td>\n",
       "      <td>-1</td>\n",
       "      <td>-1</td>\n",
       "      <td>2016-12</td>\n",
       "      <td>2016-12-30 10:21:31</td>\n",
       "      <td>I suggest you research Iran pre-1979 as well as al-Qatb and the rise of Wahhabism. You are fully entitled to have an opinion and express it (and you do bring up a good point re: rural cobservatism) but you are misinformed.</td>\n",
       "    </tr>\n",
       "    <tr>\n",
       "      <th>2</th>\n",
       "      <td>1</td>\n",
       "      <td>WELL YOU'RE JUST A BITCH...YOU HAVE TO GO AND POST AND TAKE YOUR DOWNVOTES</td>\n",
       "      <td>dillydelly</td>\n",
       "      <td>nba</td>\n",
       "      <td>1</td>\n",
       "      <td>1</td>\n",
       "      <td>0</td>\n",
       "      <td>2014-05</td>\n",
       "      <td>2014-05-04 08:02:30</td>\n",
       "      <td>Warriors / Clips game threads literally add zero value to the game experience. Why would I want to see the words flop, flopped and flopper repeated constantly? Thunder / Clips game threads were pretty good during the season. We'll see how the playoff ones are.</td>\n",
       "    </tr>\n",
       "    <tr>\n",
       "      <th>3</th>\n",
       "      <td>1</td>\n",
       "      <td>Yeah, it's dumb to run background checks on potential teachers.</td>\n",
       "      <td>Krenolds</td>\n",
       "      <td>AskReddit</td>\n",
       "      <td>1</td>\n",
       "      <td>1</td>\n",
       "      <td>0</td>\n",
       "      <td>2014-09</td>\n",
       "      <td>2014-09-02 08:09:10</td>\n",
       "      <td>Oh i forgot.., you get to be finger printed when you are hired! Awesome!</td>\n",
       "    </tr>\n",
       "    <tr>\n",
       "      <th>4</th>\n",
       "      <td>1</td>\n",
       "      <td>Oh, it's not that bad once you get a handle on the crippling depression and constant tooth grinding.</td>\n",
       "      <td>ericanderton</td>\n",
       "      <td>AskReddit</td>\n",
       "      <td>4</td>\n",
       "      <td>4</td>\n",
       "      <td>0</td>\n",
       "      <td>2011-08</td>\n",
       "      <td>2011-08-24 13:17:20</td>\n",
       "      <td>Haha oh. Definitely not an option than.</td>\n",
       "    </tr>\n",
       "    <tr>\n",
       "      <th>...</th>\n",
       "      <td>...</td>\n",
       "      <td>...</td>\n",
       "      <td>...</td>\n",
       "      <td>...</td>\n",
       "      <td>...</td>\n",
       "      <td>...</td>\n",
       "      <td>...</td>\n",
       "      <td>...</td>\n",
       "      <td>...</td>\n",
       "      <td>...</td>\n",
       "    </tr>\n",
       "    <tr>\n",
       "      <th>59995</th>\n",
       "      <td>0</td>\n",
       "      <td>room you mean like, dimension?</td>\n",
       "      <td>Tikikala</td>\n",
       "      <td>digimon</td>\n",
       "      <td>1</td>\n",
       "      <td>1</td>\n",
       "      <td>0</td>\n",
       "      <td>2016-03</td>\n",
       "      <td>2016-03-26 03:42:22</td>\n",
       "      <td>So as another guy pointed out. Huckmon might be projecting Ken as a way to steal Meicoomon, remember he was lurking all the time. Also he was in the 'room' after Ken disappeared</td>\n",
       "    </tr>\n",
       "    <tr>\n",
       "      <th>59996</th>\n",
       "      <td>0</td>\n",
       "      <td>I wasn't too fond of grabner in 14 so I put Bergeron up the middle to win draws and set up plays and what not.</td>\n",
       "      <td>mrhairybolo</td>\n",
       "      <td>hockey</td>\n",
       "      <td>1</td>\n",
       "      <td>1</td>\n",
       "      <td>0</td>\n",
       "      <td>2014-08</td>\n",
       "      <td>2014-08-10 05:57:31</td>\n",
       "      <td>Hall - Duchene - Grabner?</td>\n",
       "    </tr>\n",
       "    <tr>\n",
       "      <th>59997</th>\n",
       "      <td>0</td>\n",
       "      <td>he wasn't even at worlds in season 4!</td>\n",
       "      <td>Highstalker</td>\n",
       "      <td>leagueoflegends</td>\n",
       "      <td>-1</td>\n",
       "      <td>-1</td>\n",
       "      <td>0</td>\n",
       "      <td>2016-09</td>\n",
       "      <td>2016-09-19 14:41:23</td>\n",
       "      <td>Yeah he was.</td>\n",
       "    </tr>\n",
       "    <tr>\n",
       "      <th>59998</th>\n",
       "      <td>0</td>\n",
       "      <td>Right, but the Trump sign...</td>\n",
       "      <td>gcbeehler5</td>\n",
       "      <td>pics</td>\n",
       "      <td>2</td>\n",
       "      <td>2</td>\n",
       "      <td>0</td>\n",
       "      <td>2016-09</td>\n",
       "      <td>2016-09-01 02:14:54</td>\n",
       "      <td>I wouldn't say you have to be liberal to appreciate sustainability. You just have to not be an ignorant twat.</td>\n",
       "    </tr>\n",
       "    <tr>\n",
       "      <th>59999</th>\n",
       "      <td>0</td>\n",
       "      <td>Would be awesome, but it's one of those things that has to be done flawlessly and can't be half-assed.</td>\n",
       "      <td>ImKoncerned</td>\n",
       "      <td>2007scape</td>\n",
       "      <td>3</td>\n",
       "      <td>3</td>\n",
       "      <td>0</td>\n",
       "      <td>2015-03</td>\n",
       "      <td>2015-03-13 21:30:57</td>\n",
       "      <td>Unfortunately I think so too :'(</td>\n",
       "    </tr>\n",
       "  </tbody>\n",
       "</table>\n",
       "<p>60000 rows × 10 columns</p>\n",
       "</div>"
      ],
      "text/plain": [
       "       label  \\\n",
       "0          1   \n",
       "1          1   \n",
       "2          1   \n",
       "3          1   \n",
       "4          1   \n",
       "...      ...   \n",
       "59995      0   \n",
       "59996      0   \n",
       "59997      0   \n",
       "59998      0   \n",
       "59999      0   \n",
       "\n",
       "                                                                                                              comment  \\\n",
       "0                                                                      Of course, just like 3.2 was the true Messiah.   \n",
       "1                                                  Yeah because Iran was 100% muslim prior to 1979, and still is now.   \n",
       "2                                          WELL YOU'RE JUST A BITCH...YOU HAVE TO GO AND POST AND TAKE YOUR DOWNVOTES   \n",
       "3                                                     Yeah, it's dumb to run background checks on potential teachers.   \n",
       "4                Oh, it's not that bad once you get a handle on the crippling depression and constant tooth grinding.   \n",
       "...                                                                                                               ...   \n",
       "59995                                                                                  room you mean like, dimension?   \n",
       "59996  I wasn't too fond of grabner in 14 so I put Bergeron up the middle to win draws and set up plays and what not.   \n",
       "59997                                                                           he wasn't even at worlds in season 4!   \n",
       "59998                                                                                    Right, but the Trump sign...   \n",
       "59999          Would be awesome, but it's one of those things that has to be done flawlessly and can't be half-assed.   \n",
       "\n",
       "                 author        subreddit  score  ups  downs     date  \\\n",
       "0      ReticentHedgehog            ffxiv      1    1      0  2016-05   \n",
       "1            methmobile        worldnews     -3   -1     -1  2016-12   \n",
       "2            dillydelly              nba      1    1      0  2014-05   \n",
       "3              Krenolds        AskReddit      1    1      0  2014-09   \n",
       "4          ericanderton        AskReddit      4    4      0  2011-08   \n",
       "...                 ...              ...    ...  ...    ...      ...   \n",
       "59995          Tikikala          digimon      1    1      0  2016-03   \n",
       "59996       mrhairybolo           hockey      1    1      0  2014-08   \n",
       "59997       Highstalker  leagueoflegends     -1   -1      0  2016-09   \n",
       "59998        gcbeehler5             pics      2    2      0  2016-09   \n",
       "59999       ImKoncerned        2007scape      3    3      0  2015-03   \n",
       "\n",
       "               created_utc  \\\n",
       "0      2016-05-02 20:20:37   \n",
       "1      2016-12-30 10:21:31   \n",
       "2      2014-05-04 08:02:30   \n",
       "3      2014-09-02 08:09:10   \n",
       "4      2011-08-24 13:17:20   \n",
       "...                    ...   \n",
       "59995  2016-03-26 03:42:22   \n",
       "59996  2014-08-10 05:57:31   \n",
       "59997  2016-09-19 14:41:23   \n",
       "59998  2016-09-01 02:14:54   \n",
       "59999  2015-03-13 21:30:57   \n",
       "\n",
       "                                                                                                                                                                                                                                                                                                                                                                                                                                                                                                                                                                                                                                                                                                                                                                                                                                                                                                                                                                                                                                                                                                parent_comment  \n",
       "0      Is patch 3.3 going to be our savior? Without trying to sound like a broken record and repeating the many point of views of the growing apocalyptic threads on this forum. I was hoping to get the opinions of everyone if they believe patch 3.3 is going to bring back some of the players who have quit in the last patch or two, or does this feel like another cookie cutter patch that wont stop exit of quality population specifically on the North American servers. I ask this in concern that I have made a assertive effort as of late to refill our FC, and one of the strong points of the patch info so far is that they are installing a cross realm raid tool, which seems like it would diminish the need to recruit for a FC. I personally enjoy the aspect of a 10-15 member FC which can grow close and share things in common to the game and outside the game. But with the game seemingly losing subs it has become harder to find people to come together like I had just described and I don't want to put false hope in those who I have recruited so far. Give me some hope!  \n",
       "1                                                                                                                                                                                                                                                                                                                                                                                                                                                                                                                                                                                                                                                                                                                                                                                                                                                                               I suggest you research Iran pre-1979 as well as al-Qatb and the rise of Wahhabism. You are fully entitled to have an opinion and express it (and you do bring up a good point re: rural cobservatism) but you are misinformed.  \n",
       "2                                                                                                                                                                                                                                                                                                                                                                                                                                                                                                                                                                                                                                                                                                                                                                                                                                         Warriors / Clips game threads literally add zero value to the game experience. Why would I want to see the words flop, flopped and flopper repeated constantly? Thunder / Clips game threads were pretty good during the season. We'll see how the playoff ones are.  \n",
       "3                                                                                                                                                                                                                                                                                                                                                                                                                                                                                                                                                                                                                                                                                                                                                                                                                                                                                                                                                                                                                                     Oh i forgot.., you get to be finger printed when you are hired! Awesome!  \n",
       "4                                                                                                                                                                                                                                                                                                                                                                                                                                                                                                                                                                                                                                                                                                                                                                                                                                                                                                                                                                                                                                                                      Haha oh. Definitely not an option than.  \n",
       "...                                                                                                                                                                                                                                                                                                                                                                                                                                                                                                                                                                                                                                                                                                                                                                                                                                                                                                                                                                                                                                                                                                        ...  \n",
       "59995                                                                                                                                                                                                                                                                                                                                                                                                                                                                                                                                                                                                                                                                                                                                                                                                                                                                                                                        So as another guy pointed out. Huckmon might be projecting Ken as a way to steal Meicoomon, remember he was lurking all the time. Also he was in the 'room' after Ken disappeared  \n",
       "59996                                                                                                                                                                                                                                                                                                                                                                                                                                                                                                                                                                                                                                                                                                                                                                                                                                                                                                                                                                                                                                                                                Hall - Duchene - Grabner?  \n",
       "59997                                                                                                                                                                                                                                                                                                                                                                                                                                                                                                                                                                                                                                                                                                                                                                                                                                                                                                                                                                                                                                                                                             Yeah he was.  \n",
       "59998                                                                                                                                                                                                                                                                                                                                                                                                                                                                                                                                                                                                                                                                                                                                                                                                                                                                                                                                                                                            I wouldn't say you have to be liberal to appreciate sustainability. You just have to not be an ignorant twat.  \n",
       "59999                                                                                                                                                                                                                                                                                                                                                                                                                                                                                                                                                                                                                                                                                                                                                                                                                                                                                                                                                                                                                                                                         Unfortunately I think so too :'(  \n",
       "\n",
       "[60000 rows x 10 columns]"
      ]
     },
     "execution_count": 2,
     "metadata": {},
     "output_type": "execute_result"
    }
   ],
   "source": [
    "pd.set_option(\"display.max_colwidth\", None)\n",
    "df = pd.read_csv('sarc_sample.csv')\n",
    "df"
   ]
  },
  {
   "cell_type": "markdown",
   "id": "25a7939b",
   "metadata": {},
   "source": [
    "# Análise exploratória"
   ]
  },
  {
   "cell_type": "markdown",
   "id": "55ec6554",
   "metadata": {},
   "source": [
    "Esta etapa visa analisar o conjunto de dados para entender melhor seu desempenho e os seus futuros resultados. Para isso, iremos analisar alguns gráficos que trazem informações importantes para a classificação dos dados. Primeiramente, trouxe a baixo 4 exemplos de cada classe, conforme orientado na descrição da atividade."
   ]
  },
  {
   "cell_type": "code",
   "execution_count": 3,
   "id": "0e0741f1",
   "metadata": {},
   "outputs": [
    {
     "data": {
      "text/html": [
       "<div>\n",
       "<style scoped>\n",
       "    .dataframe tbody tr th:only-of-type {\n",
       "        vertical-align: middle;\n",
       "    }\n",
       "\n",
       "    .dataframe tbody tr th {\n",
       "        vertical-align: top;\n",
       "    }\n",
       "\n",
       "    .dataframe thead th {\n",
       "        text-align: right;\n",
       "    }\n",
       "</style>\n",
       "<table border=\"1\" class=\"dataframe\">\n",
       "  <thead>\n",
       "    <tr style=\"text-align: right;\">\n",
       "      <th></th>\n",
       "      <th>label</th>\n",
       "      <th>comment</th>\n",
       "      <th>author</th>\n",
       "      <th>subreddit</th>\n",
       "      <th>score</th>\n",
       "      <th>ups</th>\n",
       "      <th>downs</th>\n",
       "      <th>date</th>\n",
       "      <th>created_utc</th>\n",
       "      <th>parent_comment</th>\n",
       "    </tr>\n",
       "  </thead>\n",
       "  <tbody>\n",
       "    <tr>\n",
       "      <th>9625</th>\n",
       "      <td>1</td>\n",
       "      <td>oh no think if she had been responding to nice greetings like \"hello, how are you\" that would be terrible</td>\n",
       "      <td>Lisu</td>\n",
       "      <td>creepyPMs</td>\n",
       "      <td>1</td>\n",
       "      <td>1</td>\n",
       "      <td>0</td>\n",
       "      <td>2015-01</td>\n",
       "      <td>2015-01-22 14:57:29</td>\n",
       "      <td>My Jewish friend sure gets some interesting messages</td>\n",
       "    </tr>\n",
       "    <tr>\n",
       "      <th>32253</th>\n",
       "      <td>1</td>\n",
       "      <td>Well, doesn't NAP stand for \"N****rs Are Poor\"?</td>\n",
       "      <td>RenegadeMinds</td>\n",
       "      <td>Libertarian</td>\n",
       "      <td>6</td>\n",
       "      <td>6</td>\n",
       "      <td>0</td>\n",
       "      <td>2016-08</td>\n",
       "      <td>2016-08-11 05:24:56</td>\n",
       "      <td>Apparently we're not just pie-in-the-sky vote-wasters, we \"lean towards being fairly racist\"</td>\n",
       "    </tr>\n",
       "    <tr>\n",
       "      <th>24597</th>\n",
       "      <td>1</td>\n",
       "      <td>\"But if he hates everything does he hate himself too?\"</td>\n",
       "      <td>CleverTwigboy</td>\n",
       "      <td>AskReddit</td>\n",
       "      <td>7</td>\n",
       "      <td>7</td>\n",
       "      <td>0</td>\n",
       "      <td>2016-05</td>\n",
       "      <td>2016-05-20 03:55:52</td>\n",
       "      <td>Look up I Hate Everything on YouTube. You'll be glad you did.</td>\n",
       "    </tr>\n",
       "    <tr>\n",
       "      <th>19663</th>\n",
       "      <td>1</td>\n",
       "      <td>Now we'll never know for sure.</td>\n",
       "      <td>lord_of_thunder</td>\n",
       "      <td>funny</td>\n",
       "      <td>-1</td>\n",
       "      <td>-1</td>\n",
       "      <td>0</td>\n",
       "      <td>2015-02</td>\n",
       "      <td>2015-02-09 21:57:12</td>\n",
       "      <td>The woman has a child with long hair on her shoulders.</td>\n",
       "    </tr>\n",
       "  </tbody>\n",
       "</table>\n",
       "</div>"
      ],
      "text/plain": [
       "       label  \\\n",
       "9625       1   \n",
       "32253      1   \n",
       "24597      1   \n",
       "19663      1   \n",
       "\n",
       "                                                                                                         comment  \\\n",
       "9625   oh no think if she had been responding to nice greetings like \"hello, how are you\" that would be terrible   \n",
       "32253                                                            Well, doesn't NAP stand for \"N****rs Are Poor\"?   \n",
       "24597                                                     \"But if he hates everything does he hate himself too?\"   \n",
       "19663                                                                             Now we'll never know for sure.   \n",
       "\n",
       "                author    subreddit  score  ups  downs     date  \\\n",
       "9625              Lisu    creepyPMs      1    1      0  2015-01   \n",
       "32253    RenegadeMinds  Libertarian      6    6      0  2016-08   \n",
       "24597    CleverTwigboy    AskReddit      7    7      0  2016-05   \n",
       "19663  lord_of_thunder        funny     -1   -1      0  2015-02   \n",
       "\n",
       "               created_utc  \\\n",
       "9625   2015-01-22 14:57:29   \n",
       "32253  2016-08-11 05:24:56   \n",
       "24597  2016-05-20 03:55:52   \n",
       "19663  2015-02-09 21:57:12   \n",
       "\n",
       "                                                                                     parent_comment  \n",
       "9625                                           My Jewish friend sure gets some interesting messages  \n",
       "32253  Apparently we're not just pie-in-the-sky vote-wasters, we \"lean towards being fairly racist\"  \n",
       "24597                                 Look up I Hate Everything on YouTube. You'll be glad you did.  \n",
       "19663                                        The woman has a child with long hair on her shoulders.  "
      ]
     },
     "execution_count": 3,
     "metadata": {},
     "output_type": "execute_result"
    }
   ],
   "source": [
    "um = df['label'] == 1\n",
    "df[um].sample(n = 4)"
   ]
  },
  {
   "cell_type": "code",
   "execution_count": 4,
   "id": "1a784d91",
   "metadata": {
    "scrolled": false
   },
   "outputs": [
    {
     "data": {
      "text/html": [
       "<div>\n",
       "<style scoped>\n",
       "    .dataframe tbody tr th:only-of-type {\n",
       "        vertical-align: middle;\n",
       "    }\n",
       "\n",
       "    .dataframe tbody tr th {\n",
       "        vertical-align: top;\n",
       "    }\n",
       "\n",
       "    .dataframe thead th {\n",
       "        text-align: right;\n",
       "    }\n",
       "</style>\n",
       "<table border=\"1\" class=\"dataframe\">\n",
       "  <thead>\n",
       "    <tr style=\"text-align: right;\">\n",
       "      <th></th>\n",
       "      <th>label</th>\n",
       "      <th>comment</th>\n",
       "      <th>author</th>\n",
       "      <th>subreddit</th>\n",
       "      <th>score</th>\n",
       "      <th>ups</th>\n",
       "      <th>downs</th>\n",
       "      <th>date</th>\n",
       "      <th>created_utc</th>\n",
       "      <th>parent_comment</th>\n",
       "    </tr>\n",
       "  </thead>\n",
       "  <tbody>\n",
       "    <tr>\n",
       "      <th>56152</th>\n",
       "      <td>0</td>\n",
       "      <td>Doesnt the ginger just... Mask the flavor of the sushi...?</td>\n",
       "      <td>BlueberryBalls</td>\n",
       "      <td>AskReddit</td>\n",
       "      <td>1</td>\n",
       "      <td>1</td>\n",
       "      <td>0</td>\n",
       "      <td>2013-04</td>\n",
       "      <td>2013-04-22 22:34:49</td>\n",
       "      <td>I tend to put it *on* the sushi I'm eating. I realize this makes me a barbarian, but I don't care. Good pickled ginger on good sushi tastes good.</td>\n",
       "    </tr>\n",
       "    <tr>\n",
       "      <th>50227</th>\n",
       "      <td>0</td>\n",
       "      <td>He already claimed he was a BTC millionare several weeks ago on his show.</td>\n",
       "      <td>dylan78</td>\n",
       "      <td>Bitcoin</td>\n",
       "      <td>3</td>\n",
       "      <td>3</td>\n",
       "      <td>0</td>\n",
       "      <td>2013-04</td>\n",
       "      <td>2013-04-05 02:54:29</td>\n",
       "      <td>Any source for that? I have nothing against the guy, but he kinda creeps me out a little bit.</td>\n",
       "    </tr>\n",
       "    <tr>\n",
       "      <th>41866</th>\n",
       "      <td>0</td>\n",
       "      <td>He is not your friend.</td>\n",
       "      <td>TheJniac</td>\n",
       "      <td>pcmasterrace</td>\n",
       "      <td>3</td>\n",
       "      <td>3</td>\n",
       "      <td>0</td>\n",
       "      <td>2016-06</td>\n",
       "      <td>2016-06-11 19:52:31</td>\n",
       "      <td>My friend sent me a presentation file in Apple's Keynote .key format. I couldn't open it at all without a Mac.</td>\n",
       "    </tr>\n",
       "    <tr>\n",
       "      <th>42106</th>\n",
       "      <td>0</td>\n",
       "      <td>Yay love it yumikaa-kun surprised quaid wasn't dense enough to devour Vern lol</td>\n",
       "      <td>meakk</td>\n",
       "      <td>bravefrontier</td>\n",
       "      <td>1</td>\n",
       "      <td>1</td>\n",
       "      <td>0</td>\n",
       "      <td>2016-07</td>\n",
       "      <td>2016-07-31 14:04:10</td>\n",
       "      <td>Leaders (Quaid and Vern fanart)</td>\n",
       "    </tr>\n",
       "  </tbody>\n",
       "</table>\n",
       "</div>"
      ],
      "text/plain": [
       "       label  \\\n",
       "56152      0   \n",
       "50227      0   \n",
       "41866      0   \n",
       "42106      0   \n",
       "\n",
       "                                                                              comment  \\\n",
       "56152                      Doesnt the ginger just... Mask the flavor of the sushi...?   \n",
       "50227       He already claimed he was a BTC millionare several weeks ago on his show.   \n",
       "41866                                                          He is not your friend.   \n",
       "42106  Yay love it yumikaa-kun surprised quaid wasn't dense enough to devour Vern lol   \n",
       "\n",
       "               author      subreddit  score  ups  downs     date  \\\n",
       "56152  BlueberryBalls      AskReddit      1    1      0  2013-04   \n",
       "50227         dylan78        Bitcoin      3    3      0  2013-04   \n",
       "41866        TheJniac   pcmasterrace      3    3      0  2016-06   \n",
       "42106           meakk  bravefrontier      1    1      0  2016-07   \n",
       "\n",
       "               created_utc  \\\n",
       "56152  2013-04-22 22:34:49   \n",
       "50227  2013-04-05 02:54:29   \n",
       "41866  2016-06-11 19:52:31   \n",
       "42106  2016-07-31 14:04:10   \n",
       "\n",
       "                                                                                                                                          parent_comment  \n",
       "56152  I tend to put it *on* the sushi I'm eating. I realize this makes me a barbarian, but I don't care. Good pickled ginger on good sushi tastes good.  \n",
       "50227                                                      Any source for that? I have nothing against the guy, but he kinda creeps me out a little bit.  \n",
       "41866                                     My friend sent me a presentation file in Apple's Keynote .key format. I couldn't open it at all without a Mac.  \n",
       "42106                                                                                                                    Leaders (Quaid and Vern fanart)  "
      ]
     },
     "execution_count": 4,
     "metadata": {},
     "output_type": "execute_result"
    }
   ],
   "source": [
    "zero = df['label'] == 0\n",
    "df[zero].sample(n = 4)"
   ]
  },
  {
   "cell_type": "markdown",
   "id": "89862e5e",
   "metadata": {},
   "source": [
    "### Etapas de pré-processamento"
   ]
  },
  {
   "cell_type": "markdown",
   "id": "21cd7252",
   "metadata": {},
   "source": [
    "Para realizar a coleta de informações que seriam utilizadas nos gráficos, foi necessário antecipar a etapa de pré-processamento dos dados, as funções a baixo tem o objetivo de remover alguns tipos de caracteres que não são utéis durante a análise dos dados."
   ]
  },
  {
   "cell_type": "markdown",
   "id": "cb04bca8",
   "metadata": {},
   "source": [
    "1. Primeiramente a função \"remover_pontuação\" faz uso de list comprehension para iterar entre os caracteres do texto e remover os caracteres que estão incluidos em \"string.punctuation\"."
   ]
  },
  {
   "cell_type": "code",
   "execution_count": 5,
   "id": "d1778f26",
   "metadata": {},
   "outputs": [],
   "source": [
    "import string\n",
    "def remover_pontuacao(text):\n",
    "    sem_pontuacao=\"\".join([i for i in text if i not in string.punctuation])\n",
    "    return sem_pontuacao"
   ]
  },
  {
   "cell_type": "markdown",
   "id": "b3f3443d",
   "metadata": {},
   "source": [
    "2. A função \"lower\" tem o objetivo de deixar todas as palavras do texto em minúsculo, criando um padrão mais fácil de detectar nos caracteres. Esse passo é muito importante para realizar a remoção de stopwords, pois todas as palavras na lista de stopwords estão em letra minúscula."
   ]
  },
  {
   "cell_type": "code",
   "execution_count": 6,
   "id": "127e2fbc",
   "metadata": {},
   "outputs": [],
   "source": [
    "def lower(text):\n",
    "    return text.lower()"
   ]
  },
  {
   "cell_type": "markdown",
   "id": "6d23898a",
   "metadata": {},
   "source": [
    "3. A função \"remove_nums\" utiliza regex para detectar e remover todos os números do conjunto de dados, isso é importante pois em geral caracteres numéricos não trazem muita informação, e ao retirá-los é possível diminuir bastante a quantidade de dimensões do conjunto."
   ]
  },
  {
   "cell_type": "code",
   "execution_count": 7,
   "id": "25bbbbe7",
   "metadata": {},
   "outputs": [],
   "source": [
    "import re\n",
    "def remove_nums(text):\n",
    "    num_regex = '\\d+'\n",
    "    t = re.sub(num_regex, '', text)\n",
    "    return t"
   ]
  },
  {
   "cell_type": "markdown",
   "id": "910f0787",
   "metadata": {},
   "source": [
    "4. A função \"remove_stop_words\" serve para remover as stopwords do conjunto de dados. Igualmente aos caracteres númericos as stopwords não agregam muitas informações durante a análise, por isso, geralmente é benéfico fazer sua retirada, principalmente pois elas costumam se repetir muitas vezes durante os textos, assim, aumentando a quantidade de dimensões."
   ]
  },
  {
   "cell_type": "code",
   "execution_count": 8,
   "id": "658d5707",
   "metadata": {},
   "outputs": [],
   "source": [
    "import nltk\n",
    "def remove_stop_words(text):\n",
    "    stopwords = nltk.corpus.stopwords.words('english')\n",
    "    texto = [w for w in text.split() if w not in stopwords]\n",
    "    frase = \" \".join(texto)\n",
    "    return frase"
   ]
  },
  {
   "cell_type": "markdown",
   "id": "76477732",
   "metadata": {},
   "source": [
    "5. A função \"lemmatizer\" tem o proposito de transformar as palavras do conjunto de dados em suas formas base, com o cuidado para que elas não percam o sentido. Esse passo é importante para simplificar o texto, ajudando a extrair o máximo de informação."
   ]
  },
  {
   "cell_type": "code",
   "execution_count": 9,
   "id": "f9e5b2a0",
   "metadata": {},
   "outputs": [],
   "source": [
    "from nltk.stem import WordNetLemmatizer\n",
    "wordnet_lemmatizer = WordNetLemmatizer()\n",
    "def lemmatizer(text):\n",
    "    texto = [wordnet_lemmatizer.lemmatize(word) for word in text.split()]\n",
    "    frase = \" \".join(texto)\n",
    "    return frase"
   ]
  },
  {
   "cell_type": "markdown",
   "id": "acf0ef09",
   "metadata": {},
   "source": [
    "6. A função \"remove_little_words\" remove do conjunto de dados as palavras que possuem apenas 2 ou menos caracteres, pois essas palavras curtas aumentam consideravelmente a quantidade de dimensões do conjunto e, em geral, não trazem muitas informações, além de que na maioria das vezes se tratam de erros de digitação."
   ]
  },
  {
   "cell_type": "code",
   "execution_count": 10,
   "id": "9ff8dbb9",
   "metadata": {},
   "outputs": [],
   "source": [
    "def remove_little_words(text):\n",
    "    frase =\" \".join([w for w in text.split() if len(w) > 2])\n",
    "    return frase"
   ]
  },
  {
   "cell_type": "markdown",
   "id": "d920baac",
   "metadata": {},
   "source": [
    "7. A função \"preprocess\" é responsável por executar algumas das funções acima, facilitando o uso destas em conjunto. Na função preprocess, a ordem em que as funções são chamadas é muito importante, pois a lista de stopwords utilizada possui apenas palavras em minúsculo e com o uso correto das pontuações, logo, se retirarmos as  pontuações antes das stopwords, algumas palavras podem acabar escapando."
   ]
  },
  {
   "cell_type": "code",
   "execution_count": 11,
   "id": "aba4846e",
   "metadata": {},
   "outputs": [],
   "source": [
    "def preprocess(text):\n",
    "        text = remove_nums(text)\n",
    "        text = lower(text)\n",
    "        text = remove_stop_words(text)\n",
    "        text = remover_pontuacao(text)\n",
    "        text = lemmatizer(text)\n",
    "        text = remove_little_words(text)\n",
    "        return text"
   ]
  },
  {
   "cell_type": "markdown",
   "id": "e3c28df9",
   "metadata": {},
   "source": [
    "## Gráficos"
   ]
  },
  {
   "cell_type": "markdown",
   "id": "7913a9d4",
   "metadata": {},
   "source": [
    "### 1° Gráfico: Balanceamento das classes"
   ]
  },
  {
   "cell_type": "markdown",
   "id": "d135d326",
   "metadata": {},
   "source": [
    "Primeiramente temos o gráfico da quantidade de itens de cada classe. É possível reparar que existem muito mais itens na classe \"1\" do que na classe \"0\", isso significa que esse é um conjunto de dados desbalanceado, e futuramente precisaremos utilizar algumas tecnicas para realizar o seu balanceamento, pois em casos de classificação o resultado do modelo pode acabar sendo enviesado, ou seja, ele tenderá a classificar todos os dados na classe que possui mais exemplos"
   ]
  },
  {
   "cell_type": "code",
   "execution_count": 12,
   "id": "e602f5ce",
   "metadata": {},
   "outputs": [
    {
     "data": {
      "image/png": "[encoded data removed]",
      "text/plain": [
       "<Figure size 936x432 with 1 Axes>"
      ]
     },
     "metadata": {
      "needs_background": "light"
     },
     "output_type": "display_data"
    }
   ],
   "source": [
    "# Gráfico do balanceamento entre as classes\n",
    "sns.catplot(y=\"label\", kind=\"count\",\n",
    "            palette=\"pastel\", edgecolor=\".6\",\n",
    "            data=df)\n",
    "plt.gcf().set_size_inches(13, 6)"
   ]
  },
  {
   "cell_type": "markdown",
   "id": "fe773c97",
   "metadata": {},
   "source": [
    "### 2° Gráfico: Unigramas mais frequentes na classe 1"
   ]
  },
  {
   "cell_type": "markdown",
   "id": "996c2d4f",
   "metadata": {},
   "source": [
    "O segundo gráfico mostra as 10 palavras que mais se repetiram nos comentários classificados na classe \"1\", que seriam os comentários sarcásticos."
   ]
  },
  {
   "cell_type": "code",
   "execution_count": 13,
   "id": "8a721f72",
   "metadata": {
    "scrolled": false
   },
   "outputs": [
    {
     "data": {
      "image/png": "[encoded data removed]",
      "text/plain": [
       "<Figure size 936x432 with 1 Axes>"
      ]
     },
     "metadata": {
      "needs_background": "light"
     },
     "output_type": "display_data"
    }
   ],
   "source": [
    "# Gráfico das palavras que aparecem com mais frequência na classe 1\n",
    "from nltk import word_tokenize\n",
    "from nltk import FreqDist\n",
    "from matplotlib.pyplot import figure\n",
    "q = df[um]\n",
    "q = q.comment.explode().to_frame().reset_index(drop=True)\n",
    "P=' '.join([str(w) for w in q['comment']])\n",
    "P = preprocess(P)\n",
    "P = FreqDist(word_tokenize(P))\n",
    "\n",
    "figure(figsize=(13, 6))\n",
    "x, y = zip(*P.most_common(n=10))\n",
    "plt.bar(range(len(x)), y, color='orange')\n",
    "plt.xticks(range(len(x)), x)\n",
    "plt.show()"
   ]
  },
  {
   "cell_type": "markdown",
   "id": "c820655e",
   "metadata": {},
   "source": [
    "### 3° Gráfico: Unigramas mais frequentes na classe 0"
   ]
  },
  {
   "cell_type": "markdown",
   "id": "005fdcbe",
   "metadata": {},
   "source": [
    "No terceiro gráfico, temos as 10 palavras mais frequentes nos comentários classificados na classe \"0\". Comparando com as palavras obtidas no gráfico anterior podemos observar muitas similaridades, porém, é interessante perceber que a palavra \"yeah\", que foi a que mais apareceu na classe \"1\", não chegou a aparecer nem no top 10 da classe \"0\", ou seja, essa palavra é muito mais utilizada em frases sarcásticas e isso pode acabar ajudando o modelo a descobrir se um comentário é sarástico ou não."
   ]
  },
  {
   "cell_type": "code",
   "execution_count": 14,
   "id": "60564b8a",
   "metadata": {},
   "outputs": [
    {
     "data": {
      "image/png": "[encoded data removed]",
      "text/plain": [
       "<Figure size 936x432 with 1 Axes>"
      ]
     },
     "metadata": {
      "needs_background": "light"
     },
     "output_type": "display_data"
    }
   ],
   "source": [
    "# Gráfico das palavras que aparecem com mais frequência na classe 0\n",
    "q2 = df[zero]\n",
    "q2 = q2.comment.explode().to_frame()\n",
    "P2=' '.join([str(w) for w in q2['comment']])\n",
    "P2 = preprocess(P2)\n",
    "P2 = FreqDist(word_tokenize(P2))\n",
    "\n",
    "figure(figsize=(13, 6))\n",
    "x, y = zip(*P2.most_common(n=10))\n",
    "plt.bar(range(len(x)), y, color='green')\n",
    "plt.xticks(range(len(x)), x)\n",
    "plt.show()"
   ]
  },
  {
   "cell_type": "markdown",
   "id": "0ded7df8",
   "metadata": {},
   "source": [
    "### 4° Gráfico: Quantidade de comentários coletados em cada mês"
   ]
  },
  {
   "cell_type": "markdown",
   "id": "5cff9462",
   "metadata": {},
   "source": [
    "Na figura a seguir, podemos ver um gráfico da quantidade de comentários que foram coletados para esse conjunto de dados em cada data(mês/ano). É possível perceber que em todas as datas, a quantidade de comentários sarcásticos coletados sempre foi maior, e em dezembro de 2016 foi coletada a maior quantidade de amostras. Nesse caso é importante observar a data das amostras, pois o contexto da época acaba influênciando nos comentários, e isso ajuda a identificar o que pode ser sarcástico ou não."
   ]
  },
  {
   "cell_type": "code",
   "execution_count": 15,
   "id": "fd7d4b18",
   "metadata": {},
   "outputs": [
    {
     "data": {
      "image/png": "[encoded data removed]",
      "text/plain": [
       "<Figure size 936x432 with 1 Axes>"
      ]
     },
     "metadata": {
      "needs_background": "light"
     },
     "output_type": "display_data"
    }
   ],
   "source": [
    "q = df[um]\n",
    "q = q.date.explode().to_frame().reset_index(drop=True)\n",
    "P3=' '.join([str(w) for w in q['date']])\n",
    "P3 = FreqDist(word_tokenize(P3))\n",
    "c1 = P3.most_common(n=10)\n",
    "dd = pd.DataFrame(c1, columns = ['date', 'count'])\n",
    "\n",
    "q2 = df[zero]\n",
    "q2 = q2.date.explode().to_frame()\n",
    "P4=' '.join([str(w) for w in q2['date']])\n",
    "P4 = FreqDist(word_tokenize(P4))\n",
    "c2 = P4.most_common(n=10)\n",
    "dd2 = pd.DataFrame(c2, columns = ['date', 'count'])\n",
    "\n",
    "dd['label'] = 1\n",
    "dd2['label'] = 0\n",
    "\n",
    "dd3 = pd.concat([dd, dd2], axis=0)\n",
    "ax = sns.barplot(x=\"date\", y=\"count\", hue=\"label\", palette=\"Set2\", data=dd3)\n",
    "plt.gcf().set_size_inches(13, 6)"
   ]
  },
  {
   "cell_type": "markdown",
   "id": "bd3783bd",
   "metadata": {},
   "source": [
    "### 5° e 6° Gráficos: Bigramas mais frequêntes nas duas classes"
   ]
  },
  {
   "cell_type": "markdown",
   "id": "ee057072",
   "metadata": {},
   "source": [
    "Os dois gráficos a seguir mostram os 10 bigramas mais frequentes em cada classe. É possível perceber uma grande variação entre os dois gráficos, mostrando que certas junções de palavras são muito mais utilizados em frases sarcásticas, como por exemplo \"sound like\", que embora apareça tanto em palavras sarcasticas quanto não sarcasticas, é predominantemente usado em contexto sarcástico."
   ]
  },
  {
   "cell_type": "code",
   "execution_count": 17,
   "id": "9073c4aa",
   "metadata": {},
   "outputs": [
    {
     "data": {
      "image/png": "[encoded data removed]",
      "text/plain": [
       "<Figure size 1080x576 with 1 Axes>"
      ]
     },
     "metadata": {
      "needs_background": "light"
     },
     "output_type": "display_data"
    }
   ],
   "source": [
    "# Gráfico dos bigramas que aparecem com mais frequência na classe 1\n",
    "from nltk import bigrams\n",
    "q = df[um]\n",
    "q = q.comment.explode().to_frame().reset_index(drop=True)\n",
    "P=' '.join([str(w) for w in q['comment']])\n",
    "P = preprocess(P)\n",
    "P = word_tokenize(P)\n",
    "P = list(bigrams(P))\n",
    "P = FreqDist(P)\n",
    "\n",
    "figure(figsize=(15, 8))\n",
    "x, y = zip(*P.most_common(n=10))\n",
    "plt.bar(range(len(x)), y, color='orange')\n",
    "plt.xticks(range(len(x)), x)\n",
    "plt.show()"
   ]
  },
  {
   "cell_type": "code",
   "execution_count": 18,
   "id": "59673346",
   "metadata": {},
   "outputs": [
    {
     "data": {
      "image/png": "[encoded data removed]",
      "text/plain": [
       "<Figure size 1080x576 with 1 Axes>"
      ]
     },
     "metadata": {
      "needs_background": "light"
     },
     "output_type": "display_data"
    }
   ],
   "source": [
    "# Gráfico dos bigramas que aparecem com mais frequência na classe 0\n",
    "q2 = df[zero]\n",
    "q2 = q2.comment.explode().to_frame()\n",
    "P2=' '.join([str(w) for w in q2['comment']])\n",
    "P2 = preprocess(P2)\n",
    "P2 = word_tokenize(P2)\n",
    "P2 = list(bigrams(P2))\n",
    "P2 = FreqDist(P2)\n",
    "\n",
    "figure(figsize=(15, 8))\n",
    "x, y = zip(*P2.most_common(n=10))\n",
    "plt.bar(range(len(x)), y, color='green')\n",
    "plt.xticks(range(len(x)), x)\n",
    "plt.show()"
   ]
  },
  {
   "cell_type": "markdown",
   "id": "cd751309",
   "metadata": {},
   "source": [
    "## Aprendizado Não-Supervisionado"
   ]
  },
  {
   "cell_type": "markdown",
   "id": "0e3894bd",
   "metadata": {},
   "source": [
    "Nesta etapa, utilizarei uma tecnica chamada \"Topic modelling\", que se trata de um método não-supervisionado para agrupar documentos em um determinado número de tópicos, de forma que cada documento pode pertencer a mais de um tópico.\n",
    "\n",
    "Para aplicar essa técnica, utilizarei o  método Latent Dirichlet Allocation(LDA), que é a tecnica mais popular utilizada para realizar Topic modelling. O LDA tenta encontrar os tópicos nos quais um documento pertence por meio das palavras que ele possui, segue a baixo um breve exemplo de como isso funciona."
   ]
  },
  {
   "attachments": {
    "image.png": {
     "image/png": "[encoded data removed]"
    }
   },
   "cell_type": "markdown",
   "id": "ca6aed5b",
   "metadata": {},
   "source": [
    "![image.png](attachment:image.png)"
   ]
  },
  {
   "cell_type": "markdown",
   "id": "8bd20921",
   "metadata": {},
   "source": [
    "Na imagem acima temos 5 documentos, cada um contendo uma determinada quantidade de palavras que estão listadas por ordem de frequência no documento. Então ao realizarmos a aplicação do LDA:\n",
    "1. Primeiramente ele associa cada uma das palavras a um tópico aleatório.\n",
    "2. Para cada documento d, percorre-se cada palavra e realiza-se as seguintes probabilidades:\n",
    "        p(topic t | document d): Proporção de palavras no documento d que estão relacionadas ao tópico t.\n",
    "        p(word w| topic t): Proporção de relações ao tópico t em todos os documentos que vem da palavra w. Tenta perceber  quantos documentos estão no tópico t graças a palavra w.\n",
    "3. Define a probabilidade da palavra w pertencer ao tópico t como:\n",
    "        p(word w with topic t) = p(topic t | document d) * p(word w | topic t)\n",
    "No fim, cada palavra é associada com uma probabilidade de pertencer a cada tópico, conforme pode-se ver na tabela ilustrativa a baixo."
   ]
  },
  {
   "attachments": {
    "image.png": {
     "image/png": "[encoded data removed]"
    }
   },
   "cell_type": "markdown",
   "id": "b25df6bc",
   "metadata": {},
   "source": [
    "![image.png](attachment:image.png)"
   ]
  },
  {
   "cell_type": "markdown",
   "id": "9c60aa12",
   "metadata": {},
   "source": [
    "Para realizar a aplicação do LDA, primeiramente fiz o pré-processamento e a vetorização dos dados que seriam utilizados."
   ]
  },
  {
   "cell_type": "code",
   "execution_count": 19,
   "id": "9eaa3097",
   "metadata": {},
   "outputs": [],
   "source": [
    "X = df['comment']"
   ]
  },
  {
   "cell_type": "code",
   "execution_count": 20,
   "id": "c54bf45f",
   "metadata": {},
   "outputs": [],
   "source": [
    "lista = []\n",
    "for i in X:\n",
    "    f = preprocess(i)\n",
    "    lista.append(f)\n",
    "X_PP = pd.DataFrame (lista, columns = ['comment'])"
   ]
  },
  {
   "cell_type": "code",
   "execution_count": 21,
   "id": "40f2d159",
   "metadata": {},
   "outputs": [],
   "source": [
    "from sklearn.feature_extraction.text import TfidfVectorizer\n",
    "tf = TfidfVectorizer(strip_accents='unicode', stop_words='english')\n",
    "X_tf = tf.fit_transform(X_PP['comment'])"
   ]
  },
  {
   "cell_type": "markdown",
   "id": "abc2aab9",
   "metadata": {},
   "source": [
    "Na etapa a baixo executei o modelo LDA, defini quantidade de tópicos para 2 e o método de aprendizado para \"online\", pois esse metodo lida melhor com grandes quantidades de dados."
   ]
  },
  {
   "cell_type": "code",
   "execution_count": 22,
   "id": "601a82ac",
   "metadata": {},
   "outputs": [],
   "source": [
    "from sklearn.decomposition import LatentDirichletAllocation\n",
    "lda = LatentDirichletAllocation(n_components=2, learning_method='online',random_state=42,max_iter=2)\n",
    "X_tf_lda = lda.fit_transform(X_tf)"
   ]
  },
  {
   "cell_type": "markdown",
   "id": "c69c143b",
   "metadata": {},
   "source": [
    "Logo abaixo, trouxe uma lista com a porcentagem de palavras pertencentes a cada tópico no documento. Me baseei nessas probabilidades para escolher a quantidade de tópicos, pois com 2 tópicos consegui perceber que em geral os documentos eram classificados com uma boa margem de diferença na porcentagem de cada tópico, ou seja, ele tem mais chances de estar no tópico correto."
   ]
  },
  {
   "cell_type": "code",
   "execution_count": 23,
   "id": "da3982d3",
   "metadata": {},
   "outputs": [
    {
     "name": "stdout",
     "output_type": "stream",
     "text": [
      "Documento 0: \n",
      "Topico  0 :  79.28999477934188 %\n",
      "Topico  1 :  20.710005220658118 %\n",
      "\n",
      "\n",
      "Documento 1: \n",
      "Topico  0 :  42.7121238466532 %\n",
      "Topico  1 :  57.28787615334681 %\n",
      "\n",
      "\n",
      "Documento 2: \n",
      "Topico  0 :  21.245053051907277 %\n",
      "Topico  1 :  78.75494694809272 %\n",
      "\n",
      "\n",
      "Documento 3: \n",
      "Topico  0 :  47.35906052828882 %\n",
      "Topico  1 :  52.64093947171118 %\n",
      "\n",
      "\n",
      "Documento 4: \n",
      "Topico  0 :  46.50081818480665 %\n",
      "Topico  1 :  53.49918181519337 %\n",
      "\n",
      "\n",
      "Documento 5: \n",
      "Topico  0 :  84.27536359287721 %\n",
      "Topico  1 :  15.724636407122771 %\n",
      "\n",
      "\n",
      "Documento 6: \n",
      "Topico  0 :  36.28417575610276 %\n",
      "Topico  1 :  63.71582424389723 %\n",
      "\n",
      "\n",
      "Documento 7: \n",
      "Topico  0 :  36.67879338726414 %\n",
      "Topico  1 :  63.32120661273587 %\n",
      "\n",
      "\n",
      "Documento 8: \n",
      "Topico  0 :  75.95966660581513 %\n",
      "Topico  1 :  24.04033339418488 %\n",
      "\n",
      "\n",
      "Documento 9: \n",
      "Topico  0 :  49.941776050564464 %\n",
      "Topico  1 :  50.05822394943553 %\n",
      "\n",
      "\n"
     ]
    }
   ],
   "source": [
    "for j in range(10):\n",
    "    print(f\"Documento {j}: \")\n",
    "    for i,topic in enumerate(X_tf_lda[j]):\n",
    "        print(\"Topico \",i,\": \",topic*100,\"%\")\n",
    "    print(\"\\n\")"
   ]
  },
  {
   "cell_type": "markdown",
   "id": "50049aa4",
   "metadata": {},
   "source": [
    "Então, imprimi na tela algumas palavras que estão contidas nos tópicos que foram criados para que possam ser analisados.\n",
    "\n",
    "No tópico 1, aparentemente temos palavras que são comumente utilizadas em mensagens casuais dentro da rede social Reddit, como por exemplo a palavra \"thanks\", que é uma forma informal de falar \"thank you\".\n",
    "\n",
    "No tópico 2, temos palavras que normalmente são utilizadas em um contexto mais formal, podemos observar que diferente do tópico 1 nesse tópico não podemos ver nenhum palavrão.\n"
   ]
  },
  {
   "cell_type": "code",
   "execution_count": 24,
   "id": "c1a40a8e",
   "metadata": {
    "scrolled": false
   },
   "outputs": [
    {
     "name": "stdout",
     "output_type": "stream",
     "text": [
      "Tópico 1: \n",
      "good yes yeah game like thanks time think make people fuck forgot shit probably man bad said point new come actually let need going theyre \n",
      "\n",
      "Tópico 2: \n",
      "like thats right know look really sure got lol say mean guy better thing year work love people pretty thought great maybe day want nice \n",
      "\n"
     ]
    }
   ],
   "source": [
    "vocab = tf.get_feature_names()\n",
    "for i, comp in enumerate(lda.components_):\n",
    "    vocab_comp = zip(vocab, comp)\n",
    "    sorted_words = sorted(vocab_comp, key= lambda x:x[1], reverse=True)[:25]\n",
    "    print(\"Tópico \"+str(i+1)+\": \")\n",
    "    for t in sorted_words:\n",
    "        print(t[0],end=\" \")\n",
    "    print('\\n')"
   ]
  },
  {
   "cell_type": "markdown",
   "id": "e5c7f315",
   "metadata": {},
   "source": [
    "## Modelo Baseline"
   ]
  },
  {
   "cell_type": "markdown",
   "id": "ac09c888",
   "metadata": {},
   "source": [
    "Visando a simplicidade, que é o intuito do modelo Baseline, optei por utilizar apenas o atributo \"comment\"."
   ]
  },
  {
   "cell_type": "code",
   "execution_count": 25,
   "id": "13551d0c",
   "metadata": {},
   "outputs": [],
   "source": [
    "X = df['comment']\n",
    "y = df['label']"
   ]
  },
  {
   "cell_type": "markdown",
   "id": "956973d0",
   "metadata": {},
   "source": [
    "Nesta etapa foi realizada a chamada da função \"preprocess\" para realizar o pré-processamento dos dados. Isso foi feito por meio uma estrutura de repetição que iterou entre todas as palavras do atributo escolhido."
   ]
  },
  {
   "cell_type": "code",
   "execution_count": 26,
   "id": "497749df",
   "metadata": {},
   "outputs": [],
   "source": [
    "lista = []\n",
    "for i in X:\n",
    "    f = preprocess(i)\n",
    "    lista.append(f)\n",
    "X_PP = pd.DataFrame (lista, columns = ['comment'])"
   ]
  },
  {
   "cell_type": "markdown",
   "id": "03dacf67",
   "metadata": {},
   "source": [
    "Realizei a separação do conjunto de dados em dois diferentes conjuntos, o conjunto de treino e o conjunto de teste. Por se tratar de um baseline, o uso de um conjunto de validação não foi necessário."
   ]
  },
  {
   "cell_type": "code",
   "execution_count": 27,
   "id": "e612a8de",
   "metadata": {},
   "outputs": [],
   "source": [
    "from sklearn.model_selection import train_test_split\n",
    "X_train_valid, X_test, y_train_valid, y_testB = train_test_split(X_PP,y, test_size=0.2, random_state=42, stratify=y)"
   ]
  },
  {
   "cell_type": "markdown",
   "id": "caec6a45",
   "metadata": {},
   "source": [
    "Por se tratar de um dataset muito grande, e formado por diversos comentários feitos em uma rede social, é de se imaginar que existam muitas palavras que se repetem muitas vezes e que não agregam muitas informações para a análise, como possível gírias e \"memes\". Pensando nisso, optei por utilizar o método de vetorização TF-IDF que coloca as palavras do conjunto de dados em uma escala, penalizando as que se repetem muitas vezes durante os documentos."
   ]
  },
  {
   "cell_type": "code",
   "execution_count": 28,
   "id": "c7b4b990",
   "metadata": {},
   "outputs": [],
   "source": [
    "tf = TfidfVectorizer(strip_accents='unicode', stop_words='english', ngram_range=(1,2))\n",
    "X_tf = tf.fit_transform(X_train_valid['comment'])\n",
    "X_test_tf = tf.transform(X_test['comment'])"
   ]
  },
  {
   "cell_type": "markdown",
   "id": "8fc69c1e",
   "metadata": {},
   "source": [
    "Logo a baixo pode-se observar uma amostra de 100 palavras que estão contidas no conjunto de dados após todos os procedimentos anteriores. Importante falar que o \"TfidfVectorizer\" por padrão já realiza algumas etapas de pré-processamento, porém, ele possui algumas falhas nesse aspecto, por exemplo, a remoçao de potuação não eliminou os \" _ \". Com isso em mente, antes de realizar a vetorização já realizei meu próprio pré-processamento para evitar dados desnecessários."
   ]
  },
  {
   "cell_type": "code",
   "execution_count": 29,
   "id": "aa1432fc",
   "metadata": {
    "scrolled": true
   },
   "outputs": [
    {
     "name": "stdout",
     "output_type": "stream",
     "text": [
      "aaa\n",
      "aaa game\n",
      "aaa ideology\n",
      "aaa platformers\n",
      "aaa surprised\n",
      "aaa tpp\n",
      "aaaaa\n",
      "aaaaa battery\n",
      "aaaaaaaaand\n",
      "aaaaaaaaand shit\n",
      "aaaaaaaagaaaaaaaaaaaaaaaaaaiiiiiiiiiiiiin\n",
      "aaaaaaaagaaaaaaaaaaaaaaaaaaiiiiiiiiiiiiin mah\n",
      "aaaaaaaany\n",
      "aaaaaaaany social\n",
      "aaaaaaamnnnnnnnddddd\n",
      "aaaaaaamnnnnnnnddddd gone\n",
      "aaaaaaand\n",
      "aaaaaaand fined\n",
      "aaaaaand\n",
      "aaaaaand thats\n",
      "aaaaaannnddd\n",
      "aaaaaannnddd want\n",
      "aaaaall\n",
      "aaaaand\n",
      "aaaaand ksp\n",
      "aaaand\n",
      "aaaand looking\n",
      "aaand\n",
      "aaand retagged\n",
      "aaargh\n",
      "aaargh preconceived\n",
      "aahahahaha\n",
      "aahahahaha idea\n",
      "aajkal\n",
      "aampm\n",
      "aampm going\n",
      "aampm like\n",
      "aampm overtime\n",
      "aampm prairie\n",
      "aampm sure\n",
      "aampm year\n",
      "aan\n",
      "aan die\n",
      "aan hand\n",
      "aan het\n",
      "aan vraag\n",
      "aang\n",
      "aang katara\n",
      "aangereden\n",
      "aangereden het\n",
      "aap\n",
      "aap follow\n",
      "aap nay\n",
      "aap place\n",
      "aap wonder\n",
      "aar\n",
      "aar cuda\n",
      "aaron\n",
      "aaron curry\n",
      "aaron diaz\n",
      "aaron hernandez\n",
      "aaron lmao\n",
      "aaron rodgers\n",
      "aav\n",
      "aav mil\n",
      "abaddon\n",
      "abaddon fall\n",
      "abandon\n",
      "abandon account\n",
      "abandon campaign\n",
      "abandon lane\n",
      "abandon ship\n",
      "abandoned\n",
      "abandoned father\n",
      "abandoned hunt\n",
      "abandoned long\n",
      "abandoned rise\n",
      "abandoned wife\n",
      "abathur\n",
      "abathur eggless\n",
      "abbas\n",
      "abbas moderate\n",
      "abbas say\n",
      "abbass\n",
      "abbass fatah\n",
      "abbot\n",
      "abbot leader\n",
      "abbot saved\n",
      "abbott\n",
      "abbott going\n",
      "abbott really\n",
      "abbreviation\n",
      "abc\n",
      "abc complaining\n",
      "abc fall\n",
      "abc voter\n",
      "abcc\n",
      "abcc amp\n",
      "abducted\n",
      "abductees\n"
     ]
    }
   ],
   "source": [
    "c=0\n",
    "for i in tf.get_feature_names():\n",
    "    print(i)\n",
    "    c+=1\n",
    "    if c == 100:\n",
    "        break"
   ]
  },
  {
   "cell_type": "markdown",
   "id": "1da8987f",
   "metadata": {},
   "source": [
    "Como modelo de classificação, optei pela Regressão logistica, é um modelo probabilístico e que já foi visto durante a mentoria. Sua escolha se deu por ser um algoritmo simples e que é amplamente usado em problemas de classificação binária e em classificação de textos."
   ]
  },
  {
   "cell_type": "code",
   "execution_count": 30,
   "id": "6ef3ceba",
   "metadata": {
    "scrolled": false
   },
   "outputs": [
    {
     "data": {
      "text/plain": [
       "LogisticRegression()"
      ]
     },
     "execution_count": 30,
     "metadata": {},
     "output_type": "execute_result"
    }
   ],
   "source": [
    "from sklearn.linear_model import LogisticRegression\n",
    "LRB = LogisticRegression()\n",
    "LRB.fit(X_tf, y_train_valid)"
   ]
  },
  {
   "cell_type": "code",
   "execution_count": 31,
   "id": "8e090b93",
   "metadata": {},
   "outputs": [],
   "source": [
    "y_predictB = LRB.predict(X_test_tf)"
   ]
  },
  {
   "cell_type": "markdown",
   "id": "0e68ebf6",
   "metadata": {},
   "source": [
    "A métrica escolhida para avaliar o modelo foi o F1 Score, essa métrica se trata de uma média harmônica entre duas outras métricas:\n",
    "\n",
    "1. Precisão: Das predições positivas, quantas são realmente positivas?\n",
    "2. Recall: De todos os verdadeiros positivos, quantos foram corretamente preditos?\n",
    "\n",
    "Normalmente existe uma certa inversão entre essas duas métricas, ao aumentar uma delas a outra tem grande tendencia de diminuir e é nesse caso que o F1 Score brilha, pois ele tende a encontrar um meio termo entre essas duas métricas, que é um caso ideal."
   ]
  },
  {
   "attachments": {
    "image.png": {
     "image/png": "[encoded data removed]"
    }
   },
   "cell_type": "markdown",
   "id": "5b78a7be",
   "metadata": {},
   "source": [
    "![image.png](attachment:image.png)"
   ]
  },
  {
   "cell_type": "markdown",
   "id": "f00e27fb",
   "metadata": {},
   "source": [
    "Analisando a tabela acima, podemos perceber que:\n",
    "\n",
    "        No modelo A, 50% das predições positivas são realmente positivos, e de todos os dados classificados como verdadeiros positivos 80% deles foram corretamente preditos, esse modelo chegou a um meio termo e foi o melhor modelo desse gráfico pois apresentou o maior F1 Score\n",
    "    \n",
    "        No modelo B, apenas 25% das das predições positivas são realmente positivas, ou seja, esse modelo apresentou um grande número de falsos positivos e de todos os verdadeiros positivos 90% foram classificados corretamente, mostrando que esse modelo considerou quase todos os dados como positivos, e isso não é desejado em um modelo de classificação.\n",
    "    \n",
    "        No modelo C, 70% das predições positivas são realmente positivas, porém apenas 40% dos verdadeiros positivos foram corretamente preditos, ou seja, esse modelo apresentou um número consideravel de falsos negativos, e esse cenário também não é ideal. O fato da precisão de 70% e o recall de 40% também indicam que o modelo C realizou poucas predições positivas, pois o modelo acertou 70% das predições que fez como positivas, mas só acertou 40% de todas as verdadeiramente positivas."
   ]
  },
  {
   "cell_type": "code",
   "execution_count": 32,
   "id": "a9cdc50a",
   "metadata": {},
   "outputs": [
    {
     "name": "stdout",
     "output_type": "stream",
     "text": [
      "O F1_Score da classe 1 foi de: 79.58%\n",
      "O F1_Score da classe 0 foi de: 29.64%\n",
      "O F1_Score médio foi de: 54.61%\n"
     ]
    }
   ],
   "source": [
    "from sklearn.metrics import f1_score\n",
    "AB = f1_score(y_testB, y_predictB, average='macro')\n",
    "ABB = f1_score(y_testB, y_predictB)\n",
    "ABC = f1_score(y_testB, y_predictB, pos_label=0)\n",
    "\n",
    "print(f'O F1_Score da classe 1 foi de: {round(ABB*100, 2)}%')\n",
    "print(f'O F1_Score da classe 0 foi de: {round(ABC*100, 2)}%')\n",
    "print(f'O F1_Score médio foi de: {round(AB*100, 2)}%')"
   ]
  },
  {
   "cell_type": "markdown",
   "id": "905f90cd",
   "metadata": {},
   "source": [
    "Como pode ser visto acima, o F1 Score médio entre as duas classes do problema foi de 54.61% no nosso Baseline, esse valor irá servir de base para fazermos comparação com os modelos otimizados."
   ]
  },
  {
   "cell_type": "markdown",
   "id": "d65f7c15",
   "metadata": {},
   "source": [
    "## 1° Conjunto de atributos de entrada"
   ]
  },
  {
   "cell_type": "markdown",
   "id": "1a02a0f1",
   "metadata": {},
   "source": [
    "No 1° conjunto de atributos, escolhi utilizar o atributo \"parent_comment\" junto do \"comment\", pois imaginei que o contexto do comentário poderia ajudar em sua classificação."
   ]
  },
  {
   "cell_type": "code",
   "execution_count": 33,
   "id": "47da6206",
   "metadata": {},
   "outputs": [],
   "source": [
    "X1 = df[['comment', 'parent_comment']]\n",
    "y = df['label']"
   ]
  },
  {
   "cell_type": "markdown",
   "id": "12d35a97",
   "metadata": {},
   "source": [
    "Primeiramente, concatenei as duas colunas escolhidas na coluna \"conc\" para q fosse possível utilizar as duas na vetorização."
   ]
  },
  {
   "cell_type": "code",
   "execution_count": 34,
   "id": "faec3609",
   "metadata": {},
   "outputs": [
    {
     "data": {
      "text/html": [
       "<div>\n",
       "<style scoped>\n",
       "    .dataframe tbody tr th:only-of-type {\n",
       "        vertical-align: middle;\n",
       "    }\n",
       "\n",
       "    .dataframe tbody tr th {\n",
       "        vertical-align: top;\n",
       "    }\n",
       "\n",
       "    .dataframe thead th {\n",
       "        text-align: right;\n",
       "    }\n",
       "</style>\n",
       "<table border=\"1\" class=\"dataframe\">\n",
       "  <thead>\n",
       "    <tr style=\"text-align: right;\">\n",
       "      <th></th>\n",
       "      <th>comment</th>\n",
       "      <th>parent_comment</th>\n",
       "      <th>conc</th>\n",
       "    </tr>\n",
       "  </thead>\n",
       "  <tbody>\n",
       "    <tr>\n",
       "      <th>0</th>\n",
       "      <td>Of course, just like 3.2 was the true Messiah.</td>\n",
       "      <td>Is patch 3.3 going to be our savior? Without trying to sound like a broken record and repeating the many point of views of the growing apocalyptic threads on this forum. I was hoping to get the opinions of everyone if they believe patch 3.3 is going to bring back some of the players who have quit in the last patch or two, or does this feel like another cookie cutter patch that wont stop exit of quality population specifically on the North American servers. I ask this in concern that I have made a assertive effort as of late to refill our FC, and one of the strong points of the patch info so far is that they are installing a cross realm raid tool, which seems like it would diminish the need to recruit for a FC. I personally enjoy the aspect of a 10-15 member FC which can grow close and share things in common to the game and outside the game. But with the game seemingly losing subs it has become harder to find people to come together like I had just described and I don't want to put false hope in those who I have recruited so far. Give me some hope!</td>\n",
       "      <td>Of course, just like 3.2 was the true Messiah. Is patch 3.3 going to be our savior? Without trying to sound like a broken record and repeating the many point of views of the growing apocalyptic threads on this forum. I was hoping to get the opinions of everyone if they believe patch 3.3 is going to bring back some of the players who have quit in the last patch or two, or does this feel like another cookie cutter patch that wont stop exit of quality population specifically on the North American servers. I ask this in concern that I have made a assertive effort as of late to refill our FC, and one of the strong points of the patch info so far is that they are installing a cross realm raid tool, which seems like it would diminish the need to recruit for a FC. I personally enjoy the aspect of a 10-15 member FC which can grow close and share things in common to the game and outside the game. But with the game seemingly losing subs it has become harder to find people to come together like I had just described and I don't want to put false hope in those who I have recruited so far. Give me some hope!</td>\n",
       "    </tr>\n",
       "    <tr>\n",
       "      <th>1</th>\n",
       "      <td>Yeah because Iran was 100% muslim prior to 1979, and still is now.</td>\n",
       "      <td>I suggest you research Iran pre-1979 as well as al-Qatb and the rise of Wahhabism. You are fully entitled to have an opinion and express it (and you do bring up a good point re: rural cobservatism) but you are misinformed.</td>\n",
       "      <td>Yeah because Iran was 100% muslim prior to 1979, and still is now. I suggest you research Iran pre-1979 as well as al-Qatb and the rise of Wahhabism. You are fully entitled to have an opinion and express it (and you do bring up a good point re: rural cobservatism) but you are misinformed.</td>\n",
       "    </tr>\n",
       "    <tr>\n",
       "      <th>2</th>\n",
       "      <td>WELL YOU'RE JUST A BITCH...YOU HAVE TO GO AND POST AND TAKE YOUR DOWNVOTES</td>\n",
       "      <td>Warriors / Clips game threads literally add zero value to the game experience. Why would I want to see the words flop, flopped and flopper repeated constantly? Thunder / Clips game threads were pretty good during the season. We'll see how the playoff ones are.</td>\n",
       "      <td>WELL YOU'RE JUST A BITCH...YOU HAVE TO GO AND POST AND TAKE YOUR DOWNVOTES Warriors / Clips game threads literally add zero value to the game experience. Why would I want to see the words flop, flopped and flopper repeated constantly? Thunder / Clips game threads were pretty good during the season. We'll see how the playoff ones are.</td>\n",
       "    </tr>\n",
       "    <tr>\n",
       "      <th>3</th>\n",
       "      <td>Yeah, it's dumb to run background checks on potential teachers.</td>\n",
       "      <td>Oh i forgot.., you get to be finger printed when you are hired! Awesome!</td>\n",
       "      <td>Yeah, it's dumb to run background checks on potential teachers. Oh i forgot.., you get to be finger printed when you are hired! Awesome!</td>\n",
       "    </tr>\n",
       "    <tr>\n",
       "      <th>4</th>\n",
       "      <td>Oh, it's not that bad once you get a handle on the crippling depression and constant tooth grinding.</td>\n",
       "      <td>Haha oh. Definitely not an option than.</td>\n",
       "      <td>Oh, it's not that bad once you get a handle on the crippling depression and constant tooth grinding. Haha oh. Definitely not an option than.</td>\n",
       "    </tr>\n",
       "    <tr>\n",
       "      <th>...</th>\n",
       "      <td>...</td>\n",
       "      <td>...</td>\n",
       "      <td>...</td>\n",
       "    </tr>\n",
       "    <tr>\n",
       "      <th>59995</th>\n",
       "      <td>room you mean like, dimension?</td>\n",
       "      <td>So as another guy pointed out. Huckmon might be projecting Ken as a way to steal Meicoomon, remember he was lurking all the time. Also he was in the 'room' after Ken disappeared</td>\n",
       "      <td>room you mean like, dimension? So as another guy pointed out. Huckmon might be projecting Ken as a way to steal Meicoomon, remember he was lurking all the time. Also he was in the 'room' after Ken disappeared</td>\n",
       "    </tr>\n",
       "    <tr>\n",
       "      <th>59996</th>\n",
       "      <td>I wasn't too fond of grabner in 14 so I put Bergeron up the middle to win draws and set up plays and what not.</td>\n",
       "      <td>Hall - Duchene - Grabner?</td>\n",
       "      <td>I wasn't too fond of grabner in 14 so I put Bergeron up the middle to win draws and set up plays and what not. Hall - Duchene - Grabner?</td>\n",
       "    </tr>\n",
       "    <tr>\n",
       "      <th>59997</th>\n",
       "      <td>he wasn't even at worlds in season 4!</td>\n",
       "      <td>Yeah he was.</td>\n",
       "      <td>he wasn't even at worlds in season 4! Yeah he was.</td>\n",
       "    </tr>\n",
       "    <tr>\n",
       "      <th>59998</th>\n",
       "      <td>Right, but the Trump sign...</td>\n",
       "      <td>I wouldn't say you have to be liberal to appreciate sustainability. You just have to not be an ignorant twat.</td>\n",
       "      <td>Right, but the Trump sign... I wouldn't say you have to be liberal to appreciate sustainability. You just have to not be an ignorant twat.</td>\n",
       "    </tr>\n",
       "    <tr>\n",
       "      <th>59999</th>\n",
       "      <td>Would be awesome, but it's one of those things that has to be done flawlessly and can't be half-assed.</td>\n",
       "      <td>Unfortunately I think so too :'(</td>\n",
       "      <td>Would be awesome, but it's one of those things that has to be done flawlessly and can't be half-assed. Unfortunately I think so too :'(</td>\n",
       "    </tr>\n",
       "  </tbody>\n",
       "</table>\n",
       "<p>60000 rows × 3 columns</p>\n",
       "</div>"
      ],
      "text/plain": [
       "                                                                                                              comment  \\\n",
       "0                                                                      Of course, just like 3.2 was the true Messiah.   \n",
       "1                                                  Yeah because Iran was 100% muslim prior to 1979, and still is now.   \n",
       "2                                          WELL YOU'RE JUST A BITCH...YOU HAVE TO GO AND POST AND TAKE YOUR DOWNVOTES   \n",
       "3                                                     Yeah, it's dumb to run background checks on potential teachers.   \n",
       "4                Oh, it's not that bad once you get a handle on the crippling depression and constant tooth grinding.   \n",
       "...                                                                                                               ...   \n",
       "59995                                                                                  room you mean like, dimension?   \n",
       "59996  I wasn't too fond of grabner in 14 so I put Bergeron up the middle to win draws and set up plays and what not.   \n",
       "59997                                                                           he wasn't even at worlds in season 4!   \n",
       "59998                                                                                    Right, but the Trump sign...   \n",
       "59999          Would be awesome, but it's one of those things that has to be done flawlessly and can't be half-assed.   \n",
       "\n",
       "                                                                                                                                                                                                                                                                                                                                                                                                                                                                                                                                                                                                                                                                                                                                                                                                                                                                                                                                                                                                                                                                                                parent_comment  \\\n",
       "0      Is patch 3.3 going to be our savior? Without trying to sound like a broken record and repeating the many point of views of the growing apocalyptic threads on this forum. I was hoping to get the opinions of everyone if they believe patch 3.3 is going to bring back some of the players who have quit in the last patch or two, or does this feel like another cookie cutter patch that wont stop exit of quality population specifically on the North American servers. I ask this in concern that I have made a assertive effort as of late to refill our FC, and one of the strong points of the patch info so far is that they are installing a cross realm raid tool, which seems like it would diminish the need to recruit for a FC. I personally enjoy the aspect of a 10-15 member FC which can grow close and share things in common to the game and outside the game. But with the game seemingly losing subs it has become harder to find people to come together like I had just described and I don't want to put false hope in those who I have recruited so far. Give me some hope!   \n",
       "1                                                                                                                                                                                                                                                                                                                                                                                                                                                                                                                                                                                                                                                                                                                                                                                                                                                                               I suggest you research Iran pre-1979 as well as al-Qatb and the rise of Wahhabism. You are fully entitled to have an opinion and express it (and you do bring up a good point re: rural cobservatism) but you are misinformed.   \n",
       "2                                                                                                                                                                                                                                                                                                                                                                                                                                                                                                                                                                                                                                                                                                                                                                                                                                         Warriors / Clips game threads literally add zero value to the game experience. Why would I want to see the words flop, flopped and flopper repeated constantly? Thunder / Clips game threads were pretty good during the season. We'll see how the playoff ones are.   \n",
       "3                                                                                                                                                                                                                                                                                                                                                                                                                                                                                                                                                                                                                                                                                                                                                                                                                                                                                                                                                                                                                                     Oh i forgot.., you get to be finger printed when you are hired! Awesome!   \n",
       "4                                                                                                                                                                                                                                                                                                                                                                                                                                                                                                                                                                                                                                                                                                                                                                                                                                                                                                                                                                                                                                                                      Haha oh. Definitely not an option than.   \n",
       "...                                                                                                                                                                                                                                                                                                                                                                                                                                                                                                                                                                                                                                                                                                                                                                                                                                                                                                                                                                                                                                                                                                        ...   \n",
       "59995                                                                                                                                                                                                                                                                                                                                                                                                                                                                                                                                                                                                                                                                                                                                                                                                                                                                                                                        So as another guy pointed out. Huckmon might be projecting Ken as a way to steal Meicoomon, remember he was lurking all the time. Also he was in the 'room' after Ken disappeared   \n",
       "59996                                                                                                                                                                                                                                                                                                                                                                                                                                                                                                                                                                                                                                                                                                                                                                                                                                                                                                                                                                                                                                                                                Hall - Duchene - Grabner?   \n",
       "59997                                                                                                                                                                                                                                                                                                                                                                                                                                                                                                                                                                                                                                                                                                                                                                                                                                                                                                                                                                                                                                                                                             Yeah he was.   \n",
       "59998                                                                                                                                                                                                                                                                                                                                                                                                                                                                                                                                                                                                                                                                                                                                                                                                                                                                                                                                                                                            I wouldn't say you have to be liberal to appreciate sustainability. You just have to not be an ignorant twat.   \n",
       "59999                                                                                                                                                                                                                                                                                                                                                                                                                                                                                                                                                                                                                                                                                                                                                                                                                                                                                                                                                                                                                                                                         Unfortunately I think so too :'(   \n",
       "\n",
       "                                                                                                                                                                                                                                                                                                                                                                                                                                                                                                                                                                                                                                                                                                                                                                                                                                                                                                                                                                                                                                                                                                                                                         conc  \n",
       "0      Of course, just like 3.2 was the true Messiah. Is patch 3.3 going to be our savior? Without trying to sound like a broken record and repeating the many point of views of the growing apocalyptic threads on this forum. I was hoping to get the opinions of everyone if they believe patch 3.3 is going to bring back some of the players who have quit in the last patch or two, or does this feel like another cookie cutter patch that wont stop exit of quality population specifically on the North American servers. I ask this in concern that I have made a assertive effort as of late to refill our FC, and one of the strong points of the patch info so far is that they are installing a cross realm raid tool, which seems like it would diminish the need to recruit for a FC. I personally enjoy the aspect of a 10-15 member FC which can grow close and share things in common to the game and outside the game. But with the game seemingly losing subs it has become harder to find people to come together like I had just described and I don't want to put false hope in those who I have recruited so far. Give me some hope!  \n",
       "1                                                                                                                                                                                                                                                                                                                                                                                                                                                                                                                                                                                                                                                                                                                                                                                                                                                           Yeah because Iran was 100% muslim prior to 1979, and still is now. I suggest you research Iran pre-1979 as well as al-Qatb and the rise of Wahhabism. You are fully entitled to have an opinion and express it (and you do bring up a good point re: rural cobservatism) but you are misinformed.  \n",
       "2                                                                                                                                                                                                                                                                                                                                                                                                                                                                                                                                                                                                                                                                                                                                                                                                             WELL YOU'RE JUST A BITCH...YOU HAVE TO GO AND POST AND TAKE YOUR DOWNVOTES Warriors / Clips game threads literally add zero value to the game experience. Why would I want to see the words flop, flopped and flopper repeated constantly? Thunder / Clips game threads were pretty good during the season. We'll see how the playoff ones are.  \n",
       "3                                                                                                                                                                                                                                                                                                                                                                                                                                                                                                                                                                                                                                                                                                                                                                                                                                                                                                                                                                                                                    Yeah, it's dumb to run background checks on potential teachers. Oh i forgot.., you get to be finger printed when you are hired! Awesome!  \n",
       "4                                                                                                                                                                                                                                                                                                                                                                                                                                                                                                                                                                                                                                                                                                                                                                                                                                                                                                                                                                                                                Oh, it's not that bad once you get a handle on the crippling depression and constant tooth grinding. Haha oh. Definitely not an option than.  \n",
       "...                                                                                                                                                                                                                                                                                                                                                                                                                                                                                                                                                                                                                                                                                                                                                                                                                                                                                                                                                                                                                                                                                                                                                       ...  \n",
       "59995                                                                                                                                                                                                                                                                                                                                                                                                                                                                                                                                                                                                                                                                                                                                                                                                                                                                                                                                        room you mean like, dimension? So as another guy pointed out. Huckmon might be projecting Ken as a way to steal Meicoomon, remember he was lurking all the time. Also he was in the 'room' after Ken disappeared  \n",
       "59996                                                                                                                                                                                                                                                                                                                                                                                                                                                                                                                                                                                                                                                                                                                                                                                                                                                                                                                                                                                                                I wasn't too fond of grabner in 14 so I put Bergeron up the middle to win draws and set up plays and what not. Hall - Duchene - Grabner?  \n",
       "59997                                                                                                                                                                                                                                                                                                                                                                                                                                                                                                                                                                                                                                                                                                                                                                                                                                                                                                                                                                                                                                                                                                      he wasn't even at worlds in season 4! Yeah he was.  \n",
       "59998                                                                                                                                                                                                                                                                                                                                                                                                                                                                                                                                                                                                                                                                                                                                                                                                                                                                                                                                                                                                              Right, but the Trump sign... I wouldn't say you have to be liberal to appreciate sustainability. You just have to not be an ignorant twat.  \n",
       "59999                                                                                                                                                                                                                                                                                                                                                                                                                                                                                                                                                                                                                                                                                                                                                                                                                                                                                                                                                                                                                 Would be awesome, but it's one of those things that has to be done flawlessly and can't be half-assed. Unfortunately I think so too :'(  \n",
       "\n",
       "[60000 rows x 3 columns]"
      ]
     },
     "execution_count": 34,
     "metadata": {},
     "output_type": "execute_result"
    }
   ],
   "source": [
    "X1['conc'] = X1[['comment', 'parent_comment']].agg(' '.join, axis=1)\n",
    "X1"
   ]
  },
  {
   "cell_type": "markdown",
   "id": "72118968",
   "metadata": {},
   "source": [
    "Realizei os mesmos processos de pré-processamento, separação em conjunto de treino e teste, balanceamento das classes e vetorização já comentados durante o baseline."
   ]
  },
  {
   "cell_type": "code",
   "execution_count": 35,
   "id": "46d0f4e5",
   "metadata": {},
   "outputs": [],
   "source": [
    "lista = []\n",
    "for i in X1['conc']:\n",
    "    f = preprocess(i)\n",
    "    lista.append(f)\n",
    "X1_PP = pd.DataFrame (lista, columns = ['conc'])"
   ]
  },
  {
   "cell_type": "markdown",
   "id": "47606798",
   "metadata": {},
   "source": [
    "Em todos os modelos foram utilizados GridSearch ou RandomSearch, que já realizam a separação em conjunto de treino e validação, sendo assim, nessa etapa novamente fiz apenas a separação entre treino e teste."
   ]
  },
  {
   "cell_type": "code",
   "execution_count": 36,
   "id": "f15edf9d",
   "metadata": {},
   "outputs": [],
   "source": [
    "X_train_valid, X_test, y_train_valid, y_test = train_test_split(X1_PP,y, test_size=0.2, random_state=42, stratify=y)"
   ]
  },
  {
   "cell_type": "markdown",
   "id": "3169f822",
   "metadata": {},
   "source": [
    "Utilizei o método \"Random Over-Sampling\" para realizar o balanceamento das classes, esse método duplica aleatoriamente amostras na classe que possui menos elementos, até que ambas as classes tenham o mesmo tamanho. Optei por utilizar o Over-Sampling pois a tecnica de Under-Sampling pode acabar fazendo com que o conjunto perca algumas informações importantes, e ao fazer testes com este método pude perceber que ele reduziu bastante o F1 Score do modelo em questão."
   ]
  },
  {
   "cell_type": "code",
   "execution_count": 37,
   "id": "270ab9cf",
   "metadata": {},
   "outputs": [],
   "source": [
    "from imblearn.over_sampling import RandomOverSampler\n",
    "ros = RandomOverSampler(random_state=42)\n",
    "X_r, y_r = ros.fit_resample(X_train_valid, y_train_valid)"
   ]
  },
  {
   "cell_type": "markdown",
   "id": "8543299a",
   "metadata": {},
   "source": [
    "Durante a vetorização, defini para esse conjunto de atributos que gostaria de trabalhar com unigramas e bigramas, para isso alterei o parâmetro \"ngram_range\" para (1,2). Também defini o parâmetro \"min_df\" como 2, para ignorar palavras que aparecem em menos de dois documentos."
   ]
  },
  {
   "cell_type": "code",
   "execution_count": 38,
   "id": "34d2f4dc",
   "metadata": {},
   "outputs": [],
   "source": [
    "tf = TfidfVectorizer(strip_accents='unicode', stop_words='english', ngram_range=(1,2), min_df=2)\n",
    "X_tf = tf.fit_transform(X_r['conc'])\n",
    "X_test_tf = tf.transform(X_test['conc'])"
   ]
  },
  {
   "cell_type": "markdown",
   "id": "d6534f49",
   "metadata": {},
   "source": [
    "Novamente, imprimi 100 palavras que estão contidas no vocabulário dos dados, pode-se perceber que o min_df causou uma grande redução na quantidade de palavras sem sentido, mas muitas ainda continuaram. Esse problema poderia ser resolvido aumentando o valor do min_df, mas isso poderia causar uma grande perda de informações."
   ]
  },
  {
   "cell_type": "code",
   "execution_count": 39,
   "id": "fedfb99e",
   "metadata": {
    "scrolled": true
   },
   "outputs": [
    {
     "name": "stdout",
     "output_type": "stream",
     "text": [
      "aaa\n",
      "aaa game\n",
      "aaa surprised\n",
      "aaaaa\n",
      "aaaaa battery\n",
      "aaaaaaamnnnnnnnddddd\n",
      "aaaaaaamnnnnnnnddddd gone\n",
      "aaaaaaand\n",
      "aaaaand\n",
      "aaaand\n",
      "aaaand looking\n",
      "aaand\n",
      "aaand retagged\n",
      "aac\n",
      "aac rest\n",
      "aahahahahahah\n",
      "aahahahahahah cuck\n",
      "aampm\n",
      "aampm year\n",
      "aan\n",
      "aan hand\n",
      "aan het\n",
      "aan wat\n",
      "aang\n",
      "aang katara\n",
      "aap\n",
      "aap wonder\n",
      "aar\n",
      "aar cuda\n",
      "aaron\n",
      "aaron hernandez\n",
      "aaron lennon\n",
      "aaron lmao\n",
      "aaron poochigian\n",
      "aaron rodgers\n",
      "aaron smith\n",
      "aaron taylorjohnson\n",
      "aatrox\n",
      "aatrox immune\n",
      "aav\n",
      "aback\n",
      "abandon\n",
      "abandon campaign\n",
      "abandon character\n",
      "abandon plan\n",
      "abandon ship\n",
      "abandoned\n",
      "abandoned girlfriend\n",
      "abandoned house\n",
      "abandoned irradiated\n",
      "abandoned plantation\n",
      "abandoned rise\n",
      "abandoned theme\n",
      "abandonment\n",
      "abathur\n",
      "abbas\n",
      "abbas israeli\n",
      "abbas restore\n",
      "abbas say\n",
      "abbot\n",
      "abbotsford\n",
      "abbotsford nice\n",
      "abbott\n",
      "abbreviating\n",
      "abbreviating long\n",
      "abbreviation\n",
      "abbreviation tech\n",
      "abc\n",
      "abc news\n",
      "abc voter\n",
      "abcdefghijklmnopqrstuvwxyz\n",
      "abd\n",
      "abd look\n",
      "abdomenthe\n",
      "abdomenthe way\n",
      "abdominal\n",
      "abdominal menstrual\n",
      "abdullah\n",
      "abdullah bryant\n",
      "abe\n",
      "abe splyce\n",
      "abedins\n",
      "abedins shoulder\n",
      "abelson\n",
      "abelson day\n",
      "abet\n",
      "abh\n",
      "abh dipbrow\n",
      "abh duo\n",
      "abh perfect\n",
      "abide\n",
      "abiding\n",
      "abiding citizen\n",
      "abilitiesautos\n",
      "abilitiesautos smite\n",
      "ability\n",
      "ability accomplishment\n",
      "ability aside\n",
      "ability best\n",
      "ability blind\n"
     ]
    }
   ],
   "source": [
    "c=0\n",
    "for i in tf.get_feature_names():\n",
    "    print(i)\n",
    "    c+=1\n",
    "    if c == 100:\n",
    "        break"
   ]
  },
  {
   "cell_type": "markdown",
   "id": "1cfa8001",
   "metadata": {},
   "source": [
    "### 1° Modelo: Regressão logística"
   ]
  },
  {
   "cell_type": "markdown",
   "id": "09ae7927",
   "metadata": {},
   "source": [
    "Novamente volto a utilizar a regressão logística, dessa vez esse modelo será otimizado para que possa ser comparado com o modelo baseline.\n",
    "\n",
    "Para otimização dos hiperparâmetros foi utilizada a técnica \"GridSearch\", basicamente o modelo irá testar todas as combinações de hiperparâmetros que estão contidas no dicionário fornecido e escolher a que proporcionar um melhor F1 Score.\n",
    "\n",
    "Os hiperparâmetros otimizados foram:\n",
    "1. C: Inverso da força de regularização, quanto menor o seu valor, maior a força de regularização.\n",
    "2. Penalty: Tecnica de regularização que será utilizada.\n",
    "3. Solver: Algoritmo que será utilizado para o problema da otimização."
   ]
  },
  {
   "cell_type": "code",
   "execution_count": 40,
   "id": "fc1cff41",
   "metadata": {},
   "outputs": [],
   "source": [
    "from sklearn.model_selection import GridSearchCV\n",
    "\n",
    "parametersRL = {'C':[1.0, 0.5, 1.5, 2.0],\n",
    "              'penalty': ['l2', 'none'],\n",
    "              'solver':['lbfgs', 'saga', 'newton-cg']}"
   ]
  },
  {
   "cell_type": "code",
   "execution_count": 41,
   "id": "8c9718f9",
   "metadata": {},
   "outputs": [
    {
     "data": {
      "text/plain": [
       "LogisticRegression(penalty='none')"
      ]
     },
     "execution_count": 41,
     "metadata": {},
     "output_type": "execute_result"
    }
   ],
   "source": [
    "LRB = LogisticRegression()\n",
    "GLRB = GridSearchCV(LRB, param_grid=parametersRL, refit='f1_macro', return_train_score=False, scoring= 'f1_macro')\n",
    "GLRB.fit(X_tf, y_r)\n",
    "GLRB.best_estimator_"
   ]
  },
  {
   "cell_type": "code",
   "execution_count": 42,
   "id": "a21a0f9c",
   "metadata": {},
   "outputs": [
    {
     "name": "stdout",
     "output_type": "stream",
     "text": [
      "O F1_Score da classe 1 foi de: 75.18%\n",
      "O F1_Score da classe 0 foi de: 35.68%\n",
      "O F1_Score médio foi de: 55.43%\n"
     ]
    }
   ],
   "source": [
    "y_predict11 = GLRB.predict(X_test_tf)\n",
    "A11 = f1_score(y_test, y_predict11, average='macro')\n",
    "A11B = f1_score(y_test, y_predict11)\n",
    "A11C = f1_score(y_test, y_predict11, pos_label=0)\n",
    "\n",
    "print(f'O F1_Score da classe 1 foi de: {round(A11B*100, 2)}%')\n",
    "print(f'O F1_Score da classe 0 foi de: {round(A11C*100, 2)}%')\n",
    "print(f'O F1_Score médio foi de: {round(A11*100, 2)}%')"
   ]
  },
  {
   "cell_type": "markdown",
   "id": "a76ecb4f",
   "metadata": {},
   "source": [
    "Esse modelo apresentou F1 Score médio de 55.43%, levemente superior ao obtido no baseline. Pode-se perceber que esse modelo mesmo tendo um resultado razoavelmente bom, o F1 Score na classe 0 não foi muito satisfatório, sendo esse um padrão nesse dataset, como poderemos perceber ao comparar com os modelos que veremos futuramente."
   ]
  },
  {
   "cell_type": "markdown",
   "id": "8af688b3",
   "metadata": {},
   "source": [
    "### 2° Modelo: Naive bayes"
   ]
  },
  {
   "cell_type": "markdown",
   "id": "26f1e1b6",
   "metadata": {},
   "source": [
    "O segundo modelo escolhido foi o Naive Bayes, ele também é um classificador probabilístico e foi baseado no \"Teorema de Bayes\".\n",
    "Esse algoritmo é muito popular em NLP graças a sua simplicidade e rapidez, além disso,  ele costuma apresentar um desempenho melhor do que muitos outros classificadores. \n",
    "\n",
    "Esse modelo também foi otimizado utilizando GridSearch, os hiperparâmetros otimizados foram:\n",
    "1. Alpha: É o \"Smoothing parameter\" utilizado na equação \"Laplace Smoothing\" para resolver o problema da probabilidade zero no algoritmo Naive Bayes\n",
    "2. Fit_prior: Define se o algoritmo deve aprender a \"Prior probability\"(probabilidade de um evento ocorrer antes de novos dados serem coletados) dos dados."
   ]
  },
  {
   "cell_type": "code",
   "execution_count": 43,
   "id": "a937145f",
   "metadata": {},
   "outputs": [],
   "source": [
    "parametersNB = {'alpha':[1.0, 0.5, 1.5],\n",
    "              'fit_prior': [True, False]}"
   ]
  },
  {
   "cell_type": "code",
   "execution_count": 44,
   "id": "e9cc8ea9",
   "metadata": {},
   "outputs": [
    {
     "data": {
      "text/plain": [
       "MultinomialNB(alpha=0.5)"
      ]
     },
     "execution_count": 44,
     "metadata": {},
     "output_type": "execute_result"
    }
   ],
   "source": [
    "from sklearn.naive_bayes import MultinomialNB\n",
    "NB = MultinomialNB()\n",
    "GNB = GridSearchCV(NB, param_grid=parametersNB, refit='f1_macro', scoring= 'f1_macro')\n",
    "GNB.fit(X_tf, y_r)\n",
    "GNB.best_estimator_"
   ]
  },
  {
   "cell_type": "code",
   "execution_count": 45,
   "id": "6ae6be6a",
   "metadata": {},
   "outputs": [
    {
     "name": "stdout",
     "output_type": "stream",
     "text": [
      "O F1_Score da classe 1 foi de: 79.72%\n",
      "O F1_Score da classe 0 foi de: 12.84%\n",
      "O F1_Score médio foi de: 46.28%\n"
     ]
    }
   ],
   "source": [
    "y_predict12 = GNB.predict(X_test_tf)\n",
    "A12B = f1_score(y_test, y_predict12)\n",
    "A12C = f1_score(y_test, y_predict12, pos_label=0)\n",
    "A12 = f1_score(y_test, y_predict12, average='macro')\n",
    "\n",
    "print(f'O F1_Score da classe 1 foi de: {round(A12B*100, 2)}%')\n",
    "print(f'O F1_Score da classe 0 foi de: {round(A12C*100, 2)}%')\n",
    "print(f'O F1_Score médio foi de: {round(A12*100, 2)}%')"
   ]
  },
  {
   "cell_type": "markdown",
   "id": "1149fe41",
   "metadata": {},
   "source": [
    "Nesse modelo tivemos um F1 Score médio de 46.28%, valor muito inferior ao do baseline mostrando que esse modelo não se adaptou bem com o conjunto de dados, mais para frente farei um novo modelo utilizando o algoritmo Naive bayes para tentar compreender melhor o que causou essa perda."
   ]
  },
  {
   "cell_type": "markdown",
   "id": "04558f25",
   "metadata": {},
   "source": [
    "### 3° Modelo: SVM"
   ]
  },
  {
   "cell_type": "markdown",
   "id": "47b24ca9",
   "metadata": {},
   "source": [
    "O terceiro modelo escolhido foi o SVM, ele é um algoritmo de classificação supervisionado e que classifica os dados por meio de hiperplanos.\n",
    "\n",
    "Neste modelo, a maioria dos hiperparâmetros que seriam otimizados se tratavam de números, sendo assim, imaginei que a otimização por meio do método RandomSearch, que diferente do GridSearch que percorre todas as possibilidades, essa tecnica testa valores aleatória a cada iteração, por padrão ela realiza 10 iterações.\n",
    "Os hiperparâmetros otimizados foram:\n",
    "1. C: Inverso da força de regularização, quanto menor o seu valor, maior a força de regularização.\n",
    "2. Kernel: Define qual kernel vai ser utilizado, nesse caso, entre o \"rbf\" e o \"poly\"\n",
    "3. degree: Escolhe o grau da função polinomial, é ignorado a não ser que o kernel \"poly\" seja escolhido."
   ]
  },
  {
   "cell_type": "code",
   "execution_count": 46,
   "id": "618b3cb6",
   "metadata": {},
   "outputs": [],
   "source": [
    "from sklearn.model_selection import RandomizedSearchCV\n",
    "from scipy.stats import randint as sp_randint\n",
    "import random\n",
    "parametersS = dict(\n",
    "    C= [random.uniform(1, 2)],\n",
    "    kernel= ['rbf', 'poly'],\n",
    "    degree= [sp_randint.rvs(2,5)],\n",
    ")"
   ]
  },
  {
   "cell_type": "code",
   "execution_count": 47,
   "id": "8cf72ee1",
   "metadata": {},
   "outputs": [
    {
     "data": {
      "text/plain": [
       "SVC(C=1.9387761007607769, degree=4, max_iter=3500)"
      ]
     },
     "execution_count": 47,
     "metadata": {},
     "output_type": "execute_result"
    }
   ],
   "source": [
    "from sklearn.svm import SVC\n",
    "S = SVC(max_iter=3500)\n",
    "RS = RandomizedSearchCV(S, parametersS, random_state=42, return_train_score=False, scoring= 'f1_macro')\n",
    "RS.fit(X_tf, y_r)\n",
    "RS.best_estimator_"
   ]
  },
  {
   "cell_type": "code",
   "execution_count": 48,
   "id": "dd8cce7f",
   "metadata": {},
   "outputs": [
    {
     "name": "stdout",
     "output_type": "stream",
     "text": [
      "O F1_Score da classe 1 foi de: 68.82%\n",
      "O F1_Score da classe 0 foi de: 40.38%\n",
      "O F1_Score médio foi de: 54.6%\n"
     ]
    }
   ],
   "source": [
    "y_predict13 = RS.predict(X_test_tf)\n",
    "A13 = f1_score(y_test, y_predict13, average='macro')\n",
    "A13B = f1_score(y_test, y_predict13)\n",
    "A13C = f1_score(y_test, y_predict13, pos_label=0)\n",
    "\n",
    "print(f'O F1_Score da classe 1 foi de: {round(A13B*100, 2)}%')\n",
    "print(f'O F1_Score da classe 0 foi de: {round(A13C*100, 2)}%')\n",
    "print(f'O F1_Score médio foi de: {round(A13*100, 2)}%')"
   ]
  },
  {
   "cell_type": "markdown",
   "id": "cc660fd6",
   "metadata": {},
   "source": [
    "Esse modelo apresentou um F1 Score médio de 54.6%, também obteve um valor mediano mas quando comparado os F1 Score das classes separadamente, pode-se perceber que ele conseguiu fazer ume melhor destinção entre as duas classes quando comparado com os modelos anteriores."
   ]
  },
  {
   "cell_type": "markdown",
   "id": "7fbb31fa",
   "metadata": {},
   "source": [
    "### 4° Modelo: Passive-Agressive"
   ]
  },
  {
   "cell_type": "markdown",
   "id": "38e860f5",
   "metadata": {},
   "source": [
    "O 4° modelo escolhido foi o \"Passive-Agressive\", é um classificador que não foi visto durante a mentoria, e é um dos poucos \"Online-learning algorithms\". Em algoritmos de aprendizado online, o conjunto de dados é separado em diversas amostras, que são sequencialmente atualizadas no classificador, de forma resumida pode-se dizer que o modelo pega um exemplo de treino, atualiza o classificador, e logo após descarta o exemplo. O algoritmo \"Passive-Agressive\" possui esse nome pois ele possui duas possibilidades:\n",
    "\n",
    "1. Passive: A predição da amostra está correta, então não é feita nenhuma alteração no modelo.\n",
    "2. Agressive: A predição da amostra está incorreta, são feitas alterações no modelo para corrigir o erro.\n",
    "\n",
    "Esse modelo foi escolhido pois ele é muito utilizado para situações em que existem uma grande quantidade de dados, como é o caso do dataset SARC, que está sendo trabalhado nesse notebook.\n",
    "\n",
    "A otimização desse modelo também foi realizada pelo método RandomSearch, e os dados otimizados foram:\n",
    "1. C: Inverso da força de regularização, quanto menor o seu valor, maior a força de regularização.\n",
    "2. tol: Critério de parada, define que o modelo irá parar quando chegar a um determinado resultado.\n",
    "3. max_iter: Quantidade de iterações que o modelo realizará nos dados de treino."
   ]
  },
  {
   "cell_type": "code",
   "execution_count": 49,
   "id": "2f29145b",
   "metadata": {},
   "outputs": [],
   "source": [
    "from scipy.stats import uniform\n",
    "parametersPA = dict(\n",
    "    C= [random.uniform(1, 2)],\n",
    "    tol= [10**uniform.rvs(loc = -5, scale = 4)],\n",
    "    max_iter= [sp_randint.rvs(1000, 2000,5)],\n",
    ")"
   ]
  },
  {
   "cell_type": "code",
   "execution_count": 50,
   "id": "8bf07000",
   "metadata": {},
   "outputs": [
    {
     "data": {
      "text/plain": [
       "PassiveAggressiveClassifier(C=1.8190470516867334, max_iter=1263,\n",
       "                            tol=0.01063073111756612)"
      ]
     },
     "execution_count": 50,
     "metadata": {},
     "output_type": "execute_result"
    }
   ],
   "source": [
    "from sklearn.linear_model import PassiveAggressiveClassifier\n",
    "PA = PassiveAggressiveClassifier()\n",
    "RPA = RandomizedSearchCV(PA, parametersPA, random_state=42, return_train_score=False, scoring= 'f1_macro')\n",
    "RPA.fit(X_tf, y_r)\n",
    "RPA.best_estimator_"
   ]
  },
  {
   "cell_type": "code",
   "execution_count": 51,
   "id": "3dc908c8",
   "metadata": {},
   "outputs": [
    {
     "name": "stdout",
     "output_type": "stream",
     "text": [
      "O F1_Score da classe 1 foi de: 75.31%\n",
      "O F1_Score da classe 0 foi de: 36.22%\n",
      "O F1_Score médio foi de: 55.76%\n"
     ]
    }
   ],
   "source": [
    "y_predict14 = RPA.predict(X_test_tf)\n",
    "A14 = f1_score(y_test, y_predict14, average='macro')\n",
    "A14B = f1_score(y_test, y_predict14)\n",
    "A14C = f1_score(y_test, y_predict14, pos_label=0)\n",
    "\n",
    "print(f'O F1_Score da classe 1 foi de: {round(A14B*100, 2)}%')\n",
    "print(f'O F1_Score da classe 0 foi de: {round(A14C*100, 2)}%')\n",
    "print(f'O F1_Score médio foi de: {round(A14*100, 2)}%')"
   ]
  },
  {
   "cell_type": "markdown",
   "id": "439819d7",
   "metadata": {},
   "source": [
    "O Passive-Agressive conseguiu um valor muito bom em seu F1 Score médio, sendo o modelo balanceado que obteve os melhores resultados no primeiro conjunto."
   ]
  },
  {
   "cell_type": "markdown",
   "id": "3bc2ec4f",
   "metadata": {},
   "source": [
    "### 5° Modelo: Naive Bayes (Sem balanceamento)"
   ]
  },
  {
   "cell_type": "markdown",
   "id": "4c120c28",
   "metadata": {},
   "source": [
    "Para fim, fiz um teste com o modelo Naive bayes sem realizar o balanceamento com o intuito de descobrir a causa daquele baixo F1 Score obtido anteriormente."
   ]
  },
  {
   "cell_type": "code",
   "execution_count": 52,
   "id": "0f1fce61",
   "metadata": {},
   "outputs": [],
   "source": [
    "tf = TfidfVectorizer(strip_accents='unicode', stop_words='english', ngram_range=(1,2), min_df=2)\n",
    "X_tf2 = tf.fit_transform(X_train_valid['conc'])\n",
    "X_test_tf2 = tf.transform(X_test['conc'])"
   ]
  },
  {
   "cell_type": "code",
   "execution_count": 53,
   "id": "9c6eaaf9",
   "metadata": {},
   "outputs": [],
   "source": [
    "parametersNB = {'alpha':[1.0, 0.5, 1.5],\n",
    "              'fit_prior': [True, False]}"
   ]
  },
  {
   "cell_type": "code",
   "execution_count": 54,
   "id": "71b86b0c",
   "metadata": {},
   "outputs": [
    {
     "data": {
      "text/plain": [
       "MultinomialNB(alpha=0.5, fit_prior=False)"
      ]
     },
     "execution_count": 54,
     "metadata": {},
     "output_type": "execute_result"
    }
   ],
   "source": [
    "from sklearn.naive_bayes import MultinomialNB\n",
    "NB = MultinomialNB()\n",
    "GNBS = GridSearchCV(NB, param_grid=parametersNB, refit='f1_macro', scoring= 'f1_macro')\n",
    "GNBS.fit(X_tf2, y_train_valid)\n",
    "GNBS.best_estimator_"
   ]
  },
  {
   "cell_type": "code",
   "execution_count": 55,
   "id": "1adba342",
   "metadata": {},
   "outputs": [
    {
     "name": "stdout",
     "output_type": "stream",
     "text": [
      "O F1_Score da classe 1 foi de: 76.13%\n",
      "O F1_Score da classe 0 foi de: 38.85%\n",
      "O F1_Score médio foi de: 57.49%\n"
     ]
    }
   ],
   "source": [
    "y_predict15 = GNBS.predict(X_test_tf2)\n",
    "A15 = f1_score(y_test, y_predict15, average='macro')\n",
    "A15B = f1_score(y_test, y_predict15)\n",
    "A15C = f1_score(y_test, y_predict15, pos_label=0)\n",
    "\n",
    "print(f'O F1_Score da classe 1 foi de: {round(A15B*100, 2)}%')\n",
    "print(f'O F1_Score da classe 0 foi de: {round(A15C*100, 2)}%')\n",
    "print(f'O F1_Score médio foi de: {round(A15*100, 2)}%')"
   ]
  },
  {
   "cell_type": "markdown",
   "id": "76090706",
   "metadata": {},
   "source": [
    "Como pode-se ver ouve um grande aumento no F1 Score desse modelo sem o balanceamento, mostrando que a causa do F1 Score baixo desse modelo anteriormente realmente se deu pois ele não conseguiu lidar muito bem com os dados balanceados."
   ]
  },
  {
   "cell_type": "markdown",
   "id": "a010ec76",
   "metadata": {},
   "source": [
    "## 2° Conjunto de atributos de entrada"
   ]
  },
  {
   "cell_type": "markdown",
   "id": "58954c85",
   "metadata": {},
   "source": [
    "Para o 2° conjunto, decidi utilizar os mesmos atributos do 1° conjunto, porém, dessa vez utilizando o método de vetorização \"Bag of Words\". A escolha de manter os mesmos atributos se deu pois possibilitaria uma melhor comparação entre os dois métodos."
   ]
  },
  {
   "cell_type": "code",
   "execution_count": 56,
   "id": "bacb2fd3",
   "metadata": {},
   "outputs": [],
   "source": [
    "from sklearn.feature_extraction.text import CountVectorizer\n",
    "bw = CountVectorizer(strip_accents='unicode', stop_words='english', ngram_range=(1,2), min_df=2)\n",
    "X_bw = bw.fit_transform(X_r['conc'])\n",
    "X_test_bw = bw.transform(X_test['conc'])"
   ]
  },
  {
   "cell_type": "markdown",
   "id": "4bc407d9",
   "metadata": {},
   "source": [
    "Nos modelos a seguir também optei por manter os mesmos hiperparâmetros que foram utilizados na otimização dos modelos do 1° conjunto, com o intuito de possibilitar uma comparação mais justa entre ambos."
   ]
  },
  {
   "cell_type": "markdown",
   "id": "d886f920",
   "metadata": {},
   "source": [
    "### 1° Modelo: Regressão logística"
   ]
  },
  {
   "cell_type": "code",
   "execution_count": 57,
   "id": "59edbbf9",
   "metadata": {},
   "outputs": [],
   "source": [
    "parametersRL = {'C':[1.0, 0.5, 1.5, 2.0],\n",
    "              'penalty': ['l2', 'none'],\n",
    "              'solver':['lbfgs', 'saga', 'newton-cg']}"
   ]
  },
  {
   "cell_type": "code",
   "execution_count": 58,
   "id": "cb18edea",
   "metadata": {},
   "outputs": [
    {
     "data": {
      "text/plain": [
       "LogisticRegression(C=2.0)"
      ]
     },
     "execution_count": 58,
     "metadata": {},
     "output_type": "execute_result"
    }
   ],
   "source": [
    "LRB = LogisticRegression()\n",
    "GLRB2 = GridSearchCV(LRB, param_grid=parametersRL, refit='f1_macro', return_train_score=False, scoring= 'f1_macro')\n",
    "GLRB2.fit(X_bw, y_r)\n",
    "GLRB2.best_estimator_"
   ]
  },
  {
   "cell_type": "code",
   "execution_count": 59,
   "id": "0053951c",
   "metadata": {},
   "outputs": [
    {
     "name": "stdout",
     "output_type": "stream",
     "text": [
      "O F1_Score da classe 1 foi de: 76.53%\n",
      "O F1_Score da classe 0 foi de: 36.67%\n",
      "O F1_Score médio foi de: 63.24%\n"
     ]
    }
   ],
   "source": [
    "y_predict21 = GLRB2.predict(X_test_bw)\n",
    "A21 = f1_score(y_test, y_predict21, average= 'weighted')\n",
    "A21B = f1_score(y_test, y_predict21)\n",
    "A21C = f1_score(y_test, y_predict21, pos_label=0)\n",
    "\n",
    "print(f'O F1_Score da classe 1 foi de: {round(A21B*100, 2)}%')\n",
    "print(f'O F1_Score da classe 0 foi de: {round(A21C*100, 2)}%')\n",
    "print(f'O F1_Score médio foi de: {round(A21*100, 2)}%')"
   ]
  },
  {
   "cell_type": "markdown",
   "id": "984adde6",
   "metadata": {},
   "source": [
    "O modelo de regressão logística apresentou um resultado muito superior ao baseline, pode-se concluir que o modelo de regressão logística se saiu melhor classificando dados vetorizados pelo \"Bag of Words\", pois apresentou um F1 Score consideravelmente maior e foi o modelo que apresentou os melhore resultados no geral."
   ]
  },
  {
   "cell_type": "markdown",
   "id": "d8c022dd",
   "metadata": {},
   "source": [
    "### 2° Modelo: Naive bayes"
   ]
  },
  {
   "cell_type": "code",
   "execution_count": 60,
   "id": "41d115eb",
   "metadata": {},
   "outputs": [],
   "source": [
    "parametersNB = {'alpha':[1.0, 0.5, 1.5],\n",
    "              'fit_prior': [True, False]}"
   ]
  },
  {
   "cell_type": "code",
   "execution_count": 61,
   "id": "235ef1e3",
   "metadata": {},
   "outputs": [
    {
     "data": {
      "text/plain": [
       "MultinomialNB(alpha=0.5)"
      ]
     },
     "execution_count": 61,
     "metadata": {},
     "output_type": "execute_result"
    }
   ],
   "source": [
    "from sklearn.naive_bayes import MultinomialNB\n",
    "NB = MultinomialNB()\n",
    "GNB2 = GridSearchCV(NB, param_grid=parametersNB, refit='f1_macro', scoring= 'f1_macro')\n",
    "GNB2.fit(X_bw, y_r)\n",
    "GNB2.best_estimator_"
   ]
  },
  {
   "cell_type": "code",
   "execution_count": 62,
   "id": "3a5f479f",
   "metadata": {},
   "outputs": [
    {
     "name": "stdout",
     "output_type": "stream",
     "text": [
      "O F1_Score da classe 1 foi de: 79.39%\n",
      "O F1_Score da classe 0 foi de: 15.14%\n",
      "O F1_Score médio foi de: 47.26%\n"
     ]
    }
   ],
   "source": [
    "y_predict22 = GNB2.predict(X_test_bw)\n",
    "A22 = f1_score(y_test, y_predict22, average='macro')\n",
    "A22B = f1_score(y_test, y_predict22)\n",
    "A22C = f1_score(y_test, y_predict22, pos_label=0)\n",
    "\n",
    "print(f'O F1_Score da classe 1 foi de: {round(A22B*100, 2)}%')\n",
    "print(f'O F1_Score da classe 0 foi de: {round(A22C*100, 2)}%')\n",
    "print(f'O F1_Score médio foi de: {round(A22*100, 2)}%')"
   ]
  },
  {
   "cell_type": "markdown",
   "id": "81c507d0",
   "metadata": {},
   "source": [
    "O modelo Naive bayes continuou com um valor bem baixo em seu F1 Score, porém apresentou uma pequena melhora em relação ao conjunto anterior."
   ]
  },
  {
   "cell_type": "markdown",
   "id": "0230017a",
   "metadata": {},
   "source": [
    "### 3° Modelo: SVM"
   ]
  },
  {
   "cell_type": "code",
   "execution_count": 63,
   "id": "733c19ff",
   "metadata": {},
   "outputs": [],
   "source": [
    "parametersS = dict(\n",
    "    C= [random.uniform(1, 2)],\n",
    "    kernel= ['rbf', 'poly'],\n",
    "    degree= [sp_randint.rvs(2,5)],\n",
    ")"
   ]
  },
  {
   "cell_type": "code",
   "execution_count": 64,
   "id": "827587eb",
   "metadata": {},
   "outputs": [
    {
     "data": {
      "text/plain": [
       "SVC(C=1.1383617636195231, degree=4, max_iter=3500)"
      ]
     },
     "execution_count": 64,
     "metadata": {},
     "output_type": "execute_result"
    }
   ],
   "source": [
    "S = SVC(max_iter=3500)\n",
    "RS2 = RandomizedSearchCV(S, parametersS, random_state=42, return_train_score=False, scoring= 'f1_macro')\n",
    "RS2.fit(X_bw, y_r)\n",
    "RS2.best_estimator_"
   ]
  },
  {
   "cell_type": "code",
   "execution_count": 65,
   "id": "3a3a11e4",
   "metadata": {},
   "outputs": [
    {
     "name": "stdout",
     "output_type": "stream",
     "text": [
      "O F1_Score da classe 1 foi de: 79.57%\n",
      "O F1_Score da classe 0 foi de: 3.53%\n",
      "O F1_Score médio foi de: 41.55%\n"
     ]
    }
   ],
   "source": [
    "y_predict23 = RS2.predict(X_test_bw)\n",
    "A23 = f1_score(y_test, y_predict23, average='macro')\n",
    "A23B = f1_score(y_test, y_predict23)\n",
    "A23C = f1_score(y_test, y_predict23, pos_label=0)\n",
    "\n",
    "print(f'O F1_Score da classe 1 foi de: {round(A23B*100, 2)}%')\n",
    "print(f'O F1_Score da classe 0 foi de: {round(A23C*100, 2)}%')\n",
    "print(f'O F1_Score médio foi de: {round(A23*100, 2)}%')"
   ]
  },
  {
   "cell_type": "markdown",
   "id": "77e4c8c1",
   "metadata": {},
   "source": [
    "O modelo utilizando SVM foi o mais impactado com a mudança do método de vetorização, ele apresentou uma quedra brusca de mais de 10% em seu F1 Score."
   ]
  },
  {
   "cell_type": "markdown",
   "id": "9dfea929",
   "metadata": {},
   "source": [
    "### 4° Modelo: Passive-Agressive"
   ]
  },
  {
   "cell_type": "code",
   "execution_count": 66,
   "id": "3c0d923e",
   "metadata": {},
   "outputs": [],
   "source": [
    "parametersPA = dict(\n",
    "    C= [random.uniform(1, 2)],\n",
    "    tol= [10**uniform.rvs(loc = -5, scale = 4)],\n",
    "    max_iter= [sp_randint.rvs(1000, 2000,5)],\n",
    ")"
   ]
  },
  {
   "cell_type": "code",
   "execution_count": 67,
   "id": "9f5d75c4",
   "metadata": {},
   "outputs": [
    {
     "data": {
      "text/plain": [
       "PassiveAggressiveClassifier(C=1.768385503454379, max_iter=1652,\n",
       "                            tol=0.00010363346714128913)"
      ]
     },
     "execution_count": 67,
     "metadata": {},
     "output_type": "execute_result"
    }
   ],
   "source": [
    "PA = PassiveAggressiveClassifier()\n",
    "RPA2 = RandomizedSearchCV(PA, parametersPA, random_state=42, return_train_score=False, scoring= 'f1_macro')\n",
    "RPA2.fit(X_bw, y_r)\n",
    "RPA2.best_estimator_"
   ]
  },
  {
   "cell_type": "markdown",
   "id": "cfc7a441",
   "metadata": {},
   "source": [
    "O modelo utilizando o método Passive-Agressive não foi muito impactado pela troca do método de vetorização, não apresentando mudança relevante em seu F1 Score"
   ]
  },
  {
   "cell_type": "code",
   "execution_count": 68,
   "id": "1fa711c5",
   "metadata": {},
   "outputs": [
    {
     "name": "stdout",
     "output_type": "stream",
     "text": [
      "O F1_Score da classe 1 foi de: 73.64%\n",
      "O F1_Score da classe 0 foi de: 38.65%\n",
      "O F1_Score médio foi de: 56.15%\n"
     ]
    }
   ],
   "source": [
    "y_predict24 = RPA2.predict(X_test_bw)\n",
    "A24 = f1_score(y_test, y_predict24, average='macro')\n",
    "A24B = f1_score(y_test, y_predict24)\n",
    "A24C = f1_score(y_test, y_predict24, pos_label=0)\n",
    "\n",
    "print(f'O F1_Score da classe 1 foi de: {round(A24B*100, 2)}%')\n",
    "print(f'O F1_Score da classe 0 foi de: {round(A24C*100, 2)}%')\n",
    "print(f'O F1_Score médio foi de: {round(A24*100, 2)}%')"
   ]
  },
  {
   "cell_type": "markdown",
   "id": "5ec297f1",
   "metadata": {},
   "source": [
    "O Modelo Passive-Agressive deu um resultado levemente inferior ao primeiro conjunto, mas continuou sendo um modelo de destaque entre os apresentados anteriormente."
   ]
  },
  {
   "cell_type": "markdown",
   "id": "d1944860",
   "metadata": {},
   "source": [
    "### 5° Modelo: SVM (Sem balanceamento)"
   ]
  },
  {
   "cell_type": "markdown",
   "id": "87c186aa",
   "metadata": {},
   "source": [
    "No 2° conjunto refiz o mesmo teste feito com o Naive bayes, dessa vez utilizado o algoritmo SVM para investigar se ele também estava sendo afetado pelo balanceamento dos dados."
   ]
  },
  {
   "cell_type": "code",
   "execution_count": 69,
   "id": "49eb94a1",
   "metadata": {},
   "outputs": [],
   "source": [
    "bw = CountVectorizer(strip_accents='unicode', stop_words='english', ngram_range=(1,2), min_df=2)\n",
    "X_bw2 = bw.fit_transform(X_train_valid['conc'])\n",
    "X_test_bw2 = bw.transform(X_test['conc'])"
   ]
  },
  {
   "cell_type": "code",
   "execution_count": 70,
   "id": "0647da9e",
   "metadata": {},
   "outputs": [],
   "source": [
    "parametersS = dict(\n",
    "    C= [random.uniform(1, 2)],\n",
    "    kernel= ['rbf', 'poly'],\n",
    "    degree= [sp_randint.rvs(2,5)],\n",
    ")"
   ]
  },
  {
   "cell_type": "code",
   "execution_count": 71,
   "id": "df6b0788",
   "metadata": {},
   "outputs": [
    {
     "data": {
      "text/plain": [
       "SVC(C=1.0077774197021472, max_iter=3500)"
      ]
     },
     "execution_count": 71,
     "metadata": {},
     "output_type": "execute_result"
    }
   ],
   "source": [
    "S = SVC(max_iter=3500)\n",
    "RSS2 = RandomizedSearchCV(S, parametersS, random_state=42, return_train_score=False, scoring= 'f1_macro')\n",
    "RSS2.fit(X_bw2, y_train_valid)\n",
    "RSS2.best_estimator_"
   ]
  },
  {
   "cell_type": "code",
   "execution_count": 72,
   "id": "81205a55",
   "metadata": {},
   "outputs": [
    {
     "name": "stdout",
     "output_type": "stream",
     "text": [
      "O F1_Score da classe 1 foi de: 73.75%\n",
      "O F1_Score da classe 0 foi de: 26.13%\n",
      "O F1_Score médio foi de: 49.94%\n"
     ]
    }
   ],
   "source": [
    "y_predict25 = RSS2.predict(X_test_bw2)\n",
    "A25 = f1_score(y_test, y_predict25, average='macro')\n",
    "A25B = f1_score(y_test, y_predict25)\n",
    "A25C = f1_score(y_test, y_predict25, pos_label=0)\n",
    "\n",
    "print(f'O F1_Score da classe 1 foi de: {round(A25B*100, 2)}%')\n",
    "print(f'O F1_Score da classe 0 foi de: {round(A25C*100, 2)}%')\n",
    "print(f'O F1_Score médio foi de: {round(A25*100, 2)}%')"
   ]
  },
  {
   "cell_type": "markdown",
   "id": "b7d9d9a4",
   "metadata": {},
   "source": [
    "Novamento, o modelo sem a etapa de balanceamento apresentou uma grande melhora, mostrando que o balanceamento também foi prejudicial na classificação do SVM"
   ]
  },
  {
   "cell_type": "markdown",
   "id": "5ac798d6",
   "metadata": {},
   "source": [
    "## Análise de resultados"
   ]
  },
  {
   "cell_type": "markdown",
   "id": "7a565f45",
   "metadata": {},
   "source": [
    "Segue a baixo um gráfico com todos os resultados obtidos, pode-se perceber que alguns modelos se saíram melhor dependendo do método de vetorização que estava sendo utilizado, também é possível notar que alguns modelos se saíram melhor sem o uso do balanceamento."
   ]
  },
  {
   "cell_type": "code",
   "execution_count": 73,
   "id": "b2a93baa",
   "metadata": {},
   "outputs": [
    {
     "data": {
      "text/html": [
       "<div>\n",
       "<style scoped>\n",
       "    .dataframe tbody tr th:only-of-type {\n",
       "        vertical-align: middle;\n",
       "    }\n",
       "\n",
       "    .dataframe tbody tr th {\n",
       "        vertical-align: top;\n",
       "    }\n",
       "\n",
       "    .dataframe thead th {\n",
       "        text-align: right;\n",
       "    }\n",
       "</style>\n",
       "<table border=\"1\" class=\"dataframe\">\n",
       "  <thead>\n",
       "    <tr style=\"text-align: right;\">\n",
       "      <th></th>\n",
       "      <th>Conjunto</th>\n",
       "      <th>Modelo</th>\n",
       "      <th>F1_Score Médio(%)</th>\n",
       "      <th>F1_Score Classe 1(%)</th>\n",
       "      <th>F1_Score Classe 0(%)</th>\n",
       "    </tr>\n",
       "  </thead>\n",
       "  <tbody>\n",
       "    <tr>\n",
       "      <th>0</th>\n",
       "      <td>Baseline</td>\n",
       "      <td>Regressão Logística</td>\n",
       "      <td>54.61</td>\n",
       "      <td>79.58</td>\n",
       "      <td>29.64</td>\n",
       "    </tr>\n",
       "    <tr>\n",
       "      <th>1</th>\n",
       "      <td>1° Conjunto</td>\n",
       "      <td>Regressão Logística</td>\n",
       "      <td>55.43</td>\n",
       "      <td>75.18</td>\n",
       "      <td>35.68</td>\n",
       "    </tr>\n",
       "    <tr>\n",
       "      <th>2</th>\n",
       "      <td>1° Conjunto</td>\n",
       "      <td>Naive Bayes</td>\n",
       "      <td>46.28</td>\n",
       "      <td>79.72</td>\n",
       "      <td>12.84</td>\n",
       "    </tr>\n",
       "    <tr>\n",
       "      <th>3</th>\n",
       "      <td>1° Conjunto</td>\n",
       "      <td>SVM</td>\n",
       "      <td>54.60</td>\n",
       "      <td>68.82</td>\n",
       "      <td>40.38</td>\n",
       "    </tr>\n",
       "    <tr>\n",
       "      <th>4</th>\n",
       "      <td>1° Conjunto</td>\n",
       "      <td>Passive-Agressive</td>\n",
       "      <td>55.76</td>\n",
       "      <td>75.31</td>\n",
       "      <td>36.22</td>\n",
       "    </tr>\n",
       "    <tr>\n",
       "      <th>5</th>\n",
       "      <td>1° Conjunto</td>\n",
       "      <td>Naive Bayes(Desbalanceado)</td>\n",
       "      <td>57.49</td>\n",
       "      <td>76.13</td>\n",
       "      <td>38.85</td>\n",
       "    </tr>\n",
       "    <tr>\n",
       "      <th>6</th>\n",
       "      <td>2° Conjunto</td>\n",
       "      <td>Regressão Logística</td>\n",
       "      <td>63.24</td>\n",
       "      <td>76.53</td>\n",
       "      <td>36.67</td>\n",
       "    </tr>\n",
       "    <tr>\n",
       "      <th>7</th>\n",
       "      <td>2° Conjunto</td>\n",
       "      <td>Naive Bayes</td>\n",
       "      <td>47.26</td>\n",
       "      <td>79.39</td>\n",
       "      <td>15.14</td>\n",
       "    </tr>\n",
       "    <tr>\n",
       "      <th>8</th>\n",
       "      <td>2° Conjunto</td>\n",
       "      <td>SVM</td>\n",
       "      <td>41.55</td>\n",
       "      <td>79.57</td>\n",
       "      <td>3.53</td>\n",
       "    </tr>\n",
       "    <tr>\n",
       "      <th>9</th>\n",
       "      <td>2° Conjunto</td>\n",
       "      <td>Passive-Agressive</td>\n",
       "      <td>56.15</td>\n",
       "      <td>73.64</td>\n",
       "      <td>38.65</td>\n",
       "    </tr>\n",
       "    <tr>\n",
       "      <th>10</th>\n",
       "      <td>2° Conjunto</td>\n",
       "      <td>SVM(Desbalanceado)</td>\n",
       "      <td>49.94</td>\n",
       "      <td>73.75</td>\n",
       "      <td>26.13</td>\n",
       "    </tr>\n",
       "  </tbody>\n",
       "</table>\n",
       "</div>"
      ],
      "text/plain": [
       "       Conjunto                      Modelo  F1_Score Médio(%)  \\\n",
       "0      Baseline         Regressão Logística              54.61   \n",
       "1   1° Conjunto         Regressão Logística              55.43   \n",
       "2   1° Conjunto                 Naive Bayes              46.28   \n",
       "3   1° Conjunto                         SVM              54.60   \n",
       "4   1° Conjunto           Passive-Agressive              55.76   \n",
       "5   1° Conjunto  Naive Bayes(Desbalanceado)              57.49   \n",
       "6   2° Conjunto         Regressão Logística              63.24   \n",
       "7   2° Conjunto                 Naive Bayes              47.26   \n",
       "8   2° Conjunto                         SVM              41.55   \n",
       "9   2° Conjunto           Passive-Agressive              56.15   \n",
       "10  2° Conjunto          SVM(Desbalanceado)              49.94   \n",
       "\n",
       "    F1_Score Classe 1(%)  F1_Score Classe 0(%)  \n",
       "0                  79.58                 29.64  \n",
       "1                  75.18                 35.68  \n",
       "2                  79.72                 12.84  \n",
       "3                  68.82                 40.38  \n",
       "4                  75.31                 36.22  \n",
       "5                  76.13                 38.85  \n",
       "6                  76.53                 36.67  \n",
       "7                  79.39                 15.14  \n",
       "8                  79.57                  3.53  \n",
       "9                  73.64                 38.65  \n",
       "10                 73.75                 26.13  "
      ]
     },
     "execution_count": 73,
     "metadata": {},
     "output_type": "execute_result"
    }
   ],
   "source": [
    "data = {'Conjunto': ['Baseline', 'TF-IDF', 'TF-IDF', 'TF-IDF', 'TF-IDF', 'TF-IDF', 'BoW', 'BoW', 'BoW', 'BoW', 'BoW', ],\n",
    "        'Modelo': ['Regressão Logística', 'Regressão Logística', 'Naive Bayes', 'SVM', 'Passive-Agressive', 'Naive Bayes(Desbalanceado)', 'Regressão Logística', 'Naive Bayes', 'SVM', 'Passive-Agressive', 'SVM(Desbalanceado)'],\n",
    "        'F1_Score Médio(%)': [round(AB*100, 2), round(A11*100, 2), round(A12*100, 2), round(A13*100, 2), round(A14*100, 2), round(A15*100, 2), round(A21*100, 2), round(A22*100, 2), round(A23*100, 2), round(A24*100, 2), round(A25*100, 2)],\n",
    "        'F1_Score Classe 1(%)': [round(ABB*100, 2), round(A11B*100, 2), round(A12B*100, 2), round(A13B*100, 2), round(A14B*100, 2), round(A15B*100, 2), round(A21B*100, 2), round(A22B*100, 2), round(A23B*100, 2), round(A24B*100, 2), round(A25B*100, 2)],\n",
    "        'F1_Score Classe 0(%)': [round(ABC*100, 2), round(A11C*100, 2), round(A12C*100, 2), round(A13C*100, 2), round(A14C*100, 2), round(A15C*100, 2), round(A21C*100, 2), round(A22C*100, 2), round(A23C*100, 2), round(A24C*100, 2), round(A25C*100, 2)],\n",
    "       }\n",
    "tabela = pd.DataFrame(data)\n",
    "tabela"
   ]
  },
  {
   "cell_type": "markdown",
   "id": "ad89d57f",
   "metadata": {},
   "source": [
    "No geral, o modelo que apresentou o melhor resultado foi a Regressão Logística do 2° conjunto(utilizando Bag of Words), então utilizei sua predição para montar uma matriz de confusão que permitisse avaliar os erros que aconteceram durante a classificação."
   ]
  },
  {
   "cell_type": "markdown",
   "id": "90079748",
   "metadata": {},
   "source": [
    "### Regressão Logística - 2° Conjunto"
   ]
  },
  {
   "cell_type": "code",
   "execution_count": 74,
   "id": "2bfb699b",
   "metadata": {},
   "outputs": [],
   "source": [
    "from sklearn.metrics import confusion_matrix\n",
    "from sklearn.metrics import ConfusionMatrixDisplay\n",
    "CM = confusion_matrix(y_test,y_predict21, labels= GNBS.classes_)"
   ]
  },
  {
   "cell_type": "code",
   "execution_count": 75,
   "id": "051de75a",
   "metadata": {},
   "outputs": [
    {
     "data": {
      "image/png": "[encoded data removed]",
      "text/plain": [
       "<Figure size 720x720 with 2 Axes>"
      ]
     },
     "metadata": {
      "needs_background": "light"
     },
     "output_type": "display_data"
    }
   ],
   "source": [
    "disp = ConfusionMatrixDisplay(confusion_matrix= CM, display_labels=GNBS.classes_)\n",
    "fig, ax = plt.subplots(figsize=(10,10))\n",
    "disp.plot(cmap=plt.cm.Blues, ax= ax)\n",
    "plt.show()"
   ]
  },
  {
   "cell_type": "markdown",
   "id": "634bf489",
   "metadata": {},
   "source": [
    "Considerando a classe 1 como \"positiva\" e a classe 0 como \"negativa\", pode-se perceber que esse modelo fez um bom trabalho em classificar os dados da classe 1, apresentou um número satisfatorio de verdadeiros positivos, porém, ele apresentou dificuldade para classificar os dados da classe 0, pois como pode ser visto na matriz de confusão, o número de falsos positivos é maior que o dobro do de verdadeiros negativos, e essa situação explica o baixo valor que este modelo obteve no F1 Score da classe 0."
   ]
  },
  {
   "cell_type": "markdown",
   "id": "0f3e0194",
   "metadata": {},
   "source": [
    "###  Comparação extra"
   ]
  },
  {
   "cell_type": "markdown",
   "id": "b59d3436",
   "metadata": {},
   "source": [
    "Observei que alguns modelos otimizados não estavam apresentando melhora significante em relação ao baseline que utilizou apenas a coluna \"comment\" como atributo, então resolvi fazer uma comparação do meu melhor modelo com um modelo semelhante utilizando somente a coluna \"comment\"."
   ]
  },
  {
   "cell_type": "code",
   "execution_count": 76,
   "id": "65985655",
   "metadata": {},
   "outputs": [],
   "source": [
    "X = df['comment']\n",
    "y = df['label']"
   ]
  },
  {
   "cell_type": "code",
   "execution_count": 77,
   "id": "56a5e297",
   "metadata": {},
   "outputs": [],
   "source": [
    "lista = []\n",
    "for i in X:\n",
    "    f = preprocess(i)\n",
    "    lista.append(f)\n",
    "X_PP = pd.DataFrame (lista, columns = ['comment'])"
   ]
  },
  {
   "cell_type": "code",
   "execution_count": 78,
   "id": "577bc41c",
   "metadata": {},
   "outputs": [],
   "source": [
    "from sklearn.model_selection import train_test_split\n",
    "X_train_valid, X_test, y_train_valid, y_testC = train_test_split(X_PP,y, test_size=0.2, random_state=42, stratify=y)"
   ]
  },
  {
   "cell_type": "code",
   "execution_count": 79,
   "id": "678bcc71",
   "metadata": {},
   "outputs": [],
   "source": [
    "from imblearn.over_sampling import RandomOverSampler\n",
    "ros = RandomOverSampler(random_state=42)\n",
    "X_r, y_r = ros.fit_resample(X_train_valid, y_train_valid)"
   ]
  },
  {
   "cell_type": "code",
   "execution_count": 80,
   "id": "54883be2",
   "metadata": {},
   "outputs": [],
   "source": [
    "bw = CountVectorizer(strip_accents='unicode', stop_words='english', ngram_range=(1,2), min_df=2)\n",
    "X_bw3 = bw.fit_transform(X_r['comment'])\n",
    "X_test_bw3 = bw.transform(X_test['comment'])"
   ]
  },
  {
   "cell_type": "code",
   "execution_count": 81,
   "id": "6cb48b99",
   "metadata": {},
   "outputs": [
    {
     "data": {
      "text/plain": [
       "LogisticRegression(C=2.0)"
      ]
     },
     "execution_count": 81,
     "metadata": {},
     "output_type": "execute_result"
    }
   ],
   "source": [
    "LRB = LogisticRegression()\n",
    "GLRB2C = GridSearchCV(LRB, param_grid=parametersRL, refit='f1_macro', return_train_score=False, scoring= 'f1_macro')\n",
    "GLRB2C.fit(X_bw3, y_r)\n",
    "GLRB2C.best_estimator_"
   ]
  },
  {
   "cell_type": "code",
   "execution_count": 82,
   "id": "8963fc3a",
   "metadata": {},
   "outputs": [
    {
     "name": "stdout",
     "output_type": "stream",
     "text": [
      "O F1_Score da classe 1 foi de: 75.74%\n",
      "O F1_Score da classe 0 foi de: 46.54%\n",
      "O F1_Score médio foi de: 66.01%\n"
     ]
    }
   ],
   "source": [
    "y_predictC = GLRB2C.predict(X_test_bw3)\n",
    "AC = f1_score(y_testC, y_predictC, average= 'weighted')\n",
    "ACB = f1_score(y_testC, y_predictC)\n",
    "ACC = f1_score(y_testC, y_predictC, pos_label=0)\n",
    "\n",
    "print(f'O F1_Score da classe 1 foi de: {round(ACB*100, 2)}%')\n",
    "print(f'O F1_Score da classe 0 foi de: {round(ACC*100, 2)}%')\n",
    "print(f'O F1_Score médio foi de: {round(AC*100, 2)}%')"
   ]
  },
  {
   "cell_type": "markdown",
   "id": "54cd8f19",
   "metadata": {},
   "source": [
    "Pode-se ver que o F1 Score médio da regressão logística apenas com a coluna \"comment\" apresentou uma melhora de quase 3%, e além disso obteve um resultado muito melhor classificando os dados da classe 0."
   ]
  },
  {
   "cell_type": "code",
   "execution_count": 83,
   "id": "9cdfd6f3",
   "metadata": {},
   "outputs": [
    {
     "data": {
      "text/html": [
       "<div>\n",
       "<style scoped>\n",
       "    .dataframe tbody tr th:only-of-type {\n",
       "        vertical-align: middle;\n",
       "    }\n",
       "\n",
       "    .dataframe tbody tr th {\n",
       "        vertical-align: top;\n",
       "    }\n",
       "\n",
       "    .dataframe thead th {\n",
       "        text-align: right;\n",
       "    }\n",
       "</style>\n",
       "<table border=\"1\" class=\"dataframe\">\n",
       "  <thead>\n",
       "    <tr style=\"text-align: right;\">\n",
       "      <th></th>\n",
       "      <th>Modelo</th>\n",
       "      <th>F1_Score médio(%)</th>\n",
       "      <th>F1_Score classe 1(%)</th>\n",
       "      <th>F1_Score Classe 2(%)</th>\n",
       "    </tr>\n",
       "  </thead>\n",
       "  <tbody>\n",
       "    <tr>\n",
       "      <th>0</th>\n",
       "      <td>Regressão Logística(2 atributos)</td>\n",
       "      <td>63.24</td>\n",
       "      <td>76.53</td>\n",
       "      <td>36.67</td>\n",
       "    </tr>\n",
       "    <tr>\n",
       "      <th>1</th>\n",
       "      <td>Regressão Logística(1 atributo)</td>\n",
       "      <td>66.01</td>\n",
       "      <td>75.74</td>\n",
       "      <td>46.54</td>\n",
       "    </tr>\n",
       "  </tbody>\n",
       "</table>\n",
       "</div>"
      ],
      "text/plain": [
       "                             Modelo  F1_Score médio(%)  F1_Score classe 1(%)  \\\n",
       "0  Regressão Logística(2 atributos)              63.24                 76.53   \n",
       "1   Regressão Logística(1 atributo)              66.01                 75.74   \n",
       "\n",
       "   F1_Score Classe 2(%)  \n",
       "0                 36.67  \n",
       "1                 46.54  "
      ]
     },
     "execution_count": 83,
     "metadata": {},
     "output_type": "execute_result"
    }
   ],
   "source": [
    "data = {'Modelo': ['Regressão Logística(2 atributos)', 'Regressão Logística(1 atributo)'],\n",
    "        'F1_Score médio(%)': [round(A21*100, 2), round(AC*100, 2)],\n",
    "        'F1_Score classe 1(%)': [round(A21B*100, 2), round(ACB*100, 2)],\n",
    "        'F1_Score Classe 0(%)': [round(A21C*100, 2), round(ACC*100, 2)],\n",
    "        }\n",
    "tabela = pd.DataFrame(data)\n",
    "tabela"
   ]
  },
  {
   "cell_type": "markdown",
   "id": "12f347cf",
   "metadata": {},
   "source": [
    "### Conclusões:"
   ]
  },
  {
   "cell_type": "markdown",
   "id": "ef045594",
   "metadata": {},
   "source": [
    "Aparentemente, o uso do atributo \"parent_comment\" não se mostrou favorável para a classificação, uma teoria que pode explicar essa situação é a de que por a coluna \"parent_comment\" por possuir um número muito maior de palavras, ela acabou sendo considerada mais importante do que a coluna \"comment\", que é a coluna alvo para detectarmos o sarcasmo."
   ]
  }
 ],
 "metadata": {
  "kernelspec": {
   "display_name": "Python 3",
   "language": "python",
   "name": "python3"
  },
  "language_info": {
   "codemirror_mode": {
    "name": "ipython",
    "version": 3
   },
   "file_extension": ".py",
   "mimetype": "text/x-python",
   "name": "python",
   "nbconvert_exporter": "python",
   "pygments_lexer": "ipython3",
   "version": "3.8.8"
  }
 },
 "nbformat": 4,
 "nbformat_minor": 5
}
