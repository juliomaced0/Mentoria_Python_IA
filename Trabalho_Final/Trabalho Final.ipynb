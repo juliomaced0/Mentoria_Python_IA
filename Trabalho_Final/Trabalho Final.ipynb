{
 "cells": [
  {
   "cell_type": "markdown",
   "id": "6a651183",
   "metadata": {},
   "source": [
    "# Trabalho Final"
   ]
  },
  {
   "cell_type": "markdown",
   "id": "30eb6442",
   "metadata": {},
   "source": [
    "Neste trabalho final você irá pôr em prática todas as etapas exercitadas ao longo da mentoria sobre projetos de aprendizado de máquina em uma tarefa de classificação de NLP: detecção de sarcasmo. Segundo Yaghoobian et al:\n",
    "\n",
    "    “Sarcasm detection is the task of identifying irony containing utterances in sentiment-bearing text. However, the figurative and creative nature of sarcasm poses a great challenge for affective computing systems performing sentiment analysis.”\n",
    "\n",
    " \n",
    "\n",
    "Detecção de sarcasmo é uma tarefa com muitas aplicações práticas interessantes,  mas também é extremamente desafiadora. Padrões linguísticos e sociais que categorizam o sarcasmo podem não estar contido unicamente no texto ou no uso de palavras específicas, dificultando que algoritmos de aprendizado de máquina aprendam a generalizar. Nesse contexto, foi proposto por Khodak et al o dataset SARC, coletado da plataforma Reddit:\n",
    "\n",
    "\n",
    "    “We introduce the Self-Annotated Reddit Corpus (SARC), a large corpus for sarcasm research and for training and evaluating systems for sarcasm detection. The corpus has 1.3 million sarcastic statements -- 10 times more than any previous dataset -- and many times more instances of non-sarcastic statements, allowing for learning in both balanced and unbalanced label regimes. Each statement is furthermore self-annotated -- sarcasm is labeled by the author, not an independent annotator -- and provided with user, topic, and conversation context.”\n",
    "\n",
    "\n",
    "Em anexo, encontra-se uma amostra do SARC. Dado esse contexto, você deverá criar e validar um modelo de detecção de sarcasmo utilizando esse dataset. O trabalho deverá conter:\n",
    "\n",
    "\n",
    "    Análise exploratória\n",
    "\n",
    "        Mostre exemplos de cada classe.\n",
    "\n",
    "        Crie pelo menos 5 gráficos, contendo um que mostre o balanceamento entre as classes. Sugestões de outros gráficos: termos mais frequentes em cada classe, distribuição da quantidade de palavras em cada classe.\n",
    "\n",
    "        Discuta seus achados.\n",
    "\n",
    "\n",
    "    Aprendizado não-supervisionado\n",
    "\n",
    "        Qualquer técnica pode ser utilizada, clusterização ou redução de dimensionalidade. Pode-se usar parte da análise exploratória ou como auxiliar na classificação.\n",
    "\n",
    "\n",
    "    Limpeza e pré-processamento dos dados\n",
    "\n",
    "        Pelo menos 3 técnicas de pré-processamento de texto (que já não sejam utilizadas por padrão na vetorização)\n",
    "\n",
    "        Utilize alguma técnica de balanceamento de dados\n",
    "\n",
    "\n",
    "    Engenharia de atributos\n",
    "\n",
    "        Selecione dentre os dados disponíveis quais devem ser utilizados como atributos de entrada e o método para representação vetorial.\n",
    "\n",
    "        Utilize pelo menos dois conjuntos de atributos de entrada, comparando as performances. Justifique suas escolhas.\n",
    "\n",
    "\n",
    "    Estabelecimento de um baseline\n",
    "\n",
    "        Utilize um modelo simples, não faça otimização de hiperparâmetros. Justifique sua escolha.\n",
    "\n",
    "\n",
    "    Seleção e avaliação de modelos\n",
    "\n",
    "        Escolha uma ou mais métricas de desempenho apropriadas para esta tarefa.\n",
    "\n",
    "        Utilize pelo menos 4 algoritmos, realizando a otimização de hiperparâmetros. Destes modelos, ao menos um deve ser um algoritmos deve ser um que não foi visto durante a mentoria. Estude o funcionamento dele. Sugestão: modelo de Deep Learning.\n",
    "\n",
    "        Avalie os algoritmos com hiperparâmetros otimizados no conjunto de teste.\n",
    "\n",
    "\n",
    "    Análise de resultados\n",
    "\n",
    "        Mostre exemplos dos erros (falso positivos e falso negativos) para o melhor dos algoritmos experimentados.\n",
    "\n",
    "        Discuta os resultados e aponte quais seriam possíveis melhorias\n",
    "\n",
    "\n",
    "    (OPCIONAL) Interpretabilidade\n",
    "\n",
    "        Utilize algum método que permita uma interpretação das predições de algum dos seus modelos.\n",
    "\n",
    "\n",
    "    (OPCIONAL) Deploy\n",
    "\n",
    "        Implemente uma API para que o seu melhor modelo possa ser utilizado via requisições HTTP."
   ]
  },
  {
   "cell_type": "code",
   "execution_count": 155,
   "id": "628e9689",
   "metadata": {},
   "outputs": [],
   "source": [
    "import numpy as np\n",
    "import pandas as pd\n",
    "import matplotlib.pyplot as plt\n",
    "import seaborn as sns\n",
    "from warnings import filterwarnings\n",
    "filterwarnings('ignore')\n",
    "%matplotlib inline"
   ]
  },
  {
   "cell_type": "markdown",
   "id": "530668f2",
   "metadata": {},
   "source": [
    "Primeiramente, alterando as configurações do dataframe para que ele exiba os textos completos, e logo em seguida imprimindo o dataframe para realizar sua análise."
   ]
  },
  {
   "cell_type": "code",
   "execution_count": 156,
   "id": "7b07ba7c",
   "metadata": {
    "scrolled": false
   },
   "outputs": [
    {
     "data": {
      "text/html": [
       "<div>\n",
       "<style scoped>\n",
       "    .dataframe tbody tr th:only-of-type {\n",
       "        vertical-align: middle;\n",
       "    }\n",
       "\n",
       "    .dataframe tbody tr th {\n",
       "        vertical-align: top;\n",
       "    }\n",
       "\n",
       "    .dataframe thead th {\n",
       "        text-align: right;\n",
       "    }\n",
       "</style>\n",
       "<table border=\"1\" class=\"dataframe\">\n",
       "  <thead>\n",
       "    <tr style=\"text-align: right;\">\n",
       "      <th></th>\n",
       "      <th>label</th>\n",
       "      <th>comment</th>\n",
       "      <th>author</th>\n",
       "      <th>subreddit</th>\n",
       "      <th>score</th>\n",
       "      <th>ups</th>\n",
       "      <th>downs</th>\n",
       "      <th>date</th>\n",
       "      <th>created_utc</th>\n",
       "      <th>parent_comment</th>\n",
       "    </tr>\n",
       "  </thead>\n",
       "  <tbody>\n",
       "    <tr>\n",
       "      <th>0</th>\n",
       "      <td>1</td>\n",
       "      <td>Of course, just like 3.2 was the true Messiah.</td>\n",
       "      <td>ReticentHedgehog</td>\n",
       "      <td>ffxiv</td>\n",
       "      <td>1</td>\n",
       "      <td>1</td>\n",
       "      <td>0</td>\n",
       "      <td>2016-05</td>\n",
       "      <td>2016-05-02 20:20:37</td>\n",
       "      <td>Is patch 3.3 going to be our savior? Without trying to sound like a broken record and repeating the many point of views of the growing apocalyptic threads on this forum. I was hoping to get the opinions of everyone if they believe patch 3.3 is going to bring back some of the players who have quit in the last patch or two, or does this feel like another cookie cutter patch that wont stop exit of quality population specifically on the North American servers. I ask this in concern that I have made a assertive effort as of late to refill our FC, and one of the strong points of the patch info so far is that they are installing a cross realm raid tool, which seems like it would diminish the need to recruit for a FC. I personally enjoy the aspect of a 10-15 member FC which can grow close and share things in common to the game and outside the game. But with the game seemingly losing subs it has become harder to find people to come together like I had just described and I don't want to put false hope in those who I have recruited so far. Give me some hope!</td>\n",
       "    </tr>\n",
       "    <tr>\n",
       "      <th>1</th>\n",
       "      <td>1</td>\n",
       "      <td>Yeah because Iran was 100% muslim prior to 1979, and still is now.</td>\n",
       "      <td>methmobile</td>\n",
       "      <td>worldnews</td>\n",
       "      <td>-3</td>\n",
       "      <td>-1</td>\n",
       "      <td>-1</td>\n",
       "      <td>2016-12</td>\n",
       "      <td>2016-12-30 10:21:31</td>\n",
       "      <td>I suggest you research Iran pre-1979 as well as al-Qatb and the rise of Wahhabism. You are fully entitled to have an opinion and express it (and you do bring up a good point re: rural cobservatism) but you are misinformed.</td>\n",
       "    </tr>\n",
       "    <tr>\n",
       "      <th>2</th>\n",
       "      <td>1</td>\n",
       "      <td>WELL YOU'RE JUST A BITCH...YOU HAVE TO GO AND POST AND TAKE YOUR DOWNVOTES</td>\n",
       "      <td>dillydelly</td>\n",
       "      <td>nba</td>\n",
       "      <td>1</td>\n",
       "      <td>1</td>\n",
       "      <td>0</td>\n",
       "      <td>2014-05</td>\n",
       "      <td>2014-05-04 08:02:30</td>\n",
       "      <td>Warriors / Clips game threads literally add zero value to the game experience. Why would I want to see the words flop, flopped and flopper repeated constantly? Thunder / Clips game threads were pretty good during the season. We'll see how the playoff ones are.</td>\n",
       "    </tr>\n",
       "    <tr>\n",
       "      <th>3</th>\n",
       "      <td>1</td>\n",
       "      <td>Yeah, it's dumb to run background checks on potential teachers.</td>\n",
       "      <td>Krenolds</td>\n",
       "      <td>AskReddit</td>\n",
       "      <td>1</td>\n",
       "      <td>1</td>\n",
       "      <td>0</td>\n",
       "      <td>2014-09</td>\n",
       "      <td>2014-09-02 08:09:10</td>\n",
       "      <td>Oh i forgot.., you get to be finger printed when you are hired! Awesome!</td>\n",
       "    </tr>\n",
       "    <tr>\n",
       "      <th>4</th>\n",
       "      <td>1</td>\n",
       "      <td>Oh, it's not that bad once you get a handle on the crippling depression and constant tooth grinding.</td>\n",
       "      <td>ericanderton</td>\n",
       "      <td>AskReddit</td>\n",
       "      <td>4</td>\n",
       "      <td>4</td>\n",
       "      <td>0</td>\n",
       "      <td>2011-08</td>\n",
       "      <td>2011-08-24 13:17:20</td>\n",
       "      <td>Haha oh. Definitely not an option than.</td>\n",
       "    </tr>\n",
       "    <tr>\n",
       "      <th>...</th>\n",
       "      <td>...</td>\n",
       "      <td>...</td>\n",
       "      <td>...</td>\n",
       "      <td>...</td>\n",
       "      <td>...</td>\n",
       "      <td>...</td>\n",
       "      <td>...</td>\n",
       "      <td>...</td>\n",
       "      <td>...</td>\n",
       "      <td>...</td>\n",
       "    </tr>\n",
       "    <tr>\n",
       "      <th>59995</th>\n",
       "      <td>0</td>\n",
       "      <td>room you mean like, dimension?</td>\n",
       "      <td>Tikikala</td>\n",
       "      <td>digimon</td>\n",
       "      <td>1</td>\n",
       "      <td>1</td>\n",
       "      <td>0</td>\n",
       "      <td>2016-03</td>\n",
       "      <td>2016-03-26 03:42:22</td>\n",
       "      <td>So as another guy pointed out. Huckmon might be projecting Ken as a way to steal Meicoomon, remember he was lurking all the time. Also he was in the 'room' after Ken disappeared</td>\n",
       "    </tr>\n",
       "    <tr>\n",
       "      <th>59996</th>\n",
       "      <td>0</td>\n",
       "      <td>I wasn't too fond of grabner in 14 so I put Bergeron up the middle to win draws and set up plays and what not.</td>\n",
       "      <td>mrhairybolo</td>\n",
       "      <td>hockey</td>\n",
       "      <td>1</td>\n",
       "      <td>1</td>\n",
       "      <td>0</td>\n",
       "      <td>2014-08</td>\n",
       "      <td>2014-08-10 05:57:31</td>\n",
       "      <td>Hall - Duchene - Grabner?</td>\n",
       "    </tr>\n",
       "    <tr>\n",
       "      <th>59997</th>\n",
       "      <td>0</td>\n",
       "      <td>he wasn't even at worlds in season 4!</td>\n",
       "      <td>Highstalker</td>\n",
       "      <td>leagueoflegends</td>\n",
       "      <td>-1</td>\n",
       "      <td>-1</td>\n",
       "      <td>0</td>\n",
       "      <td>2016-09</td>\n",
       "      <td>2016-09-19 14:41:23</td>\n",
       "      <td>Yeah he was.</td>\n",
       "    </tr>\n",
       "    <tr>\n",
       "      <th>59998</th>\n",
       "      <td>0</td>\n",
       "      <td>Right, but the Trump sign...</td>\n",
       "      <td>gcbeehler5</td>\n",
       "      <td>pics</td>\n",
       "      <td>2</td>\n",
       "      <td>2</td>\n",
       "      <td>0</td>\n",
       "      <td>2016-09</td>\n",
       "      <td>2016-09-01 02:14:54</td>\n",
       "      <td>I wouldn't say you have to be liberal to appreciate sustainability. You just have to not be an ignorant twat.</td>\n",
       "    </tr>\n",
       "    <tr>\n",
       "      <th>59999</th>\n",
       "      <td>0</td>\n",
       "      <td>Would be awesome, but it's one of those things that has to be done flawlessly and can't be half-assed.</td>\n",
       "      <td>ImKoncerned</td>\n",
       "      <td>2007scape</td>\n",
       "      <td>3</td>\n",
       "      <td>3</td>\n",
       "      <td>0</td>\n",
       "      <td>2015-03</td>\n",
       "      <td>2015-03-13 21:30:57</td>\n",
       "      <td>Unfortunately I think so too :'(</td>\n",
       "    </tr>\n",
       "  </tbody>\n",
       "</table>\n",
       "<p>60000 rows × 10 columns</p>\n",
       "</div>"
      ],
      "text/plain": [
       "       label  \\\n",
       "0          1   \n",
       "1          1   \n",
       "2          1   \n",
       "3          1   \n",
       "4          1   \n",
       "...      ...   \n",
       "59995      0   \n",
       "59996      0   \n",
       "59997      0   \n",
       "59998      0   \n",
       "59999      0   \n",
       "\n",
       "                                                                                                              comment  \\\n",
       "0                                                                      Of course, just like 3.2 was the true Messiah.   \n",
       "1                                                  Yeah because Iran was 100% muslim prior to 1979, and still is now.   \n",
       "2                                          WELL YOU'RE JUST A BITCH...YOU HAVE TO GO AND POST AND TAKE YOUR DOWNVOTES   \n",
       "3                                                     Yeah, it's dumb to run background checks on potential teachers.   \n",
       "4                Oh, it's not that bad once you get a handle on the crippling depression and constant tooth grinding.   \n",
       "...                                                                                                               ...   \n",
       "59995                                                                                  room you mean like, dimension?   \n",
       "59996  I wasn't too fond of grabner in 14 so I put Bergeron up the middle to win draws and set up plays and what not.   \n",
       "59997                                                                           he wasn't even at worlds in season 4!   \n",
       "59998                                                                                    Right, but the Trump sign...   \n",
       "59999          Would be awesome, but it's one of those things that has to be done flawlessly and can't be half-assed.   \n",
       "\n",
       "                 author        subreddit  score  ups  downs     date  \\\n",
       "0      ReticentHedgehog            ffxiv      1    1      0  2016-05   \n",
       "1            methmobile        worldnews     -3   -1     -1  2016-12   \n",
       "2            dillydelly              nba      1    1      0  2014-05   \n",
       "3              Krenolds        AskReddit      1    1      0  2014-09   \n",
       "4          ericanderton        AskReddit      4    4      0  2011-08   \n",
       "...                 ...              ...    ...  ...    ...      ...   \n",
       "59995          Tikikala          digimon      1    1      0  2016-03   \n",
       "59996       mrhairybolo           hockey      1    1      0  2014-08   \n",
       "59997       Highstalker  leagueoflegends     -1   -1      0  2016-09   \n",
       "59998        gcbeehler5             pics      2    2      0  2016-09   \n",
       "59999       ImKoncerned        2007scape      3    3      0  2015-03   \n",
       "\n",
       "               created_utc  \\\n",
       "0      2016-05-02 20:20:37   \n",
       "1      2016-12-30 10:21:31   \n",
       "2      2014-05-04 08:02:30   \n",
       "3      2014-09-02 08:09:10   \n",
       "4      2011-08-24 13:17:20   \n",
       "...                    ...   \n",
       "59995  2016-03-26 03:42:22   \n",
       "59996  2014-08-10 05:57:31   \n",
       "59997  2016-09-19 14:41:23   \n",
       "59998  2016-09-01 02:14:54   \n",
       "59999  2015-03-13 21:30:57   \n",
       "\n",
       "                                                                                                                                                                                                                                                                                                                                                                                                                                                                                                                                                                                                                                                                                                                                                                                                                                                                                                                                                                                                                                                                                                parent_comment  \n",
       "0      Is patch 3.3 going to be our savior? Without trying to sound like a broken record and repeating the many point of views of the growing apocalyptic threads on this forum. I was hoping to get the opinions of everyone if they believe patch 3.3 is going to bring back some of the players who have quit in the last patch or two, or does this feel like another cookie cutter patch that wont stop exit of quality population specifically on the North American servers. I ask this in concern that I have made a assertive effort as of late to refill our FC, and one of the strong points of the patch info so far is that they are installing a cross realm raid tool, which seems like it would diminish the need to recruit for a FC. I personally enjoy the aspect of a 10-15 member FC which can grow close and share things in common to the game and outside the game. But with the game seemingly losing subs it has become harder to find people to come together like I had just described and I don't want to put false hope in those who I have recruited so far. Give me some hope!  \n",
       "1                                                                                                                                                                                                                                                                                                                                                                                                                                                                                                                                                                                                                                                                                                                                                                                                                                                                               I suggest you research Iran pre-1979 as well as al-Qatb and the rise of Wahhabism. You are fully entitled to have an opinion and express it (and you do bring up a good point re: rural cobservatism) but you are misinformed.  \n",
       "2                                                                                                                                                                                                                                                                                                                                                                                                                                                                                                                                                                                                                                                                                                                                                                                                                                         Warriors / Clips game threads literally add zero value to the game experience. Why would I want to see the words flop, flopped and flopper repeated constantly? Thunder / Clips game threads were pretty good during the season. We'll see how the playoff ones are.  \n",
       "3                                                                                                                                                                                                                                                                                                                                                                                                                                                                                                                                                                                                                                                                                                                                                                                                                                                                                                                                                                                                                                     Oh i forgot.., you get to be finger printed when you are hired! Awesome!  \n",
       "4                                                                                                                                                                                                                                                                                                                                                                                                                                                                                                                                                                                                                                                                                                                                                                                                                                                                                                                                                                                                                                                                      Haha oh. Definitely not an option than.  \n",
       "...                                                                                                                                                                                                                                                                                                                                                                                                                                                                                                                                                                                                                                                                                                                                                                                                                                                                                                                                                                                                                                                                                                        ...  \n",
       "59995                                                                                                                                                                                                                                                                                                                                                                                                                                                                                                                                                                                                                                                                                                                                                                                                                                                                                                                        So as another guy pointed out. Huckmon might be projecting Ken as a way to steal Meicoomon, remember he was lurking all the time. Also he was in the 'room' after Ken disappeared  \n",
       "59996                                                                                                                                                                                                                                                                                                                                                                                                                                                                                                                                                                                                                                                                                                                                                                                                                                                                                                                                                                                                                                                                                Hall - Duchene - Grabner?  \n",
       "59997                                                                                                                                                                                                                                                                                                                                                                                                                                                                                                                                                                                                                                                                                                                                                                                                                                                                                                                                                                                                                                                                                             Yeah he was.  \n",
       "59998                                                                                                                                                                                                                                                                                                                                                                                                                                                                                                                                                                                                                                                                                                                                                                                                                                                                                                                                                                                            I wouldn't say you have to be liberal to appreciate sustainability. You just have to not be an ignorant twat.  \n",
       "59999                                                                                                                                                                                                                                                                                                                                                                                                                                                                                                                                                                                                                                                                                                                                                                                                                                                                                                                                                                                                                                                                         Unfortunately I think so too :'(  \n",
       "\n",
       "[60000 rows x 10 columns]"
      ]
     },
     "execution_count": 156,
     "metadata": {},
     "output_type": "execute_result"
    }
   ],
   "source": [
    "pd.set_option(\"display.max_colwidth\", None)\n",
    "df = pd.read_csv('sarc_sample.csv')\n",
    "df"
   ]
  },
  {
   "cell_type": "markdown",
   "id": "25a7939b",
   "metadata": {},
   "source": [
    "### Análise exploratória"
   ]
  },
  {
   "cell_type": "markdown",
   "id": "55ec6554",
   "metadata": {},
   "source": [
    "Nesta etapa, coletei 4 amostras de cada classe para melhor comparação, conforme foi orientado na descrição da atividade."
   ]
  },
  {
   "cell_type": "code",
   "execution_count": 157,
   "id": "0e0741f1",
   "metadata": {},
   "outputs": [
    {
     "data": {
      "text/html": [
       "<div>\n",
       "<style scoped>\n",
       "    .dataframe tbody tr th:only-of-type {\n",
       "        vertical-align: middle;\n",
       "    }\n",
       "\n",
       "    .dataframe tbody tr th {\n",
       "        vertical-align: top;\n",
       "    }\n",
       "\n",
       "    .dataframe thead th {\n",
       "        text-align: right;\n",
       "    }\n",
       "</style>\n",
       "<table border=\"1\" class=\"dataframe\">\n",
       "  <thead>\n",
       "    <tr style=\"text-align: right;\">\n",
       "      <th></th>\n",
       "      <th>label</th>\n",
       "      <th>comment</th>\n",
       "      <th>author</th>\n",
       "      <th>subreddit</th>\n",
       "      <th>score</th>\n",
       "      <th>ups</th>\n",
       "      <th>downs</th>\n",
       "      <th>date</th>\n",
       "      <th>created_utc</th>\n",
       "      <th>parent_comment</th>\n",
       "    </tr>\n",
       "  </thead>\n",
       "  <tbody>\n",
       "    <tr>\n",
       "      <th>32002</th>\n",
       "      <td>1</td>\n",
       "      <td>BUT THE STEROIDS</td>\n",
       "      <td>TeidjuGibson</td>\n",
       "      <td>funny</td>\n",
       "      <td>12</td>\n",
       "      <td>12</td>\n",
       "      <td>0</td>\n",
       "      <td>2015-04</td>\n",
       "      <td>2015-04-19 09:12:32</td>\n",
       "      <td>I hate redditors. So insecure about their own bodies that they see a nice one and their balls shrivel up into their pants. Dad makes a funny lighthearted joke and posts it online \"FUCKING NARCISSIST ASSHOLE YOUR DAUGHTERS GONNA BE A HUGE SLUT\" chill the fuck out. seriously.</td>\n",
       "    </tr>\n",
       "    <tr>\n",
       "      <th>7601</th>\n",
       "      <td>1</td>\n",
       "      <td>He could just use crystals to heal himself!</td>\n",
       "      <td>spiritbx</td>\n",
       "      <td>skeptic</td>\n",
       "      <td>2</td>\n",
       "      <td>2</td>\n",
       "      <td>0</td>\n",
       "      <td>2016-02</td>\n",
       "      <td>2016-02-18 16:21:22</td>\n",
       "      <td>Kid isn't a doctor - he needs one.</td>\n",
       "    </tr>\n",
       "    <tr>\n",
       "      <th>18102</th>\n",
       "      <td>1</td>\n",
       "      <td>HIS TASTES ARE WRONG</td>\n",
       "      <td>MrDerpsicle</td>\n",
       "      <td>cars</td>\n",
       "      <td>3</td>\n",
       "      <td>-1</td>\n",
       "      <td>-1</td>\n",
       "      <td>2016-11</td>\n",
       "      <td>2016-11-27 19:11:20</td>\n",
       "      <td>Downvotes for different taste? smh</td>\n",
       "    </tr>\n",
       "    <tr>\n",
       "      <th>25698</th>\n",
       "      <td>1</td>\n",
       "      <td>But it isn't any kind of cat sooooo.</td>\n",
       "      <td>Gamer9131</td>\n",
       "      <td>adventuretime</td>\n",
       "      <td>7</td>\n",
       "      <td>7</td>\n",
       "      <td>0</td>\n",
       "      <td>2014-10</td>\n",
       "      <td>2014-10-15 03:47:52</td>\n",
       "      <td>I think you could actually post this to r/aww</td>\n",
       "    </tr>\n",
       "  </tbody>\n",
       "</table>\n",
       "</div>"
      ],
      "text/plain": [
       "       label                                      comment        author  \\\n",
       "32002      1                             BUT THE STEROIDS  TeidjuGibson   \n",
       "7601       1  He could just use crystals to heal himself!      spiritbx   \n",
       "18102      1                         HIS TASTES ARE WRONG   MrDerpsicle   \n",
       "25698      1         But it isn't any kind of cat sooooo.     Gamer9131   \n",
       "\n",
       "           subreddit  score  ups  downs     date          created_utc  \\\n",
       "32002          funny     12   12      0  2015-04  2015-04-19 09:12:32   \n",
       "7601         skeptic      2    2      0  2016-02  2016-02-18 16:21:22   \n",
       "18102           cars      3   -1     -1  2016-11  2016-11-27 19:11:20   \n",
       "25698  adventuretime      7    7      0  2014-10  2014-10-15 03:47:52   \n",
       "\n",
       "                                                                                                                                                                                                                                                                           parent_comment  \n",
       "32002  I hate redditors. So insecure about their own bodies that they see a nice one and their balls shrivel up into their pants. Dad makes a funny lighthearted joke and posts it online \"FUCKING NARCISSIST ASSHOLE YOUR DAUGHTERS GONNA BE A HUGE SLUT\" chill the fuck out. seriously.  \n",
       "7601                                                                                                                                                                                                                                                   Kid isn't a doctor - he needs one.  \n",
       "18102                                                                                                                                                                                                                                                  Downvotes for different taste? smh  \n",
       "25698                                                                                                                                                                                                                                       I think you could actually post this to r/aww  "
      ]
     },
     "execution_count": 157,
     "metadata": {},
     "output_type": "execute_result"
    }
   ],
   "source": [
    "um = df['label'] == 1\n",
    "df[um].sample(n = 4)"
   ]
  },
  {
   "cell_type": "code",
   "execution_count": 158,
   "id": "1a784d91",
   "metadata": {
    "scrolled": true
   },
   "outputs": [
    {
     "data": {
      "text/html": [
       "<div>\n",
       "<style scoped>\n",
       "    .dataframe tbody tr th:only-of-type {\n",
       "        vertical-align: middle;\n",
       "    }\n",
       "\n",
       "    .dataframe tbody tr th {\n",
       "        vertical-align: top;\n",
       "    }\n",
       "\n",
       "    .dataframe thead th {\n",
       "        text-align: right;\n",
       "    }\n",
       "</style>\n",
       "<table border=\"1\" class=\"dataframe\">\n",
       "  <thead>\n",
       "    <tr style=\"text-align: right;\">\n",
       "      <th></th>\n",
       "      <th>label</th>\n",
       "      <th>comment</th>\n",
       "      <th>author</th>\n",
       "      <th>subreddit</th>\n",
       "      <th>score</th>\n",
       "      <th>ups</th>\n",
       "      <th>downs</th>\n",
       "      <th>date</th>\n",
       "      <th>created_utc</th>\n",
       "      <th>parent_comment</th>\n",
       "    </tr>\n",
       "  </thead>\n",
       "  <tbody>\n",
       "    <tr>\n",
       "      <th>57574</th>\n",
       "      <td>0</td>\n",
       "      <td>you forgot Goblin and his crusade</td>\n",
       "      <td>Dev_on</td>\n",
       "      <td>Eve</td>\n",
       "      <td>-2</td>\n",
       "      <td>-2</td>\n",
       "      <td>0</td>\n",
       "      <td>2014-12</td>\n",
       "      <td>2014-12-05 19:36:29</td>\n",
       "      <td>EVE Nullsec Politics - How it fits all together</td>\n",
       "    </tr>\n",
       "    <tr>\n",
       "      <th>52464</th>\n",
       "      <td>0</td>\n",
       "      <td>Just making sure, you are saying you believe in the Christian god, correct?</td>\n",
       "      <td>BlueApollo</td>\n",
       "      <td>atheism</td>\n",
       "      <td>1</td>\n",
       "      <td>1</td>\n",
       "      <td>0</td>\n",
       "      <td>2014-11</td>\n",
       "      <td>2014-11-13 01:08:06</td>\n",
       "      <td>Possibly. I still do go to church (I'm 16, living with parents so that's why), but I'm not necessarily sure if that's the reason why I believe in a possible god. When I was 14-ish, I was almost sure that there was no god because of depression and other issues in the world, but after going to church and listening, I find out that god isn't a 'magical fairy' who makes everything sunshine and rainbows for everyone. And through this experience(s), I made some reasoning of what God is, but I still understand why people would think God may not be real, which I respect and have personally understood.</td>\n",
       "    </tr>\n",
       "    <tr>\n",
       "      <th>49792</th>\n",
       "      <td>0</td>\n",
       "      <td>I wouldn't since he was with WWE before ROH.</td>\n",
       "      <td>ColorfulCrayons</td>\n",
       "      <td>SquaredCircle</td>\n",
       "      <td>14</td>\n",
       "      <td>14</td>\n",
       "      <td>0</td>\n",
       "      <td>2015-04</td>\n",
       "      <td>2015-04-10 22:22:44</td>\n",
       "      <td>Would you count Jamie Noble as well?</td>\n",
       "    </tr>\n",
       "    <tr>\n",
       "      <th>46593</th>\n",
       "      <td>0</td>\n",
       "      <td>Law, Smoker, Fujitora, Doffy, and Zoro</td>\n",
       "      <td>Batchibouzouk</td>\n",
       "      <td>OnePiece</td>\n",
       "      <td>1</td>\n",
       "      <td>1</td>\n",
       "      <td>0</td>\n",
       "      <td>2015-09</td>\n",
       "      <td>2015-09-20 18:38:28</td>\n",
       "      <td>If you had your own Pirate Crew! Who would you choose if you were a Captain of your own crew and had to pick 5 charactars from all of One Piece to be your nakama? My Crew : Sanji(Food) | Franky(SUUUPER) | Whitebeard(Daddy) | Tashigi(Wifu) | Kuzan(because he is \"Cool\")</td>\n",
       "    </tr>\n",
       "  </tbody>\n",
       "</table>\n",
       "</div>"
      ],
      "text/plain": [
       "       label  \\\n",
       "57574      0   \n",
       "52464      0   \n",
       "49792      0   \n",
       "46593      0   \n",
       "\n",
       "                                                                           comment  \\\n",
       "57574                                            you forgot Goblin and his crusade   \n",
       "52464  Just making sure, you are saying you believe in the Christian god, correct?   \n",
       "49792                                 I wouldn't since he was with WWE before ROH.   \n",
       "46593                                       Law, Smoker, Fujitora, Doffy, and Zoro   \n",
       "\n",
       "                author      subreddit  score  ups  downs     date  \\\n",
       "57574           Dev_on            Eve     -2   -2      0  2014-12   \n",
       "52464       BlueApollo        atheism      1    1      0  2014-11   \n",
       "49792  ColorfulCrayons  SquaredCircle     14   14      0  2015-04   \n",
       "46593    Batchibouzouk       OnePiece      1    1      0  2015-09   \n",
       "\n",
       "               created_utc  \\\n",
       "57574  2014-12-05 19:36:29   \n",
       "52464  2014-11-13 01:08:06   \n",
       "49792  2015-04-10 22:22:44   \n",
       "46593  2015-09-20 18:38:28   \n",
       "\n",
       "                                                                                                                                                                                                                                                                                                                                                                                                                                                                                                                                                                                                                 parent_comment  \n",
       "57574                                                                                                                                                                                                                                                                                                                                                                                                                                                                                                                                                                           EVE Nullsec Politics - How it fits all together  \n",
       "52464  Possibly. I still do go to church (I'm 16, living with parents so that's why), but I'm not necessarily sure if that's the reason why I believe in a possible god. When I was 14-ish, I was almost sure that there was no god because of depression and other issues in the world, but after going to church and listening, I find out that god isn't a 'magical fairy' who makes everything sunshine and rainbows for everyone. And through this experience(s), I made some reasoning of what God is, but I still understand why people would think God may not be real, which I respect and have personally understood.  \n",
       "49792                                                                                                                                                                                                                                                                                                                                                                                                                                                                                                                                                                                      Would you count Jamie Noble as well?  \n",
       "46593                                                                                                                                                                                                                                                                                                                                              If you had your own Pirate Crew! Who would you choose if you were a Captain of your own crew and had to pick 5 charactars from all of One Piece to be your nakama? My Crew : Sanji(Food) | Franky(SUUUPER) | Whitebeard(Daddy) | Tashigi(Wifu) | Kuzan(because he is \"Cool\")  "
      ]
     },
     "execution_count": 158,
     "metadata": {},
     "output_type": "execute_result"
    }
   ],
   "source": [
    "zero = df['label'] == 0\n",
    "df[zero].sample(n = 4)"
   ]
  },
  {
   "cell_type": "markdown",
   "id": "89862e5e",
   "metadata": {},
   "source": [
    "## Etapas de pré-processamento"
   ]
  },
  {
   "cell_type": "markdown",
   "id": "21cd7252",
   "metadata": {},
   "source": [
    "Para realizar a coleta de informações que seriam utilizadas nos gráficos, foi necessário antecipar a etapa de pré-processamento dos dados, as funções a baixo tem o objetivo de remover alguns tipos de caracteres que não são utéis durante a análise dos dados."
   ]
  },
  {
   "cell_type": "markdown",
   "id": "cb04bca8",
   "metadata": {},
   "source": [
    "1. Primeiramente a função \"remover_pontuação\" faz uso de list comprehension para iterar entre os caracteres do texto e remover os caracteres que estão incluidos em \"string.punctuation\"."
   ]
  },
  {
   "cell_type": "code",
   "execution_count": 159,
   "id": "d1778f26",
   "metadata": {},
   "outputs": [],
   "source": [
    "import string\n",
    "def remover_pontuacao(text):\n",
    "    sem_pontuacao=\"\".join([i for i in text if i not in string.punctuation])\n",
    "    return sem_pontuacao"
   ]
  },
  {
   "cell_type": "markdown",
   "id": "b3f3443d",
   "metadata": {},
   "source": [
    "2. A função \"lower\" tem o objetivo de deixar todas as palavras do texto em minúsculo, criando um padrão mais fácil de detectar nos caracteres. Esse passo é muito importante para realizar a remoção de stopwords, pois todas as palavras na lista de stopwords estão em letra minúscula."
   ]
  },
  {
   "cell_type": "code",
   "execution_count": 160,
   "id": "127e2fbc",
   "metadata": {},
   "outputs": [],
   "source": [
    "def lower(text):\n",
    "    return text.lower()"
   ]
  },
  {
   "cell_type": "markdown",
   "id": "6d23898a",
   "metadata": {},
   "source": [
    "3. A função \"remove_nums\" utiliza regex para detectar e remover todos os números do conjunto de dados, isso é importante pois em geral caracteres numéricos não trazem muita informação, e ao retirá-los é possível diminuir bastante a quantidade de dimensões do conjunto."
   ]
  },
  {
   "cell_type": "code",
   "execution_count": 161,
   "id": "25bbbbe7",
   "metadata": {},
   "outputs": [],
   "source": [
    "import re\n",
    "def remove_nums(text):\n",
    "    num_regex = '\\d+'\n",
    "    t = re.sub(num_regex, '', text)\n",
    "    return t"
   ]
  },
  {
   "cell_type": "markdown",
   "id": "910f0787",
   "metadata": {},
   "source": [
    "4. A função \"remove_stop_words\" serve para remover as stopwords do conjunto de dados. Igualmente aos caracteres númericos as stopwords não agregam muitas informações durante a análise, por isso, geralmente é benéfico fazer sua retirada, principalmente pois elas costumam se repetir muitas vezes durante os textos, assim, aumentando a quantidade de dimensões."
   ]
  },
  {
   "cell_type": "code",
   "execution_count": 162,
   "id": "658d5707",
   "metadata": {},
   "outputs": [],
   "source": [
    "import nltk\n",
    "def remove_stop_words(text):\n",
    "    stopwords = nltk.corpus.stopwords.words('english')\n",
    "    texto = [w for w in text.split() if w not in stopwords]\n",
    "    frase = \" \".join(texto)\n",
    "    return frase"
   ]
  },
  {
   "cell_type": "markdown",
   "id": "76477732",
   "metadata": {},
   "source": [
    "5. A função \"lemmatizer\" tem o proposito de transformar as palavras do conjunto de dados em suas formas base, com o cuidado para que elas não percam o sentido. Esse passo é importante para simplificar o texto, ajudando a extrair o máximo de informação."
   ]
  },
  {
   "cell_type": "code",
   "execution_count": 163,
   "id": "f9e5b2a0",
   "metadata": {},
   "outputs": [],
   "source": [
    "from nltk.stem import WordNetLemmatizer\n",
    "wordnet_lemmatizer = WordNetLemmatizer()\n",
    "def lemmatizer(text):\n",
    "    texto = [wordnet_lemmatizer.lemmatize(word) for word in text.split()]\n",
    "    frase = \" \".join(texto)\n",
    "    return frase"
   ]
  },
  {
   "cell_type": "markdown",
   "id": "acf0ef09",
   "metadata": {},
   "source": [
    "6. A função \"remove_little_words\" remove do conjunto de dados as palavras que possuem apenas 2 ou menos caracteres, pois essas palavras curtas, em geral, não trazem muitas informações e na maioria das vezes se tratam de erros de digitação."
   ]
  },
  {
   "cell_type": "code",
   "execution_count": 164,
   "id": "9ff8dbb9",
   "metadata": {},
   "outputs": [],
   "source": [
    "def remove_little_words(text):\n",
    "    frase =\" \".join([w for w in text.split() if len(w) > 3])\n",
    "    return frase"
   ]
  },
  {
   "cell_type": "code",
   "execution_count": 165,
   "id": "4908f8dd",
   "metadata": {},
   "outputs": [],
   "source": [
    "def remover_words(text):\n",
    "    words = set(nltk.corpus.words.words())\n",
    "    frase = \" \".join([w for w in text.split() if w in words or not w.isalpha()])\n",
    "    return frase"
   ]
  },
  {
   "cell_type": "markdown",
   "id": "d920baac",
   "metadata": {},
   "source": [
    "7. A função \"preprocess\" é responsável por executar algumas das funções acima, facilitando o uso destas em conjunto. Criei duas funções para chamar as funções de pré-processamento, a primeira é utilizada apenas para pré-processar as informações que serão coletadas para uso nos gráficos. Na função preprocess, a ordem em que as funções são chamadas é muito importante, pois a lista de stopwords utilizada possui apenas palavras em minúsculo e com o uso correto das pontuações, logo, se retirarmos as  pontuações antes das stopwords, algumas palavras podem acabar escapando."
   ]
  },
  {
   "cell_type": "code",
   "execution_count": 166,
   "id": "aba4846e",
   "metadata": {},
   "outputs": [],
   "source": [
    "def preprocess(text):\n",
    "        text = remove_nums(text)\n",
    "        text = lower(text)\n",
    "        text = remove_stop_words(text)\n",
    "        text = remover_pontuacao(text)\n",
    "        text = lemmatizer(text)\n",
    "        return text"
   ]
  },
  {
   "cell_type": "markdown",
   "id": "73fa8192",
   "metadata": {},
   "source": [
    "8. A função \"preprocess2\" é a segunda função para chamar as funções de pré-processamento, ela foi criada pois a vetorização já realiza algumas etapas de pré-processamento, então, seria redundante utilizar certas funções nos dados que seriam vetorizados."
   ]
  },
  {
   "cell_type": "code",
   "execution_count": 167,
   "id": "4788eb69",
   "metadata": {},
   "outputs": [],
   "source": [
    "def preprocess2(text):\n",
    "        text = remove_nums(text)\n",
    "        text = remove_little_words(text)\n",
    "        text = lemmatizer(text)\n",
    "        return text"
   ]
  },
  {
   "cell_type": "markdown",
   "id": "e3c28df9",
   "metadata": {},
   "source": [
    "## Gráficos"
   ]
  },
  {
   "cell_type": "markdown",
   "id": "d135d326",
   "metadata": {},
   "source": [
    "Primeiramente temos o gráfico da quantidade de itens de cada classe. É possível reparar que existem muito mais itens na classe \"1\" do que na classe \"0\", isso significa que esse é um conjunto de dados desbalanceado, e futuramente precisaremos utilizar algumas tecnicas para realizar o seu balanceamento"
   ]
  },
  {
   "cell_type": "code",
   "execution_count": 168,
   "id": "e602f5ce",
   "metadata": {},
   "outputs": [
    {
     "data": {
      "image/png": "[encoded data removed]",
      "text/plain": [
       "<Figure size 936x432 with 1 Axes>"
      ]
     },
     "metadata": {
      "needs_background": "light"
     },
     "output_type": "display_data"
    }
   ],
   "source": [
    "# Gráfico do balanceamento entre as classes\n",
    "sns.catplot(y=\"label\", kind=\"count\",\n",
    "            palette=\"pastel\", edgecolor=\".6\",\n",
    "            data=df)\n",
    "plt.gcf().set_size_inches(13, 6)"
   ]
  },
  {
   "cell_type": "markdown",
   "id": "996c2d4f",
   "metadata": {},
   "source": [
    "O segundo gráfico mostra as 10 palavras que mais se repetiram nos comentários classificados na classe \"1\", que seriam os comentários sarcásticos."
   ]
  },
  {
   "cell_type": "code",
   "execution_count": 169,
   "id": "8a721f72",
   "metadata": {
    "scrolled": false
   },
   "outputs": [
    {
     "data": {
      "image/png": "[encoded data removed]",
      "text/plain": [
       "<Figure size 936x432 with 1 Axes>"
      ]
     },
     "metadata": {
      "needs_background": "light"
     },
     "output_type": "display_data"
    }
   ],
   "source": [
    "# Gráfico das palavras que aparecem com mais frequência na classe 1\n",
    "from nltk import word_tokenize\n",
    "from nltk import FreqDist\n",
    "from matplotlib.pyplot import figure\n",
    "q = df[um]\n",
    "q = q.comment.explode().to_frame().reset_index(drop=True)\n",
    "P=' '.join([str(w) for w in q['comment']])\n",
    "P = preprocess(P)\n",
    "P = FreqDist(word_tokenize(P))\n",
    "\n",
    "figure(figsize=(13, 6))\n",
    "x, y = zip(*P.most_common(n=10))\n",
    "plt.bar(range(len(x)), y, color='orange')\n",
    "plt.xticks(range(len(x)), x)\n",
    "plt.show()"
   ]
  },
  {
   "cell_type": "markdown",
   "id": "005fdcbe",
   "metadata": {},
   "source": [
    "No terceiro gráfico, temos as 10 palavras mais frequentes nos comentários classificados na classe \"0\". Comparando com as palavras obtidas no gráfico anterior podemos observar muitas similaridades, porém, é interessante perceber que a palavra \"yeah\", que foi a que mais apareceu na classe \"1\", não chegou a aparecer nem no top 10 da classe \"0\", ou seja, essa palavra é muito mais utilizada em frases sarcásticas."
   ]
  },
  {
   "cell_type": "code",
   "execution_count": 170,
   "id": "60564b8a",
   "metadata": {},
   "outputs": [
    {
     "data": {
      "image/png": "[encoded data removed]",
      "text/plain": [
       "<Figure size 936x432 with 1 Axes>"
      ]
     },
     "metadata": {
      "needs_background": "light"
     },
     "output_type": "display_data"
    }
   ],
   "source": [
    "# Gráfico das palavras que aparecem com mais frequência na classe 0\n",
    "q2 = df[zero]\n",
    "q2 = q2.comment.explode().to_frame()\n",
    "P2=' '.join([str(w) for w in q2['comment']])\n",
    "P2 = preprocess(P2)\n",
    "P2 = FreqDist(word_tokenize(P2))\n",
    "\n",
    "figure(figsize=(13, 6))\n",
    "x, y = zip(*P2.most_common(n=10))\n",
    "plt.bar(range(len(x)), y, color='green')\n",
    "plt.xticks(range(len(x)), x)\n",
    "plt.show()"
   ]
  },
  {
   "cell_type": "markdown",
   "id": "b0ced72d",
   "metadata": {},
   "source": [
    "Os dois gráficos a seguir mostram os 10 bigramas mais frequentes em cada classe. É possível perceber uma grande variação entre os dois gráficos, mostrando que certas junções de palavras são muito mais utilizados em frases sarcásticas, como por exemplo \"im sure\", que embora apareça tanto em palavras sarcasticas quanto não sarcasticas, é predominantemente usado em contexto sarcástico."
   ]
  },
  {
   "cell_type": "code",
   "execution_count": 171,
   "id": "531436fb",
   "metadata": {},
   "outputs": [
    {
     "data": {
      "image/png": "[encoded data removed]",
      "text/plain": [
       "<Figure size 1080x576 with 1 Axes>"
      ]
     },
     "metadata": {
      "needs_background": "light"
     },
     "output_type": "display_data"
    }
   ],
   "source": [
    "# Gráfico dos bigramas que aparecem com mais frequência na classe 1\n",
    "from nltk import bigrams\n",
    "q = df[um]\n",
    "q = q.comment.explode().to_frame().reset_index(drop=True)\n",
    "P=' '.join([str(w) for w in q['comment']])\n",
    "P = preprocess(P)\n",
    "P = word_tokenize(P)\n",
    "P = list(bigrams(P))\n",
    "P = FreqDist(P)\n",
    "\n",
    "figure(figsize=(15, 8))\n",
    "x, y = zip(*P.most_common(n=10))\n",
    "plt.bar(range(len(x)), y, color='orange')\n",
    "plt.xticks(range(len(x)), x)\n",
    "plt.show()"
   ]
  },
  {
   "cell_type": "code",
   "execution_count": 172,
   "id": "4d8e7df2",
   "metadata": {},
   "outputs": [
    {
     "data": {
      "image/png": "[encoded data removed]",
      "text/plain": [
       "<Figure size 1080x576 with 1 Axes>"
      ]
     },
     "metadata": {
      "needs_background": "light"
     },
     "output_type": "display_data"
    }
   ],
   "source": [
    "# Gráfico dos bigramas que aparecem com mais frequência na classe 0\n",
    "q2 = df[zero]\n",
    "q2 = q2.comment.explode().to_frame()\n",
    "P2=' '.join([str(w) for w in q2['comment']])\n",
    "P2 = preprocess(P2)\n",
    "P2 = word_tokenize(P2)\n",
    "P2 = list(bigrams(P2))\n",
    "P2 = FreqDist(P2)\n",
    "\n",
    "figure(figsize=(15, 8))\n",
    "x, y = zip(*P2.most_common(n=10))\n",
    "plt.bar(range(len(x)), y, color='green')\n",
    "plt.xticks(range(len(x)), x)\n",
    "plt.show()"
   ]
  },
  {
   "cell_type": "markdown",
   "id": "5cff9462",
   "metadata": {},
   "source": [
    "Na quarta figura, podemos ver um gráfico da quantidade de comentários que foram coletados para esse conjunto de dados em cada data(mês/ano). É possível perceber que em todas as datas, a quantidade de comentários sarcásticos coletados sempre foi maior, e em dezembro de 2016 foi coletada a maior quantidade de amostras. Nesse caso é importante observar a data das amostras, pois o contexto da época acaba influênciando nos comentários, e isso ajuda a identificar o que pode ser sarcástico ou não."
   ]
  },
  {
   "cell_type": "code",
   "execution_count": 173,
   "id": "fd7d4b18",
   "metadata": {},
   "outputs": [
    {
     "data": {
      "image/png": "[encoded data removed]",
      "text/plain": [
       "<Figure size 936x432 with 1 Axes>"
      ]
     },
     "metadata": {
      "needs_background": "light"
     },
     "output_type": "display_data"
    }
   ],
   "source": [
    "q = df[um]\n",
    "q = q.date.explode().to_frame().reset_index(drop=True)\n",
    "P3=' '.join([str(w) for w in q['date']])\n",
    "P3 = FreqDist(word_tokenize(P3))\n",
    "c1 = P3.most_common(n=10)\n",
    "dd = pd.DataFrame(c1, columns = ['date', 'count'])\n",
    "\n",
    "q2 = df[zero]\n",
    "q2 = q2.date.explode().to_frame()\n",
    "P4=' '.join([str(w) for w in q2['date']])\n",
    "P4 = FreqDist(word_tokenize(P4))\n",
    "c2 = P4.most_common(n=10)\n",
    "dd2 = pd.DataFrame(c2, columns = ['date', 'count'])\n",
    "\n",
    "dd['label'] = 1\n",
    "dd2['label'] = 0\n",
    "\n",
    "dd3 = pd.concat([dd, dd2], axis=0)\n",
    "ax = sns.barplot(x=\"date\", y=\"count\", hue=\"label\", palette=\"Set2\", data=dd3)\n",
    "plt.gcf().set_size_inches(13, 6)"
   ]
  },
  {
   "cell_type": "markdown",
   "id": "279b851d",
   "metadata": {},
   "source": [
    "No quinto gráfico, podemos observar uma comparação entre a distribuição da quantidade de caracteres dos comentários das duas classes."
   ]
  },
  {
   "cell_type": "code",
   "execution_count": 174,
   "id": "6f9d8c01",
   "metadata": {},
   "outputs": [
    {
     "data": {
      "image/png": "[encoded data removed]",
      "text/plain": [
       "<Figure size 936x432 with 1 Axes>"
      ]
     },
     "metadata": {
      "needs_background": "light"
     },
     "output_type": "display_data"
    }
   ],
   "source": [
    "df['comment'] = df['comment'].astype('str')\n",
    "lista = []\n",
    "for i in df['comment']:\n",
    "    f = preprocess(i)\n",
    "    lista.append(f)\n",
    "    \n",
    "dc = pd.DataFrame (lista, columns = ['comment'])\n",
    "label = df['label']\n",
    "df_dc = pd.concat([dc, label], axis=1)\n",
    "df_dc['tamanho']= dc['comment'].apply(len)\n",
    "sns.displot(df_dc, x=\"tamanho\", hue=\"label\", kind=\"kde\", fill=True)\n",
    "plt.gcf().set_size_inches(13, 6)"
   ]
  },
  {
   "cell_type": "markdown",
   "id": "e5c7f315",
   "metadata": {},
   "source": [
    "## Modelo Baseline"
   ]
  },
  {
   "cell_type": "markdown",
   "id": "b90c0d6a",
   "metadata": {},
   "source": [
    "Visando a simplicidade, que é o intuito do modelo Baseline, optei por utilizar apenas o atributo \"comment\"."
   ]
  },
  {
   "cell_type": "code",
   "execution_count": 175,
   "id": "13551d0c",
   "metadata": {},
   "outputs": [],
   "source": [
    "X = df['comment']\n",
    "y = df['label']"
   ]
  },
  {
   "cell_type": "markdown",
   "id": "71fd8d31",
   "metadata": {},
   "source": [
    "Nesta etapa foi realizada a chamada da função \"preprocess\" para realizar o pré-processamento dos dados. Isso foi feito por meio uma estrutura de repetição que iterou entre todas as palavras do atributo escolhido."
   ]
  },
  {
   "cell_type": "code",
   "execution_count": 176,
   "id": "497749df",
   "metadata": {},
   "outputs": [],
   "source": [
    "lista = []\n",
    "for i in X:\n",
    "    f = preprocess(i)\n",
    "    lista.append(f)\n",
    "X_PP = pd.DataFrame (lista, columns = ['comment'])"
   ]
  },
  {
   "cell_type": "markdown",
   "id": "90b67943",
   "metadata": {},
   "source": [
    "Realizei a separação do conjunto de dados em dois diferentes conjuntos, o conjunto de treino e o conjunto de teste. Por se tratar de um baseline, o uso de um conjunto de validação não foi necessário."
   ]
  },
  {
   "cell_type": "code",
   "execution_count": 177,
   "id": "e612a8de",
   "metadata": {},
   "outputs": [],
   "source": [
    "from sklearn.model_selection import train_test_split\n",
    "X_train_valid, X_test, y_train_valid, y_test = train_test_split(X_PP,y, test_size=0.2, random_state=42)"
   ]
  },
  {
   "cell_type": "markdown",
   "id": "901857d4",
   "metadata": {},
   "source": [
    "Utilizei o método \"Random Over-Sampling\" para realizar o balanceamento das classes, esse método duplica aleatoriamente amostras na classe que possui menos elementos, até que ambas as classes tenham o mesmo tamanho. Optei por utilizar o Over-Sampling pois a tecnica de Under-Sampling pode acabar fazendo com que o conjunto perca algumas informações importantes, e ao fazer testes com este método pude perceber que ele reduziu bastante a acurácia do modelo em questão."
   ]
  },
  {
   "cell_type": "code",
   "execution_count": 178,
   "id": "f51e31bb",
   "metadata": {},
   "outputs": [],
   "source": [
    "from imblearn.over_sampling import RandomOverSampler\n",
    "ros = RandomOverSampler(random_state=42)\n",
    "X_r, y_r = ros.fit_resample(X_train_valid, y_train_valid)"
   ]
  },
  {
   "cell_type": "markdown",
   "id": "26e719c3",
   "metadata": {},
   "source": [
    "Por se tratar de comentários feitos em uma rede social, é de se imaginar que no meio desse conjunto de dados existam muitas \"gírias\" e palavras próprias do vocabulário utilizado na internet, palavras estas que embora possam se repetir muitas vezes no conjunto de dados não agregam muitas informações. Visando o que foi falado, optei por utilizar o método de vetorização \"TF-IDF\" que coloca a frequência das palavras em uma mesma escala, \"penalizando\" as que se repetem muitas vezes no conjunto."
   ]
  },
  {
   "cell_type": "code",
   "execution_count": 179,
   "id": "c7b4b990",
   "metadata": {},
   "outputs": [],
   "source": [
    "from sklearn.feature_extraction.text import TfidfVectorizer\n",
    "tf = TfidfVectorizer(strip_accents='unicode', stop_words='english', ngram_range=(1,2))\n",
    "X_tf = tf.fit_transform(X_r['comment'])\n",
    "X_test_tf = tf.transform(X_test['comment'])"
   ]
  },
  {
   "cell_type": "markdown",
   "id": "8fc69c1e",
   "metadata": {},
   "source": [
    "Logo a baixo pode-se observar uma amostra de 100 palavras que estão contidas no conjunto de dados após todos os procedimentos anteriores. Importante falar que o \"TfidfVectorizer\" por padrão já realiza algumas etapas de pré-processamento, porém, ele possui algumas falhas nesse aspecto, por exemplo, a remoçao de potuação não eliminou os \" _ \". Com isso em mente, antes de realizar a vetorização já realizei meu próprio pré-processamento para evitar dados desnecessários."
   ]
  },
  {
   "cell_type": "code",
   "execution_count": 180,
   "id": "aa1432fc",
   "metadata": {},
   "outputs": [
    {
     "name": "stdout",
     "output_type": "stream",
     "text": [
      "aa\n",
      "aa awp\n",
      "aa capability\n",
      "aa hunter\n",
      "aa like\n",
      "aa modifier\n",
      "aa reset\n",
      "aa touched\n",
      "aa ual\n",
      "aa want\n",
      "aaa\n",
      "aaa fps\n",
      "aaa game\n",
      "aaa ideology\n",
      "aaa tpp\n",
      "aaa vr\n",
      "aaaaa\n",
      "aaaaa battery\n",
      "aaaaaaaaand\n",
      "aaaaaaaaand shit\n",
      "aaaaaaaagaaaaaaaaaaaaaaaaaaiiiiiiiiiiiiin\n",
      "aaaaaaaagaaaaaaaaaaaaaaaaaaiiiiiiiiiiiiin mah\n",
      "aaaaaaaany\n",
      "aaaaaaaany social\n",
      "aaaaaaamnnnnnnnddddd\n",
      "aaaaaaamnnnnnnnddddd gone\n",
      "aaaaaaand\n",
      "aaaaaaand fined\n",
      "aaaaaand\n",
      "aaaaaand thats\n",
      "aaaaaannnddd\n",
      "aaaaaannnddd want\n",
      "aaaaaannnnnnnndddd\n",
      "aaaaaannnnnnnndddd im\n",
      "aaaaall\n",
      "aaaaand\n",
      "aaaaand ksp\n",
      "aaaand\n",
      "aaaand im\n",
      "aaand\n",
      "aaand retagged\n",
      "aahahahaha\n",
      "aahahahaha idea\n",
      "aajkal\n",
      "aampm\n",
      "aampm going\n",
      "aampm like\n",
      "aampm overtime\n",
      "aampm prairie\n",
      "aan\n",
      "aan die\n",
      "aan hand\n",
      "aan het\n",
      "aan vraag\n",
      "aand\n",
      "aand guy\n",
      "aand healthy\n",
      "aang\n",
      "aang katara\n",
      "aangereden\n",
      "aangereden het\n",
      "aap\n",
      "aap follow\n",
      "aap nay\n",
      "aap place\n",
      "aap wonder\n",
      "aar\n",
      "aar cuda\n",
      "aare\n",
      "aare make\n",
      "aaron\n",
      "aaron diaz\n",
      "aaron hernandez\n",
      "aaron lmao\n",
      "aaron peskin\n",
      "aaron rodgers\n",
      "aav\n",
      "aav mil\n",
      "aave\n",
      "ab\n",
      "ab allowed\n",
      "ab better\n",
      "ab got\n",
      "ab ill\n",
      "ab popular\n",
      "ab testing\n",
      "ababa\n",
      "abaddon\n",
      "abaddon fall\n",
      "abandon\n",
      "abandon account\n",
      "abandon campaign\n",
      "abandon lane\n",
      "abandoned\n",
      "abandoned father\n",
      "abandoned mac\n",
      "abandoned rise\n",
      "abathur\n",
      "abathur eggless\n",
      "abbas\n"
     ]
    }
   ],
   "source": [
    "c=0\n",
    "for i in tf.get_feature_names():\n",
    "    print(i)\n",
    "    c+=1\n",
    "    if c == 100:\n",
    "        break"
   ]
  },
  {
   "cell_type": "markdown",
   "id": "95e3f41a",
   "metadata": {},
   "source": [
    "Como modelo de classificação, optei pela Regressão logistica, é um modelo de classificação bem simples e que já havia sido visto durante a mentoria. Esse modelo foi escolhido principalmente pela sua simplicidade e por ser um modelo que, em geral, já é muito utilizado para NLP."
   ]
  },
  {
   "cell_type": "code",
   "execution_count": 181,
   "id": "6ef3ceba",
   "metadata": {
    "scrolled": false
   },
   "outputs": [
    {
     "data": {
      "text/plain": [
       "LogisticRegression()"
      ]
     },
     "execution_count": 181,
     "metadata": {},
     "output_type": "execute_result"
    }
   ],
   "source": [
    "from sklearn.linear_model import LogisticRegression\n",
    "LRB = LogisticRegression()\n",
    "LRB.fit(X_tf, y_r)"
   ]
  },
  {
   "cell_type": "code",
   "execution_count": 182,
   "id": "8e090b93",
   "metadata": {},
   "outputs": [],
   "source": [
    "y_predictB = LRB.predict(X_test_tf)"
   ]
  },
  {
   "cell_type": "code",
   "execution_count": 183,
   "id": "a9cdc50a",
   "metadata": {},
   "outputs": [
    {
     "name": "stdout",
     "output_type": "stream",
     "text": [
      "A acurácia foi de: 66.26%\n"
     ]
    }
   ],
   "source": [
    "from sklearn.metrics import accuracy_score\n",
    "AB = accuracy_score(y_test, y_predictB)\n",
    "print(f'A acurácia foi de: {round(AB*100, 2)}%')"
   ]
  },
  {
   "cell_type": "markdown",
   "id": "d65f7c15",
   "metadata": {},
   "source": [
    "## 1° Conjunto de atributos de entrada"
   ]
  },
  {
   "cell_type": "markdown",
   "id": "ad6e10b1",
   "metadata": {},
   "source": [
    "No 1° conjunto de atributos, escolhi utilizar o \"parent_comment\" junto do \"comment\", pois imaginei que o contexto do comentário poderia ajudar em sua classificação."
   ]
  },
  {
   "cell_type": "code",
   "execution_count": 184,
   "id": "47da6206",
   "metadata": {},
   "outputs": [],
   "source": [
    "X1 = df[['comment', 'parent_comment']]\n",
    "y = df['label']"
   ]
  },
  {
   "cell_type": "markdown",
   "id": "1cb99fcd",
   "metadata": {},
   "source": [
    "Primeiramente, concatenei as duas colunas escolhidas na coluna \"conc\" para q fosse possível utilizar as duas na vetorização."
   ]
  },
  {
   "cell_type": "code",
   "execution_count": 185,
   "id": "faec3609",
   "metadata": {},
   "outputs": [
    {
     "data": {
      "text/html": [
       "<div>\n",
       "<style scoped>\n",
       "    .dataframe tbody tr th:only-of-type {\n",
       "        vertical-align: middle;\n",
       "    }\n",
       "\n",
       "    .dataframe tbody tr th {\n",
       "        vertical-align: top;\n",
       "    }\n",
       "\n",
       "    .dataframe thead th {\n",
       "        text-align: right;\n",
       "    }\n",
       "</style>\n",
       "<table border=\"1\" class=\"dataframe\">\n",
       "  <thead>\n",
       "    <tr style=\"text-align: right;\">\n",
       "      <th></th>\n",
       "      <th>comment</th>\n",
       "      <th>parent_comment</th>\n",
       "      <th>conc</th>\n",
       "    </tr>\n",
       "  </thead>\n",
       "  <tbody>\n",
       "    <tr>\n",
       "      <th>0</th>\n",
       "      <td>Of course, just like 3.2 was the true Messiah.</td>\n",
       "      <td>Is patch 3.3 going to be our savior? Without trying to sound like a broken record and repeating the many point of views of the growing apocalyptic threads on this forum. I was hoping to get the opinions of everyone if they believe patch 3.3 is going to bring back some of the players who have quit in the last patch or two, or does this feel like another cookie cutter patch that wont stop exit of quality population specifically on the North American servers. I ask this in concern that I have made a assertive effort as of late to refill our FC, and one of the strong points of the patch info so far is that they are installing a cross realm raid tool, which seems like it would diminish the need to recruit for a FC. I personally enjoy the aspect of a 10-15 member FC which can grow close and share things in common to the game and outside the game. But with the game seemingly losing subs it has become harder to find people to come together like I had just described and I don't want to put false hope in those who I have recruited so far. Give me some hope!</td>\n",
       "      <td>Of course, just like 3.2 was the true Messiah. Is patch 3.3 going to be our savior? Without trying to sound like a broken record and repeating the many point of views of the growing apocalyptic threads on this forum. I was hoping to get the opinions of everyone if they believe patch 3.3 is going to bring back some of the players who have quit in the last patch or two, or does this feel like another cookie cutter patch that wont stop exit of quality population specifically on the North American servers. I ask this in concern that I have made a assertive effort as of late to refill our FC, and one of the strong points of the patch info so far is that they are installing a cross realm raid tool, which seems like it would diminish the need to recruit for a FC. I personally enjoy the aspect of a 10-15 member FC which can grow close and share things in common to the game and outside the game. But with the game seemingly losing subs it has become harder to find people to come together like I had just described and I don't want to put false hope in those who I have recruited so far. Give me some hope!</td>\n",
       "    </tr>\n",
       "    <tr>\n",
       "      <th>1</th>\n",
       "      <td>Yeah because Iran was 100% muslim prior to 1979, and still is now.</td>\n",
       "      <td>I suggest you research Iran pre-1979 as well as al-Qatb and the rise of Wahhabism. You are fully entitled to have an opinion and express it (and you do bring up a good point re: rural cobservatism) but you are misinformed.</td>\n",
       "      <td>Yeah because Iran was 100% muslim prior to 1979, and still is now. I suggest you research Iran pre-1979 as well as al-Qatb and the rise of Wahhabism. You are fully entitled to have an opinion and express it (and you do bring up a good point re: rural cobservatism) but you are misinformed.</td>\n",
       "    </tr>\n",
       "    <tr>\n",
       "      <th>2</th>\n",
       "      <td>WELL YOU'RE JUST A BITCH...YOU HAVE TO GO AND POST AND TAKE YOUR DOWNVOTES</td>\n",
       "      <td>Warriors / Clips game threads literally add zero value to the game experience. Why would I want to see the words flop, flopped and flopper repeated constantly? Thunder / Clips game threads were pretty good during the season. We'll see how the playoff ones are.</td>\n",
       "      <td>WELL YOU'RE JUST A BITCH...YOU HAVE TO GO AND POST AND TAKE YOUR DOWNVOTES Warriors / Clips game threads literally add zero value to the game experience. Why would I want to see the words flop, flopped and flopper repeated constantly? Thunder / Clips game threads were pretty good during the season. We'll see how the playoff ones are.</td>\n",
       "    </tr>\n",
       "    <tr>\n",
       "      <th>3</th>\n",
       "      <td>Yeah, it's dumb to run background checks on potential teachers.</td>\n",
       "      <td>Oh i forgot.., you get to be finger printed when you are hired! Awesome!</td>\n",
       "      <td>Yeah, it's dumb to run background checks on potential teachers. Oh i forgot.., you get to be finger printed when you are hired! Awesome!</td>\n",
       "    </tr>\n",
       "    <tr>\n",
       "      <th>4</th>\n",
       "      <td>Oh, it's not that bad once you get a handle on the crippling depression and constant tooth grinding.</td>\n",
       "      <td>Haha oh. Definitely not an option than.</td>\n",
       "      <td>Oh, it's not that bad once you get a handle on the crippling depression and constant tooth grinding. Haha oh. Definitely not an option than.</td>\n",
       "    </tr>\n",
       "    <tr>\n",
       "      <th>...</th>\n",
       "      <td>...</td>\n",
       "      <td>...</td>\n",
       "      <td>...</td>\n",
       "    </tr>\n",
       "    <tr>\n",
       "      <th>59995</th>\n",
       "      <td>room you mean like, dimension?</td>\n",
       "      <td>So as another guy pointed out. Huckmon might be projecting Ken as a way to steal Meicoomon, remember he was lurking all the time. Also he was in the 'room' after Ken disappeared</td>\n",
       "      <td>room you mean like, dimension? So as another guy pointed out. Huckmon might be projecting Ken as a way to steal Meicoomon, remember he was lurking all the time. Also he was in the 'room' after Ken disappeared</td>\n",
       "    </tr>\n",
       "    <tr>\n",
       "      <th>59996</th>\n",
       "      <td>I wasn't too fond of grabner in 14 so I put Bergeron up the middle to win draws and set up plays and what not.</td>\n",
       "      <td>Hall - Duchene - Grabner?</td>\n",
       "      <td>I wasn't too fond of grabner in 14 so I put Bergeron up the middle to win draws and set up plays and what not. Hall - Duchene - Grabner?</td>\n",
       "    </tr>\n",
       "    <tr>\n",
       "      <th>59997</th>\n",
       "      <td>he wasn't even at worlds in season 4!</td>\n",
       "      <td>Yeah he was.</td>\n",
       "      <td>he wasn't even at worlds in season 4! Yeah he was.</td>\n",
       "    </tr>\n",
       "    <tr>\n",
       "      <th>59998</th>\n",
       "      <td>Right, but the Trump sign...</td>\n",
       "      <td>I wouldn't say you have to be liberal to appreciate sustainability. You just have to not be an ignorant twat.</td>\n",
       "      <td>Right, but the Trump sign... I wouldn't say you have to be liberal to appreciate sustainability. You just have to not be an ignorant twat.</td>\n",
       "    </tr>\n",
       "    <tr>\n",
       "      <th>59999</th>\n",
       "      <td>Would be awesome, but it's one of those things that has to be done flawlessly and can't be half-assed.</td>\n",
       "      <td>Unfortunately I think so too :'(</td>\n",
       "      <td>Would be awesome, but it's one of those things that has to be done flawlessly and can't be half-assed. Unfortunately I think so too :'(</td>\n",
       "    </tr>\n",
       "  </tbody>\n",
       "</table>\n",
       "<p>60000 rows × 3 columns</p>\n",
       "</div>"
      ],
      "text/plain": [
       "                                                                                                              comment  \\\n",
       "0                                                                      Of course, just like 3.2 was the true Messiah.   \n",
       "1                                                  Yeah because Iran was 100% muslim prior to 1979, and still is now.   \n",
       "2                                          WELL YOU'RE JUST A BITCH...YOU HAVE TO GO AND POST AND TAKE YOUR DOWNVOTES   \n",
       "3                                                     Yeah, it's dumb to run background checks on potential teachers.   \n",
       "4                Oh, it's not that bad once you get a handle on the crippling depression and constant tooth grinding.   \n",
       "...                                                                                                               ...   \n",
       "59995                                                                                  room you mean like, dimension?   \n",
       "59996  I wasn't too fond of grabner in 14 so I put Bergeron up the middle to win draws and set up plays and what not.   \n",
       "59997                                                                           he wasn't even at worlds in season 4!   \n",
       "59998                                                                                    Right, but the Trump sign...   \n",
       "59999          Would be awesome, but it's one of those things that has to be done flawlessly and can't be half-assed.   \n",
       "\n",
       "                                                                                                                                                                                                                                                                                                                                                                                                                                                                                                                                                                                                                                                                                                                                                                                                                                                                                                                                                                                                                                                                                                parent_comment  \\\n",
       "0      Is patch 3.3 going to be our savior? Without trying to sound like a broken record and repeating the many point of views of the growing apocalyptic threads on this forum. I was hoping to get the opinions of everyone if they believe patch 3.3 is going to bring back some of the players who have quit in the last patch or two, or does this feel like another cookie cutter patch that wont stop exit of quality population specifically on the North American servers. I ask this in concern that I have made a assertive effort as of late to refill our FC, and one of the strong points of the patch info so far is that they are installing a cross realm raid tool, which seems like it would diminish the need to recruit for a FC. I personally enjoy the aspect of a 10-15 member FC which can grow close and share things in common to the game and outside the game. But with the game seemingly losing subs it has become harder to find people to come together like I had just described and I don't want to put false hope in those who I have recruited so far. Give me some hope!   \n",
       "1                                                                                                                                                                                                                                                                                                                                                                                                                                                                                                                                                                                                                                                                                                                                                                                                                                                                               I suggest you research Iran pre-1979 as well as al-Qatb and the rise of Wahhabism. You are fully entitled to have an opinion and express it (and you do bring up a good point re: rural cobservatism) but you are misinformed.   \n",
       "2                                                                                                                                                                                                                                                                                                                                                                                                                                                                                                                                                                                                                                                                                                                                                                                                                                         Warriors / Clips game threads literally add zero value to the game experience. Why would I want to see the words flop, flopped and flopper repeated constantly? Thunder / Clips game threads were pretty good during the season. We'll see how the playoff ones are.   \n",
       "3                                                                                                                                                                                                                                                                                                                                                                                                                                                                                                                                                                                                                                                                                                                                                                                                                                                                                                                                                                                                                                     Oh i forgot.., you get to be finger printed when you are hired! Awesome!   \n",
       "4                                                                                                                                                                                                                                                                                                                                                                                                                                                                                                                                                                                                                                                                                                                                                                                                                                                                                                                                                                                                                                                                      Haha oh. Definitely not an option than.   \n",
       "...                                                                                                                                                                                                                                                                                                                                                                                                                                                                                                                                                                                                                                                                                                                                                                                                                                                                                                                                                                                                                                                                                                        ...   \n",
       "59995                                                                                                                                                                                                                                                                                                                                                                                                                                                                                                                                                                                                                                                                                                                                                                                                                                                                                                                        So as another guy pointed out. Huckmon might be projecting Ken as a way to steal Meicoomon, remember he was lurking all the time. Also he was in the 'room' after Ken disappeared   \n",
       "59996                                                                                                                                                                                                                                                                                                                                                                                                                                                                                                                                                                                                                                                                                                                                                                                                                                                                                                                                                                                                                                                                                Hall - Duchene - Grabner?   \n",
       "59997                                                                                                                                                                                                                                                                                                                                                                                                                                                                                                                                                                                                                                                                                                                                                                                                                                                                                                                                                                                                                                                                                             Yeah he was.   \n",
       "59998                                                                                                                                                                                                                                                                                                                                                                                                                                                                                                                                                                                                                                                                                                                                                                                                                                                                                                                                                                                            I wouldn't say you have to be liberal to appreciate sustainability. You just have to not be an ignorant twat.   \n",
       "59999                                                                                                                                                                                                                                                                                                                                                                                                                                                                                                                                                                                                                                                                                                                                                                                                                                                                                                                                                                                                                                                                         Unfortunately I think so too :'(   \n",
       "\n",
       "                                                                                                                                                                                                                                                                                                                                                                                                                                                                                                                                                                                                                                                                                                                                                                                                                                                                                                                                                                                                                                                                                                                                                         conc  \n",
       "0      Of course, just like 3.2 was the true Messiah. Is patch 3.3 going to be our savior? Without trying to sound like a broken record and repeating the many point of views of the growing apocalyptic threads on this forum. I was hoping to get the opinions of everyone if they believe patch 3.3 is going to bring back some of the players who have quit in the last patch or two, or does this feel like another cookie cutter patch that wont stop exit of quality population specifically on the North American servers. I ask this in concern that I have made a assertive effort as of late to refill our FC, and one of the strong points of the patch info so far is that they are installing a cross realm raid tool, which seems like it would diminish the need to recruit for a FC. I personally enjoy the aspect of a 10-15 member FC which can grow close and share things in common to the game and outside the game. But with the game seemingly losing subs it has become harder to find people to come together like I had just described and I don't want to put false hope in those who I have recruited so far. Give me some hope!  \n",
       "1                                                                                                                                                                                                                                                                                                                                                                                                                                                                                                                                                                                                                                                                                                                                                                                                                                                           Yeah because Iran was 100% muslim prior to 1979, and still is now. I suggest you research Iran pre-1979 as well as al-Qatb and the rise of Wahhabism. You are fully entitled to have an opinion and express it (and you do bring up a good point re: rural cobservatism) but you are misinformed.  \n",
       "2                                                                                                                                                                                                                                                                                                                                                                                                                                                                                                                                                                                                                                                                                                                                                                                                             WELL YOU'RE JUST A BITCH...YOU HAVE TO GO AND POST AND TAKE YOUR DOWNVOTES Warriors / Clips game threads literally add zero value to the game experience. Why would I want to see the words flop, flopped and flopper repeated constantly? Thunder / Clips game threads were pretty good during the season. We'll see how the playoff ones are.  \n",
       "3                                                                                                                                                                                                                                                                                                                                                                                                                                                                                                                                                                                                                                                                                                                                                                                                                                                                                                                                                                                                                    Yeah, it's dumb to run background checks on potential teachers. Oh i forgot.., you get to be finger printed when you are hired! Awesome!  \n",
       "4                                                                                                                                                                                                                                                                                                                                                                                                                                                                                                                                                                                                                                                                                                                                                                                                                                                                                                                                                                                                                Oh, it's not that bad once you get a handle on the crippling depression and constant tooth grinding. Haha oh. Definitely not an option than.  \n",
       "...                                                                                                                                                                                                                                                                                                                                                                                                                                                                                                                                                                                                                                                                                                                                                                                                                                                                                                                                                                                                                                                                                                                                                       ...  \n",
       "59995                                                                                                                                                                                                                                                                                                                                                                                                                                                                                                                                                                                                                                                                                                                                                                                                                                                                                                                                        room you mean like, dimension? So as another guy pointed out. Huckmon might be projecting Ken as a way to steal Meicoomon, remember he was lurking all the time. Also he was in the 'room' after Ken disappeared  \n",
       "59996                                                                                                                                                                                                                                                                                                                                                                                                                                                                                                                                                                                                                                                                                                                                                                                                                                                                                                                                                                                                                I wasn't too fond of grabner in 14 so I put Bergeron up the middle to win draws and set up plays and what not. Hall - Duchene - Grabner?  \n",
       "59997                                                                                                                                                                                                                                                                                                                                                                                                                                                                                                                                                                                                                                                                                                                                                                                                                                                                                                                                                                                                                                                                                                      he wasn't even at worlds in season 4! Yeah he was.  \n",
       "59998                                                                                                                                                                                                                                                                                                                                                                                                                                                                                                                                                                                                                                                                                                                                                                                                                                                                                                                                                                                                              Right, but the Trump sign... I wouldn't say you have to be liberal to appreciate sustainability. You just have to not be an ignorant twat.  \n",
       "59999                                                                                                                                                                                                                                                                                                                                                                                                                                                                                                                                                                                                                                                                                                                                                                                                                                                                                                                                                                                                                 Would be awesome, but it's one of those things that has to be done flawlessly and can't be half-assed. Unfortunately I think so too :'(  \n",
       "\n",
       "[60000 rows x 3 columns]"
      ]
     },
     "execution_count": 185,
     "metadata": {},
     "output_type": "execute_result"
    }
   ],
   "source": [
    "X1['conc'] = X1[['comment', 'parent_comment']].agg(' '.join, axis=1)\n",
    "X1"
   ]
  },
  {
   "cell_type": "markdown",
   "id": "e734526d",
   "metadata": {},
   "source": [
    "Realizei os mesmos processos de pré-processamento, separação em conjunto de treino e teste, balanceamento das classes e vetorização já comentados durante o baseline."
   ]
  },
  {
   "cell_type": "code",
   "execution_count": 186,
   "id": "46d0f4e5",
   "metadata": {},
   "outputs": [],
   "source": [
    "lista = []\n",
    "for i in X1['conc']:\n",
    "    f = preprocess(i)\n",
    "    lista.append(f)\n",
    "X1_PP = pd.DataFrame (lista, columns = ['conc'])"
   ]
  },
  {
   "cell_type": "markdown",
   "id": "8e477999",
   "metadata": {},
   "source": [
    "Em todos os modelos foram utilizados GridSearch ou RandomSearch, que já realizam a separação em conjunto de treino e validação, sendo assim, nessa etapa novamente fiz apenas a separação entre treino e teste."
   ]
  },
  {
   "cell_type": "code",
   "execution_count": 187,
   "id": "f15edf9d",
   "metadata": {},
   "outputs": [],
   "source": [
    "X_train_valid, X_test, y_train_valid, y_test = train_test_split(X1_PP,y, test_size=0.2, random_state=42)"
   ]
  },
  {
   "cell_type": "code",
   "execution_count": 188,
   "id": "270ab9cf",
   "metadata": {},
   "outputs": [],
   "source": [
    "ros = RandomOverSampler(random_state=42)\n",
    "X_r, y_r = ros.fit_resample(X_train_valid, y_train_valid)"
   ]
  },
  {
   "cell_type": "markdown",
   "id": "7d59cf69",
   "metadata": {},
   "source": [
    "Durante a vetorização, defini para esse conjunto de atributos que gostaria de trabalhar com unigramas e bigramas, para isso alterei o parâmetro \"ngram_range\" para (1,2). Também defini o parâmetro \"min_df\" como 2, para ignorar palavras que aparecem em menos de dois documentos."
   ]
  },
  {
   "cell_type": "code",
   "execution_count": 189,
   "id": "34d2f4dc",
   "metadata": {},
   "outputs": [],
   "source": [
    "tf = TfidfVectorizer(strip_accents='unicode', stop_words='english', ngram_range=(1,2), min_df=2)\n",
    "X_tf = tf.fit_transform(X_r['conc'])\n",
    "X_test_tf = tf.transform(X_test['conc'])"
   ]
  },
  {
   "cell_type": "markdown",
   "id": "1cfa8001",
   "metadata": {},
   "source": [
    "### 1° Modelo: Regressão logística"
   ]
  },
  {
   "cell_type": "markdown",
   "id": "e80e76cc",
   "metadata": {},
   "source": [
    "No modelo de regressão logística utilizei GridSearch para otimizar os hiperparâmetros. Os hiperparâmetros otimizados foram:\n",
    "1. C: Inverso da força de regularização, quanto menor o seu valor, maior a força de regularização.\n",
    "2. Penalty: Tecnica de regularização que será utilizada.\n",
    "3. Solver: Algoritmo que será utilizado para o problema da otimização."
   ]
  },
  {
   "cell_type": "code",
   "execution_count": 190,
   "id": "fc1cff41",
   "metadata": {},
   "outputs": [],
   "source": [
    "from sklearn.model_selection import GridSearchCV\n",
    "metricas = ['accuracy', 'precision', 'recall', 'f1', 'roc_auc']\n",
    "parametersRL = {'C':[1.0, 0.5, 1.5, 2.0],\n",
    "              'penalty': ['l2', 'none'],\n",
    "              'solver':['lbfgs', 'saga', 'newton-cg']}"
   ]
  },
  {
   "cell_type": "code",
   "execution_count": 191,
   "id": "8c9718f9",
   "metadata": {},
   "outputs": [
    {
     "data": {
      "text/plain": [
       "LogisticRegression(penalty='none')"
      ]
     },
     "execution_count": 191,
     "metadata": {},
     "output_type": "execute_result"
    }
   ],
   "source": [
    "LRB = LogisticRegression()\n",
    "clf = GridSearchCV(LRB, param_grid=parametersRL, scoring=metricas, refit='accuracy', return_train_score=False)\n",
    "clf.fit(X_tf, y_r)\n",
    "clf.best_estimator_"
   ]
  },
  {
   "cell_type": "code",
   "execution_count": 192,
   "id": "a21a0f9c",
   "metadata": {},
   "outputs": [
    {
     "name": "stdout",
     "output_type": "stream",
     "text": [
      "A acurácia foi de: 64.21%\n"
     ]
    }
   ],
   "source": [
    "y_predict = clf.predict(X_test_tf)\n",
    "A11 = accuracy_score(y_test, y_predict)\n",
    "print(f'A acurácia foi de: {round(A11*100, 2)}%')"
   ]
  },
  {
   "cell_type": "markdown",
   "id": "8af688b3",
   "metadata": {},
   "source": [
    "### 2° Modelo: Naive bayes"
   ]
  },
  {
   "cell_type": "markdown",
   "id": "c798570d",
   "metadata": {},
   "source": [
    "O segundo modelo escolhido foi o Naive Bayes, e também foi otimizado utilizando GridSearch, os hiperparâmetros otimizados foram:\n",
    "1. Alpha: É o \"Smoothing parameter\" utilizado na equação \"Laplace Smoothing\" para resolver o problema da probabilidade zero no algoritmo Naive Bayes\n",
    "2. Fit_prior: Define se o algoritmo deve aprender a \"Prior probability\"(probabilidade de um evento ocorrer antes de novos dados serem coletados) dos dados."
   ]
  },
  {
   "cell_type": "code",
   "execution_count": 193,
   "id": "a937145f",
   "metadata": {},
   "outputs": [],
   "source": [
    "parametersNB = {'alpha':[1.0, 0.5, 1.5],\n",
    "              'fit_prior': [True, False]}"
   ]
  },
  {
   "cell_type": "code",
   "execution_count": 194,
   "id": "e9cc8ea9",
   "metadata": {},
   "outputs": [
    {
     "data": {
      "text/plain": [
       "MultinomialNB(alpha=0.5, fit_prior=False)"
      ]
     },
     "execution_count": 194,
     "metadata": {},
     "output_type": "execute_result"
    }
   ],
   "source": [
    "from sklearn.naive_bayes import MultinomialNB\n",
    "NB = MultinomialNB()\n",
    "clf = GridSearchCV(NB, param_grid=parametersNB, scoring=metricas, refit='accuracy')\n",
    "clf.fit(X_tf, y_r)\n",
    "clf.best_estimator_"
   ]
  },
  {
   "cell_type": "code",
   "execution_count": 195,
   "id": "6ae6be6a",
   "metadata": {},
   "outputs": [
    {
     "name": "stdout",
     "output_type": "stream",
     "text": [
      "A acurácia foi de: 66.9%\n"
     ]
    }
   ],
   "source": [
    "y_predict = clf.predict(X_test_tf)\n",
    "A12 = accuracy_score(y_test, y_predict)\n",
    "print(f'A acurácia foi de: {round(A12*100, 2)}%')"
   ]
  },
  {
   "cell_type": "markdown",
   "id": "04558f25",
   "metadata": {},
   "source": [
    "## 3° Modelo: SVM"
   ]
  },
  {
   "cell_type": "markdown",
   "id": "f5075b6c",
   "metadata": {},
   "source": [
    "O terceiro modelo escolhido foi o SVM, e sua otimização foi feita através do RandomSearch. Os hiperparâmetros otimizados foram:\n",
    "1. C: Inverso da força de regularização, quanto menor o seu valor, maior a força de regularização.\n",
    "2. Kernel: Define qual kernel vai ser utilizado, nesse caso, entre o \"rbf\" e o \"poly\"\n",
    "3. degree: Escolhe o grau da função polinomial, é ignorado a não ser que o kernel \"poly\" seja escolhido."
   ]
  },
  {
   "cell_type": "code",
   "execution_count": 196,
   "id": "618b3cb6",
   "metadata": {},
   "outputs": [],
   "source": [
    "from sklearn.model_selection import RandomizedSearchCV\n",
    "from scipy.stats import randint as sp_randint\n",
    "import random\n",
    "parametersS = dict(\n",
    "    C= [random.uniform(1, 2)],\n",
    "    kernel= ['rbf', 'poly'],\n",
    "    degree= [sp_randint.rvs(2,5)],\n",
    ")"
   ]
  },
  {
   "cell_type": "code",
   "execution_count": 197,
   "id": "8cf72ee1",
   "metadata": {},
   "outputs": [
    {
     "data": {
      "text/plain": [
       "SVC(C=1.0681088845413689, degree=2, max_iter=3500)"
      ]
     },
     "execution_count": 197,
     "metadata": {},
     "output_type": "execute_result"
    }
   ],
   "source": [
    "from sklearn.svm import SVC\n",
    "S = SVC(max_iter=3500)\n",
    "clf = RandomizedSearchCV(S, parametersS, random_state=42, return_train_score=False)\n",
    "clf.fit(X_tf, y_r)\n",
    "clf.best_estimator_"
   ]
  },
  {
   "cell_type": "code",
   "execution_count": 198,
   "id": "dd8cce7f",
   "metadata": {},
   "outputs": [
    {
     "name": "stdout",
     "output_type": "stream",
     "text": [
      "A acurácia foi de: 61.41%\n"
     ]
    }
   ],
   "source": [
    "y_predict = clf.predict(X_test_tf)\n",
    "A13 = accuracy_score(y_test, y_predict)\n",
    "print(f'A acurácia foi de: {round(A13*100, 2)}%')"
   ]
  },
  {
   "cell_type": "markdown",
   "id": "7fbb31fa",
   "metadata": {},
   "source": [
    "## 4° Modelo: Passive-Agressive"
   ]
  },
  {
   "cell_type": "markdown",
   "id": "2c80e64f",
   "metadata": {},
   "source": [
    "O 4° modelo escolhido foi o \"Passive-Agressive\", é um classificador que não foi visto durante a mentoria, e é um dos poucos \"Online-learning algorithms\". Em algoritmos de aprendizado online, o conjunto de dados é separado em diversas amostras, que são sequencialmente atualizadas no classificador, de forma resumida pode-se dizer que o modelo pega um exemplo de treino, atualiza o classificador, e logo após descarta o exemplo. O algoritmo \"Passive-Agressive\" possui esse nome pois ele possui duas possibilidades:\n",
    "\n",
    "1. Passive: A predição da amostra está correta, então não é feita nenhuma alteração no modelo.\n",
    "2. Agressive: A predição da amostra está incorreta, são feitas alterações no modelo para corrigir o erro.\n",
    "\n",
    "Esse modelo foi escolhido pois ele é muito utilizado para situações em que existem uma grande quantidade de dados, como é o caso do dataset SARC, que está sendo trabalhado nesse notebook."
   ]
  },
  {
   "cell_type": "code",
   "execution_count": 199,
   "id": "2f29145b",
   "metadata": {},
   "outputs": [],
   "source": [
    "from scipy.stats import uniform\n",
    "parametersPA = dict(\n",
    "    C= [random.uniform(1, 2)],\n",
    "    tol= [10**uniform.rvs(loc = -5, scale = 4)],\n",
    "    max_iter= [sp_randint.rvs(1000, 2000,5)],\n",
    ")"
   ]
  },
  {
   "cell_type": "code",
   "execution_count": 200,
   "id": "8bf07000",
   "metadata": {},
   "outputs": [
    {
     "data": {
      "text/plain": [
       "PassiveAggressiveClassifier(C=1.9226985700308727, max_iter=1259,\n",
       "                            tol=1.911576768157752e-05)"
      ]
     },
     "execution_count": 200,
     "metadata": {},
     "output_type": "execute_result"
    }
   ],
   "source": [
    "from sklearn.linear_model import PassiveAggressiveClassifier\n",
    "PA = PassiveAggressiveClassifier()\n",
    "clf = RandomizedSearchCV(PA, parametersPA, random_state=42, return_train_score=False)\n",
    "clf.fit(X_tf, y_r)\n",
    "clf.best_estimator_"
   ]
  },
  {
   "cell_type": "code",
   "execution_count": 201,
   "id": "3dc908c8",
   "metadata": {},
   "outputs": [
    {
     "name": "stdout",
     "output_type": "stream",
     "text": [
      "A acurácia foi de: 64.01%\n"
     ]
    }
   ],
   "source": [
    "y_predict = clf.predict(X_test_tf)\n",
    "A14 = accuracy_score(y_test, y_predict)\n",
    "print(f'A acurácia foi de: {round(A14*100, 2)}%')"
   ]
  },
  {
   "cell_type": "markdown",
   "id": "3d76ccc9",
   "metadata": {},
   "source": [
    "## 2° Conjunto de atributos de entrada"
   ]
  },
  {
   "cell_type": "code",
   "execution_count": 202,
   "id": "21ae03eb",
   "metadata": {},
   "outputs": [],
   "source": [
    "X2 = df['comment']\n",
    "y = df['label']"
   ]
  },
  {
   "cell_type": "code",
   "execution_count": 203,
   "id": "f34411cf",
   "metadata": {},
   "outputs": [],
   "source": [
    "lista = []\n",
    "for i in X2:\n",
    "    f = preprocess(i)\n",
    "    lista.append(f)\n",
    "X2_PP = pd.DataFrame (lista, columns = ['comment'])"
   ]
  },
  {
   "cell_type": "code",
   "execution_count": 204,
   "id": "6ad698dd",
   "metadata": {},
   "outputs": [],
   "source": [
    "X_train_valid, X_test, y_train_valid, y_test = train_test_split(X2_PP,y, test_size=0.2, random_state=42)"
   ]
  },
  {
   "cell_type": "code",
   "execution_count": 205,
   "id": "90f94dac",
   "metadata": {},
   "outputs": [],
   "source": [
    "ros = RandomOverSampler(random_state=42)\n",
    "X_r, y_r = ros.fit_resample(X_train_valid, y_train_valid)"
   ]
  },
  {
   "cell_type": "code",
   "execution_count": 206,
   "id": "25c9b33d",
   "metadata": {},
   "outputs": [],
   "source": [
    "tf = TfidfVectorizer(strip_accents='unicode', stop_words='english', ngram_range=(1,2), min_df=2)\n",
    "X_tf = tf.fit_transform(X_r['comment'])\n",
    "X_test_tf = tf.transform(X_test['comment'])"
   ]
  },
  {
   "cell_type": "markdown",
   "id": "65c575a0",
   "metadata": {},
   "source": [
    "### 1° Modelo: Regressão logística"
   ]
  },
  {
   "cell_type": "code",
   "execution_count": 207,
   "id": "9ea4dfb1",
   "metadata": {},
   "outputs": [],
   "source": [
    "metricas = ['accuracy', 'precision', 'recall', 'f1', 'roc_auc']\n",
    "parametersRL = {'C':[1.0, 0.5, 1.5, 2.0],\n",
    "              'penalty': ['l2', 'none'],\n",
    "              'solver':['lbfgs', 'saga', 'newton-cg']}"
   ]
  },
  {
   "cell_type": "code",
   "execution_count": 208,
   "id": "dd52e69c",
   "metadata": {},
   "outputs": [
    {
     "data": {
      "text/plain": [
       "LogisticRegression(C=2.0, penalty='none', solver='saga')"
      ]
     },
     "execution_count": 208,
     "metadata": {},
     "output_type": "execute_result"
    }
   ],
   "source": [
    "LRB = LogisticRegression()\n",
    "clf = GridSearchCV(LRB, param_grid=parametersRL, scoring=metricas, refit='accuracy', return_train_score=False)\n",
    "clf.fit(X_tf, y_r)\n",
    "clf.best_estimator_"
   ]
  },
  {
   "cell_type": "code",
   "execution_count": 209,
   "id": "cb9e8dc9",
   "metadata": {},
   "outputs": [
    {
     "name": "stdout",
     "output_type": "stream",
     "text": [
      "A acurácia foi de: 64.92%\n"
     ]
    }
   ],
   "source": [
    "y_predict = clf.predict(X_test_tf)\n",
    "A21 = accuracy_score(y_test, y_predict)\n",
    "print(f'A acurácia foi de: {round(A21*100, 2)}%')"
   ]
  },
  {
   "cell_type": "markdown",
   "id": "acc71c2a",
   "metadata": {},
   "source": [
    "### 2° Modelo: Naive bayes"
   ]
  },
  {
   "cell_type": "code",
   "execution_count": 210,
   "id": "974f7f7d",
   "metadata": {},
   "outputs": [],
   "source": [
    "parametersNB = {'alpha':[1.0, 0.5, 1.5],\n",
    "              'fit_prior': [True, False]}"
   ]
  },
  {
   "cell_type": "code",
   "execution_count": 211,
   "id": "1887aa35",
   "metadata": {},
   "outputs": [
    {
     "data": {
      "text/plain": [
       "MultinomialNB(alpha=0.5, fit_prior=False)"
      ]
     },
     "execution_count": 211,
     "metadata": {},
     "output_type": "execute_result"
    }
   ],
   "source": [
    "from sklearn.naive_bayes import MultinomialNB\n",
    "NB = MultinomialNB()\n",
    "clf = GridSearchCV(NB, param_grid=parametersNB, scoring=metricas, refit='accuracy')\n",
    "clf.fit(X_tf, y_r)\n",
    "clf.best_estimator_"
   ]
  },
  {
   "cell_type": "code",
   "execution_count": 212,
   "id": "362a1724",
   "metadata": {},
   "outputs": [
    {
     "name": "stdout",
     "output_type": "stream",
     "text": [
      "A acurácia foi de: 67.77%\n"
     ]
    }
   ],
   "source": [
    "y_predict = clf.predict(X_test_tf)\n",
    "A22 = accuracy_score(y_test, y_predict)\n",
    "print(f'A acurácia foi de: {round(A22*100, 2)}%')"
   ]
  },
  {
   "cell_type": "markdown",
   "id": "a23d174e",
   "metadata": {},
   "source": [
    "## 3° Modelo: SVM"
   ]
  },
  {
   "cell_type": "code",
   "execution_count": 213,
   "id": "31bf03b2",
   "metadata": {},
   "outputs": [],
   "source": [
    "parametersS = dict(\n",
    "    C= [random.uniform(1, 2)],\n",
    "    kernel= ['rbf', 'poly'],\n",
    "    degree= [sp_randint.rvs(2,5)],\n",
    ")"
   ]
  },
  {
   "cell_type": "code",
   "execution_count": null,
   "id": "dd33a948",
   "metadata": {},
   "outputs": [],
   "source": [
    "S = SVC(max_iter=3500)\n",
    "clf = RandomizedSearchCV(S, parametersS, random_state=42, return_train_score=False)\n",
    "clf.fit(X_tf, y_r)\n",
    "clf.best_estimator_"
   ]
  },
  {
   "cell_type": "code",
   "execution_count": null,
   "id": "bbae6d2c",
   "metadata": {},
   "outputs": [],
   "source": [
    "y_predict = clf.predict(X_test_tf)\n",
    "A23 = accuracy_score(y_test, y_predict)\n",
    "print(f'A acurácia foi de: {round(A23*100, 2)}%')"
   ]
  },
  {
   "cell_type": "markdown",
   "id": "d8ac9101",
   "metadata": {},
   "source": [
    "## 4° Modelo: PassiveAgressive"
   ]
  },
  {
   "cell_type": "code",
   "execution_count": null,
   "id": "149c6da0",
   "metadata": {},
   "outputs": [],
   "source": [
    "parametersPA = dict(\n",
    "    C= [random.uniform(1, 2)],\n",
    "    tol= [10**uniform.rvs(loc = -5, scale = 4)],\n",
    "    max_iter= [sp_randint.rvs(1000, 2000,5)],\n",
    ")"
   ]
  },
  {
   "cell_type": "code",
   "execution_count": null,
   "id": "f59e073c",
   "metadata": {},
   "outputs": [],
   "source": [
    "PA = PassiveAggressiveClassifier()\n",
    "clf = RandomizedSearchCV(PA, parametersPA, random_state=42, return_train_score=False)\n",
    "clf.fit(X_tf, y_r)\n",
    "clf.best_estimator_"
   ]
  },
  {
   "cell_type": "code",
   "execution_count": null,
   "id": "b08be92a",
   "metadata": {},
   "outputs": [],
   "source": [
    "y_predict = clf.predict(X_test_tf)\n",
    "A24 = accuracy_score(y_test, y_predict)\n",
    "print(f'A acurácia foi de: {round(A24*100, 2)}%')"
   ]
  }
 ],
 "metadata": {
  "kernelspec": {
   "display_name": "Python 3",
   "language": "python",
   "name": "python3"
  },
  "language_info": {
   "codemirror_mode": {
    "name": "ipython",
    "version": 3
   },
   "file_extension": ".py",
   "mimetype": "text/x-python",
   "name": "python",
   "nbconvert_exporter": "python",
   "pygments_lexer": "ipython3",
   "version": "3.8.8"
  }
 },
 "nbformat": 4,
 "nbformat_minor": 5
}
